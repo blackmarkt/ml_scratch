{
 "cells": [
  {
   "cell_type": "markdown",
   "metadata": {},
   "source": [
    "# Twitter NLP Live Streaming Sentiment Analyzer\n",
    "\n",
    "#### TL; DR\n",
    "To develop an understanding of how to create an app to capture Twitter data and develop process for analysis\n",
    "\n",
    "### Reference:\n",
    "\n",
    "[Blog post 1](https://pythonprogramming.net/twitter-sentiment-analysis-nltk-tutorial/?completed=/sentiment-analysis-module-nltk-tutorial/)\n",
    "\n",
    "[Blog post 2](https://pythonprogramming.net/graph-live-twitter-sentiment-nltk-tutorial/?completed=/twitter-sentiment-analysis-nltk-tutorial/)\n",
    "\n",
    "### Further Dev/Research\n",
    "Analyze data related to housing as sentiment analysis"
   ]
  },
  {
   "cell_type": "code",
   "execution_count": null,
   "metadata": {
    "ExecuteTime": {
     "end_time": "2019-04-01T15:07:40.813690Z",
     "start_time": "2019-04-01T15:07:34.432742Z"
    }
   },
   "outputs": [],
   "source": [
    "import numpy as np\n",
    "import pandas as pd\n",
    "\n",
    "import matplotlib.pyplot as plt\n",
    "%matplotlib inline\n",
    "\n",
    "from tweepy import Stream\n",
    "from tweepy import OAuthHandler\n",
    "from tweepy.streaming import StreamListener\n",
    "\n",
    "import json\n",
    "import sentiment_mod as s\n",
    "\n",
    "import os\n",
    "import sys\n",
    "module_path = os.path.abspath(os.path.join('/Users/marktblack/src/'))\n",
    "if module_path not in sys.path:\n",
    "    sys.path.append(module_path)\n",
    "    \n",
    "from qreit.models.api_config import *\n",
    "\n",
    "\n",
    "# Consumer keys\n",
    "ckey=twitter_consumerKey\n",
    "csecret=twitter_secretConsumerKey\n",
    "atoken=twitter_accessToken\n",
    "asecret=twitter_accessSecretToken\n"
   ]
  },
  {
   "cell_type": "code",
   "execution_count": null,
   "metadata": {
    "ExecuteTime": {
     "end_time": "2019-04-01T15:09:05.608851Z",
     "start_time": "2019-04-01T15:08:37.864414Z"
    }
   },
   "outputs": [],
   "source": [
    "class listener(StreamListener):\n",
    "\n",
    "    def on_data(self, data):\n",
    "        all_data = json.loads(data)\n",
    "        \n",
    "        tweet = all_data[\"text\"]\n",
    "        sentiment_value, confidence = s.sentiment(tweet)\n",
    "        print(tweet, sentiment_value, confidence)\n",
    "\n",
    "        if confidence*100 >= 80:\n",
    "            output = open(\"./data/austin_twitter-out.txt\",\"a\")\n",
    "            output.write(sentiment_value)\n",
    "            output.write('\\n')\n",
    "            output.close()\n",
    "\n",
    "        return True\n",
    "\n",
    "    def on_error(self, status):\n",
    "        print(status)\n",
    "\n",
    "auth = OAuthHandler(ckey, csecret)\n",
    "auth.set_access_token(atoken, asecret)\n",
    "\n",
    "twitterStream = Stream(auth, listener())\n",
    "twitterStream.filter(track=[\"Austin\"])"
   ]
  },
  {
   "cell_type": "code",
   "execution_count": null,
   "metadata": {},
   "outputs": [],
   "source": []
  }
 ],
 "metadata": {
  "kernelspec": {
   "display_name": "Python 3",
   "language": "python",
   "name": "python3"
  },
  "language_info": {
   "codemirror_mode": {
    "name": "ipython",
    "version": 3
   },
   "file_extension": ".py",
   "mimetype": "text/x-python",
   "name": "python",
   "nbconvert_exporter": "python",
   "pygments_lexer": "ipython3",
   "version": "3.7.2"
  }
 },
 "nbformat": 4,
 "nbformat_minor": 2
}
