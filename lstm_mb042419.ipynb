{
 "cells": [
  {
   "cell_type": "code",
   "execution_count": 1,
   "metadata": {
    "ExecuteTime": {
     "end_time": "2019-04-24T16:31:30.109121Z",
     "start_time": "2019-04-24T16:31:30.005590Z"
    }
   },
   "outputs": [],
   "source": [
    "import numpy as np"
   ]
  },
  {
   "cell_type": "code",
   "execution_count": null,
   "metadata": {},
   "outputs": [],
   "source": [
    "class RecurrentNeuralNetwork:\n",
    "    \n",
    "    def __init__(self, xs, ys, rl, eo, lr):\n",
    "        self.x = np.zeros(xs) # initial input (1st word)\n",
    "        self.xs = xs # input size\n",
    "        self.y = np.zeros(ys) # expected output (next word)\n",
    "        self.ys = ys # output size\n",
    "        self.w = np.random.random((ys, ys)) # weight matrix for inpreting results from LSTM cell\n",
    "        self.G = np.zeros_like(self.w) # matrix used in RMSprop\n",
    "        self.rl = rl # length of recurrent network - # of recurrences (i.e. num of words)\n",
    "        self.lr = lr # learning rate\n",
    "        self.ia = np.zeros((r1+1, xs)) # array for storing inputs\n",
    "        self.ca = np.zeros((rl+1, ys)) # array for storing cell states\n",
    "        self.oa = np.zeros((rl+1, ys)) # array for storing outputs\n",
    "        self.ha = np.zeros((rl+1, ys)) # array for storing hidden states\n",
    "        self.af = np.zeros((rl+1, ys)) # forget state\n",
    "        self.ai = np.zeros((rl+1, ys)) # input state\n",
    "        self.ac = np.zeros((rl+1, ys)) # cell state\n",
    "        self.ao = np.zeros((rl+1, ys)) # output gate\n",
    "        self.eo = np.vstack((np.zeros(eo.shape[0]), eo.T)) # array of expected output values\n",
    "        self.LSTM = LSTM(xs, ys, rl, lr) # declare LSTM cell (input, output amount of recurrences, learning rate)\n",
    "        \n",
    "    def sigmoid(self, x): # activation function. simple nonlinearity, convert nums into prob between 0 & 1\n",
    "        return 1 / (1 + np.exp(-x))\n",
    "    \n",
    "    def dsigmoid(self, x): # the derivative of the sigmoid func. used to compute gradients for backpropogation\n",
    "        return self.sigmoid(x) * (1 - self.sigmoid(x))\n",
    "    \n",
    "    def forwardProp(self):\n",
    "        for i range(1, self.rl+1):\n",
    "            self.LSTM.x = np.hstack((self.ha[i-1], self.x))\n",
    "            cs, hs, f, c, o = self.LSTM.forwardProp()\n",
    "            # store computed cell state\n",
    "            self.ca[i] = cs\n",
    "            self.ha[i] = hs\n",
    "            self.af[i] = f\n",
    "            self.ac[i] = c\n",
    "            self.ao[i] = o\n",
    "            self.oa[i] self.sigmoid(np.dot(self.w, hs))\n",
    "            self.x = self.eo[i-1]\n",
    "        return self.oa\n",
    "    \n",
    "    def backProp(self):\n",
    "        totalError = 0 # init an empty error value\n",
    "        dfcs = np.zeros(self.ys) # initialize matrices for gradient updtes, there are RNN level gradints to cell states\n",
    "        dfhs = np.zeros((self.ys, self.ys)) # hidden state\n",
    "        tu = np.zeros((self.ys, self.ys)) # weight matrix\n",
    "        tfu = np.zeros((self.ys, self.xs+self.ys)) # forget state\n",
    "        tiu = np.zeros((self.ys, self.xs+self.ys)) # input state\n",
    "        tcu = np.zeros((self.ys, self.xs+self.ys)) # cell state\n",
    "        tou = np.zeros((self.ys, self.xs+self.ys)) # output gate\n",
    "        for i in range(self.rl, -1, -1): # loop backward through recurrences\n",
    "            error = self.oa[i] - self.eo[i] # error = calculatedOutput - expectedOutput\n",
    "            tu += np.dot(np.atleast_2d(error*self.dsigmoid(self.oa[i])), np.atleast_2d(self.ha[i]).T)\n",
    "            # time to propogate error back to exit of LSTM cell\n",
    "            error = np.dot(error, self.w) # 1. error * RNN weight matrix\n",
    "            self.LSTM.x = np.hstack((self.ha[i-1], self.ia[i])) # 2. set input values to LSTM cell for recurrences i (hoirzontal stack of arrays, hidden + input)\n",
    "            self.LSTM.cs = self.ca[i] # 3. set cell state of LSTM cell for recurrence i (pre-updates)\n",
    "            \n",
    "        \n",
    "        \n",
    "            "
   ]
  }
 ],
 "metadata": {
  "kernelspec": {
   "display_name": "Python 3",
   "language": "python",
   "name": "python3"
  },
  "language_info": {
   "codemirror_mode": {
    "name": "ipython",
    "version": 3
   },
   "file_extension": ".py",
   "mimetype": "text/x-python",
   "name": "python",
   "nbconvert_exporter": "python",
   "pygments_lexer": "ipython3",
   "version": "3.7.2"
  }
 },
 "nbformat": 4,
 "nbformat_minor": 2
}
