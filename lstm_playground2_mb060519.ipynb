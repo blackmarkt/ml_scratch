{
 "cells": [
  {
   "cell_type": "code",
   "execution_count": 1,
   "metadata": {
    "ExecuteTime": {
     "end_time": "2019-06-11T00:00:44.239288Z",
     "start_time": "2019-06-11T00:00:41.788253Z"
    }
   },
   "outputs": [],
   "source": [
    "%load_ext autoreload\n",
    "%autoreload 2\n",
    "\n",
    "import numpy as np\n",
    "import pandas as pd\n",
    "\n",
    "import tensorflow as tf\n",
    "from tensorflow.keras.models import Sequential\n",
    "from tensorflow.keras.layers import Dense, Dropout, LSTM, CuDNNLSTM, BatchNormalization\n",
    "from tensorflow.keras.callbacks import TensorBoard\n",
    "from tensorflow.keras.callbacks import ModelCheckpoint\n",
    "\n",
    "from math import sqrt\n",
    "from sklearn.metrics import mean_squared_error\n",
    "\n",
    "from fredapi import Fred\n",
    "\n",
    "from qreit.models.api_config import *\n",
    "fred_key = fred_API\n",
    "\n",
    "import time\n",
    "\n",
    "import matplotlib.pyplot as plt\n",
    "%matplotlib inline"
   ]
  },
  {
   "cell_type": "code",
   "execution_count": 2,
   "metadata": {
    "ExecuteTime": {
     "end_time": "2019-06-11T00:00:45.296737Z",
     "start_time": "2019-06-11T00:00:44.241360Z"
    }
   },
   "outputs": [
    {
     "name": "stderr",
     "output_type": "stream",
     "text": [
      "/Users/marktblack/anaconda3/lib/python3.7/site-packages/pandas/plotting/_converter.py:129: FutureWarning: Using an implicitly registered datetime converter for a matplotlib plotting method. The converter was registered by pandas on import. Future versions of pandas will require you to explicitly register matplotlib converters.\n",
      "\n",
      "To register the converters:\n",
      "\t>>> from pandas.plotting import register_matplotlib_converters\n",
      "\t>>> register_matplotlib_converters()\n",
      "  warnings.warn(msg, FutureWarning)\n"
     ]
    },
    {
     "data": {
      "image/png": "[encoded data removed]",
      "text/plain": [
       "<Figure size 432x288 with 1 Axes>"
      ]
     },
     "metadata": {
      "needs_background": "light"
     },
     "output_type": "display_data"
    }
   ],
   "source": [
    "fred = Fred(fred_key)\n",
    "\n",
    "UMCSENT_df = fred.get_series('UMCSENT').to_frame()\n",
    "UMCSENT_df.columns = ['UMCSENT']\n",
    "UMCSENT_80_df = UMCSENT_df[UMCSENT_df.index >= '1980-01']\n",
    "\n",
    "plt.plot(UMCSENT_80_df)\n",
    "plt.show()"
   ]
  },
  {
   "cell_type": "code",
   "execution_count": 3,
   "metadata": {
    "ExecuteTime": {
     "end_time": "2019-06-11T00:00:45.439702Z",
     "start_time": "2019-06-11T00:00:45.298971Z"
    }
   },
   "outputs": [
    {
     "name": "stderr",
     "output_type": "stream",
     "text": [
      "/Users/marktblack/anaconda3/lib/python3.7/site-packages/ipykernel_launcher.py:1: SettingWithCopyWarning: \n",
      "A value is trying to be set on a copy of a slice from a DataFrame.\n",
      "Try using .loc[row_indexer,col_indexer] = value instead\n",
      "\n",
      "See the caveats in the documentation: http://pandas.pydata.org/pandas-docs/stable/indexing.html#indexing-view-versus-copy\n",
      "  \"\"\"Entry point for launching an IPython kernel.\n",
      "/Users/marktblack/anaconda3/lib/python3.7/site-packages/ipykernel_launcher.py:2: SettingWithCopyWarning: \n",
      "A value is trying to be set on a copy of a slice from a DataFrame\n",
      "\n",
      "See the caveats in the documentation: http://pandas.pydata.org/pandas-docs/stable/indexing.html#indexing-view-versus-copy\n",
      "  \n"
     ]
    }
   ],
   "source": [
    "UMCSENT_80_df['UMCSENT_1'] = UMCSENT_80_df.shift(-1)\n",
    "UMCSENT_80_df.dropna(inplace=True)"
   ]
  },
  {
   "cell_type": "code",
   "execution_count": 4,
   "metadata": {
    "ExecuteTime": {
     "end_time": "2019-06-11T00:00:45.475799Z",
     "start_time": "2019-06-11T00:00:45.442213Z"
    }
   },
   "outputs": [],
   "source": [
    "# from sklearn.preprocessing import StandardScaler, MinMaxScaler\n",
    "\n",
    "# scaler = StandardScaler()\n",
    "\n",
    "# UMCSENT_80_X_scaled = scaler.fit_transform(UMCSENT_80_df['UMCSENT'].to_frame())\n",
    "# UMCSENT_80_y_scaled = scaler.fit_transform(UMCSENT_80_df['UMCSENT_1'].to_frame())"
   ]
  },
  {
   "cell_type": "code",
   "execution_count": 5,
   "metadata": {
    "ExecuteTime": {
     "end_time": "2019-06-11T00:00:45.509677Z",
     "start_time": "2019-06-11T00:00:45.477461Z"
    }
   },
   "outputs": [],
   "source": [
    "# test = int(len(UMCSENT_80_X_scaled)*0.90)\n",
    "\n",
    "# X_train_scaled = UMCSENT_80_X_scaled[:test]\n",
    "# y_train_scaled = UMCSENT_80_y_scaled[:test]\n",
    "# y_train = UMCSENT_80_df['UMCSENT_1'][:test]\n",
    "\n",
    "# X_test_scaled = UMCSENT_80_X_scaled[test:]\n",
    "# y_test_scaled = UMCSENT_80_y_scaled[test:]\n",
    "# y_test = UMCSENT_80_df['UMCSENT_1'][test:]"
   ]
  },
  {
   "cell_type": "code",
   "execution_count": 6,
   "metadata": {
    "ExecuteTime": {
     "end_time": "2019-06-11T00:00:45.540813Z",
     "start_time": "2019-06-11T00:00:45.511911Z"
    }
   },
   "outputs": [],
   "source": [
    "# X_train = np.reshape(X_train_scaled, \n",
    "#                      (X_train_scaled.shape[0], 1, X_train_scaled.shape[1]))\n",
    "# X_test = np.reshape(X_test_scaled, \n",
    "#                     (X_test_scaled.shape[0], 1, X_test_scaled.shape[1]))"
   ]
  },
  {
   "cell_type": "code",
   "execution_count": 7,
   "metadata": {
    "ExecuteTime": {
     "end_time": "2019-06-11T00:00:45.572042Z",
     "start_time": "2019-06-11T00:00:45.542922Z"
    }
   },
   "outputs": [],
   "source": [
    "# n_lookback = 1"
   ]
  },
  {
   "cell_type": "code",
   "execution_count": 8,
   "metadata": {
    "ExecuteTime": {
     "end_time": "2019-06-11T00:00:45.605656Z",
     "start_time": "2019-06-11T00:00:45.574454Z"
    }
   },
   "outputs": [],
   "source": [
    "# model = Sequential()\n",
    "# model.add(LSTM(128, input_shape=(n_lookback,X_train.shape[2]), \n",
    "#                activation='relu', return_sequences=True))\n",
    "# # model.add(Dropout(0.2))\n",
    "# # model.add(BatchNormalization())  #normalizes activation outputs, same reason you want to normalize your input data.\n",
    "\n",
    "# model.add(LSTM(128, activation='relu', return_sequences=True))\n",
    "# model.add(Dropout(0.1))\n",
    "# model.add(BatchNormalization())\n",
    "\n",
    "# model.add(LSTM(128, activation='relu'))\n",
    "# model.add(Dropout(0.2))\n",
    "# model.add(BatchNormalization())\n",
    "\n",
    "# model.add(Dense(32, activation='relu'))\n",
    "# model.add(Dropout(0.2))\n",
    "\n",
    "# model.add(Dense(1, activation='softmax'))\n",
    "\n",
    "# model.compile(loss='mae', optimizer='RMSprop')"
   ]
  },
  {
   "cell_type": "code",
   "execution_count": 9,
   "metadata": {
    "ExecuteTime": {
     "end_time": "2019-06-11T00:00:45.638066Z",
     "start_time": "2019-06-11T00:00:45.608111Z"
    }
   },
   "outputs": [],
   "source": [
    "# model = Sequential()\n",
    "# model.add(LSTM(60, dropout=0.1, recurrent_dropout=0.2, return_sequences=True,\n",
    "#               input_shape=(n_lookback, X_train.shape[2])))\n",
    "# # model.add(Dropout(0.2))\n",
    "\n",
    "# model.add(LSTM(32, activation='relu'))\n",
    "# model.add(Dropout(0.1))\n",
    "# model.add(Dense(X_train.shape[2]))\n",
    "\n",
    "# # opt = tf.keras.optimizers.RMSprop(lr=0.001)\n",
    "\n",
    "# model.compile(loss='mean_squared_error', optimizer='RMSprop', metrics=['mae'])"
   ]
  },
  {
   "cell_type": "code",
   "execution_count": 10,
   "metadata": {
    "ExecuteTime": {
     "end_time": "2019-06-11T00:00:45.669543Z",
     "start_time": "2019-06-11T00:00:45.639845Z"
    }
   },
   "outputs": [],
   "source": [
    "# def rnn_hyperparameter_tune(X_train, y_train_scaled, n_epochs, batchSize):\n",
    "#     model.fit(X_train, \n",
    "#               y_train_scaled, \n",
    "#               epochs=n_epochs,\n",
    "#               batch_size=batchSize, \n",
    "#               verbose=0,\n",
    "#               shuffle=False)\n",
    "    \n",
    "#     yhat_scale = model.predict(X_test)\n",
    "    \n",
    "#     y_hat_inv_scaled = scaler.inverse_transform(yhat_scale)\n",
    "#     temp_root_sq_mu_err = sqrt(mean_squared_error(y_test.values, y_hat_inv_scaled))\n",
    "#     temp_root_sq_mu_err_per = round(sqrt(mean_squared_error(y_test.values, y_hat_inv_scaled))/y_test.values.mean()*100,4)\n",
    "    \n",
    "#     print(f'# of Epochs, Batch Size: {n_epochs}, {batchSize}')\n",
    "#     print('Test RMSE: %.3f' % temp_root_sq_mu_err)\n",
    "#     print(f'RMSE %: {temp_root_sq_mu_err_per}%\\n')\n",
    "    \n",
    "#     return temp_root_sq_mu_err"
   ]
  },
  {
   "cell_type": "code",
   "execution_count": 11,
   "metadata": {
    "ExecuteTime": {
     "end_time": "2019-06-11T00:00:45.699984Z",
     "start_time": "2019-06-11T00:00:45.671447Z"
    }
   },
   "outputs": [],
   "source": [
    "# root_sq_mu_err_ls = []\n",
    "\n",
    "# for epochs in range(100, 500, 100):\n",
    "#     root_sq_mu_err_ls.append(rnn_hyperparameter_tune(X_train, y_train_scaled, epochs, 40))"
   ]
  },
  {
   "cell_type": "code",
   "execution_count": 12,
   "metadata": {
    "ExecuteTime": {
     "end_time": "2019-06-11T00:00:45.730593Z",
     "start_time": "2019-06-11T00:00:45.701684Z"
    }
   },
   "outputs": [],
   "source": [
    "# N_EPOCHS = 200\n",
    "# batchSize = 40\n",
    "\n",
    "# model.fit(X_train, \n",
    "#           y_train_scaled, \n",
    "#           epochs=N_EPOCHS,\n",
    "#           batch_size=batchSize, \n",
    "#           verbose=0,\n",
    "#           shuffle=False)\n"
   ]
  },
  {
   "cell_type": "code",
   "execution_count": 13,
   "metadata": {
    "ExecuteTime": {
     "end_time": "2019-06-11T00:00:45.762245Z",
     "start_time": "2019-06-11T00:00:45.732340Z"
    }
   },
   "outputs": [],
   "source": [
    "# yhat_scale = model.predict(X_test)\n",
    "# # yhat_scale"
   ]
  },
  {
   "cell_type": "code",
   "execution_count": 14,
   "metadata": {
    "ExecuteTime": {
     "end_time": "2019-06-11T00:00:45.794034Z",
     "start_time": "2019-06-11T00:00:45.764501Z"
    }
   },
   "outputs": [],
   "source": [
    "# inv_yhat = np.concatenate((X_test_scaled, yhat_scale), axis=1)\n",
    "# inv_yhat = scaler.inverse_transform(inv_yhat)"
   ]
  },
  {
   "cell_type": "code",
   "execution_count": 15,
   "metadata": {
    "ExecuteTime": {
     "end_time": "2019-06-11T00:00:45.824107Z",
     "start_time": "2019-06-11T00:00:45.795829Z"
    }
   },
   "outputs": [],
   "source": [
    "# y_hat_inv_scaled = scaler.inverse_transform(yhat_scale)\n",
    "# preds_actuals_df = pd.DataFrame(y_test.values, \n",
    "#                                 y_hat_inv_scaled.flatten()).reset_index(drop=False)\n",
    "# preds_actuals_df.columns = ['preds', 'actual']\n",
    "# preds_actuals_df.assign(diff=preds_actuals_df.preds-preds_actuals_df.actual)\n"
   ]
  },
  {
   "cell_type": "code",
   "execution_count": 16,
   "metadata": {
    "ExecuteTime": {
     "end_time": "2019-06-11T00:00:45.853804Z",
     "start_time": "2019-06-11T00:00:45.825762Z"
    }
   },
   "outputs": [],
   "source": [
    "# y_hat_inv_scaled"
   ]
  },
  {
   "cell_type": "code",
   "execution_count": 17,
   "metadata": {
    "ExecuteTime": {
     "end_time": "2019-06-11T00:00:45.882843Z",
     "start_time": "2019-06-11T00:00:45.855415Z"
    }
   },
   "outputs": [],
   "source": [
    "# from math import sqrt\n",
    "# from sklearn.metrics import mean_squared_error\n",
    "\n",
    "# print('Test RMSE: %.3f' % sqrt(mean_squared_error(y_test.values,\n",
    "#                                                  y_hat_inv_scaled)))\n",
    "# print(f'RMSE %: {round(sqrt(mean_squared_error(y_test.values, y_hat_inv_scaled))/y_test.values.mean()*100,4)}%')"
   ]
  },
  {
   "cell_type": "markdown",
   "metadata": {},
   "source": [
    "### beer"
   ]
  },
  {
   "cell_type": "code",
   "execution_count": 18,
   "metadata": {
    "ExecuteTime": {
     "end_time": "2019-06-11T00:00:46.725507Z",
     "start_time": "2019-06-11T00:00:45.884469Z"
    }
   },
   "outputs": [
    {
     "data": {
      "image/png": "[encoded data removed]",
      "text/plain": [
       "<Figure size 432x288 with 1 Axes>"
      ]
     },
     "metadata": {
      "needs_background": "light"
     },
     "output_type": "display_data"
    }
   ],
   "source": [
    "beer_df = fred.get_series('MRTSSM4453USN').to_frame()\n",
    "beer_df.columns = ['beer']\n",
    "beer_df = beer_df[beer_df.index >= '1980-01']\n",
    "beer_df['beer_1'] = beer_df.shift(-1)\n",
    "plt.plot(beer_df['beer'])\n",
    "plt.show()"
   ]
  },
  {
   "cell_type": "code",
   "execution_count": 19,
   "metadata": {
    "ExecuteTime": {
     "end_time": "2019-06-11T00:00:46.757798Z",
     "start_time": "2019-06-11T00:00:46.727196Z"
    }
   },
   "outputs": [],
   "source": [
    "beer_UMCSENT_df = pd.merge(beer_df, UMCSENT_80_df, \n",
    "                            how='left', right_index=True, left_index=True).dropna()"
   ]
  },
  {
   "cell_type": "code",
   "execution_count": 20,
   "metadata": {
    "ExecuteTime": {
     "end_time": "2019-06-11T00:00:46.784735Z",
     "start_time": "2019-06-11T00:00:46.759662Z"
    }
   },
   "outputs": [],
   "source": [
    "# from sklearn.preprocessing import StandardScaler, MinMaxScaler\n",
    "\n",
    "# scaler = StandardScaler()\n",
    "\n",
    "# beer_UMCSENT_X_scaled = scaler.fit_transform(beer_UMCSENT_df[['beer', 'UMCSENT']])\n",
    "# beer_UMCSENT_y_scaled = scaler.fit_transform(beer_UMCSENT_df[['UMCSENT_1']])"
   ]
  },
  {
   "cell_type": "code",
   "execution_count": 21,
   "metadata": {
    "ExecuteTime": {
     "end_time": "2019-06-11T00:00:46.810435Z",
     "start_time": "2019-06-11T00:00:46.786653Z"
    }
   },
   "outputs": [],
   "source": [
    "# test = int(len(beer_UMCSENT_X_scaled)*0.95)\n",
    "\n",
    "# X_train_scaled = beer_UMCSENT_X_scaled[:test]\n",
    "# y_train_scaled = beer_UMCSENT_y_scaled[:test]\n",
    "# y_train = beer_UMCSENT_df[['beer_1','UMCSENT_1']][:test]\n",
    "\n",
    "# X_test_scaled = beer_UMCSENT_X_scaled[test:]\n",
    "# y_test_scaled = beer_UMCSENT_y_scaled[test:]\n",
    "# y_test = beer_UMCSENT_df[['UMCSENT_1']][test:]"
   ]
  },
  {
   "cell_type": "code",
   "execution_count": 22,
   "metadata": {
    "ExecuteTime": {
     "end_time": "2019-06-11T00:00:46.837054Z",
     "start_time": "2019-06-11T00:00:46.811942Z"
    }
   },
   "outputs": [],
   "source": [
    "# X_train = np.reshape(X_train_scaled, \n",
    "#                      (X_train_scaled.shape[0], 1, X_train_scaled.shape[1]))\n",
    "\n",
    "# X_test = np.reshape(X_test_scaled, \n",
    "#                     (X_test_scaled.shape[0], 1, X_test_scaled.shape[1]))"
   ]
  },
  {
   "cell_type": "code",
   "execution_count": 23,
   "metadata": {
    "ExecuteTime": {
     "end_time": "2019-06-11T00:00:46.871911Z",
     "start_time": "2019-06-11T00:00:46.840761Z"
    }
   },
   "outputs": [],
   "source": [
    "# model = Sequential()\n",
    "# model.add(LSTM(60, dropout=0.1, recurrent_dropout=0.2, return_sequences=True,\n",
    "#               input_shape=(n_lookback, X_train.shape[2]),  activation='relu'))\n",
    "# model.add(Dropout(0.2))\n",
    "\n",
    "# model.add(LSTM(32, activation='relu'))\n",
    "# model.add(Dropout(0.1))\n",
    "# model.add(Dense(X_train.shape[1]))\n",
    "\n",
    "# # opt = tf.keras.optimizers.RMSprop(lr=0.001)\n",
    "\n",
    "# model.compile(loss='mean_squared_error', optimizer='RMSprop', metrics=['mae'])"
   ]
  },
  {
   "cell_type": "code",
   "execution_count": 24,
   "metadata": {
    "ExecuteTime": {
     "end_time": "2019-06-11T00:00:46.905367Z",
     "start_time": "2019-06-11T00:00:46.874479Z"
    }
   },
   "outputs": [],
   "source": [
    "# N_EPOCHS =100\n",
    "# batchSize = 40\n",
    "\n",
    "# model.fit(X_train, \n",
    "#           y_train_scaled, \n",
    "#           epochs=N_EPOCHS,\n",
    "#           batch_size=batchSize, \n",
    "#           verbose=1,\n",
    "#           shuffle=False)"
   ]
  },
  {
   "cell_type": "code",
   "execution_count": 25,
   "metadata": {
    "ExecuteTime": {
     "end_time": "2019-06-11T00:00:46.937745Z",
     "start_time": "2019-06-11T00:00:46.907420Z"
    }
   },
   "outputs": [],
   "source": [
    "# yhat_scale = model.predict(X_test)\n",
    "# # yhat_scale"
   ]
  },
  {
   "cell_type": "code",
   "execution_count": 26,
   "metadata": {
    "ExecuteTime": {
     "end_time": "2019-06-11T00:00:46.969894Z",
     "start_time": "2019-06-11T00:00:46.939634Z"
    }
   },
   "outputs": [],
   "source": [
    "# inv_yhat = np.concatenate((X_test_scaled, yhat_scale), axis=1)\n",
    "# inv_yhat = scaler.inverse_transform(yhat_scale)"
   ]
  },
  {
   "cell_type": "code",
   "execution_count": 27,
   "metadata": {
    "ExecuteTime": {
     "end_time": "2019-06-11T00:00:47.000136Z",
     "start_time": "2019-06-11T00:00:46.971608Z"
    }
   },
   "outputs": [],
   "source": [
    "# y_hat_inv_scaled = scaler.inverse_transform(yhat_scale)\n",
    "# preds_df = pd.DataFrame(y_hat_inv_scaled, columns=['UMCSENT_preds'])"
   ]
  },
  {
   "cell_type": "code",
   "execution_count": 28,
   "metadata": {
    "ExecuteTime": {
     "end_time": "2019-06-11T00:00:47.030425Z",
     "start_time": "2019-06-11T00:00:47.001976Z"
    }
   },
   "outputs": [],
   "source": [
    "# # y_test = y_test.assign(beer_preds=preds_df['beer_preds'].values)\n",
    "# y_test['UMCSENT_preds'] = preds_df['UMCSENT_preds'].values\n",
    "\n",
    "# # beer_preds_actual_df = y_test[['beer_1', 'beer_preds']]\n",
    "# UMCSENT_preds_actual_df = y_test[['UMCSENT_1', 'UMCSENT_preds']]\n",
    "\n",
    "# # beer_preds_actual_df = beer_preds_actual_df.assign(beer_diff=(beer_preds_actual_df.beer_preds-\\\n",
    "# #                                                   beer_preds_actual_df.beer_1))\n",
    "# UMCSENT_preds_actual_df = UMCSENT_preds_actual_df.assign(UMCSENT_diff=(UMCSENT_preds_actual_df.UMCSENT_preds-\\\n",
    "#                                                           UMCSENT_preds_actual_df.UMCSENT_1))\n"
   ]
  },
  {
   "cell_type": "code",
   "execution_count": 29,
   "metadata": {
    "ExecuteTime": {
     "end_time": "2019-06-11T00:00:47.059915Z",
     "start_time": "2019-06-11T00:00:47.031932Z"
    }
   },
   "outputs": [],
   "source": [
    "# print('Test RMSE: %.3f' % sqrt(mean_squared_error(beer_preds_actual_df.beer_1,\n",
    "#                                                  beer_preds_actual_df.beer_preds)))\n",
    "# print(f'RMSE %: {round(sqrt(mean_squared_error(beer_preds_actual_df.beer_1, beer_preds_actual_df.beer_preds))/beer_preds_actual_df.beer_1.mean()*100,4)}%')"
   ]
  },
  {
   "cell_type": "code",
   "execution_count": 30,
   "metadata": {
    "ExecuteTime": {
     "end_time": "2019-06-11T00:00:47.088968Z",
     "start_time": "2019-06-11T00:00:47.061691Z"
    }
   },
   "outputs": [],
   "source": [
    "# plt.figure(figsize=(12,5))\n",
    "# plt.plot(beer_preds_actual_df.beer_1, label='actual')\n",
    "# plt.plot(beer_preds_actual_df.beer_preds, label='pred')\n",
    "# plt.title(f'Beer')\n",
    "# plt.legend()\n",
    "# plt.show()"
   ]
  },
  {
   "cell_type": "code",
   "execution_count": 31,
   "metadata": {
    "ExecuteTime": {
     "end_time": "2019-06-11T00:00:47.119709Z",
     "start_time": "2019-06-11T00:00:47.091020Z"
    }
   },
   "outputs": [],
   "source": [
    "# print('Test RMSE: %.3f' % sqrt(mean_squared_error(UMCSENT_preds_actual_df.UMCSENT_1,\n",
    "#                                                  UMCSENT_preds_actual_df.UMCSENT_preds)))\n",
    "# print(f'RMSE %: {round(sqrt(mean_squared_error(UMCSENT_preds_actual_df.UMCSENT_1, UMCSENT_preds_actual_df.UMCSENT_preds))/UMCSENT_preds_actual_df.UMCSENT_1.mean()*100,4)}%')\n"
   ]
  },
  {
   "cell_type": "code",
   "execution_count": 32,
   "metadata": {
    "ExecuteTime": {
     "end_time": "2019-06-11T00:00:47.149107Z",
     "start_time": "2019-06-11T00:00:47.121404Z"
    }
   },
   "outputs": [],
   "source": [
    "# plt.figure(figsize=(12,5))\n",
    "# plt.plot(UMCSENT_preds_actual_df.UMCSENT_1, label='actual')\n",
    "# plt.plot(UMCSENT_preds_actual_df.UMCSENT_preds, label='pred')\n",
    "# plt.title(f'US Michigan CS')\n",
    "# plt.legend()\n",
    "# plt.show()"
   ]
  },
  {
   "cell_type": "markdown",
   "metadata": {},
   "source": [
    "### Keras"
   ]
  },
  {
   "cell_type": "code",
   "execution_count": 33,
   "metadata": {
    "ExecuteTime": {
     "end_time": "2019-06-11T00:00:47.179239Z",
     "start_time": "2019-06-11T00:00:47.150663Z"
    }
   },
   "outputs": [],
   "source": [
    "# from keras.models import Sequential\n",
    "# from keras.layers import Dense, Dropout\n",
    "# from keras.layers import LSTM"
   ]
  },
  {
   "cell_type": "code",
   "execution_count": 34,
   "metadata": {
    "ExecuteTime": {
     "end_time": "2019-06-11T00:00:47.211306Z",
     "start_time": "2019-06-11T00:00:47.180842Z"
    }
   },
   "outputs": [],
   "source": [
    "# def keras_lstm(x_train, y_train_scaled, X_test, \n",
    "#                N_EPOCHS, batchSize, neuron_1):\n",
    "#     model = Sequential()\n",
    "#     model.add(LSTM(neuron_1, \n",
    "#                    batch_input_shape=(batchSize, x_train.shape[1], x_train.shape[2]), \n",
    "#                    stateful=True, activation='relu'))\n",
    "#     model.add(Dropout(0.2))\n",
    "# #     model.add(LSTM(neuron_2, activation='relu'))\n",
    "# #     model.add(Dropout(0.1))    \n",
    "#     model.add(Dense(X_train.shape[2]))\n",
    "    \n",
    "#     model.compile(loss='mean_squared_error', optimizer='RMSprop', metrics=['mae'])\n",
    "    \n",
    "#     model.fit(X_train, y_train_scaled, \n",
    "#               epochs=N_EPOCHS,\n",
    "#               batch_size=batchSize, \n",
    "#               verbose=1,\n",
    "#               shuffle=False)\n",
    "#     yhat_scale = model.predict(X_test, batch_size=batchSize)\n",
    "#     return yhat_scale\n"
   ]
  },
  {
   "cell_type": "code",
   "execution_count": 35,
   "metadata": {
    "ExecuteTime": {
     "end_time": "2019-06-11T00:00:47.242010Z",
     "start_time": "2019-06-11T00:00:47.213091Z"
    }
   },
   "outputs": [],
   "source": [
    "# yhat_scale_preds = keras_lstm(X_train, y_train_scaled, X_test, 50, 1, 1, )"
   ]
  },
  {
   "cell_type": "code",
   "execution_count": 36,
   "metadata": {
    "ExecuteTime": {
     "end_time": "2019-06-11T00:00:47.273474Z",
     "start_time": "2019-06-11T00:00:47.244019Z"
    }
   },
   "outputs": [],
   "source": [
    "def inverse_scale(inv_preds):\n",
    "    return scaler.inverse_transform(inv_preds)"
   ]
  },
  {
   "cell_type": "code",
   "execution_count": 37,
   "metadata": {
    "ExecuteTime": {
     "end_time": "2019-06-11T00:00:47.304388Z",
     "start_time": "2019-06-11T00:00:47.275728Z"
    }
   },
   "outputs": [],
   "source": [
    "# inverse_scale(yhat_scale_preds)"
   ]
  },
  {
   "cell_type": "markdown",
   "metadata": {},
   "source": [
    "## LSTM model"
   ]
  },
  {
   "cell_type": "code",
   "execution_count": 38,
   "metadata": {
    "ExecuteTime": {
     "end_time": "2019-06-11T00:00:47.412055Z",
     "start_time": "2019-06-11T00:00:47.306127Z"
    }
   },
   "outputs": [
    {
     "name": "stderr",
     "output_type": "stream",
     "text": [
      "Using TensorFlow backend.\n"
     ]
    }
   ],
   "source": [
    "from qreit.models.lstm.data_processor import *\n",
    "from qreit.models.lstm.model import *\n",
    "\n",
    "default_configs = default_configs"
   ]
  },
  {
   "cell_type": "code",
   "execution_count": 39,
   "metadata": {
    "ExecuteTime": {
     "end_time": "2019-06-11T00:00:47.459345Z",
     "start_time": "2019-06-11T00:00:47.413545Z"
    }
   },
   "outputs": [
    {
     "name": "stdout",
     "output_type": "stream",
     "text": [
      "4697\n"
     ]
    },
    {
     "data": {
      "text/html": [
       "<div>\n",
       "<style scoped>\n",
       "    .dataframe tbody tr th:only-of-type {\n",
       "        vertical-align: middle;\n",
       "    }\n",
       "\n",
       "    .dataframe tbody tr th {\n",
       "        vertical-align: top;\n",
       "    }\n",
       "\n",
       "    .dataframe thead th {\n",
       "        text-align: right;\n",
       "    }\n",
       "</style>\n",
       "<table border=\"1\" class=\"dataframe\">\n",
       "  <thead>\n",
       "    <tr style=\"text-align: right;\">\n",
       "      <th></th>\n",
       "      <th>Date</th>\n",
       "      <th>Open</th>\n",
       "      <th>High</th>\n",
       "      <th>Low</th>\n",
       "      <th>Close</th>\n",
       "      <th>Volume</th>\n",
       "    </tr>\n",
       "  </thead>\n",
       "  <tbody>\n",
       "    <tr>\n",
       "      <th>0</th>\n",
       "      <td>03-01-00</td>\n",
       "      <td>1469.250000</td>\n",
       "      <td>1478.000000</td>\n",
       "      <td>1438.359985</td>\n",
       "      <td>1455.219971</td>\n",
       "      <td>931800000</td>\n",
       "    </tr>\n",
       "    <tr>\n",
       "      <th>1</th>\n",
       "      <td>04-01-00</td>\n",
       "      <td>1455.219971</td>\n",
       "      <td>1455.219971</td>\n",
       "      <td>1397.430054</td>\n",
       "      <td>1399.420044</td>\n",
       "      <td>1009000000</td>\n",
       "    </tr>\n",
       "    <tr>\n",
       "      <th>2</th>\n",
       "      <td>05-01-00</td>\n",
       "      <td>1399.420044</td>\n",
       "      <td>1413.270020</td>\n",
       "      <td>1377.680054</td>\n",
       "      <td>1402.109985</td>\n",
       "      <td>1085500000</td>\n",
       "    </tr>\n",
       "    <tr>\n",
       "      <th>3</th>\n",
       "      <td>06-01-00</td>\n",
       "      <td>1402.109985</td>\n",
       "      <td>1411.900024</td>\n",
       "      <td>1392.099976</td>\n",
       "      <td>1403.449951</td>\n",
       "      <td>1092300000</td>\n",
       "    </tr>\n",
       "    <tr>\n",
       "      <th>4</th>\n",
       "      <td>07-01-00</td>\n",
       "      <td>1403.449951</td>\n",
       "      <td>1441.469971</td>\n",
       "      <td>1400.729980</td>\n",
       "      <td>1441.469971</td>\n",
       "      <td>1225200000</td>\n",
       "    </tr>\n",
       "  </tbody>\n",
       "</table>\n",
       "</div>"
      ],
      "text/plain": [
       "       Date         Open         High          Low        Close      Volume\n",
       "0  03-01-00  1469.250000  1478.000000  1438.359985  1455.219971   931800000\n",
       "1  04-01-00  1455.219971  1455.219971  1397.430054  1399.420044  1009000000\n",
       "2  05-01-00  1399.420044  1413.270020  1377.680054  1402.109985  1085500000\n",
       "3  06-01-00  1402.109985  1411.900024  1392.099976  1403.449951  1092300000\n",
       "4  07-01-00  1403.449951  1441.469971  1400.729980  1441.469971  1225200000"
      ]
     },
     "execution_count": 39,
     "metadata": {},
     "output_type": "execute_result"
    }
   ],
   "source": [
    "spx_df = pd.read_csv('./data/sp500.csv')\n",
    "print(len(spx_df))\n",
    "spx_df.head()"
   ]
  },
  {
   "cell_type": "code",
   "execution_count": 40,
   "metadata": {
    "ExecuteTime": {
     "end_time": "2019-06-11T00:00:48.237608Z",
     "start_time": "2019-06-11T00:00:47.461029Z"
    }
   },
   "outputs": [
    {
     "name": "stdout",
     "output_type": "stream",
     "text": [
      "WARNING:tensorflow:From /Users/marktblack/anaconda3/lib/python3.7/site-packages/tensorflow/python/framework/op_def_library.py:263: colocate_with (from tensorflow.python.framework.ops) is deprecated and will be removed in a future version.\n",
      "Instructions for updating:\n",
      "Colocations handled automatically by placer.\n",
      "WARNING:tensorflow:From /Users/marktblack/anaconda3/lib/python3.7/site-packages/keras/backend/tensorflow_backend.py:3445: calling dropout (from tensorflow.python.ops.nn_ops) with keep_prob is deprecated and will be removed in a future version.\n",
      "Instructions for updating:\n",
      "Please use `rate` instead of `keep_prob`. Rate should be set to `rate = 1 - keep_prob`.\n",
      "[Model] Model Compiled\n",
      "Time taken: 0:00:00.458049\n"
     ]
    }
   ],
   "source": [
    "data = DataLoader(spx_df, 0.85, ['Close', 'Volume'])\n",
    "\n",
    "model = Model()\n",
    "model.build_model()\n",
    "x, y = data.get_train_data(50, True)"
   ]
  },
  {
   "cell_type": "code",
   "execution_count": 41,
   "metadata": {
    "ExecuteTime": {
     "end_time": "2019-06-11T00:01:17.999739Z",
     "start_time": "2019-06-11T00:00:48.239664Z"
    }
   },
   "outputs": [
    {
     "name": "stdout",
     "output_type": "stream",
     "text": [
      "[Model] Training Started\n",
      "[Model] 2 epochs, 32 batch size\n",
      "WARNING:tensorflow:From /Users/marktblack/anaconda3/lib/python3.7/site-packages/tensorflow/python/ops/math_ops.py:3066: to_int32 (from tensorflow.python.ops.math_ops) is deprecated and will be removed in a future version.\n",
      "Instructions for updating:\n",
      "Use tf.cast instead.\n",
      "Epoch 1/2\n",
      "3942/3942 [==============================] - 14s 4ms/step - loss: 0.0010\n",
      "Epoch 2/2\n",
      "  32/3942 [..............................] - ETA: 12s - loss: 3.8700e-04"
     ]
    },
    {
     "name": "stderr",
     "output_type": "stream",
     "text": [
      "/Users/marktblack/anaconda3/lib/python3.7/site-packages/keras/callbacks.py:569: RuntimeWarning: Early stopping conditioned on metric `val_loss` which is not available. Available metrics are: loss\n",
      "  (self.monitor, ','.join(list(logs.keys()))), RuntimeWarning\n",
      "/Users/marktblack/anaconda3/lib/python3.7/site-packages/keras/callbacks.py:434: RuntimeWarning: Can save best model only with val_loss available, skipping.\n",
      "  'skipping.' % (self.monitor), RuntimeWarning)\n"
     ]
    },
    {
     "name": "stdout",
     "output_type": "stream",
     "text": [
      "3942/3942 [==============================] - 13s 3ms/step - loss: 5.2888e-04\n",
      "[Model] Training Completed. Model saved as saved_models/10062019-170048-e2.h5\n",
      "Time taken: 0:00:29.720070\n"
     ]
    }
   ],
   "source": [
    "# in-memory training\n",
    "model.train(\n",
    "    x,\n",
    "    y,\n",
    "    epochs = 2,\n",
    "    batch_size = default_configs['training']['batch_size'],\n",
    "    save_dir = default_configs['model']['save_dir']\n",
    ")"
   ]
  },
  {
   "cell_type": "code",
   "execution_count": 42,
   "metadata": {
    "ExecuteTime": {
     "end_time": "2019-06-11T00:01:18.031103Z",
     "start_time": "2019-06-11T00:01:18.001521Z"
    }
   },
   "outputs": [],
   "source": [
    "# model.train_generator(data,\n",
    "#                      steps_per_epoch = math.ceil((data.len_train - \\\n",
    "#                                                   default_configs['data']['sequence_length']) / \\\n",
    "#                                                   default_configs['training']['batch_size']))\n"
   ]
  },
  {
   "cell_type": "code",
   "execution_count": 45,
   "metadata": {
    "ExecuteTime": {
     "end_time": "2019-06-11T00:01:45.463454Z",
     "start_time": "2019-06-11T00:01:45.391029Z"
    }
   },
   "outputs": [],
   "source": [
    "x_test, y_test = data.get_test_data(seq_len=50,\n",
    "                                     normalise=True)"
   ]
  },
  {
   "cell_type": "code",
   "execution_count": 46,
   "metadata": {
    "ExecuteTime": {
     "end_time": "2019-06-11T00:01:46.468995Z",
     "start_time": "2019-06-11T00:01:45.726688Z"
    }
   },
   "outputs": [
    {
     "name": "stdout",
     "output_type": "stream",
     "text": [
      "[Model] Predicting Point-by-Point...\n"
     ]
    }
   ],
   "source": [
    "predictions = model.predict_point_by_point(x_test)"
   ]
  },
  {
   "cell_type": "code",
   "execution_count": 47,
   "metadata": {
    "ExecuteTime": {
     "end_time": "2019-06-11T00:01:50.174078Z",
     "start_time": "2019-06-11T00:01:50.115952Z"
    }
   },
   "outputs": [
    {
     "data": {
      "text/html": [
       "<div>\n",
       "<style scoped>\n",
       "    .dataframe tbody tr th:only-of-type {\n",
       "        vertical-align: middle;\n",
       "    }\n",
       "\n",
       "    .dataframe tbody tr th {\n",
       "        vertical-align: top;\n",
       "    }\n",
       "\n",
       "    .dataframe thead th {\n",
       "        text-align: right;\n",
       "    }\n",
       "</style>\n",
       "<table border=\"1\" class=\"dataframe\">\n",
       "  <thead>\n",
       "    <tr style=\"text-align: right;\">\n",
       "      <th></th>\n",
       "      <th>predictions</th>\n",
       "      <th>actuals</th>\n",
       "      <th>diff</th>\n",
       "    </tr>\n",
       "  </thead>\n",
       "  <tbody>\n",
       "    <tr>\n",
       "      <th>0</th>\n",
       "      <td>-0.069247</td>\n",
       "      <td>-0.074416</td>\n",
       "      <td>0.005169</td>\n",
       "    </tr>\n",
       "    <tr>\n",
       "      <th>1</th>\n",
       "      <td>-0.077845</td>\n",
       "      <td>-0.082964</td>\n",
       "      <td>0.005119</td>\n",
       "    </tr>\n",
       "    <tr>\n",
       "      <th>2</th>\n",
       "      <td>-0.053745</td>\n",
       "      <td>-0.083938</td>\n",
       "      <td>0.030194</td>\n",
       "    </tr>\n",
       "    <tr>\n",
       "      <th>3</th>\n",
       "      <td>-0.069208</td>\n",
       "      <td>-0.093736</td>\n",
       "      <td>0.024528</td>\n",
       "    </tr>\n",
       "    <tr>\n",
       "      <th>4</th>\n",
       "      <td>-0.085627</td>\n",
       "      <td>-0.087217</td>\n",
       "      <td>0.001590</td>\n",
       "    </tr>\n",
       "    <tr>\n",
       "      <th>5</th>\n",
       "      <td>-0.084550</td>\n",
       "      <td>-0.088952</td>\n",
       "      <td>0.004402</td>\n",
       "    </tr>\n",
       "    <tr>\n",
       "      <th>6</th>\n",
       "      <td>-0.082019</td>\n",
       "      <td>-0.083693</td>\n",
       "      <td>0.001674</td>\n",
       "    </tr>\n",
       "    <tr>\n",
       "      <th>7</th>\n",
       "      <td>-0.100084</td>\n",
       "      <td>-0.085356</td>\n",
       "      <td>-0.014728</td>\n",
       "    </tr>\n",
       "    <tr>\n",
       "      <th>8</th>\n",
       "      <td>-0.112707</td>\n",
       "      <td>-0.078819</td>\n",
       "      <td>-0.033888</td>\n",
       "    </tr>\n",
       "    <tr>\n",
       "      <th>9</th>\n",
       "      <td>-0.113822</td>\n",
       "      <td>-0.057991</td>\n",
       "      <td>-0.055831</td>\n",
       "    </tr>\n",
       "    <tr>\n",
       "      <th>10</th>\n",
       "      <td>-0.109858</td>\n",
       "      <td>-0.092083</td>\n",
       "      <td>-0.017775</td>\n",
       "    </tr>\n",
       "    <tr>\n",
       "      <th>11</th>\n",
       "      <td>-0.130099</td>\n",
       "      <td>-0.104241</td>\n",
       "      <td>-0.025858</td>\n",
       "    </tr>\n",
       "    <tr>\n",
       "      <th>12</th>\n",
       "      <td>-0.103260</td>\n",
       "      <td>-0.101628</td>\n",
       "      <td>-0.001632</td>\n",
       "    </tr>\n",
       "    <tr>\n",
       "      <th>13</th>\n",
       "      <td>-0.075155</td>\n",
       "      <td>-0.094978</td>\n",
       "      <td>0.019823</td>\n",
       "    </tr>\n",
       "    <tr>\n",
       "      <th>14</th>\n",
       "      <td>-0.078821</td>\n",
       "      <td>-0.114605</td>\n",
       "      <td>0.035783</td>\n",
       "    </tr>\n",
       "    <tr>\n",
       "      <th>15</th>\n",
       "      <td>-0.076666</td>\n",
       "      <td>-0.105854</td>\n",
       "      <td>0.029188</td>\n",
       "    </tr>\n",
       "    <tr>\n",
       "      <th>16</th>\n",
       "      <td>-0.070658</td>\n",
       "      <td>-0.096228</td>\n",
       "      <td>0.025570</td>\n",
       "    </tr>\n",
       "    <tr>\n",
       "      <th>17</th>\n",
       "      <td>-0.049873</td>\n",
       "      <td>-0.084178</td>\n",
       "      <td>0.034306</td>\n",
       "    </tr>\n",
       "    <tr>\n",
       "      <th>18</th>\n",
       "      <td>-0.063813</td>\n",
       "      <td>-0.075846</td>\n",
       "      <td>0.012033</td>\n",
       "    </tr>\n",
       "    <tr>\n",
       "      <th>19</th>\n",
       "      <td>-0.041031</td>\n",
       "      <td>-0.054194</td>\n",
       "      <td>0.013163</td>\n",
       "    </tr>\n",
       "    <tr>\n",
       "      <th>20</th>\n",
       "      <td>-0.034739</td>\n",
       "      <td>-0.054979</td>\n",
       "      <td>0.020240</td>\n",
       "    </tr>\n",
       "    <tr>\n",
       "      <th>21</th>\n",
       "      <td>-0.046667</td>\n",
       "      <td>-0.060086</td>\n",
       "      <td>0.013419</td>\n",
       "    </tr>\n",
       "    <tr>\n",
       "      <th>22</th>\n",
       "      <td>-0.067938</td>\n",
       "      <td>-0.071584</td>\n",
       "      <td>0.003646</td>\n",
       "    </tr>\n",
       "    <tr>\n",
       "      <th>23</th>\n",
       "      <td>-0.031118</td>\n",
       "      <td>-0.054756</td>\n",
       "      <td>0.023638</td>\n",
       "    </tr>\n",
       "    <tr>\n",
       "      <th>24</th>\n",
       "      <td>-0.009524</td>\n",
       "      <td>-0.039700</td>\n",
       "      <td>0.030176</td>\n",
       "    </tr>\n",
       "    <tr>\n",
       "      <th>25</th>\n",
       "      <td>-0.013730</td>\n",
       "      <td>-0.038800</td>\n",
       "      <td>0.025070</td>\n",
       "    </tr>\n",
       "    <tr>\n",
       "      <th>26</th>\n",
       "      <td>-0.019117</td>\n",
       "      <td>-0.042758</td>\n",
       "      <td>0.023641</td>\n",
       "    </tr>\n",
       "    <tr>\n",
       "      <th>27</th>\n",
       "      <td>-0.030291</td>\n",
       "      <td>-0.050682</td>\n",
       "      <td>0.020390</td>\n",
       "    </tr>\n",
       "    <tr>\n",
       "      <th>28</th>\n",
       "      <td>-0.039656</td>\n",
       "      <td>-0.022281</td>\n",
       "      <td>-0.017375</td>\n",
       "    </tr>\n",
       "    <tr>\n",
       "      <th>29</th>\n",
       "      <td>-0.032696</td>\n",
       "      <td>-0.031564</td>\n",
       "      <td>-0.001132</td>\n",
       "    </tr>\n",
       "    <tr>\n",
       "      <th>...</th>\n",
       "      <td>...</td>\n",
       "      <td>...</td>\n",
       "      <td>...</td>\n",
       "    </tr>\n",
       "    <tr>\n",
       "      <th>625</th>\n",
       "      <td>0.028923</td>\n",
       "      <td>0.022615</td>\n",
       "      <td>0.006309</td>\n",
       "    </tr>\n",
       "    <tr>\n",
       "      <th>626</th>\n",
       "      <td>0.029057</td>\n",
       "      <td>0.022732</td>\n",
       "      <td>0.006325</td>\n",
       "    </tr>\n",
       "    <tr>\n",
       "      <th>627</th>\n",
       "      <td>0.033064</td>\n",
       "      <td>0.022138</td>\n",
       "      <td>0.010926</td>\n",
       "    </tr>\n",
       "    <tr>\n",
       "      <th>628</th>\n",
       "      <td>0.049649</td>\n",
       "      <td>0.028983</td>\n",
       "      <td>0.020666</td>\n",
       "    </tr>\n",
       "    <tr>\n",
       "      <th>629</th>\n",
       "      <td>0.042234</td>\n",
       "      <td>0.026045</td>\n",
       "      <td>0.016189</td>\n",
       "    </tr>\n",
       "    <tr>\n",
       "      <th>630</th>\n",
       "      <td>0.036281</td>\n",
       "      <td>0.027869</td>\n",
       "      <td>0.008413</td>\n",
       "    </tr>\n",
       "    <tr>\n",
       "      <th>631</th>\n",
       "      <td>0.033038</td>\n",
       "      <td>0.032342</td>\n",
       "      <td>0.000696</td>\n",
       "    </tr>\n",
       "    <tr>\n",
       "      <th>632</th>\n",
       "      <td>0.030472</td>\n",
       "      <td>0.026598</td>\n",
       "      <td>0.003874</td>\n",
       "    </tr>\n",
       "    <tr>\n",
       "      <th>633</th>\n",
       "      <td>0.032638</td>\n",
       "      <td>0.028969</td>\n",
       "      <td>0.003669</td>\n",
       "    </tr>\n",
       "    <tr>\n",
       "      <th>634</th>\n",
       "      <td>0.034365</td>\n",
       "      <td>0.025420</td>\n",
       "      <td>0.008946</td>\n",
       "    </tr>\n",
       "    <tr>\n",
       "      <th>635</th>\n",
       "      <td>0.041276</td>\n",
       "      <td>0.027696</td>\n",
       "      <td>0.013579</td>\n",
       "    </tr>\n",
       "    <tr>\n",
       "      <th>636</th>\n",
       "      <td>0.047429</td>\n",
       "      <td>0.032083</td>\n",
       "      <td>0.015346</td>\n",
       "    </tr>\n",
       "    <tr>\n",
       "      <th>637</th>\n",
       "      <td>0.062676</td>\n",
       "      <td>0.044097</td>\n",
       "      <td>0.018579</td>\n",
       "    </tr>\n",
       "    <tr>\n",
       "      <th>638</th>\n",
       "      <td>0.049078</td>\n",
       "      <td>0.033943</td>\n",
       "      <td>0.015136</td>\n",
       "    </tr>\n",
       "    <tr>\n",
       "      <th>639</th>\n",
       "      <td>0.054823</td>\n",
       "      <td>0.042319</td>\n",
       "      <td>0.012504</td>\n",
       "    </tr>\n",
       "    <tr>\n",
       "      <th>640</th>\n",
       "      <td>0.036078</td>\n",
       "      <td>0.034599</td>\n",
       "      <td>0.001479</td>\n",
       "    </tr>\n",
       "    <tr>\n",
       "      <th>641</th>\n",
       "      <td>0.027326</td>\n",
       "      <td>0.031860</td>\n",
       "      <td>-0.004535</td>\n",
       "    </tr>\n",
       "    <tr>\n",
       "      <th>642</th>\n",
       "      <td>0.033164</td>\n",
       "      <td>0.030243</td>\n",
       "      <td>0.002920</td>\n",
       "    </tr>\n",
       "    <tr>\n",
       "      <th>643</th>\n",
       "      <td>0.016600</td>\n",
       "      <td>0.020098</td>\n",
       "      <td>-0.003499</td>\n",
       "    </tr>\n",
       "    <tr>\n",
       "      <th>644</th>\n",
       "      <td>0.025383</td>\n",
       "      <td>0.018719</td>\n",
       "      <td>0.006663</td>\n",
       "    </tr>\n",
       "    <tr>\n",
       "      <th>645</th>\n",
       "      <td>0.025584</td>\n",
       "      <td>0.015232</td>\n",
       "      <td>0.010353</td>\n",
       "    </tr>\n",
       "    <tr>\n",
       "      <th>646</th>\n",
       "      <td>0.026977</td>\n",
       "      <td>0.013101</td>\n",
       "      <td>0.013876</td>\n",
       "    </tr>\n",
       "    <tr>\n",
       "      <th>647</th>\n",
       "      <td>0.027310</td>\n",
       "      <td>0.011544</td>\n",
       "      <td>0.015766</td>\n",
       "    </tr>\n",
       "    <tr>\n",
       "      <th>648</th>\n",
       "      <td>0.031052</td>\n",
       "      <td>0.016203</td>\n",
       "      <td>0.014849</td>\n",
       "    </tr>\n",
       "    <tr>\n",
       "      <th>649</th>\n",
       "      <td>0.026771</td>\n",
       "      <td>0.016261</td>\n",
       "      <td>0.010510</td>\n",
       "    </tr>\n",
       "    <tr>\n",
       "      <th>650</th>\n",
       "      <td>0.034188</td>\n",
       "      <td>0.016248</td>\n",
       "      <td>0.017940</td>\n",
       "    </tr>\n",
       "    <tr>\n",
       "      <th>651</th>\n",
       "      <td>0.044341</td>\n",
       "      <td>0.024338</td>\n",
       "      <td>0.020003</td>\n",
       "    </tr>\n",
       "    <tr>\n",
       "      <th>652</th>\n",
       "      <td>0.048842</td>\n",
       "      <td>0.029834</td>\n",
       "      <td>0.019008</td>\n",
       "    </tr>\n",
       "    <tr>\n",
       "      <th>653</th>\n",
       "      <td>0.053019</td>\n",
       "      <td>0.031553</td>\n",
       "      <td>0.021466</td>\n",
       "    </tr>\n",
       "    <tr>\n",
       "      <th>654</th>\n",
       "      <td>0.055048</td>\n",
       "      <td>0.041235</td>\n",
       "      <td>0.013813</td>\n",
       "    </tr>\n",
       "  </tbody>\n",
       "</table>\n",
       "<p>655 rows × 3 columns</p>\n",
       "</div>"
      ],
      "text/plain": [
       "     predictions   actuals      diff\n",
       "0      -0.069247 -0.074416  0.005169\n",
       "1      -0.077845 -0.082964  0.005119\n",
       "2      -0.053745 -0.083938  0.030194\n",
       "3      -0.069208 -0.093736  0.024528\n",
       "4      -0.085627 -0.087217  0.001590\n",
       "5      -0.084550 -0.088952  0.004402\n",
       "6      -0.082019 -0.083693  0.001674\n",
       "7      -0.100084 -0.085356 -0.014728\n",
       "8      -0.112707 -0.078819 -0.033888\n",
       "9      -0.113822 -0.057991 -0.055831\n",
       "10     -0.109858 -0.092083 -0.017775\n",
       "11     -0.130099 -0.104241 -0.025858\n",
       "12     -0.103260 -0.101628 -0.001632\n",
       "13     -0.075155 -0.094978  0.019823\n",
       "14     -0.078821 -0.114605  0.035783\n",
       "15     -0.076666 -0.105854  0.029188\n",
       "16     -0.070658 -0.096228  0.025570\n",
       "17     -0.049873 -0.084178  0.034306\n",
       "18     -0.063813 -0.075846  0.012033\n",
       "19     -0.041031 -0.054194  0.013163\n",
       "20     -0.034739 -0.054979  0.020240\n",
       "21     -0.046667 -0.060086  0.013419\n",
       "22     -0.067938 -0.071584  0.003646\n",
       "23     -0.031118 -0.054756  0.023638\n",
       "24     -0.009524 -0.039700  0.030176\n",
       "25     -0.013730 -0.038800  0.025070\n",
       "26     -0.019117 -0.042758  0.023641\n",
       "27     -0.030291 -0.050682  0.020390\n",
       "28     -0.039656 -0.022281 -0.017375\n",
       "29     -0.032696 -0.031564 -0.001132\n",
       "..           ...       ...       ...\n",
       "625     0.028923  0.022615  0.006309\n",
       "626     0.029057  0.022732  0.006325\n",
       "627     0.033064  0.022138  0.010926\n",
       "628     0.049649  0.028983  0.020666\n",
       "629     0.042234  0.026045  0.016189\n",
       "630     0.036281  0.027869  0.008413\n",
       "631     0.033038  0.032342  0.000696\n",
       "632     0.030472  0.026598  0.003874\n",
       "633     0.032638  0.028969  0.003669\n",
       "634     0.034365  0.025420  0.008946\n",
       "635     0.041276  0.027696  0.013579\n",
       "636     0.047429  0.032083  0.015346\n",
       "637     0.062676  0.044097  0.018579\n",
       "638     0.049078  0.033943  0.015136\n",
       "639     0.054823  0.042319  0.012504\n",
       "640     0.036078  0.034599  0.001479\n",
       "641     0.027326  0.031860 -0.004535\n",
       "642     0.033164  0.030243  0.002920\n",
       "643     0.016600  0.020098 -0.003499\n",
       "644     0.025383  0.018719  0.006663\n",
       "645     0.025584  0.015232  0.010353\n",
       "646     0.026977  0.013101  0.013876\n",
       "647     0.027310  0.011544  0.015766\n",
       "648     0.031052  0.016203  0.014849\n",
       "649     0.026771  0.016261  0.010510\n",
       "650     0.034188  0.016248  0.017940\n",
       "651     0.044341  0.024338  0.020003\n",
       "652     0.048842  0.029834  0.019008\n",
       "653     0.053019  0.031553  0.021466\n",
       "654     0.055048  0.041235  0.013813\n",
       "\n",
       "[655 rows x 3 columns]"
      ]
     },
     "execution_count": 47,
     "metadata": {},
     "output_type": "execute_result"
    }
   ],
   "source": [
    "preds_actuals_df = pd.DataFrame(predictions, y_test.flatten()).reset_index(drop=False)\n",
    "preds_actuals_df.columns = ['predictions', 'actuals']\n",
    "preds_actuals_df.assign(diff=preds_actuals_df.predictions-preds_actuals_df.actuals)"
   ]
  },
  {
   "cell_type": "code",
   "execution_count": 48,
   "metadata": {
    "ExecuteTime": {
     "end_time": "2019-06-11T00:01:52.199367Z",
     "start_time": "2019-06-11T00:01:52.172194Z"
    }
   },
   "outputs": [],
   "source": [
    "def plot_results(predicted_data, true_data):\n",
    "    fig = plt.figure(facecolor='white', figsize=(8,6))\n",
    "    ax = fig.add_subplot(111)\n",
    "    ax.plot(true_data, label='True Data')\n",
    "    plt.plot(predicted_data, label='Prediction')\n",
    "    plt.legend()\n",
    "    plt.show()"
   ]
  },
  {
   "cell_type": "code",
   "execution_count": 49,
   "metadata": {
    "ExecuteTime": {
     "end_time": "2019-06-11T00:01:53.352492Z",
     "start_time": "2019-06-11T00:01:53.321852Z"
    }
   },
   "outputs": [],
   "source": [
    "# i_split = int(len(beer_UMCSENT_df)*0.85)\n",
    "# train_test = beer_UMCSENT_df.get(['beer', 'UMCSENT']).values[:i_split]\n",
    "# test_test = beer_UMCSENT_df.get(['beer', 'UMCSENT']).values[i_split:]\n",
    "\n",
    "# len_test = len(test_test)"
   ]
  },
  {
   "cell_type": "code",
   "execution_count": 50,
   "metadata": {
    "ExecuteTime": {
     "end_time": "2019-06-11T00:01:53.823319Z",
     "start_time": "2019-06-11T00:01:53.579961Z"
    }
   },
   "outputs": [
    {
     "data": {
      "image/png": "[encoded data removed]",
      "text/plain": [
       "<Figure size 576x432 with 1 Axes>"
      ]
     },
     "metadata": {},
     "output_type": "display_data"
    }
   ],
   "source": [
    "plot_results(predictions, y_test)"
   ]
  },
  {
   "cell_type": "code",
   "execution_count": 51,
   "metadata": {
    "ExecuteTime": {
     "end_time": "2019-06-11T00:01:59.877994Z",
     "start_time": "2019-06-11T00:01:59.846211Z"
    }
   },
   "outputs": [],
   "source": [
    "from sklearn.metrics import mean_squared_error\n",
    "from math import sqrt\n",
    "\n",
    "def rmse(predictions, actuals):\n",
    "    return sqrt(mean_squared_error(actuals, predictions))"
   ]
  },
  {
   "cell_type": "code",
   "execution_count": 52,
   "metadata": {
    "ExecuteTime": {
     "end_time": "2019-06-11T00:02:00.587400Z",
     "start_time": "2019-06-11T00:02:00.552399Z"
    }
   },
   "outputs": [
    {
     "name": "stdout",
     "output_type": "stream",
     "text": [
      "RMSE: 0.014508413119602147\n"
     ]
    }
   ],
   "source": [
    "print(f'RMSE: {rmse(predictions, y_test)}')"
   ]
  },
  {
   "cell_type": "code",
   "execution_count": null,
   "metadata": {},
   "outputs": [],
   "source": []
  }
 ],
 "metadata": {
  "kernelspec": {
   "display_name": "Python 3",
   "language": "python",
   "name": "python3"
  },
  "language_info": {
   "codemirror_mode": {
    "name": "ipython",
    "version": 3
   },
   "file_extension": ".py",
   "mimetype": "text/x-python",
   "name": "python",
   "nbconvert_exporter": "python",
   "pygments_lexer": "ipython3",
   "version": "3.7.2"
  }
 },
 "nbformat": 4,
 "nbformat_minor": 2
}
