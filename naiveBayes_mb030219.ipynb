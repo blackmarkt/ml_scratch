{
 "cells": [
  {
   "cell_type": "markdown",
   "metadata": {},
   "source": [
    "# Naive Bayes \n",
    "\n",
    "#### TL;DR\n",
    "Develop an understanding of the Naive Bayes algorithm by coding from scratch\n",
    "\n",
    "### Reference\n",
    "\n",
    "\n",
    "### Take-aways\n",
    "\n",
    "- Bayes Theorem:\n",
    "\n",
    "$$P(A|B)=\\frac{P(B|A)P(A)}{P(B)}$$\n",
    "\n",
    "- \"Naive\" assumes independence\n",
    "- Multivariate Gaussian:\n",
    "\n",
    "$$p(x)=\\frac{1}{\\sqrt{(2\\pi)^D|\\sigma|}}exp\\big(\\frac{1}{2}(x-\\mu)^T\\sigma^-1(x-\\mu)\\big)$$\n",
    "\n",
    "where $x=\\text{vector input}$, $\\mu=\\text{vector mean}$ and $\\sigma=\\text{covariance matrix}$"
   ]
  },
  {
   "cell_type": "code",
   "execution_count": null,
   "metadata": {
    "ExecuteTime": {
     "end_time": "2019-04-02T17:56:17.604991Z",
     "start_time": "2019-04-02T17:56:17.246277Z"
    }
   },
   "outputs": [],
   "source": [
    "import numpy as np\n",
    "from datetime import datetime\n",
    "from scipy.stats import norm # single dimension gaussian\n",
    "from scipy.stats import multivariate_normal as mvn # multivariable dimension gaussian"
   ]
  },
  {
   "cell_type": "code",
   "execution_count": null,
   "metadata": {
    "ExecuteTime": {
     "end_time": "2019-04-02T18:01:12.201676Z",
     "start_time": "2019-04-02T18:01:12.191624Z"
    }
   },
   "outputs": [],
   "source": [
    "class Bayes(object):\n",
    "    \n",
    "    def fit(self, X, Y, smoothing=10e-2):\n",
    "        N, D = X.shape\n",
    "        self.gaussians = dict()\n",
    "        self.priors = dict()\n",
    "        labels = set(Y)\n",
    "        for c in labels:\n",
    "            current_x = X[Y == c]\n",
    "            self.gaussians[c] = {\n",
    "                'mean': current_x.mean(axis=0),\n",
    "                'cov': np.cov(current_x.T) + np.eye(D) * smoothing\n",
    "            }\n",
    "            self.priors[c] = float(len(Y[Y == c]) / len(Y))\n",
    "            \n",
    "    def score(self, X, Y):\n",
    "        P = self.predict(X)\n",
    "        return np.mean(P == Y)\n",
    "    \n",
    "    def predict(self, X):\n",
    "        N, D = X.shape\n",
    "        K = len(self.gaussians)\n",
    "        P = np.zeros((N, K))\n",
    "        for c, g in iteritems(self.gaussians):\n",
    "            mean, cov = g['mean'], g['cov']\n",
    "            P[:, c] = mvn.logpdf(X, mean=mean, cov=cov) + np.log(self.priors[c])\n",
    "        return np.argmax(P, axis=1)"
   ]
  },
  {
   "cell_type": "code",
   "execution_count": null,
   "metadata": {
    "ExecuteTime": {
     "end_time": "2019-04-02T18:26:08.601515Z",
     "start_time": "2019-04-02T18:26:08.582699Z"
    }
   },
   "outputs": [],
   "source": [
    "if __name__=='__main__':\n",
    "#     X, Y = get_data(10000)\n",
    "    Ntrain = len(Y) // 2\n",
    "    Xtrain, Ytrain = X[:Ntrain], Y[:Ntrain]\n",
    "    Xtest, Ytest = X[Ntrain:], Y[Ntrain:]\n",
    "    \n",
    "    model = Bayes()\n",
    "    t0 = datetime.now()\n",
    "    model.fit(Xtrain, Ytrain)\n",
    "    print(\"Training time:\", (datetime.now() - t0))\n",
    "    \n",
    "    t0 = datetime.now()\n",
    "    print(\"Train accuracy:\", model.score(Xtrain, Ytrain))\n",
    "    print(\"Time to compute train accuracy:\", (datetime.now() - t0), \n",
    "         \"Train size:\", len(Ytrain))\n",
    "    \n",
    "    t0 = datetime.now()\n",
    "    print(\"Test accuracy:\", model.score(Xtest, Ytest))\n",
    "    print(\"Time to compute test accuracy:\", (datetime.now() - t0),\n",
    "         \"Test size:\", len(Ytest))\n",
    "    \n",
    "    # plot the mean of each class\n",
    "    for c, g in iteritems(model.gaussians):\n",
    "        plt.imshow(g['mean'].reshape(28, 28))\n",
    "        plt.title(c)\n",
    "        plt.show()"
   ]
  },
  {
   "cell_type": "code",
   "execution_count": null,
   "metadata": {},
   "outputs": [],
   "source": []
  }
 ],
 "metadata": {
  "kernelspec": {
   "display_name": "Python 3",
   "language": "python",
   "name": "python3"
  },
  "language_info": {
   "codemirror_mode": {
    "name": "ipython",
    "version": 3
   },
   "file_extension": ".py",
   "mimetype": "text/x-python",
   "name": "python",
   "nbconvert_exporter": "python",
   "pygments_lexer": "ipython3",
   "version": "3.7.2"
  }
 },
 "nbformat": 4,
 "nbformat_minor": 2
}
