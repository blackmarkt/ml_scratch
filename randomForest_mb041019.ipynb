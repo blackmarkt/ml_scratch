{
 "cells": [
  {
   "cell_type": "markdown",
   "metadata": {},
   "source": [
    "# Random Forest\n",
    "\n",
    "#### TL; DR\n",
    "To develop a deeper understanding/intuition of the Random Forest algorithm\n",
    "\n",
    "### Key Takeaways\n",
    "\n",
    "- \"feature bagging\" just like bagging but with the features randomly selected as well.\n",
    "\n",
    "- build a set of tress decorrelated from each other. Below we want the $\\varrho$ to be close to 0:\n",
    "\n",
    "$$var(\\bar{\\theta}_{B})=\\frac{1-\\varrho}{B}\\sigma^2+\\varrho \\sigma^2$$\n",
    "\n",
    "**- decorrelate trees by randomly choosing which features or samples to train on.**\n",
    "\n",
    "- Recommended approach to choosing the random $d$ features to train on $d<<D$ (but more art than science)\n",
    "\n",
    "$$classification: d=floor(\\sqrt{D})$$\n",
    "$$regression: d=floor(\\sqrt{D/3})$$\n",
    "\n",
    "### Advantages of RF\n",
    "\n",
    "- requires very little tuning (unlike NN)\n",
    "\n",
    "- performance to accuracy ratio is high"
   ]
  },
  {
   "cell_type": "code",
   "execution_count": 19,
   "metadata": {
    "ExecuteTime": {
     "end_time": "2019-04-10T17:27:45.472502Z",
     "start_time": "2019-04-10T17:27:45.462754Z"
    }
   },
   "outputs": [],
   "source": [
    "import numpy as np\n",
    "import pandas as pd\n",
    "import matplotlib.pyplot as plt\n",
    "from sklearn.preprocessing import LabelEncoder, StandardScaler\n",
    "from sklearn.ensemble import RandomForestRegressor\n",
    "from sklearn.linear_model import LinearRegression\n",
    "from sklearn.tree import DecisionTreeRegressor\n",
    "from sklearn.model_selection import cross_val_score\n",
    "\n",
    "from future.utils import iteritems\n",
    "from builtins import range, input"
   ]
  },
  {
   "cell_type": "code",
   "execution_count": 24,
   "metadata": {
    "ExecuteTime": {
     "end_time": "2019-04-10T17:28:07.272179Z",
     "start_time": "2019-04-10T17:28:07.264409Z"
    }
   },
   "outputs": [],
   "source": [
    "class DataTransformer:\n",
    "    def fit(self, df):\n",
    "        self.scalers = {}\n",
    "        for col in NUMERICAL_COLS:\n",
    "          scaler = StandardScaler()\n",
    "          scaler.fit(df[col].values.reshape(-1, 1))\n",
    "          self.scalers[col] = scaler\n",
    "\n",
    "    def transform(self, df):\n",
    "        N, _ = df.shape\n",
    "        D = len(NUMERICAL_COLS) + len(NO_TRANSFORM)\n",
    "        X = np.zeros((N, D))\n",
    "        i = 0\n",
    "        for col, scaler in iteritems(self.scalers):\n",
    "          X[:,i] = scaler.transform(df[col].values.reshape(-1, 1)).flatten()\n",
    "          i += 1\n",
    "        for col in NO_TRANSFORM:\n",
    "          X[:,i] = df[col]\n",
    "          i += 1\n",
    "        return X\n",
    "\n",
    "    def fit_transform(self, df):\n",
    "        self.fit(df)\n",
    "        return self.transform(df)"
   ]
  },
  {
   "cell_type": "code",
   "execution_count": 25,
   "metadata": {
    "ExecuteTime": {
     "end_time": "2019-04-10T17:28:07.558189Z",
     "start_time": "2019-04-10T17:28:07.554366Z"
    }
   },
   "outputs": [],
   "source": [
    "NUMERICAL_COLS = [\n",
    "  'crim', # numerical\n",
    "  'zn', # numerical\n",
    "  'nonretail', # numerical\n",
    "  'nox', # numerical\n",
    "  'rooms', # numerical\n",
    "  'age', # numerical\n",
    "  'dis', # numerical\n",
    "  'rad', # numerical\n",
    "  'tax', # numerical\n",
    "  'ptratio', # numerical\n",
    "  'b', # numerical\n",
    "  'lstat', # numerical\n",
    "]\n",
    "\n",
    "NO_TRANSFORM = ['river']"
   ]
  },
  {
   "cell_type": "code",
   "execution_count": 26,
   "metadata": {
    "ExecuteTime": {
     "end_time": "2019-04-10T17:28:07.891844Z",
     "start_time": "2019-04-10T17:28:07.883272Z"
    }
   },
   "outputs": [],
   "source": [
    "def get_data():\n",
    "    df = pd.read_csv('./data/hou_all.csv', header=None, \n",
    "                     engine='python')\n",
    "    len(df)\n",
    "    df.columns = [\n",
    "        'crim', # numerical\n",
    "        'zn', # numerical\n",
    "        'nonretail', # numerical\n",
    "        'river', # binary\n",
    "        'nox', # numerical\n",
    "        'rooms', # numerical\n",
    "        'age', # numerical\n",
    "        'dis', # numerical\n",
    "        'rad', # numerical\n",
    "        'tax', # numerical\n",
    "        'ptratio', # numerical\n",
    "        'b', # numerical\n",
    "        'lstat', # numerical\n",
    "        'medv', # numerical -- this is the target\n",
    "        'biascol'\n",
    "      ]\n",
    "    df.drop(['biascol'], axis=1, inplace=True)\n",
    "    # transform the data\n",
    "    transformer = DataTransformer()\n",
    "\n",
    "    # shuffle the data\n",
    "    N = len(df)\n",
    "    train_idx = np.random.choice(N, size=int(0.7*N), replace=False)\n",
    "    test_idx = [i for i in range(N) if i not in train_idx]\n",
    "    df_train = df.loc[train_idx]\n",
    "    df_test = df.loc[test_idx]\n",
    "\n",
    "    Xtrain = transformer.fit_transform(df_train)\n",
    "    Ytrain = np.log(df_train['medv'].values)\n",
    "    Xtest = transformer.transform(df_test)\n",
    "    Ytest = np.log(df_test['medv'].values)\n",
    "    return Xtrain, Ytrain, Xtest, Ytest"
   ]
  },
  {
   "cell_type": "code",
   "execution_count": 27,
   "metadata": {
    "ExecuteTime": {
     "end_time": "2019-04-10T17:28:09.846914Z",
     "start_time": "2019-04-10T17:28:08.896090Z"
    }
   },
   "outputs": [
    {
     "name": "stderr",
     "output_type": "stream",
     "text": [
      "/Users/marktblack/anaconda3/lib/python3.7/site-packages/sklearn/utils/validation.py:595: DataConversionWarning: Data with input dtype int64 was converted to float64 by StandardScaler.\n",
      "  warnings.warn(msg, DataConversionWarning)\n",
      "/Users/marktblack/anaconda3/lib/python3.7/site-packages/sklearn/utils/validation.py:595: DataConversionWarning: Data with input dtype int64 was converted to float64 by StandardScaler.\n",
      "  warnings.warn(msg, DataConversionWarning)\n",
      "/Users/marktblack/anaconda3/lib/python3.7/site-packages/sklearn/utils/validation.py:595: DataConversionWarning: Data with input dtype int64 was converted to float64 by StandardScaler.\n",
      "  warnings.warn(msg, DataConversionWarning)\n",
      "/Users/marktblack/anaconda3/lib/python3.7/site-packages/sklearn/utils/validation.py:595: DataConversionWarning: Data with input dtype int64 was converted to float64 by StandardScaler.\n",
      "  warnings.warn(msg, DataConversionWarning)\n",
      "/Users/marktblack/anaconda3/lib/python3.7/site-packages/sklearn/utils/validation.py:595: DataConversionWarning: Data with input dtype int64 was converted to float64 by StandardScaler.\n",
      "  warnings.warn(msg, DataConversionWarning)\n",
      "/Users/marktblack/anaconda3/lib/python3.7/site-packages/sklearn/utils/validation.py:595: DataConversionWarning: Data with input dtype int64 was converted to float64 by StandardScaler.\n",
      "  warnings.warn(msg, DataConversionWarning)\n"
     ]
    },
    {
     "name": "stdout",
     "output_type": "stream",
     "text": [
      "ymin: 2.0 ymax: 4.0\n"
     ]
    },
    {
     "data": {
      "image/png": "[encoded data removed]",
      "text/plain": [
       "<Figure size 432x288 with 1 Axes>"
      ]
     },
     "metadata": {
      "needs_background": "light"
     },
     "output_type": "display_data"
    },
    {
     "data": {
      "image/png": "[encoded data removed]",
      "text/plain": [
       "<Figure size 432x288 with 1 Axes>"
      ]
     },
     "metadata": {
      "needs_background": "light"
     },
     "output_type": "display_data"
    },
    {
     "name": "stderr",
     "output_type": "stream",
     "text": [
      "/Users/marktblack/anaconda3/lib/python3.7/site-packages/sklearn/model_selection/_split.py:2053: FutureWarning: You should specify a value for 'cv' instead of relying on the default value. The default value will change from 3 to 5 in version 0.22.\n",
      "  warnings.warn(CV_WARNING, FutureWarning)\n",
      "/Users/marktblack/anaconda3/lib/python3.7/site-packages/sklearn/model_selection/_split.py:2053: FutureWarning: You should specify a value for 'cv' instead of relying on the default value. The default value will change from 3 to 5 in version 0.22.\n",
      "  warnings.warn(CV_WARNING, FutureWarning)\n",
      "/Users/marktblack/anaconda3/lib/python3.7/site-packages/sklearn/model_selection/_split.py:2053: FutureWarning: You should specify a value for 'cv' instead of relying on the default value. The default value will change from 3 to 5 in version 0.22.\n",
      "  warnings.warn(CV_WARNING, FutureWarning)\n"
     ]
    },
    {
     "name": "stdout",
     "output_type": "stream",
     "text": [
      "CV single tree: 0.6411594385638071\n",
      "CV baseline: 0.7597919931324251\n",
      "CV forest: 0.7933961192630484\n",
      "test score single tree: 0.6820866911819347\n",
      "test score baseline: 0.7843333613523858\n",
      "test score forest: 0.8655991090323727\n"
     ]
    }
   ],
   "source": [
    "if __name__ == '__main__':\n",
    "  Xtrain, Ytrain, Xtest, Ytest = get_data()\n",
    "\n",
    "  model = RandomForestRegressor(n_estimators=100) # try 10, 20, 50, 100, 200\n",
    "  model.fit(Xtrain, Ytrain)\n",
    "  predictions = model.predict(Xtest)\n",
    "\n",
    "  # plot predictions vs targets\n",
    "  plt.scatter(Ytest, predictions)\n",
    "  plt.xlabel(\"target\")\n",
    "  plt.ylabel(\"prediction\")\n",
    "  ymin = np.round( min( min(Ytest), min(predictions) ) )\n",
    "  ymax = np.ceil( max( max(Ytest), max(predictions) ) )\n",
    "  print(\"ymin:\", ymin, \"ymax:\", ymax)\n",
    "  r = range(int(ymin), int(ymax) + 1)\n",
    "  plt.plot(r, r)\n",
    "  plt.show()\n",
    "\n",
    "  plt.plot(Ytest, label='targets')\n",
    "  plt.plot(predictions, label='predictions')\n",
    "  plt.legend()\n",
    "  plt.show()\n",
    "\n",
    "  # do a quick baseline test\n",
    "  baseline = LinearRegression()\n",
    "  single_tree = DecisionTreeRegressor()\n",
    "  print(\"CV single tree:\", cross_val_score(single_tree, Xtrain, Ytrain).mean())\n",
    "  print(\"CV baseline:\", cross_val_score(baseline, Xtrain, Ytrain).mean())\n",
    "  print(\"CV forest:\", cross_val_score(model, Xtrain, Ytrain).mean())\n",
    "\n",
    "  # test score\n",
    "  single_tree.fit(Xtrain, Ytrain)\n",
    "  baseline.fit(Xtrain, Ytrain)\n",
    "  print(\"test score single tree:\", single_tree.score(Xtest, Ytest))\n",
    "  print(\"test score baseline:\", baseline.score(Xtest, Ytest))\n",
    "  print(\"test score forest:\", model.score(Xtest, Ytest))"
   ]
  },
  {
   "cell_type": "markdown",
   "metadata": {},
   "source": [
    "### RF v. Bag"
   ]
  },
  {
   "cell_type": "code",
   "execution_count": 33,
   "metadata": {
    "ExecuteTime": {
     "end_time": "2019-04-10T17:40:16.933342Z",
     "start_time": "2019-04-10T17:40:16.930281Z"
    }
   },
   "outputs": [],
   "source": [
    "# from util import BaggedTreeRegressor, BaggedTreeClassifier\n",
    "from sklearn.ensemble import RandomForestRegressor, BaggingRegressor, RandomForestClassifier, BaggingClassifier\n"
   ]
  },
  {
   "cell_type": "code",
   "execution_count": 34,
   "metadata": {
    "ExecuteTime": {
     "end_time": "2019-04-10T17:40:17.285196Z",
     "start_time": "2019-04-10T17:40:17.267425Z"
    }
   },
   "outputs": [],
   "source": [
    "def plot_decision_boundary(X, model):\n",
    "  h = .02  # step size in the mesh\n",
    "  # create a mesh to plot in\n",
    "  x_min, x_max = X[:, 0].min() - 1, X[:, 0].max() + 1\n",
    "  y_min, y_max = X[:, 1].min() - 1, X[:, 1].max() + 1\n",
    "  xx, yy = np.meshgrid(np.arange(x_min, x_max, h),\n",
    "                       np.arange(y_min, y_max, h))\n",
    "\n",
    "\n",
    "  # Plot the decision boundary. For that, we will assign a color to each\n",
    "  # point in the mesh [x_min, m_max]x[y_min, y_max].\n",
    "  Z = model.predict(np.c_[xx.ravel(), yy.ravel()])\n",
    "\n",
    "  # Put the result into a color plot\n",
    "  Z = Z.reshape(xx.shape)\n",
    "  plt.contour(xx, yy, Z, cmap=plt.cm.Paired)\n",
    "\n",
    "\n",
    "class BaggedTreeRegressor:\n",
    "  def __init__(self, n_estimators, max_depth=None):\n",
    "    self.B = n_estimators\n",
    "    self.max_depth = max_depth\n",
    "\n",
    "  def fit(self, X, Y):\n",
    "    N = len(X)\n",
    "    self.models = []\n",
    "    for b in range(self.B):\n",
    "      idx = np.random.choice(N, size=N, replace=True)\n",
    "      Xb = X[idx]\n",
    "      Yb = Y[idx]\n",
    "\n",
    "      model = DecisionTreeRegressor(max_depth=self.max_depth)\n",
    "      model.fit(Xb, Yb)\n",
    "      self.models.append(model)\n",
    "\n",
    "  def predict(self, X):\n",
    "    predictions = np.zeros(len(X))\n",
    "    for model in self.models:\n",
    "      predictions += model.predict(X)\n",
    "    return predictions / self.B\n",
    "\n",
    "  def score(self, X, Y):\n",
    "    d1 = Y - self.predict(X)\n",
    "    d2 = Y - Y.mean()\n",
    "    return 1 - d1.dot(d1) / d2.dot(d2)\n",
    "\n",
    "\n",
    "class BaggedTreeClassifier:\n",
    "  def __init__(self, n_estimators, max_depth=None):\n",
    "    self.B = n_estimators\n",
    "    self.max_depth = max_depth\n",
    "\n",
    "  def fit(self, X, Y):\n",
    "    N = len(X)\n",
    "    self.models = []\n",
    "    for b in range(self.B):\n",
    "      idx = np.random.choice(N, size=N, replace=True)\n",
    "      Xb = X[idx]\n",
    "      Yb = Y[idx]\n",
    "\n",
    "      model = DecisionTreeClassifier(max_depth=self.max_depth)\n",
    "      model.fit(Xb, Yb)\n",
    "      self.models.append(model)\n",
    "\n",
    "  def predict(self, X):\n",
    "    # no need to keep a dictionary since we are doing binary classification\n",
    "    predictions = np.zeros(len(X))\n",
    "    for model in self.models:\n",
    "      predictions += model.predict(X)\n",
    "    return np.round(predictions / self.B)\n",
    "\n",
    "  def score(self, X, Y):\n",
    "    P = self.predict(X)\n",
    "    return np.mean(Y == P)"
   ]
  },
  {
   "cell_type": "code",
   "execution_count": 35,
   "metadata": {
    "ExecuteTime": {
     "end_time": "2019-04-10T17:40:50.375053Z",
     "start_time": "2019-04-10T17:40:17.672613Z"
    }
   },
   "outputs": [
    {
     "name": "stdout",
     "output_type": "stream",
     "text": [
      "num_trees: 0\n",
      "num_trees: 10\n",
      "num_trees: 20\n",
      "num_trees: 30\n",
      "num_trees: 40\n",
      "num_trees: 50\n",
      "num_trees: 60\n",
      "num_trees: 70\n",
      "num_trees: 80\n",
      "num_trees: 90\n",
      "num_trees: 100\n",
      "num_trees: 110\n",
      "num_trees: 120\n",
      "num_trees: 130\n",
      "num_trees: 140\n",
      "num_trees: 150\n",
      "num_trees: 160\n",
      "num_trees: 170\n",
      "num_trees: 180\n",
      "num_trees: 190\n",
      "num_trees: 200\n",
      "num_trees: 210\n",
      "num_trees: 220\n",
      "num_trees: 230\n",
      "num_trees: 240\n",
      "num_trees: 250\n",
      "num_trees: 260\n",
      "num_trees: 270\n",
      "num_trees: 280\n",
      "num_trees: 290\n"
     ]
    },
    {
     "data": {
      "image/png": "[encoded data removed]",
      "text/plain": [
       "<Figure size 432x288 with 1 Axes>"
      ]
     },
     "metadata": {
      "needs_background": "light"
     },
     "output_type": "display_data"
    }
   ],
   "source": [
    "# make simple regression data\n",
    "N = 15\n",
    "D = 100\n",
    "X = (np.random.random((N, D)) - 0.5)*10\n",
    "Y = X.sum(axis=1)**2 + 0.5*np.random.randn(N)\n",
    "Ntrain = N//2\n",
    "Xtrain = X[:Ntrain]\n",
    "Ytrain = Y[:Ntrain]\n",
    "Xtest = X[Ntrain:]\n",
    "Ytest = Y[Ntrain:]\n",
    "\n",
    "# from rf_classification import get_data\n",
    "# X, Y = get_data()\n",
    "# Ntrain = int(0.8*len(X))\n",
    "# Xtrain, Ytrain = X[:Ntrain], Y[:Ntrain]\n",
    "# Xtest, Ytest = X[Ntrain:], Y[Ntrain:]\n",
    "\n",
    "# from rf_regression import get_data\n",
    "# Xtrain, Ytrain, Xtest, Ytest = get_data()\n",
    "\n",
    "T = 300\n",
    "test_error_rf = np.empty(T)\n",
    "test_error_bag = np.empty(T)\n",
    "for num_trees in range(T):\n",
    "  if num_trees == 0:\n",
    "    test_error_rf[num_trees] = None\n",
    "    test_error_bag[num_trees] = None\n",
    "  else:\n",
    "    rf = RandomForestRegressor(n_estimators=num_trees)\n",
    "    # rf = RandomForestClassifier(n_estimators=num_trees)\n",
    "    rf.fit(Xtrain, Ytrain)\n",
    "    test_error_rf[num_trees] = rf.score(Xtest, Ytest)\n",
    "\n",
    "    bg = BaggedTreeRegressor(n_estimators=num_trees)\n",
    "    # bg = BaggedTreeClassifier(n_estimators=num_trees)\n",
    "    bg.fit(Xtrain, Ytrain)\n",
    "    test_error_bag[num_trees] = bg.score(Xtest, Ytest)\n",
    "\n",
    "  if num_trees % 10 == 0:\n",
    "    print(\"num_trees:\", num_trees)\n",
    "\n",
    "plt.plot(test_error_rf, label='rf')\n",
    "plt.plot(test_error_bag, label='bag')\n",
    "plt.legend()\n",
    "plt.show()"
   ]
  },
  {
   "cell_type": "code",
   "execution_count": 36,
   "metadata": {
    "ExecuteTime": {
     "end_time": "2019-04-10T17:40:50.401737Z",
     "start_time": "2019-04-10T17:40:50.377456Z"
    }
   },
   "outputs": [
    {
     "name": "stdout",
     "output_type": "stream",
     "text": [
      "num_trees: 0\n"
     ]
    },
    {
     "ename": "ValueError",
     "evalue": "Unknown label type: 'continuous'",
     "output_type": "error",
     "traceback": [
      "\u001b[0;31m---------------------------------------------------------------------------\u001b[0m",
      "\u001b[0;31mValueError\u001b[0m                                Traceback (most recent call last)",
      "\u001b[0;32m<ipython-input-36-f1b8f5262b6c>\u001b[0m in \u001b[0;36m<module>\u001b[0;34m\u001b[0m\n\u001b[1;32m     51\u001b[0m   \u001b[0;32melse\u001b[0m\u001b[0;34m:\u001b[0m\u001b[0;34m\u001b[0m\u001b[0;34m\u001b[0m\u001b[0m\n\u001b[1;32m     52\u001b[0m     \u001b[0mrf\u001b[0m \u001b[0;34m=\u001b[0m \u001b[0mRandomForestClassifier\u001b[0m\u001b[0;34m(\u001b[0m\u001b[0mn_estimators\u001b[0m\u001b[0;34m=\u001b[0m\u001b[0mnum_trees\u001b[0m\u001b[0;34m)\u001b[0m\u001b[0;34m\u001b[0m\u001b[0;34m\u001b[0m\u001b[0m\n\u001b[0;32m---> 53\u001b[0;31m     \u001b[0mrf\u001b[0m\u001b[0;34m.\u001b[0m\u001b[0mfit\u001b[0m\u001b[0;34m(\u001b[0m\u001b[0mXtrain\u001b[0m\u001b[0;34m,\u001b[0m \u001b[0mYtrain\u001b[0m\u001b[0;34m)\u001b[0m\u001b[0;34m\u001b[0m\u001b[0;34m\u001b[0m\u001b[0m\n\u001b[0m\u001b[1;32m     54\u001b[0m     \u001b[0mtest_error_rf\u001b[0m\u001b[0;34m[\u001b[0m\u001b[0mnum_trees\u001b[0m\u001b[0;34m]\u001b[0m \u001b[0;34m=\u001b[0m \u001b[0mrf\u001b[0m\u001b[0;34m.\u001b[0m\u001b[0mscore\u001b[0m\u001b[0;34m(\u001b[0m\u001b[0mXtest\u001b[0m\u001b[0;34m,\u001b[0m \u001b[0mYtest\u001b[0m\u001b[0;34m)\u001b[0m\u001b[0;34m\u001b[0m\u001b[0;34m\u001b[0m\u001b[0m\n\u001b[1;32m     55\u001b[0m \u001b[0;34m\u001b[0m\u001b[0m\n",
      "\u001b[0;32m~/anaconda3/lib/python3.7/site-packages/sklearn/ensemble/forest.py\u001b[0m in \u001b[0;36mfit\u001b[0;34m(self, X, y, sample_weight)\u001b[0m\n\u001b[1;32m    274\u001b[0m         \u001b[0mself\u001b[0m\u001b[0;34m.\u001b[0m\u001b[0mn_outputs_\u001b[0m \u001b[0;34m=\u001b[0m \u001b[0my\u001b[0m\u001b[0;34m.\u001b[0m\u001b[0mshape\u001b[0m\u001b[0;34m[\u001b[0m\u001b[0;36m1\u001b[0m\u001b[0;34m]\u001b[0m\u001b[0;34m\u001b[0m\u001b[0;34m\u001b[0m\u001b[0m\n\u001b[1;32m    275\u001b[0m \u001b[0;34m\u001b[0m\u001b[0m\n\u001b[0;32m--> 276\u001b[0;31m         \u001b[0my\u001b[0m\u001b[0;34m,\u001b[0m \u001b[0mexpanded_class_weight\u001b[0m \u001b[0;34m=\u001b[0m \u001b[0mself\u001b[0m\u001b[0;34m.\u001b[0m\u001b[0m_validate_y_class_weight\u001b[0m\u001b[0;34m(\u001b[0m\u001b[0my\u001b[0m\u001b[0;34m)\u001b[0m\u001b[0;34m\u001b[0m\u001b[0;34m\u001b[0m\u001b[0m\n\u001b[0m\u001b[1;32m    277\u001b[0m \u001b[0;34m\u001b[0m\u001b[0m\n\u001b[1;32m    278\u001b[0m         \u001b[0;32mif\u001b[0m \u001b[0mgetattr\u001b[0m\u001b[0;34m(\u001b[0m\u001b[0my\u001b[0m\u001b[0;34m,\u001b[0m \u001b[0;34m\"dtype\"\u001b[0m\u001b[0;34m,\u001b[0m \u001b[0;32mNone\u001b[0m\u001b[0;34m)\u001b[0m \u001b[0;34m!=\u001b[0m \u001b[0mDOUBLE\u001b[0m \u001b[0;32mor\u001b[0m \u001b[0;32mnot\u001b[0m \u001b[0my\u001b[0m\u001b[0;34m.\u001b[0m\u001b[0mflags\u001b[0m\u001b[0;34m.\u001b[0m\u001b[0mcontiguous\u001b[0m\u001b[0;34m:\u001b[0m\u001b[0;34m\u001b[0m\u001b[0;34m\u001b[0m\u001b[0m\n",
      "\u001b[0;32m~/anaconda3/lib/python3.7/site-packages/sklearn/ensemble/forest.py\u001b[0m in \u001b[0;36m_validate_y_class_weight\u001b[0;34m(self, y)\u001b[0m\n\u001b[1;32m    474\u001b[0m \u001b[0;34m\u001b[0m\u001b[0m\n\u001b[1;32m    475\u001b[0m     \u001b[0;32mdef\u001b[0m \u001b[0m_validate_y_class_weight\u001b[0m\u001b[0;34m(\u001b[0m\u001b[0mself\u001b[0m\u001b[0;34m,\u001b[0m \u001b[0my\u001b[0m\u001b[0;34m)\u001b[0m\u001b[0;34m:\u001b[0m\u001b[0;34m\u001b[0m\u001b[0;34m\u001b[0m\u001b[0m\n\u001b[0;32m--> 476\u001b[0;31m         \u001b[0mcheck_classification_targets\u001b[0m\u001b[0;34m(\u001b[0m\u001b[0my\u001b[0m\u001b[0;34m)\u001b[0m\u001b[0;34m\u001b[0m\u001b[0;34m\u001b[0m\u001b[0m\n\u001b[0m\u001b[1;32m    477\u001b[0m \u001b[0;34m\u001b[0m\u001b[0m\n\u001b[1;32m    478\u001b[0m         \u001b[0my\u001b[0m \u001b[0;34m=\u001b[0m \u001b[0mnp\u001b[0m\u001b[0;34m.\u001b[0m\u001b[0mcopy\u001b[0m\u001b[0;34m(\u001b[0m\u001b[0my\u001b[0m\u001b[0;34m)\u001b[0m\u001b[0;34m\u001b[0m\u001b[0;34m\u001b[0m\u001b[0m\n",
      "\u001b[0;32m~/anaconda3/lib/python3.7/site-packages/sklearn/utils/multiclass.py\u001b[0m in \u001b[0;36mcheck_classification_targets\u001b[0;34m(y)\u001b[0m\n\u001b[1;32m    169\u001b[0m     if y_type not in ['binary', 'multiclass', 'multiclass-multioutput',\n\u001b[1;32m    170\u001b[0m                       'multilabel-indicator', 'multilabel-sequences']:\n\u001b[0;32m--> 171\u001b[0;31m         \u001b[0;32mraise\u001b[0m \u001b[0mValueError\u001b[0m\u001b[0;34m(\u001b[0m\u001b[0;34m\"Unknown label type: %r\"\u001b[0m \u001b[0;34m%\u001b[0m \u001b[0my_type\u001b[0m\u001b[0;34m)\u001b[0m\u001b[0;34m\u001b[0m\u001b[0;34m\u001b[0m\u001b[0m\n\u001b[0m\u001b[1;32m    172\u001b[0m \u001b[0;34m\u001b[0m\u001b[0m\n\u001b[1;32m    173\u001b[0m \u001b[0;34m\u001b[0m\u001b[0m\n",
      "\u001b[0;31mValueError\u001b[0m: Unknown label type: 'continuous'"
     ]
    }
   ],
   "source": [
    "# from rf_regression import get_data\n",
    "# Xtrain, Ytrain, Xtest, Ytest = get_data()\n",
    "\n",
    "class NotAsRandomForest: # Not as random as a Random Forest\n",
    "  def __init__(self, n_estimators):\n",
    "    self.B = n_estimators\n",
    "\n",
    "  def fit(self, X, Y, M=None):\n",
    "    N, D = X.shape\n",
    "    if M is None:\n",
    "      M = int(np.sqrt(D))\n",
    "\n",
    "    self.models = []\n",
    "    self.features = []\n",
    "    for b in range(self.B):\n",
    "      tree = DecisionTreeClassifier()\n",
    "\n",
    "      # sample features\n",
    "      features = np.random.choice(D, size=M, replace=False)\n",
    "\n",
    "      # sample training samples\n",
    "      idx = np.random.choice(N, size=N, replace=True)\n",
    "      Xb = X[idx]\n",
    "      Yb = Y[idx]\n",
    "\n",
    "      tree.fit(Xb[:, features], Yb)\n",
    "      self.features.append(features)\n",
    "      self.models.append(tree)\n",
    "\n",
    "  def predict(self, X):\n",
    "    N = len(X)\n",
    "    P = np.zeros(N)\n",
    "    for features, tree in zip(self.features, self.models):\n",
    "      P += tree.predict(X[:, features])\n",
    "    return np.round(P / self.B)\n",
    "\n",
    "  def score(self, X, Y):\n",
    "    P = self.predict(X)\n",
    "    return np.mean(P == Y)\n",
    "\n",
    "\n",
    "T = 500\n",
    "test_error_prf = np.empty(T)\n",
    "test_error_rf = np.empty(T)\n",
    "test_error_bag = np.empty(T)\n",
    "for num_trees in range(T):\n",
    "  if num_trees == 0:\n",
    "    test_error_prf[num_trees] = None\n",
    "    test_error_rf[num_trees] = None\n",
    "    test_error_bag[num_trees] = None\n",
    "  else:\n",
    "    rf = RandomForestClassifier(n_estimators=num_trees)\n",
    "    rf.fit(Xtrain, Ytrain)\n",
    "    test_error_rf[num_trees] = rf.score(Xtest, Ytest)\n",
    "\n",
    "    bg = BaggedTreeClassifier(n_estimators=num_trees)\n",
    "    bg.fit(Xtrain, Ytrain)\n",
    "    test_error_bag[num_trees] = bg.score(Xtest, Ytest)\n",
    "\n",
    "    prf = NotAsRandomForest(n_estimators=num_trees)\n",
    "    prf.fit(Xtrain, Ytrain)\n",
    "    test_error_prf[num_trees] = prf.score(Xtest, Ytest)\n",
    "\n",
    "  if num_trees % 10 == 0:\n",
    "    print(\"num_trees:\", num_trees)\n",
    "\n",
    "plt.plot(test_error_rf, label='rf')\n",
    "plt.plot(test_error_prf, label='pseudo rf')\n",
    "plt.plot(test_error_bag, label='bag')\n",
    "plt.legend()\n",
    "plt.show()"
   ]
  },
  {
   "cell_type": "code",
   "execution_count": null,
   "metadata": {},
   "outputs": [],
   "source": []
  }
 ],
 "metadata": {
  "kernelspec": {
   "display_name": "Python 3",
   "language": "python",
   "name": "python3"
  },
  "language_info": {
   "codemirror_mode": {
    "name": "ipython",
    "version": 3
   },
   "file_extension": ".py",
   "mimetype": "text/x-python",
   "name": "python",
   "nbconvert_exporter": "python",
   "pygments_lexer": "ipython3",
   "version": "3.7.2"
  }
 },
 "nbformat": 4,
 "nbformat_minor": 2
}
