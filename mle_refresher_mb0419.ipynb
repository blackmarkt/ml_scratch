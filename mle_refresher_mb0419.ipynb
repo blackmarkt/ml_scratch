{
 "cells": [
  {
   "cell_type": "markdown",
   "metadata": {},
   "source": [
    "# MLE (Maximum Likelihood Estimator)\n",
    "\n",
    "#### TL; DR\n",
    "Develop a deeper understanding of how MLE and Squared Error (LR) relate\n",
    "\n",
    "### Approach \n",
    "\n",
    "*Fitting data to a distribution*\n",
    "\n",
    "Assume a distribution for your data (i.e. Gaussian Normal Dist $p(x_{i})=\\frac{1}{\\sqrt(2\\pi\\sigma^2}e^{-\\frac{1}{2}\\frac{(x_{i}-\\mu)^2}{\\sigma^2}}$\n",
    "\n",
    "Trying to find the \"best\" parameter $\\mu$ for our data given our assumed distribution\n",
    "\n",
    "$$p(X|\\mu)=p(x_{i},x_{2},...x_{N})=\\prod_{i=1}^N\\frac{1}{\\sqrt{2\\pi\\sigma^2}}e^{-\\frac{1}{2}\\frac{(x_{i}-\\mu)^2}{\\sigma^2}}$$\n",
    "\n",
    "Now we can find the partial w.r.t $\\mu$: $\\frac{\\partial{p}}{\\partial{\\mu}}=0$\n",
    "\n",
    "BUT it is easier to solve for $log$:  $\\frac{\\partial{log \\ p}}{\\partial{\\mu}}=0$\n",
    "\n",
    "$$l=log\\prod_{i=1}^N\\frac{1}{\\sqrt{2\\pi\\sigma^2}}e^{-\\frac{1}{2}\\frac{(x_{i}-\\mu)^2}{\\sigma^2}}$$\n",
    "\n",
    "$$l=\\sum_{i=1}^N\\big[-\\frac{1}{2}log(2\\pi\\sigma^2)-\\frac{1}{2}\\frac{(x_{i}-\\mu)^2}{\\sigma^2}\\big]$$\n",
    "\n",
    "$$l=\\sum_{i=1}^N(x_{i}-\\mu)^2$$\n",
    "\n",
    "which is just the squared error for linear regression. This means that: \n",
    "\n",
    "**minimizing the squared error for linear regression = maximizin the likelihood**\n",
    "\n",
    "$$y\\sim N(w^T x, sigma^2)$$\n",
    "\n",
    "or \n",
    "\n",
    "$$y=w^T x + \\epsilon, \\epsilon\\sim N(0,\\sigma^2)$$\n",
    "\n",
    "### How relates to Squared Error Cost Function in LR\n",
    "\n",
    "Recall\n",
    "\n",
    "$$E=\\sum_{i=1}^N(y-\\hat{y_{i}})^2$$\n",
    "\n",
    "So the linear regression is the maximum likelihood solution ot the line of best fit."
   ]
  },
  {
   "cell_type": "markdown",
   "metadata": {},
   "source": []
  }
 ],
 "metadata": {
  "kernelspec": {
   "display_name": "Python 3",
   "language": "python",
   "name": "python3"
  },
  "language_info": {
   "codemirror_mode": {
    "name": "ipython",
    "version": 3
   },
   "file_extension": ".py",
   "mimetype": "text/x-python",
   "name": "python",
   "nbconvert_exporter": "python",
   "pygments_lexer": "ipython3",
   "version": "3.7.2"
  }
 },
 "nbformat": 4,
 "nbformat_minor": 2
}
