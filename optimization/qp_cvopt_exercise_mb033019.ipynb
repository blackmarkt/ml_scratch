{
 "cells": [
  {
   "cell_type": "code",
   "execution_count": 15,
   "metadata": {
    "ExecuteTime": {
     "end_time": "2019-03-30T15:58:48.391608Z",
     "start_time": "2019-03-30T15:58:48.386217Z"
    }
   },
   "outputs": [],
   "source": [
    "import numpy as np\n",
    "from cvxopt import matrix\n",
    "from cvxopt import solvers"
   ]
  },
  {
   "cell_type": "code",
   "execution_count": 20,
   "metadata": {
    "ExecuteTime": {
     "end_time": "2019-03-30T15:59:44.699204Z",
     "start_time": "2019-03-30T15:59:44.684642Z"
    }
   },
   "outputs": [],
   "source": [
    "P = matrix(np.diag([1,0]), tc='d')\n",
    "q = matrix(np.array([3,4]), tc='d')\n",
    "G = matrix(np.array([[-1,0],[0,-1],[-1,-3],[2,5],[3,4]]), tc='d')\n",
    "h = matrix(np.array([0,0,-15,100,80]), tc='d')"
   ]
  },
  {
   "cell_type": "code",
   "execution_count": 21,
   "metadata": {
    "ExecuteTime": {
     "end_time": "2019-03-30T15:59:45.344386Z",
     "start_time": "2019-03-30T15:59:45.335661Z"
    }
   },
   "outputs": [
    {
     "name": "stdout",
     "output_type": "stream",
     "text": [
      "     pcost       dcost       gap    pres   dres\n",
      " 0:  1.0780e+02 -7.6366e+02  9e+02  0e+00  4e+01\n",
      " 1:  9.3245e+01  9.7637e+00  8e+01  1e-16  3e+00\n",
      " 2:  6.7311e+01  3.2553e+01  3e+01  1e-16  1e+00\n",
      " 3:  2.6071e+01  1.5068e+01  1e+01  1e-16  7e-01\n",
      " 4:  3.7092e+01  2.3152e+01  1e+01  2e-16  4e-01\n",
      " 5:  2.5352e+01  1.8652e+01  7e+00  2e-16  3e-16\n",
      " 6:  2.0062e+01  1.9974e+01  9e-02  5e-17  1e-16\n",
      " 7:  2.0001e+01  2.0000e+01  9e-04  8e-17  4e-16\n",
      " 8:  2.0000e+01  2.0000e+01  9e-06  9e-17  2e-16\n",
      "Optimal solution found.\n"
     ]
    }
   ],
   "source": [
    "sol = solvers.qp(P,q,G,h)"
   ]
  },
  {
   "cell_type": "code",
   "execution_count": 25,
   "metadata": {
    "ExecuteTime": {
     "end_time": "2019-03-30T16:00:17.966411Z",
     "start_time": "2019-03-30T16:00:17.960357Z"
    }
   },
   "outputs": [
    {
     "name": "stdout",
     "output_type": "stream",
     "text": [
      "[ 7.13e-07]\n",
      "[ 5.00e+00]\n",
      "\n",
      "20.0000061731\n"
     ]
    }
   ],
   "source": [
    "print(sol['x'])\n",
    "print(sol['primal objective'])"
   ]
  },
  {
   "cell_type": "code",
   "execution_count": null,
   "metadata": {},
   "outputs": [],
   "source": []
  }
 ],
 "metadata": {
  "kernelspec": {
   "display_name": "Python 2",
   "language": "python",
   "name": "python2"
  },
  "language_info": {
   "codemirror_mode": {
    "name": "ipython",
    "version": 2
   },
   "file_extension": ".py",
   "mimetype": "text/x-python",
   "name": "python",
   "nbconvert_exporter": "python",
   "pygments_lexer": "ipython2",
   "version": "2.7.15"
  }
 },
 "nbformat": 4,
 "nbformat_minor": 2
}
