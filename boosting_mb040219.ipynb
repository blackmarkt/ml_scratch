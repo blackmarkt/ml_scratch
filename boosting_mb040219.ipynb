{
 "cells": [
  {
   "cell_type": "code",
   "execution_count": 9,
   "metadata": {
    "ExecuteTime": {
     "end_time": "2019-04-02T16:52:21.904560Z",
     "start_time": "2019-04-02T16:52:21.700580Z"
    }
   },
   "outputs": [],
   "source": [
    "import numpy as np\n",
    "import pandas as pd\n",
    "from scipy.stats import norm, t\n",
    "\n",
    "import matplotlib.pyplot as plt\n",
    "%matplotlib inline"
   ]
  },
  {
   "cell_type": "code",
   "execution_count": 2,
   "metadata": {
    "ExecuteTime": {
     "end_time": "2019-04-02T16:42:56.858853Z",
     "start_time": "2019-04-02T16:42:56.850079Z"
    }
   },
   "outputs": [],
   "source": [
    "B = 200\n",
    "N = 20\n",
    "X = np.random.randn(N)"
   ]
  },
  {
   "cell_type": "code",
   "execution_count": 3,
   "metadata": {
    "ExecuteTime": {
     "end_time": "2019-04-02T16:43:09.128774Z",
     "start_time": "2019-04-02T16:43:09.124910Z"
    }
   },
   "outputs": [
    {
     "name": "stdout",
     "output_type": "stream",
     "text": [
      "sample mean of X: 0.13888088058170267\n"
     ]
    }
   ],
   "source": [
    "print(\"sample mean of X:\", X.mean())"
   ]
  },
  {
   "cell_type": "code",
   "execution_count": 4,
   "metadata": {
    "ExecuteTime": {
     "end_time": "2019-04-02T16:43:57.534821Z",
     "start_time": "2019-04-02T16:43:57.523073Z"
    }
   },
   "outputs": [],
   "source": [
    "individual_estimates = np.empty(B)\n",
    "\n",
    "for b in range(B):\n",
    "    sample = np.random.choice(X, size=N)\n",
    "    individual_estimates[b] = sample.mean()"
   ]
  },
  {
   "cell_type": "code",
   "execution_count": 5,
   "metadata": {
    "ExecuteTime": {
     "end_time": "2019-04-02T16:50:23.969399Z",
     "start_time": "2019-04-02T16:50:23.956277Z"
    }
   },
   "outputs": [
    {
     "name": "stdout",
     "output_type": "stream",
     "text": [
      "-0.28897881056708297 0.5408440315108274\n"
     ]
    }
   ],
   "source": [
    "bmean = individual_estimates.mean()\n",
    "bstd = individual_estimates.std()\n",
    "\n",
    "lower = bmean + norm.ppf(0.025)*bstd\n",
    "upper = bmean + norm.ppf(0.975)*bstd\n",
    "\n",
    "print(lower, upper)"
   ]
  },
  {
   "cell_type": "code",
   "execution_count": 11,
   "metadata": {
    "ExecuteTime": {
     "end_time": "2019-04-02T16:52:39.425416Z",
     "start_time": "2019-04-02T16:52:39.419848Z"
    }
   },
   "outputs": [
    {
     "name": "stdout",
     "output_type": "stream",
     "text": [
      "-0.2485865455925616 0.5263483067559669\n"
     ]
    }
   ],
   "source": [
    "lower2 = X.mean() + norm.ppf(0.025)*X.std() / np.sqrt(N)\n",
    "upper2 = X.mean() + norm.ppf(0.975)*X.std() / np.sqrt(N)\n",
    "print(lower2, upper2)"
   ]
  },
  {
   "cell_type": "code",
   "execution_count": 12,
   "metadata": {
    "ExecuteTime": {
     "end_time": "2019-04-02T16:52:45.115855Z",
     "start_time": "2019-04-02T16:52:45.111746Z"
    }
   },
   "outputs": [
    {
     "name": "stdout",
     "output_type": "stream",
     "text": [
      "bootstrap mean of X: 0.1259326104718723\n"
     ]
    }
   ],
   "source": [
    "print(f\"bootstrap mean of X:\", bmean)"
   ]
  },
  {
   "cell_type": "code",
   "execution_count": 13,
   "metadata": {
    "ExecuteTime": {
     "end_time": "2019-04-02T16:53:09.657600Z",
     "start_time": "2019-04-02T16:53:09.446849Z"
    }
   },
   "outputs": [
    {
     "data": {
      "image/png": "[encoded data removed]",
      "text/plain": [
       "<Figure size 432x288 with 1 Axes>"
      ]
     },
     "metadata": {
      "needs_background": "light"
     },
     "output_type": "display_data"
    }
   ],
   "source": [
    "plt.hist(individual_estimates, bins=20)\n",
    "plt.axvline(x=lower, linestyle='--', color='g', label=\"lower bound for 95%% CI (bootstrap)\")\n",
    "plt.axvline(x=upper, linestyle='--', color='g', label=\"upper bound for 95%% CI (bootstrap)\")\n",
    "plt.axvline(x=lower2, linestyle='--', color='r', label=\"lower bound for 95%% CI\")\n",
    "plt.axvline(x=upper2, linestyle='--', color='r', label=\"upper bound for 95%% CI\")\n",
    "plt.legend()\n",
    "plt.show()"
   ]
  },
  {
   "cell_type": "code",
   "execution_count": null,
   "metadata": {},
   "outputs": [],
   "source": []
  }
 ],
 "metadata": {
  "kernelspec": {
   "display_name": "Python 3",
   "language": "python",
   "name": "python3"
  },
  "language_info": {
   "codemirror_mode": {
    "name": "ipython",
    "version": 3
   },
   "file_extension": ".py",
   "mimetype": "text/x-python",
   "name": "python",
   "nbconvert_exporter": "python",
   "pygments_lexer": "ipython3",
   "version": "3.7.2"
  }
 },
 "nbformat": 4,
 "nbformat_minor": 2
}
