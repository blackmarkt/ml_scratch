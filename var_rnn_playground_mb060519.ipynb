{
 "cells": [
  {
   "cell_type": "code",
   "execution_count": 337,
   "metadata": {
    "ExecuteTime": {
     "end_time": "2019-06-06T17:43:02.954034Z",
     "start_time": "2019-06-06T17:43:02.885095Z"
    }
   },
   "outputs": [
    {
     "name": "stdout",
     "output_type": "stream",
     "text": [
      "The autoreload extension is already loaded. To reload it, use:\n",
      "  %reload_ext autoreload\n"
     ]
    }
   ],
   "source": [
    "%load_ext autoreload\n",
    "%autoreload 2\n",
    "\n",
    "import numpy as np\n",
    "import pandas as pd\n",
    "\n",
    "import tensorflow as tf\n",
    "from tensorflow.keras.models import Sequential\n",
    "from tensorflow.keras.layers import Dense, Dropout, LSTM, CuDNNLSTM, BatchNormalization\n",
    "from tensorflow.keras.callbacks import TensorBoard\n",
    "from tensorflow.keras.callbacks import ModelCheckpoint\n",
    "\n",
    "from math import sqrt\n",
    "from sklearn.metrics import mean_squared_error\n",
    "\n",
    "from fredapi import Fred\n",
    "fred = Fred(fred_key)\n",
    "\n",
    "from qreit.models.api_config import *\n",
    "fred_key = fred_API\n",
    "\n",
    "import time\n",
    "\n",
    "import matplotlib.pyplot as plt\n",
    "%matplotlib inline"
   ]
  },
  {
   "cell_type": "code",
   "execution_count": 55,
   "metadata": {
    "ExecuteTime": {
     "end_time": "2019-06-05T20:51:25.908281Z",
     "start_time": "2019-06-05T20:51:25.745910Z"
    }
   },
   "outputs": [
    {
     "data": {
      "image/png": "[encoded data removed]",
      "text/plain": [
       "<Figure size 432x288 with 1 Axes>"
      ]
     },
     "metadata": {
      "needs_background": "light"
     },
     "output_type": "display_data"
    }
   ],
   "source": [
    "UMCSENT_df = fred.get_series('UMCSENT').to_frame()\n",
    "UMCSENT_df.columns = ['UMCSENT']\n",
    "UMCSENT_80_df = UMCSENT_df[UMCSENT_df.index >= '1980-01']\n",
    "\n",
    "plt.plot(UMCSENT_80_df)\n",
    "plt.show()"
   ]
  },
  {
   "cell_type": "code",
   "execution_count": 56,
   "metadata": {
    "ExecuteTime": {
     "end_time": "2019-06-05T20:51:26.223231Z",
     "start_time": "2019-06-05T20:51:26.028940Z"
    }
   },
   "outputs": [
    {
     "name": "stderr",
     "output_type": "stream",
     "text": [
      "/Users/marktblack/anaconda3/lib/python3.7/site-packages/ipykernel_launcher.py:1: SettingWithCopyWarning: \n",
      "A value is trying to be set on a copy of a slice from a DataFrame.\n",
      "Try using .loc[row_indexer,col_indexer] = value instead\n",
      "\n",
      "See the caveats in the documentation: http://pandas.pydata.org/pandas-docs/stable/indexing.html#indexing-view-versus-copy\n",
      "  \"\"\"Entry point for launching an IPython kernel.\n",
      "/Users/marktblack/anaconda3/lib/python3.7/site-packages/ipykernel_launcher.py:2: SettingWithCopyWarning: \n",
      "A value is trying to be set on a copy of a slice from a DataFrame\n",
      "\n",
      "See the caveats in the documentation: http://pandas.pydata.org/pandas-docs/stable/indexing.html#indexing-view-versus-copy\n",
      "  \n"
     ]
    }
   ],
   "source": [
    "UMCSENT_80_df['UMCSENT_1'] = UMCSENT_80_df.shift(-1)\n",
    "UMCSENT_80_df.dropna(inplace=True)"
   ]
  },
  {
   "cell_type": "code",
   "execution_count": 192,
   "metadata": {
    "ExecuteTime": {
     "end_time": "2019-06-06T02:19:18.724378Z",
     "start_time": "2019-06-06T02:19:18.679285Z"
    }
   },
   "outputs": [],
   "source": [
    "from sklearn.preprocessing import StandardScaler, MinMaxScaler\n",
    "\n",
    "scaler = StandardScaler()\n",
    "\n",
    "UMCSENT_80_X_scaled = scaler.fit_transform(UMCSENT_80_df['UMCSENT'].to_frame())\n",
    "UMCSENT_80_y_scaled = scaler.fit_transform(UMCSENT_80_df['UMCSENT_1'].to_frame())"
   ]
  },
  {
   "cell_type": "code",
   "execution_count": 449,
   "metadata": {
    "ExecuteTime": {
     "end_time": "2019-06-08T00:38:13.153789Z",
     "start_time": "2019-06-08T00:38:13.057217Z"
    }
   },
   "outputs": [],
   "source": [
    "test = int(len(UMCSENT_80_X_scaled)*0.90)\n",
    "\n",
    "X_train_scaled = UMCSENT_80_X_scaled[:test]\n",
    "y_train_scaled = UMCSENT_80_y_scaled[:test]\n",
    "y_train = UMCSENT_80_df['UMCSENT_1'][:test]\n",
    "\n",
    "X_test_scaled = UMCSENT_80_X_scaled[test:]\n",
    "y_test_scaled = UMCSENT_80_y_scaled[test:]\n",
    "y_test = UMCSENT_80_df['UMCSENT_1'][test:]"
   ]
  },
  {
   "cell_type": "code",
   "execution_count": 450,
   "metadata": {
    "ExecuteTime": {
     "end_time": "2019-06-08T00:38:13.562693Z",
     "start_time": "2019-06-08T00:38:13.525839Z"
    }
   },
   "outputs": [],
   "source": [
    "X_train = np.reshape(X_train_scaled, \n",
    "                     (X_train_scaled.shape[0], 1, X_train_scaled.shape[1]))\n",
    "# y_train = np.reshape(y_train_scaled, \n",
    "#                      (y_train_scaled.shape[0], 1, y_train_scaled.shape[1]))\n",
    "\n",
    "X_test = np.reshape(X_test_scaled, \n",
    "                    (X_test_scaled.shape[0], 1, X_test_scaled.shape[1]))\n",
    "# y_test = np.reshape(y_test_scaled, \n",
    "#                     (y_test_scaled.shape[0], 1, y_test_scaled.shape[1]))"
   ]
  },
  {
   "cell_type": "code",
   "execution_count": 451,
   "metadata": {
    "ExecuteTime": {
     "end_time": "2019-06-08T00:38:13.873487Z",
     "start_time": "2019-06-08T00:38:13.841349Z"
    }
   },
   "outputs": [],
   "source": [
    "n_lookback = 1"
   ]
  },
  {
   "cell_type": "code",
   "execution_count": 452,
   "metadata": {
    "ExecuteTime": {
     "end_time": "2019-06-08T00:38:14.201262Z",
     "start_time": "2019-06-08T00:38:14.158329Z"
    }
   },
   "outputs": [],
   "source": [
    "# model = Sequential()\n",
    "# model.add(LSTM(128, input_shape=(n_lookback,X_train.shape[2]), \n",
    "#                activation='relu', return_sequences=True))\n",
    "# # model.add(Dropout(0.2))\n",
    "# # model.add(BatchNormalization())  #normalizes activation outputs, same reason you want to normalize your input data.\n",
    "\n",
    "# model.add(LSTM(128, activation='relu', return_sequences=True))\n",
    "# model.add(Dropout(0.1))\n",
    "# model.add(BatchNormalization())\n",
    "\n",
    "# model.add(LSTM(128, activation='relu'))\n",
    "# model.add(Dropout(0.2))\n",
    "# model.add(BatchNormalization())\n",
    "\n",
    "# model.add(Dense(32, activation='relu'))\n",
    "# model.add(Dropout(0.2))\n",
    "\n",
    "# model.add(Dense(1, activation='softmax'))\n",
    "\n",
    "# model.compile(loss='mae', optimizer='RMSprop')"
   ]
  },
  {
   "cell_type": "code",
   "execution_count": 453,
   "metadata": {
    "ExecuteTime": {
     "end_time": "2019-06-08T00:38:16.979357Z",
     "start_time": "2019-06-08T00:38:14.471744Z"
    }
   },
   "outputs": [],
   "source": [
    "model = Sequential()\n",
    "model.add(LSTM(60, dropout=0.1, recurrent_dropout=0.2, return_sequences=True,\n",
    "              input_shape=(n_lookback, X_train.shape[2])))\n",
    "# model.add(Dropout(0.2))\n",
    "\n",
    "model.add(LSTM(32, activation='relu'))\n",
    "model.add(Dropout(0.1))\n",
    "model.add(Dense(X_train.shape[2]))\n",
    "\n",
    "# opt = tf.keras.optimizers.RMSprop(lr=0.001)\n",
    "\n",
    "model.compile(loss='mean_squared_error', optimizer='RMSprop', metrics=['mae'])"
   ]
  },
  {
   "cell_type": "code",
   "execution_count": 454,
   "metadata": {
    "ExecuteTime": {
     "end_time": "2019-06-08T00:38:17.017260Z",
     "start_time": "2019-06-08T00:38:16.981754Z"
    }
   },
   "outputs": [],
   "source": [
    "def rnn_hyperparameter_tune(X_train, y_train_scaled, n_epochs, batchSize):\n",
    "    model.fit(X_train, \n",
    "              y_train_scaled, \n",
    "              epochs=n_epochs,\n",
    "              batch_size=batchSize, \n",
    "              verbose=0,\n",
    "              shuffle=False)\n",
    "    \n",
    "    yhat_scale = model.predict(X_test)\n",
    "    \n",
    "    y_hat_inv_scaled = scaler.inverse_transform(yhat_scale)\n",
    "    temp_root_sq_mu_err = sqrt(mean_squared_error(y_test.values, y_hat_inv_scaled))\n",
    "    temp_root_sq_mu_err_per = round(sqrt(mean_squared_error(y_test.values, y_hat_inv_scaled))/y_test.values.mean()*100,4)\n",
    "    \n",
    "    print(f'# of Epochs, Batch Size: {n_epochs}, {batchSize}')\n",
    "    print('Test RMSE: %.3f' % temp_root_sq_mu_err)\n",
    "    print(f'RMSE %: {temp_root_sq_mu_err_per}%\\n')\n",
    "    \n",
    "    return temp_root_sq_mu_err"
   ]
  },
  {
   "cell_type": "code",
   "execution_count": 455,
   "metadata": {
    "ExecuteTime": {
     "end_time": "2019-06-08T00:39:41.160426Z",
     "start_time": "2019-06-08T00:38:17.019125Z"
    }
   },
   "outputs": [
    {
     "name": "stdout",
     "output_type": "stream",
     "text": [
      "# of Epochs, Batch Size: 100, 40\n",
      "Test RMSE: 3.023\n",
      "RMSE %: 3.1843%\n",
      "\n",
      "# of Epochs, Batch Size: 200, 40\n",
      "Test RMSE: 2.806\n",
      "RMSE %: 2.9554%\n",
      "\n",
      "# of Epochs, Batch Size: 300, 40\n",
      "Test RMSE: 2.861\n",
      "RMSE %: 3.0131%\n",
      "\n",
      "# of Epochs, Batch Size: 400, 40\n",
      "Test RMSE: 2.863\n",
      "RMSE %: 3.0154%\n",
      "\n"
     ]
    }
   ],
   "source": [
    "root_sq_mu_err_ls = []\n",
    "\n",
    "for epochs in range(100, 500, 100):\n",
    "    root_sq_mu_err_ls.append(rnn_hyperparameter_tune(X_train, y_train_scaled, epochs, 40))"
   ]
  },
  {
   "cell_type": "code",
   "execution_count": 456,
   "metadata": {
    "ExecuteTime": {
     "end_time": "2019-06-08T00:39:52.691105Z",
     "start_time": "2019-06-08T00:39:41.163432Z"
    }
   },
   "outputs": [
    {
     "data": {
      "text/plain": [
       "<tensorflow.python.keras.callbacks.History at 0x18090a278>"
      ]
     },
     "execution_count": 456,
     "metadata": {},
     "output_type": "execute_result"
    }
   ],
   "source": [
    "N_EPOCHS = 200\n",
    "batchSize = 40\n",
    "\n",
    "model.fit(X_train, \n",
    "          y_train_scaled, \n",
    "          epochs=N_EPOCHS,\n",
    "          batch_size=batchSize, \n",
    "          verbose=0,\n",
    "          shuffle=False)\n"
   ]
  },
  {
   "cell_type": "code",
   "execution_count": 430,
   "metadata": {
    "ExecuteTime": {
     "end_time": "2019-06-07T18:04:16.281805Z",
     "start_time": "2019-06-07T18:04:16.237841Z"
    }
   },
   "outputs": [],
   "source": [
    "tensorboard = TensorBoard(log_dir=\"logs/{}\".format('test'))"
   ]
  },
  {
   "cell_type": "code",
   "execution_count": 433,
   "metadata": {
    "ExecuteTime": {
     "end_time": "2019-06-07T18:20:29.982487Z",
     "start_time": "2019-06-07T18:20:26.118896Z"
    }
   },
   "outputs": [],
   "source": [
    "yhat_scale = model.predict(X_test)\n",
    "# yhat_scale"
   ]
  },
  {
   "cell_type": "code",
   "execution_count": 434,
   "metadata": {
    "ExecuteTime": {
     "end_time": "2019-06-07T18:20:30.019349Z",
     "start_time": "2019-06-07T18:20:29.984600Z"
    }
   },
   "outputs": [],
   "source": [
    "inv_yhat = np.concatenate((X_test_scaled, yhat_scale), axis=1)\n",
    "inv_yhat = scaler.inverse_transform(inv_yhat)"
   ]
  },
  {
   "cell_type": "code",
   "execution_count": 435,
   "metadata": {
    "ExecuteTime": {
     "end_time": "2019-06-07T18:20:30.068645Z",
     "start_time": "2019-06-07T18:20:30.022196Z"
    }
   },
   "outputs": [
    {
     "data": {
      "text/html": [
       "<div>\n",
       "<style scoped>\n",
       "    .dataframe tbody tr th:only-of-type {\n",
       "        vertical-align: middle;\n",
       "    }\n",
       "\n",
       "    .dataframe tbody tr th {\n",
       "        vertical-align: top;\n",
       "    }\n",
       "\n",
       "    .dataframe thead th {\n",
       "        text-align: right;\n",
       "    }\n",
       "</style>\n",
       "<table border=\"1\" class=\"dataframe\">\n",
       "  <thead>\n",
       "    <tr style=\"text-align: right;\">\n",
       "      <th></th>\n",
       "      <th>preds</th>\n",
       "      <th>actual</th>\n",
       "      <th>diff</th>\n",
       "    </tr>\n",
       "  </thead>\n",
       "  <tbody>\n",
       "    <tr>\n",
       "      <th>0</th>\n",
       "      <td>95.767189</td>\n",
       "      <td>97.1</td>\n",
       "      <td>-1.332811</td>\n",
       "    </tr>\n",
       "    <tr>\n",
       "      <th>1</th>\n",
       "      <td>95.842339</td>\n",
       "      <td>95.0</td>\n",
       "      <td>0.842339</td>\n",
       "    </tr>\n",
       "    <tr>\n",
       "      <th>2</th>\n",
       "      <td>94.288483</td>\n",
       "      <td>93.4</td>\n",
       "      <td>0.888483</td>\n",
       "    </tr>\n",
       "    <tr>\n",
       "      <th>3</th>\n",
       "      <td>93.162239</td>\n",
       "      <td>96.8</td>\n",
       "      <td>-3.637761</td>\n",
       "    </tr>\n",
       "    <tr>\n",
       "      <th>4</th>\n",
       "      <td>95.617210</td>\n",
       "      <td>95.1</td>\n",
       "      <td>0.517210</td>\n",
       "    </tr>\n",
       "    <tr>\n",
       "      <th>5</th>\n",
       "      <td>94.361275</td>\n",
       "      <td>100.7</td>\n",
       "      <td>-6.338725</td>\n",
       "    </tr>\n",
       "    <tr>\n",
       "      <th>6</th>\n",
       "      <td>98.618210</td>\n",
       "      <td>98.5</td>\n",
       "      <td>0.118210</td>\n",
       "    </tr>\n",
       "    <tr>\n",
       "      <th>7</th>\n",
       "      <td>96.906059</td>\n",
       "      <td>95.9</td>\n",
       "      <td>1.006059</td>\n",
       "    </tr>\n",
       "    <tr>\n",
       "      <th>8</th>\n",
       "      <td>94.948036</td>\n",
       "      <td>95.7</td>\n",
       "      <td>-0.751964</td>\n",
       "    </tr>\n",
       "    <tr>\n",
       "      <th>9</th>\n",
       "      <td>94.800621</td>\n",
       "      <td>99.7</td>\n",
       "      <td>-4.899379</td>\n",
       "    </tr>\n",
       "    <tr>\n",
       "      <th>10</th>\n",
       "      <td>97.834122</td>\n",
       "      <td>101.4</td>\n",
       "      <td>-3.565878</td>\n",
       "    </tr>\n",
       "    <tr>\n",
       "      <th>11</th>\n",
       "      <td>99.172493</td>\n",
       "      <td>98.8</td>\n",
       "      <td>0.372493</td>\n",
       "    </tr>\n",
       "    <tr>\n",
       "      <th>12</th>\n",
       "      <td>97.136711</td>\n",
       "      <td>98.0</td>\n",
       "      <td>-0.863289</td>\n",
       "    </tr>\n",
       "    <tr>\n",
       "      <th>13</th>\n",
       "      <td>96.523735</td>\n",
       "      <td>98.2</td>\n",
       "      <td>-1.676265</td>\n",
       "    </tr>\n",
       "    <tr>\n",
       "      <th>14</th>\n",
       "      <td>96.676346</td>\n",
       "      <td>97.9</td>\n",
       "      <td>-1.223654</td>\n",
       "    </tr>\n",
       "    <tr>\n",
       "      <th>15</th>\n",
       "      <td>96.447586</td>\n",
       "      <td>96.2</td>\n",
       "      <td>0.247586</td>\n",
       "    </tr>\n",
       "    <tr>\n",
       "      <th>16</th>\n",
       "      <td>95.170044</td>\n",
       "      <td>100.1</td>\n",
       "      <td>-4.929956</td>\n",
       "    </tr>\n",
       "    <tr>\n",
       "      <th>17</th>\n",
       "      <td>98.146629</td>\n",
       "      <td>98.6</td>\n",
       "      <td>-0.453371</td>\n",
       "    </tr>\n",
       "    <tr>\n",
       "      <th>18</th>\n",
       "      <td>96.982834</td>\n",
       "      <td>97.5</td>\n",
       "      <td>-0.517166</td>\n",
       "    </tr>\n",
       "    <tr>\n",
       "      <th>19</th>\n",
       "      <td>96.144081</td>\n",
       "      <td>98.3</td>\n",
       "      <td>-2.155919</td>\n",
       "    </tr>\n",
       "    <tr>\n",
       "      <th>20</th>\n",
       "      <td>96.752808</td>\n",
       "      <td>91.2</td>\n",
       "      <td>5.552808</td>\n",
       "    </tr>\n",
       "    <tr>\n",
       "      <th>21</th>\n",
       "      <td>91.800880</td>\n",
       "      <td>93.8</td>\n",
       "      <td>-1.999120</td>\n",
       "    </tr>\n",
       "    <tr>\n",
       "      <th>22</th>\n",
       "      <td>93.424683</td>\n",
       "      <td>98.4</td>\n",
       "      <td>-4.975317</td>\n",
       "    </tr>\n",
       "    <tr>\n",
       "      <th>23</th>\n",
       "      <td>96.829384</td>\n",
       "      <td>97.2</td>\n",
       "      <td>-0.370616</td>\n",
       "    </tr>\n",
       "  </tbody>\n",
       "</table>\n",
       "</div>"
      ],
      "text/plain": [
       "        preds  actual      diff\n",
       "0   95.767189    97.1 -1.332811\n",
       "1   95.842339    95.0  0.842339\n",
       "2   94.288483    93.4  0.888483\n",
       "3   93.162239    96.8 -3.637761\n",
       "4   95.617210    95.1  0.517210\n",
       "5   94.361275   100.7 -6.338725\n",
       "6   98.618210    98.5  0.118210\n",
       "7   96.906059    95.9  1.006059\n",
       "8   94.948036    95.7 -0.751964\n",
       "9   94.800621    99.7 -4.899379\n",
       "10  97.834122   101.4 -3.565878\n",
       "11  99.172493    98.8  0.372493\n",
       "12  97.136711    98.0 -0.863289\n",
       "13  96.523735    98.2 -1.676265\n",
       "14  96.676346    97.9 -1.223654\n",
       "15  96.447586    96.2  0.247586\n",
       "16  95.170044   100.1 -4.929956\n",
       "17  98.146629    98.6 -0.453371\n",
       "18  96.982834    97.5 -0.517166\n",
       "19  96.144081    98.3 -2.155919\n",
       "20  96.752808    91.2  5.552808\n",
       "21  91.800880    93.8 -1.999120\n",
       "22  93.424683    98.4 -4.975317\n",
       "23  96.829384    97.2 -0.370616"
      ]
     },
     "execution_count": 435,
     "metadata": {},
     "output_type": "execute_result"
    }
   ],
   "source": [
    "y_hat_inv_scaled = scaler.inverse_transform(yhat_scale)\n",
    "preds_actuals_df = pd.DataFrame(y_test.values, \n",
    "                                y_hat_inv_scaled.flatten()).reset_index(drop=False)\n",
    "preds_actuals_df.columns = ['preds', 'actual']\n",
    "preds_actuals_df.assign(diff=preds_actuals_df.preds-preds_actuals_df.actual)\n"
   ]
  },
  {
   "cell_type": "code",
   "execution_count": 436,
   "metadata": {
    "ExecuteTime": {
     "end_time": "2019-06-07T18:20:30.104010Z",
     "start_time": "2019-06-07T18:20:30.070922Z"
    }
   },
   "outputs": [
    {
     "data": {
      "text/plain": [
       "array([[95.76719 ],\n",
       "       [95.84234 ],\n",
       "       [94.28848 ],\n",
       "       [93.16224 ],\n",
       "       [95.61721 ],\n",
       "       [94.361275],\n",
       "       [98.61821 ],\n",
       "       [96.90606 ],\n",
       "       [94.94804 ],\n",
       "       [94.80062 ],\n",
       "       [97.83412 ],\n",
       "       [99.17249 ],\n",
       "       [97.13671 ],\n",
       "       [96.523735],\n",
       "       [96.676346],\n",
       "       [96.447586],\n",
       "       [95.170044],\n",
       "       [98.14663 ],\n",
       "       [96.982834],\n",
       "       [96.14408 ],\n",
       "       [96.75281 ],\n",
       "       [91.80088 ],\n",
       "       [93.42468 ],\n",
       "       [96.829384]], dtype=float32)"
      ]
     },
     "execution_count": 436,
     "metadata": {},
     "output_type": "execute_result"
    }
   ],
   "source": [
    "y_hat_inv_scaled"
   ]
  },
  {
   "cell_type": "code",
   "execution_count": 437,
   "metadata": {
    "ExecuteTime": {
     "end_time": "2019-06-07T18:20:30.141635Z",
     "start_time": "2019-06-07T18:20:30.105913Z"
    }
   },
   "outputs": [
    {
     "name": "stdout",
     "output_type": "stream",
     "text": [
      "Test RMSE: 2.811\n",
      "RMSE %: 2.8913%\n"
     ]
    }
   ],
   "source": [
    "from math import sqrt\n",
    "from sklearn.metrics import mean_squared_error\n",
    "\n",
    "print('Test RMSE: %.3f' % sqrt(mean_squared_error(y_test.values,\n",
    "                                                 y_hat_inv_scaled)))\n",
    "print(f'RMSE %: {round(sqrt(mean_squared_error(y_test.values, y_hat_inv_scaled))/y_test.values.mean()*100,4)}%')"
   ]
  },
  {
   "cell_type": "markdown",
   "metadata": {},
   "source": [
    "### beer"
   ]
  },
  {
   "cell_type": "code",
   "execution_count": 501,
   "metadata": {
    "ExecuteTime": {
     "end_time": "2019-06-08T00:55:13.879593Z",
     "start_time": "2019-06-08T00:55:13.319155Z"
    }
   },
   "outputs": [
    {
     "data": {
      "image/png": "[encoded data removed]",
      "text/plain": [
       "<Figure size 432x288 with 1 Axes>"
      ]
     },
     "metadata": {
      "needs_background": "light"
     },
     "output_type": "display_data"
    }
   ],
   "source": [
    "beer_df = fred.get_series('MRTSSM4453USN').to_frame()\n",
    "beer_df.columns = ['beer']\n",
    "beer_df = beer_df[beer_df.index >= '1980-01']\n",
    "beer_df['beer_1'] = beer_df.shift(-1)\n",
    "plt.plot(beer_df['beer'])\n",
    "plt.show()"
   ]
  },
  {
   "cell_type": "code",
   "execution_count": 502,
   "metadata": {
    "ExecuteTime": {
     "end_time": "2019-06-08T00:55:18.061726Z",
     "start_time": "2019-06-08T00:55:18.017657Z"
    }
   },
   "outputs": [],
   "source": [
    "beer_UMCSENT_df = pd.merge(beer_df, UMCSENT_80_df, \n",
    "                            how='left', right_index=True, left_index=True).dropna()"
   ]
  },
  {
   "cell_type": "code",
   "execution_count": 762,
   "metadata": {
    "ExecuteTime": {
     "end_time": "2019-06-08T22:28:01.871805Z",
     "start_time": "2019-06-08T22:28:01.831497Z"
    }
   },
   "outputs": [],
   "source": [
    "from sklearn.preprocessing import StandardScaler, MinMaxScaler\n",
    "\n",
    "scaler = StandardScaler()\n",
    "\n",
    "beer_UMCSENT_X_scaled = scaler.fit_transform(beer_UMCSENT_df[['beer', 'UMCSENT']])\n",
    "beer_UMCSENT_y_scaled = scaler.fit_transform(beer_UMCSENT_df[['UMCSENT_1']])"
   ]
  },
  {
   "cell_type": "code",
   "execution_count": 763,
   "metadata": {
    "ExecuteTime": {
     "end_time": "2019-06-08T22:28:02.509922Z",
     "start_time": "2019-06-08T22:28:02.473091Z"
    }
   },
   "outputs": [],
   "source": [
    "test = int(len(beer_UMCSENT_X_scaled)*0.95)\n",
    "\n",
    "X_train_scaled = beer_UMCSENT_X_scaled[:test]\n",
    "y_train_scaled = beer_UMCSENT_y_scaled[:test]\n",
    "y_train = beer_UMCSENT_df[['beer_1','UMCSENT_1']][:test]\n",
    "\n",
    "X_test_scaled = beer_UMCSENT_X_scaled[test:]\n",
    "y_test_scaled = beer_UMCSENT_y_scaled[test:]\n",
    "y_test = beer_UMCSENT_df[['UMCSENT_1']][test:]"
   ]
  },
  {
   "cell_type": "code",
   "execution_count": 764,
   "metadata": {
    "ExecuteTime": {
     "end_time": "2019-06-08T22:28:06.137911Z",
     "start_time": "2019-06-08T22:28:06.096696Z"
    }
   },
   "outputs": [],
   "source": [
    "X_train = np.reshape(X_train_scaled, \n",
    "                     (X_train_scaled.shape[0], 1, X_train_scaled.shape[1]))\n",
    "\n",
    "X_test = np.reshape(X_test_scaled, \n",
    "                    (X_test_scaled.shape[0], 1, X_test_scaled.shape[1]))"
   ]
  },
  {
   "cell_type": "code",
   "execution_count": 765,
   "metadata": {
    "ExecuteTime": {
     "end_time": "2019-06-08T22:28:10.390480Z",
     "start_time": "2019-06-08T22:28:08.964205Z"
    }
   },
   "outputs": [],
   "source": [
    "model = Sequential()\n",
    "model.add(LSTM(60, dropout=0.1, recurrent_dropout=0.2, return_sequences=True,\n",
    "              input_shape=(n_lookback, X_train.shape[2]),  activation='relu'))\n",
    "model.add(Dropout(0.2))\n",
    "\n",
    "model.add(LSTM(32, activation='relu'))\n",
    "model.add(Dropout(0.1))\n",
    "model.add(Dense(X_train.shape[1]))\n",
    "\n",
    "# opt = tf.keras.optimizers.RMSprop(lr=0.001)\n",
    "\n",
    "model.compile(loss='mean_squared_error', optimizer='RMSprop', metrics=['mae'])"
   ]
  },
  {
   "cell_type": "code",
   "execution_count": 766,
   "metadata": {
    "ExecuteTime": {
     "end_time": "2019-06-08T22:28:37.842502Z",
     "start_time": "2019-06-08T22:28:14.308311Z"
    }
   },
   "outputs": [
    {
     "name": "stdout",
     "output_type": "stream",
     "text": [
      "Epoch 1/100\n",
      "309/309 [==============================] - 16s 53ms/step - loss: 1.0067 - mean_absolute_error: 0.8024\n",
      "Epoch 2/100\n",
      "309/309 [==============================] - 0s 182us/step - loss: 0.9906 - mean_absolute_error: 0.7956\n",
      "Epoch 3/100\n",
      "309/309 [==============================] - 0s 162us/step - loss: 0.9822 - mean_absolute_error: 0.7913\n",
      "Epoch 4/100\n",
      "309/309 [==============================] - 0s 171us/step - loss: 0.9713 - mean_absolute_error: 0.7875\n",
      "Epoch 5/100\n",
      "309/309 [==============================] - 0s 166us/step - loss: 0.9573 - mean_absolute_error: 0.7810\n",
      "Epoch 6/100\n",
      "309/309 [==============================] - 0s 162us/step - loss: 0.9400 - mean_absolute_error: 0.7735\n",
      "Epoch 7/100\n",
      "309/309 [==============================] - 0s 162us/step - loss: 0.9218 - mean_absolute_error: 0.7654\n",
      "Epoch 8/100\n",
      "309/309 [==============================] - 0s 161us/step - loss: 0.9074 - mean_absolute_error: 0.7567\n",
      "Epoch 9/100\n",
      "309/309 [==============================] - 0s 154us/step - loss: 0.8766 - mean_absolute_error: 0.7428\n",
      "Epoch 10/100\n",
      "309/309 [==============================] - 0s 189us/step - loss: 0.8532 - mean_absolute_error: 0.7334\n",
      "Epoch 11/100\n",
      "309/309 [==============================] - 0s 156us/step - loss: 0.8272 - mean_absolute_error: 0.7195\n",
      "Epoch 12/100\n",
      "309/309 [==============================] - 0s 151us/step - loss: 0.7997 - mean_absolute_error: 0.7061\n",
      "Epoch 13/100\n",
      "309/309 [==============================] - 0s 128us/step - loss: 0.7811 - mean_absolute_error: 0.6936\n",
      "Epoch 14/100\n",
      "309/309 [==============================] - 0s 159us/step - loss: 0.7314 - mean_absolute_error: 0.6731\n",
      "Epoch 15/100\n",
      "309/309 [==============================] - 0s 171us/step - loss: 0.6876 - mean_absolute_error: 0.6499\n",
      "Epoch 16/100\n",
      "309/309 [==============================] - 0s 160us/step - loss: 0.6543 - mean_absolute_error: 0.6370\n",
      "Epoch 17/100\n",
      "309/309 [==============================] - 0s 165us/step - loss: 0.6480 - mean_absolute_error: 0.6234\n",
      "Epoch 18/100\n",
      "309/309 [==============================] - 0s 159us/step - loss: 0.5984 - mean_absolute_error: 0.6038\n",
      "Epoch 19/100\n",
      "309/309 [==============================] - 0s 166us/step - loss: 0.5483 - mean_absolute_error: 0.5722\n",
      "Epoch 20/100\n",
      "309/309 [==============================] - 0s 174us/step - loss: 0.5209 - mean_absolute_error: 0.5486\n",
      "Epoch 21/100\n",
      "309/309 [==============================] - 0s 177us/step - loss: 0.4706 - mean_absolute_error: 0.5284\n",
      "Epoch 22/100\n",
      "309/309 [==============================] - 0s 191us/step - loss: 0.4637 - mean_absolute_error: 0.5160\n",
      "Epoch 23/100\n",
      "309/309 [==============================] - 0s 164us/step - loss: 0.3914 - mean_absolute_error: 0.4817\n",
      "Epoch 24/100\n",
      "309/309 [==============================] - 0s 166us/step - loss: 0.3801 - mean_absolute_error: 0.4652\n",
      "Epoch 25/100\n",
      "309/309 [==============================] - 0s 159us/step - loss: 0.2976 - mean_absolute_error: 0.4135\n",
      "Epoch 26/100\n",
      "309/309 [==============================] - 0s 157us/step - loss: 0.2722 - mean_absolute_error: 0.3964\n",
      "Epoch 27/100\n",
      "309/309 [==============================] - 0s 156us/step - loss: 0.2346 - mean_absolute_error: 0.3632\n",
      "Epoch 28/100\n",
      "309/309 [==============================] - 0s 147us/step - loss: 0.2577 - mean_absolute_error: 0.3772\n",
      "Epoch 29/100\n",
      "309/309 [==============================] - 0s 157us/step - loss: 0.2475 - mean_absolute_error: 0.3588\n",
      "Epoch 30/100\n",
      "309/309 [==============================] - 0s 166us/step - loss: 0.1916 - mean_absolute_error: 0.3161\n",
      "Epoch 31/100\n",
      "309/309 [==============================] - 0s 163us/step - loss: 0.2258 - mean_absolute_error: 0.3514\n",
      "Epoch 32/100\n",
      "309/309 [==============================] - 0s 161us/step - loss: 0.2481 - mean_absolute_error: 0.3385\n",
      "Epoch 33/100\n",
      "309/309 [==============================] - 0s 165us/step - loss: 0.2108 - mean_absolute_error: 0.3349\n",
      "Epoch 34/100\n",
      "309/309 [==============================] - 0s 163us/step - loss: 0.2395 - mean_absolute_error: 0.3383\n",
      "Epoch 35/100\n",
      "309/309 [==============================] - 0s 163us/step - loss: 0.1848 - mean_absolute_error: 0.3267\n",
      "Epoch 36/100\n",
      "309/309 [==============================] - 0s 172us/step - loss: 0.1689 - mean_absolute_error: 0.3081\n",
      "Epoch 37/100\n",
      "309/309 [==============================] - 0s 169us/step - loss: 0.1941 - mean_absolute_error: 0.3102\n",
      "Epoch 38/100\n",
      "309/309 [==============================] - 0s 161us/step - loss: 0.1773 - mean_absolute_error: 0.3111\n",
      "Epoch 39/100\n",
      "309/309 [==============================] - 0s 181us/step - loss: 0.2268 - mean_absolute_error: 0.3323\n",
      "Epoch 40/100\n",
      "309/309 [==============================] - 0s 165us/step - loss: 0.1819 - mean_absolute_error: 0.3113\n",
      "Epoch 41/100\n",
      "309/309 [==============================] - 0s 164us/step - loss: 0.2184 - mean_absolute_error: 0.3264\n",
      "Epoch 42/100\n",
      "309/309 [==============================] - 0s 168us/step - loss: 0.2159 - mean_absolute_error: 0.3353\n",
      "Epoch 43/100\n",
      "309/309 [==============================] - 0s 164us/step - loss: 0.2187 - mean_absolute_error: 0.3256\n",
      "Epoch 44/100\n",
      "309/309 [==============================] - 0s 172us/step - loss: 0.2302 - mean_absolute_error: 0.3319\n",
      "Epoch 45/100\n",
      "309/309 [==============================] - 0s 167us/step - loss: 0.1773 - mean_absolute_error: 0.3073\n",
      "Epoch 46/100\n",
      "309/309 [==============================] - 0s 145us/step - loss: 0.2142 - mean_absolute_error: 0.3264\n",
      "Epoch 47/100\n",
      "309/309 [==============================] - 0s 141us/step - loss: 0.2192 - mean_absolute_error: 0.3370\n",
      "Epoch 48/100\n",
      "309/309 [==============================] - 0s 167us/step - loss: 0.2176 - mean_absolute_error: 0.3217\n",
      "Epoch 49/100\n",
      "309/309 [==============================] - 0s 252us/step - loss: 0.1697 - mean_absolute_error: 0.3105\n",
      "Epoch 50/100\n",
      "309/309 [==============================] - 0s 174us/step - loss: 0.2625 - mean_absolute_error: 0.3489\n",
      "Epoch 51/100\n",
      "309/309 [==============================] - 0s 160us/step - loss: 0.2030 - mean_absolute_error: 0.3196\n",
      "Epoch 52/100\n",
      "309/309 [==============================] - 0s 171us/step - loss: 0.1719 - mean_absolute_error: 0.3099\n",
      "Epoch 53/100\n",
      "309/309 [==============================] - 0s 174us/step - loss: 0.1972 - mean_absolute_error: 0.3333\n",
      "Epoch 54/100\n",
      "309/309 [==============================] - 0s 166us/step - loss: 0.2374 - mean_absolute_error: 0.3450\n",
      "Epoch 55/100\n",
      "309/309 [==============================] - 0s 163us/step - loss: 0.1747 - mean_absolute_error: 0.3087\n",
      "Epoch 56/100\n",
      "309/309 [==============================] - 0s 169us/step - loss: 0.1843 - mean_absolute_error: 0.3059\n",
      "Epoch 57/100\n",
      "309/309 [==============================] - 0s 173us/step - loss: 0.1899 - mean_absolute_error: 0.3251\n",
      "Epoch 58/100\n",
      "309/309 [==============================] - 0s 191us/step - loss: 0.2049 - mean_absolute_error: 0.3314\n",
      "Epoch 59/100\n",
      "309/309 [==============================] - 0s 203us/step - loss: 0.2465 - mean_absolute_error: 0.3357\n",
      "Epoch 60/100\n",
      "309/309 [==============================] - 0s 180us/step - loss: 0.1976 - mean_absolute_error: 0.3151\n",
      "Epoch 61/100\n",
      "309/309 [==============================] - 0s 196us/step - loss: 0.2005 - mean_absolute_error: 0.3148\n",
      "Epoch 62/100\n",
      "309/309 [==============================] - 0s 185us/step - loss: 0.1741 - mean_absolute_error: 0.3149\n",
      "Epoch 63/100\n",
      "309/309 [==============================] - 0s 186us/step - loss: 0.1883 - mean_absolute_error: 0.3198\n",
      "Epoch 64/100\n",
      "309/309 [==============================] - 0s 168us/step - loss: 0.1942 - mean_absolute_error: 0.3242\n",
      "Epoch 65/100\n",
      "309/309 [==============================] - 0s 163us/step - loss: 0.2447 - mean_absolute_error: 0.3359\n",
      "Epoch 66/100\n",
      "309/309 [==============================] - 0s 172us/step - loss: 0.1964 - mean_absolute_error: 0.3223\n",
      "Epoch 67/100\n",
      "309/309 [==============================] - 0s 182us/step - loss: 0.1980 - mean_absolute_error: 0.3277\n",
      "Epoch 68/100\n",
      "309/309 [==============================] - 0s 168us/step - loss: 0.2248 - mean_absolute_error: 0.3368\n",
      "Epoch 69/100\n",
      "309/309 [==============================] - 0s 165us/step - loss: 0.2198 - mean_absolute_error: 0.3278\n",
      "Epoch 70/100\n",
      "309/309 [==============================] - 0s 153us/step - loss: 0.1878 - mean_absolute_error: 0.3111\n",
      "Epoch 71/100\n",
      "309/309 [==============================] - 0s 160us/step - loss: 0.1920 - mean_absolute_error: 0.3026\n",
      "Epoch 72/100\n"
     ]
    },
    {
     "name": "stdout",
     "output_type": "stream",
     "text": [
      "309/309 [==============================] - 0s 165us/step - loss: 0.2054 - mean_absolute_error: 0.3255\n",
      "Epoch 73/100\n",
      "309/309 [==============================] - 0s 178us/step - loss: 0.1931 - mean_absolute_error: 0.3241\n",
      "Epoch 74/100\n",
      "309/309 [==============================] - 0s 191us/step - loss: 0.1961 - mean_absolute_error: 0.3249\n",
      "Epoch 75/100\n",
      "309/309 [==============================] - 0s 196us/step - loss: 0.1791 - mean_absolute_error: 0.3001\n",
      "Epoch 76/100\n",
      "309/309 [==============================] - 0s 178us/step - loss: 0.2164 - mean_absolute_error: 0.3251\n",
      "Epoch 77/100\n",
      "309/309 [==============================] - 0s 181us/step - loss: 0.1725 - mean_absolute_error: 0.3063\n",
      "Epoch 78/100\n",
      "309/309 [==============================] - 0s 158us/step - loss: 0.1712 - mean_absolute_error: 0.3099\n",
      "Epoch 79/100\n",
      "309/309 [==============================] - 0s 173us/step - loss: 0.2275 - mean_absolute_error: 0.3375\n",
      "Epoch 80/100\n",
      "309/309 [==============================] - 0s 178us/step - loss: 0.1664 - mean_absolute_error: 0.2975\n",
      "Epoch 81/100\n",
      "309/309 [==============================] - 0s 171us/step - loss: 0.1611 - mean_absolute_error: 0.2885\n",
      "Epoch 82/100\n",
      "309/309 [==============================] - 0s 156us/step - loss: 0.1661 - mean_absolute_error: 0.3054\n",
      "Epoch 83/100\n",
      "309/309 [==============================] - 0s 175us/step - loss: 0.1737 - mean_absolute_error: 0.3081\n",
      "Epoch 84/100\n",
      "309/309 [==============================] - 0s 178us/step - loss: 0.1665 - mean_absolute_error: 0.3001\n",
      "Epoch 85/100\n",
      "309/309 [==============================] - 0s 167us/step - loss: 0.1930 - mean_absolute_error: 0.3086\n",
      "Epoch 86/100\n",
      "309/309 [==============================] - 0s 177us/step - loss: 0.1821 - mean_absolute_error: 0.3133\n",
      "Epoch 87/100\n",
      "309/309 [==============================] - 0s 167us/step - loss: 0.1607 - mean_absolute_error: 0.3009\n",
      "Epoch 88/100\n",
      "309/309 [==============================] - 0s 172us/step - loss: 0.1877 - mean_absolute_error: 0.3093\n",
      "Epoch 89/100\n",
      "309/309 [==============================] - 0s 166us/step - loss: 0.1939 - mean_absolute_error: 0.3138\n",
      "Epoch 90/100\n",
      "309/309 [==============================] - 0s 155us/step - loss: 0.1966 - mean_absolute_error: 0.3135\n",
      "Epoch 91/100\n",
      "309/309 [==============================] - 0s 151us/step - loss: 0.1878 - mean_absolute_error: 0.3187\n",
      "Epoch 92/100\n",
      "309/309 [==============================] - 0s 155us/step - loss: 0.2028 - mean_absolute_error: 0.3236\n",
      "Epoch 93/100\n",
      "309/309 [==============================] - 0s 154us/step - loss: 0.1764 - mean_absolute_error: 0.3092\n",
      "Epoch 94/100\n",
      "309/309 [==============================] - 0s 166us/step - loss: 0.1671 - mean_absolute_error: 0.3099\n",
      "Epoch 95/100\n",
      "309/309 [==============================] - 0s 161us/step - loss: 0.1844 - mean_absolute_error: 0.2958\n",
      "Epoch 96/100\n",
      "309/309 [==============================] - 0s 178us/step - loss: 0.1735 - mean_absolute_error: 0.3066\n",
      "Epoch 97/100\n",
      "309/309 [==============================] - 0s 154us/step - loss: 0.2044 - mean_absolute_error: 0.3186\n",
      "Epoch 98/100\n",
      "309/309 [==============================] - 0s 158us/step - loss: 0.1583 - mean_absolute_error: 0.2936\n",
      "Epoch 99/100\n",
      "309/309 [==============================] - 0s 157us/step - loss: 0.1962 - mean_absolute_error: 0.3229\n",
      "Epoch 100/100\n",
      "309/309 [==============================] - 0s 160us/step - loss: 0.2026 - mean_absolute_error: 0.3254\n"
     ]
    },
    {
     "data": {
      "text/plain": [
       "<keras.callbacks.History at 0x19283bac8>"
      ]
     },
     "execution_count": 766,
     "metadata": {},
     "output_type": "execute_result"
    }
   ],
   "source": [
    "N_EPOCHS =100\n",
    "batchSize = 40\n",
    "\n",
    "model.fit(X_train, \n",
    "          y_train_scaled, \n",
    "          epochs=N_EPOCHS,\n",
    "          batch_size=batchSize, \n",
    "          verbose=1,\n",
    "          shuffle=False)"
   ]
  },
  {
   "cell_type": "code",
   "execution_count": 767,
   "metadata": {
    "ExecuteTime": {
     "end_time": "2019-06-08T22:28:44.067571Z",
     "start_time": "2019-06-08T22:28:37.845280Z"
    }
   },
   "outputs": [],
   "source": [
    "yhat_scale = model.predict(X_test)\n",
    "# yhat_scale"
   ]
  },
  {
   "cell_type": "code",
   "execution_count": 768,
   "metadata": {
    "ExecuteTime": {
     "end_time": "2019-06-08T22:28:44.101926Z",
     "start_time": "2019-06-08T22:28:44.070070Z"
    }
   },
   "outputs": [],
   "source": [
    "# inv_yhat = np.concatenate((X_test_scaled, yhat_scale), axis=1)\n",
    "inv_yhat = scaler.inverse_transform(yhat_scale)"
   ]
  },
  {
   "cell_type": "code",
   "execution_count": 769,
   "metadata": {
    "ExecuteTime": {
     "end_time": "2019-06-08T22:28:48.815472Z",
     "start_time": "2019-06-08T22:28:48.781364Z"
    }
   },
   "outputs": [],
   "source": [
    "y_hat_inv_scaled = scaler.inverse_transform(yhat_scale)\n",
    "preds_df = pd.DataFrame(y_hat_inv_scaled, columns=['UMCSENT_preds'])"
   ]
  },
  {
   "cell_type": "code",
   "execution_count": 770,
   "metadata": {
    "ExecuteTime": {
     "end_time": "2019-06-08T22:29:18.179288Z",
     "start_time": "2019-06-08T22:29:08.320510Z"
    }
   },
   "outputs": [],
   "source": [
    "# y_test = y_test.assign(beer_preds=preds_df['beer_preds'].values)\n",
    "y_test['UMCSENT_preds'] = preds_df['UMCSENT_preds'].values\n",
    "\n",
    "# beer_preds_actual_df = y_test[['beer_1', 'beer_preds']]\n",
    "UMCSENT_preds_actual_df = y_test[['UMCSENT_1', 'UMCSENT_preds']]\n",
    "\n",
    "# beer_preds_actual_df = beer_preds_actual_df.assign(beer_diff=(beer_preds_actual_df.beer_preds-\\\n",
    "#                                                   beer_preds_actual_df.beer_1))\n",
    "UMCSENT_preds_actual_df = UMCSENT_preds_actual_df.assign(UMCSENT_diff=(UMCSENT_preds_actual_df.UMCSENT_preds-\\\n",
    "                                                          UMCSENT_preds_actual_df.UMCSENT_1))\n"
   ]
  },
  {
   "cell_type": "code",
   "execution_count": 761,
   "metadata": {
    "ExecuteTime": {
     "end_time": "2019-06-08T22:23:34.686397Z",
     "start_time": "2019-06-08T22:23:34.644375Z"
    }
   },
   "outputs": [
    {
     "name": "stdout",
     "output_type": "stream",
     "text": [
      "Test RMSE: 633.052\n",
      "RMSE %: 13.2366%\n"
     ]
    }
   ],
   "source": [
    "# print('Test RMSE: %.3f' % sqrt(mean_squared_error(beer_preds_actual_df.beer_1,\n",
    "#                                                  beer_preds_actual_df.beer_preds)))\n",
    "# print(f'RMSE %: {round(sqrt(mean_squared_error(beer_preds_actual_df.beer_1, beer_preds_actual_df.beer_preds))/beer_preds_actual_df.beer_1.mean()*100,4)}%')"
   ]
  },
  {
   "cell_type": "code",
   "execution_count": 755,
   "metadata": {
    "ExecuteTime": {
     "end_time": "2019-06-08T22:23:16.058461Z",
     "start_time": "2019-06-08T22:23:15.769443Z"
    }
   },
   "outputs": [
    {
     "data": {
      "image/png": "[encoded data removed]",
      "text/plain": [
       "<Figure size 864x360 with 1 Axes>"
      ]
     },
     "metadata": {
      "needs_background": "light"
     },
     "output_type": "display_data"
    }
   ],
   "source": [
    "# plt.figure(figsize=(12,5))\n",
    "# plt.plot(beer_preds_actual_df.beer_1, label='actual')\n",
    "# plt.plot(beer_preds_actual_df.beer_preds, label='pred')\n",
    "# plt.title(f'Beer')\n",
    "# plt.legend()\n",
    "# plt.show()"
   ]
  },
  {
   "cell_type": "code",
   "execution_count": 771,
   "metadata": {
    "ExecuteTime": {
     "end_time": "2019-06-08T22:29:20.609081Z",
     "start_time": "2019-06-08T22:29:20.571944Z"
    }
   },
   "outputs": [
    {
     "name": "stdout",
     "output_type": "stream",
     "text": [
      "Test RMSE: 3.302\n",
      "RMSE %: 3.3855%\n"
     ]
    }
   ],
   "source": [
    "print('Test RMSE: %.3f' % sqrt(mean_squared_error(UMCSENT_preds_actual_df.UMCSENT_1,\n",
    "                                                 UMCSENT_preds_actual_df.UMCSENT_preds)))\n",
    "print(f'RMSE %: {round(sqrt(mean_squared_error(UMCSENT_preds_actual_df.UMCSENT_1, UMCSENT_preds_actual_df.UMCSENT_preds))/UMCSENT_preds_actual_df.UMCSENT_1.mean()*100,4)}%')\n"
   ]
  },
  {
   "cell_type": "code",
   "execution_count": 772,
   "metadata": {
    "ExecuteTime": {
     "end_time": "2019-06-08T22:29:24.755937Z",
     "start_time": "2019-06-08T22:29:24.474322Z"
    }
   },
   "outputs": [
    {
     "data": {
      "image/png": "[encoded data removed]",
      "text/plain": [
       "<Figure size 864x360 with 1 Axes>"
      ]
     },
     "metadata": {
      "needs_background": "light"
     },
     "output_type": "display_data"
    }
   ],
   "source": [
    "plt.figure(figsize=(12,5))\n",
    "plt.plot(UMCSENT_preds_actual_df.UMCSENT_1, label='actual')\n",
    "plt.plot(UMCSENT_preds_actual_df.UMCSENT_preds, label='pred')\n",
    "plt.title(f'US Michigan CS')\n",
    "plt.legend()\n",
    "plt.show()"
   ]
  },
  {
   "cell_type": "markdown",
   "metadata": {},
   "source": [
    "### Keras"
   ]
  },
  {
   "cell_type": "code",
   "execution_count": 691,
   "metadata": {
    "ExecuteTime": {
     "end_time": "2019-06-08T17:42:04.053739Z",
     "start_time": "2019-06-08T17:42:04.020171Z"
    }
   },
   "outputs": [],
   "source": [
    "from keras.models import Sequential\n",
    "from keras.layers import Dense, Dropout\n",
    "from keras.layers import LSTM"
   ]
  },
  {
   "cell_type": "code",
   "execution_count": 718,
   "metadata": {
    "ExecuteTime": {
     "end_time": "2019-06-08T17:58:59.115392Z",
     "start_time": "2019-06-08T17:58:59.070226Z"
    }
   },
   "outputs": [],
   "source": [
    "def keras_lstm(x_train, y_train_scaled, X_test, \n",
    "               N_EPOCHS, batchSize, neuron_1):\n",
    "    model = Sequential()\n",
    "    model.add(LSTM(neuron_1, \n",
    "                   batch_input_shape=(batchSize, x_train.shape[1], x_train.shape[2]), \n",
    "                   stateful=True, activation='relu'))\n",
    "    model.add(Dropout(0.2))\n",
    "#     model.add(LSTM(neuron_2, activation='relu'))\n",
    "#     model.add(Dropout(0.1))    \n",
    "    model.add(Dense(X_train.shape[2]))\n",
    "    \n",
    "    model.compile(loss='mean_squared_error', optimizer='RMSprop', metrics=['mae'])\n",
    "    \n",
    "    model.fit(X_train, y_train_scaled, \n",
    "              epochs=N_EPOCHS,\n",
    "              batch_size=batchSize, \n",
    "              verbose=1,\n",
    "              shuffle=False)\n",
    "    yhat_scale = model.predict(X_test, batch_size=batchSize)\n",
    "    return yhat_scale\n"
   ]
  },
  {
   "cell_type": "code",
   "execution_count": 719,
   "metadata": {
    "ExecuteTime": {
     "end_time": "2019-06-08T18:00:15.065625Z",
     "start_time": "2019-06-08T17:58:59.558730Z"
    }
   },
   "outputs": [
    {
     "name": "stdout",
     "output_type": "stream",
     "text": [
      "Epoch 1/50\n",
      "309/309 [==============================] - 15s 47ms/step - loss: 1.1867 - mean_absolute_error: 0.8868\n",
      "Epoch 2/50\n",
      "309/309 [==============================] - 1s 4ms/step - loss: 1.0183 - mean_absolute_error: 0.8280\n",
      "Epoch 3/50\n",
      "309/309 [==============================] - 1s 4ms/step - loss: 0.9558 - mean_absolute_error: 0.7997\n",
      "Epoch 4/50\n",
      "309/309 [==============================] - 1s 3ms/step - loss: 0.9408 - mean_absolute_error: 0.7910\n",
      "Epoch 5/50\n",
      "309/309 [==============================] - 1s 3ms/step - loss: 0.9357 - mean_absolute_error: 0.7874\n",
      "Epoch 6/50\n",
      "309/309 [==============================] - 1s 3ms/step - loss: 0.9344 - mean_absolute_error: 0.7871\n",
      "Epoch 7/50\n",
      "309/309 [==============================] - 1s 4ms/step - loss: 0.9331 - mean_absolute_error: 0.7855A: 0s - loss: 0.8917 - mean_absolute_error: 0.\n",
      "Epoch 8/50\n",
      "309/309 [==============================] - 1s 4ms/step - loss: 0.9307 - mean_absolute_error: 0.7843\n",
      "Epoch 9/50\n",
      "309/309 [==============================] - 1s 4ms/step - loss: 0.9275 - mean_absolute_error: 0.7824\n",
      "Epoch 10/50\n",
      "309/309 [==============================] - 1s 3ms/step - loss: 0.9191 - mean_absolute_error: 0.7791\n",
      "Epoch 11/50\n",
      "309/309 [==============================] - 1s 4ms/step - loss: 0.9088 - mean_absolute_error: 0.7735\n",
      "Epoch 12/50\n",
      "309/309 [==============================] - 1s 3ms/step - loss: 0.9001 - mean_absolute_error: 0.7671\n",
      "Epoch 13/50\n",
      "309/309 [==============================] - 1s 4ms/step - loss: 0.8799 - mean_absolute_error: 0.7561\n",
      "Epoch 14/50\n",
      "309/309 [==============================] - 1s 4ms/step - loss: 0.8543 - mean_absolute_error: 0.7391\n",
      "Epoch 15/50\n",
      "309/309 [==============================] - 1s 3ms/step - loss: 0.8245 - mean_absolute_error: 0.7175\n",
      "Epoch 16/50\n",
      "309/309 [==============================] - 1s 3ms/step - loss: 0.8223 - mean_absolute_error: 0.7224\n",
      "Epoch 17/50\n",
      "309/309 [==============================] - 1s 3ms/step - loss: 0.8063 - mean_absolute_error: 0.7173\n",
      "Epoch 18/50\n",
      "309/309 [==============================] - 1s 4ms/step - loss: 0.8023 - mean_absolute_error: 0.7209\n",
      "Epoch 19/50\n",
      "309/309 [==============================] - 1s 4ms/step - loss: 0.7871 - mean_absolute_error: 0.7130\n",
      "Epoch 20/50\n",
      "309/309 [==============================] - 1s 4ms/step - loss: 0.7774 - mean_absolute_error: 0.7057\n",
      "Epoch 21/50\n",
      "309/309 [==============================] - 1s 3ms/step - loss: 0.7644 - mean_absolute_error: 0.7002\n",
      "Epoch 22/50\n",
      "309/309 [==============================] - 1s 4ms/step - loss: 0.7778 - mean_absolute_error: 0.7034\n",
      "Epoch 23/50\n",
      "309/309 [==============================] - 1s 4ms/step - loss: 0.7751 - mean_absolute_error: 0.7036\n",
      "Epoch 24/50\n",
      "309/309 [==============================] - 1s 4ms/step - loss: 0.7619 - mean_absolute_error: 0.6943\n",
      "Epoch 25/50\n",
      "309/309 [==============================] - 1s 4ms/step - loss: 0.7311 - mean_absolute_error: 0.6771\n",
      "Epoch 26/50\n",
      "309/309 [==============================] - 1s 4ms/step - loss: 0.7346 - mean_absolute_error: 0.6783\n",
      "Epoch 27/50\n",
      "309/309 [==============================] - 1s 4ms/step - loss: 0.7319 - mean_absolute_error: 0.6765\n",
      "Epoch 28/50\n",
      "309/309 [==============================] - 1s 4ms/step - loss: 0.7129 - mean_absolute_error: 0.6640\n",
      "Epoch 29/50\n",
      "309/309 [==============================] - 1s 4ms/step - loss: 0.7115 - mean_absolute_error: 0.6603\n",
      "Epoch 30/50\n",
      "309/309 [==============================] - 1s 4ms/step - loss: 0.7211 - mean_absolute_error: 0.6617\n",
      "Epoch 31/50\n",
      "309/309 [==============================] - 1s 3ms/step - loss: 0.6995 - mean_absolute_error: 0.6511\n",
      "Epoch 32/50\n",
      "309/309 [==============================] - 1s 4ms/step - loss: 0.7179 - mean_absolute_error: 0.6600\n",
      "Epoch 33/50\n",
      "309/309 [==============================] - 1s 3ms/step - loss: 0.6964 - mean_absolute_error: 0.6470\n",
      "Epoch 34/50\n",
      "309/309 [==============================] - 1s 3ms/step - loss: 0.6974 - mean_absolute_error: 0.6427\n",
      "Epoch 35/50\n",
      "309/309 [==============================] - 1s 3ms/step - loss: 0.6985 - mean_absolute_error: 0.6395\n",
      "Epoch 36/50\n",
      "309/309 [==============================] - 1s 3ms/step - loss: 0.6907 - mean_absolute_error: 0.6390\n",
      "Epoch 37/50\n",
      "309/309 [==============================] - 1s 4ms/step - loss: 0.7008 - mean_absolute_error: 0.6441\n",
      "Epoch 38/50\n",
      "309/309 [==============================] - 1s 4ms/step - loss: 0.6949 - mean_absolute_error: 0.6392\n",
      "Epoch 39/50\n",
      "309/309 [==============================] - 1s 4ms/step - loss: 0.6800 - mean_absolute_error: 0.6262A: 0s - loss: 0.5571 - mean_absolute_e\n",
      "Epoch 40/50\n",
      "309/309 [==============================] - 1s 4ms/step - loss: 0.6866 - mean_absolute_error: 0.6358\n",
      "Epoch 41/50\n",
      "309/309 [==============================] - 1s 4ms/step - loss: 0.6580 - mean_absolute_error: 0.6160\n",
      "Epoch 42/50\n",
      "309/309 [==============================] - 1s 3ms/step - loss: 0.6672 - mean_absolute_error: 0.6273\n",
      "Epoch 43/50\n",
      "309/309 [==============================] - 1s 4ms/step - loss: 0.6596 - mean_absolute_error: 0.6185\n",
      "Epoch 44/50\n",
      "309/309 [==============================] - 1s 4ms/step - loss: 0.6791 - mean_absolute_error: 0.6279\n",
      "Epoch 45/50\n",
      "309/309 [==============================] - 1s 4ms/step - loss: 0.6652 - mean_absolute_error: 0.6242\n",
      "Epoch 46/50\n",
      "309/309 [==============================] - 1s 4ms/step - loss: 0.6344 - mean_absolute_error: 0.6027\n",
      "Epoch 47/50\n",
      "309/309 [==============================] - 1s 4ms/step - loss: 0.6457 - mean_absolute_error: 0.6138\n",
      "Epoch 48/50\n",
      "309/309 [==============================] - 1s 4ms/step - loss: 0.6693 - mean_absolute_error: 0.6224\n",
      "Epoch 49/50\n",
      "309/309 [==============================] - 1s 4ms/step - loss: 0.6563 - mean_absolute_error: 0.6224\n",
      "Epoch 50/50\n",
      "309/309 [==============================] - 1s 3ms/step - loss: 0.6576 - mean_absolute_error: 0.6164\n"
     ]
    }
   ],
   "source": [
    "yhat_scale_preds = keras_lstm(X_train, y_train_scaled, X_test, 50, 1, 1, )"
   ]
  },
  {
   "cell_type": "code",
   "execution_count": 720,
   "metadata": {
    "ExecuteTime": {
     "end_time": "2019-06-08T18:00:23.072236Z",
     "start_time": "2019-06-08T18:00:23.034096Z"
    }
   },
   "outputs": [],
   "source": [
    "def inverse_scale(inv_preds):\n",
    "    return scaler.inverse_transform(inv_preds)"
   ]
  },
  {
   "cell_type": "code",
   "execution_count": 721,
   "metadata": {
    "ExecuteTime": {
     "end_time": "2019-06-08T18:00:23.666816Z",
     "start_time": "2019-06-08T18:00:23.628029Z"
    }
   },
   "outputs": [
    {
     "data": {
      "text/plain": [
       "array([[2838.8477  ,   92.33181 ],\n",
       "       [2915.2485  ,   89.843605],\n",
       "       [2986.9395  ,   87.5088  ],\n",
       "       [2832.9143  ,   92.52504 ],\n",
       "       [2815.6052  ,   93.08876 ],\n",
       "       [2807.972   ,   93.33736 ],\n",
       "       [2800.0024  ,   93.59691 ],\n",
       "       [2855.7466  ,   91.78145 ],\n",
       "       [2819.383   ,   92.96572 ],\n",
       "       [2846.362   ,   92.087074],\n",
       "       [2853.4177  ,   91.85729 ],\n",
       "       [2735.2383  ,   95.70612 ],\n",
       "       [2837.847   ,   92.364395],\n",
       "       [2822.1768  ,   92.87474 ],\n",
       "       [2921.783   ,   89.63079 ],\n",
       "       [2814.3284  ,   93.13034 ],\n",
       "       [2839.165   ,   92.32147 ]], dtype=float32)"
      ]
     },
     "execution_count": 721,
     "metadata": {},
     "output_type": "execute_result"
    }
   ],
   "source": [
    "inverse_scale(yhat_scale_preds)"
   ]
  },
  {
   "cell_type": "code",
   "execution_count": null,
   "metadata": {},
   "outputs": [],
   "source": []
  }
 ],
 "metadata": {
  "kernelspec": {
   "display_name": "Python 3",
   "language": "python",
   "name": "python3"
  },
  "language_info": {
   "codemirror_mode": {
    "name": "ipython",
    "version": 3
   },
   "file_extension": ".py",
   "mimetype": "text/x-python",
   "name": "python",
   "nbconvert_exporter": "python",
   "pygments_lexer": "ipython3",
   "version": "3.7.2"
  }
 },
 "nbformat": 4,
 "nbformat_minor": 2
}
