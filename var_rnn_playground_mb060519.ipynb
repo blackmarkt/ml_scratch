{
 "cells": [
  {
   "cell_type": "code",
   "execution_count": 1,
   "metadata": {
    "ExecuteTime": {
     "end_time": "2019-06-10T23:06:13.285895Z",
     "start_time": "2019-06-10T23:06:10.893853Z"
    }
   },
   "outputs": [],
   "source": [
    "%load_ext autoreload\n",
    "%autoreload 2\n",
    "\n",
    "import numpy as np\n",
    "import pandas as pd\n",
    "\n",
    "import tensorflow as tf\n",
    "from tensorflow.keras.models import Sequential\n",
    "from tensorflow.keras.layers import Dense, Dropout, LSTM, CuDNNLSTM, BatchNormalization\n",
    "from tensorflow.keras.callbacks import TensorBoard\n",
    "from tensorflow.keras.callbacks import ModelCheckpoint\n",
    "\n",
    "from math import sqrt\n",
    "from sklearn.metrics import mean_squared_error\n",
    "\n",
    "from fredapi import Fred\n",
    "\n",
    "from qreit.models.api_config import *\n",
    "fred_key = fred_API\n",
    "\n",
    "import time\n",
    "\n",
    "import matplotlib.pyplot as plt\n",
    "%matplotlib inline"
   ]
  },
  {
   "cell_type": "code",
   "execution_count": 2,
   "metadata": {
    "ExecuteTime": {
     "end_time": "2019-06-10T23:06:14.628460Z",
     "start_time": "2019-06-10T23:06:13.288332Z"
    }
   },
   "outputs": [
    {
     "name": "stderr",
     "output_type": "stream",
     "text": [
      "/Users/marktblack/anaconda3/lib/python3.7/site-packages/pandas/plotting/_converter.py:129: FutureWarning: Using an implicitly registered datetime converter for a matplotlib plotting method. The converter was registered by pandas on import. Future versions of pandas will require you to explicitly register matplotlib converters.\n",
      "\n",
      "To register the converters:\n",
      "\t>>> from pandas.plotting import register_matplotlib_converters\n",
      "\t>>> register_matplotlib_converters()\n",
      "  warnings.warn(msg, FutureWarning)\n"
     ]
    },
    {
     "data": {
      "image/png": "[encoded data removed]",
      "text/plain": [
       "<Figure size 432x288 with 1 Axes>"
      ]
     },
     "metadata": {
      "needs_background": "light"
     },
     "output_type": "display_data"
    }
   ],
   "source": [
    "fred = Fred(fred_key)\n",
    "\n",
    "UMCSENT_df = fred.get_series('UMCSENT').to_frame()\n",
    "UMCSENT_df.columns = ['UMCSENT']\n",
    "UMCSENT_80_df = UMCSENT_df[UMCSENT_df.index >= '1980-01']\n",
    "\n",
    "plt.plot(UMCSENT_80_df)\n",
    "plt.show()"
   ]
  },
  {
   "cell_type": "code",
   "execution_count": 3,
   "metadata": {
    "ExecuteTime": {
     "end_time": "2019-06-10T23:06:14.776444Z",
     "start_time": "2019-06-10T23:06:14.630438Z"
    }
   },
   "outputs": [
    {
     "name": "stderr",
     "output_type": "stream",
     "text": [
      "/Users/marktblack/anaconda3/lib/python3.7/site-packages/ipykernel_launcher.py:1: SettingWithCopyWarning: \n",
      "A value is trying to be set on a copy of a slice from a DataFrame.\n",
      "Try using .loc[row_indexer,col_indexer] = value instead\n",
      "\n",
      "See the caveats in the documentation: http://pandas.pydata.org/pandas-docs/stable/indexing.html#indexing-view-versus-copy\n",
      "  \"\"\"Entry point for launching an IPython kernel.\n",
      "/Users/marktblack/anaconda3/lib/python3.7/site-packages/ipykernel_launcher.py:2: SettingWithCopyWarning: \n",
      "A value is trying to be set on a copy of a slice from a DataFrame\n",
      "\n",
      "See the caveats in the documentation: http://pandas.pydata.org/pandas-docs/stable/indexing.html#indexing-view-versus-copy\n",
      "  \n"
     ]
    }
   ],
   "source": [
    "UMCSENT_80_df['UMCSENT_1'] = UMCSENT_80_df.shift(-1)\n",
    "UMCSENT_80_df.dropna(inplace=True)"
   ]
  },
  {
   "cell_type": "code",
   "execution_count": 4,
   "metadata": {
    "ExecuteTime": {
     "end_time": "2019-06-10T23:06:14.816266Z",
     "start_time": "2019-06-10T23:06:14.779058Z"
    }
   },
   "outputs": [],
   "source": [
    "from sklearn.preprocessing import StandardScaler, MinMaxScaler\n",
    "\n",
    "scaler = StandardScaler()\n",
    "\n",
    "UMCSENT_80_X_scaled = scaler.fit_transform(UMCSENT_80_df['UMCSENT'].to_frame())\n",
    "UMCSENT_80_y_scaled = scaler.fit_transform(UMCSENT_80_df['UMCSENT_1'].to_frame())"
   ]
  },
  {
   "cell_type": "code",
   "execution_count": 5,
   "metadata": {
    "ExecuteTime": {
     "end_time": "2019-06-10T23:06:14.851700Z",
     "start_time": "2019-06-10T23:06:14.818086Z"
    }
   },
   "outputs": [],
   "source": [
    "test = int(len(UMCSENT_80_X_scaled)*0.90)\n",
    "\n",
    "X_train_scaled = UMCSENT_80_X_scaled[:test]\n",
    "y_train_scaled = UMCSENT_80_y_scaled[:test]\n",
    "y_train = UMCSENT_80_df['UMCSENT_1'][:test]\n",
    "\n",
    "X_test_scaled = UMCSENT_80_X_scaled[test:]\n",
    "y_test_scaled = UMCSENT_80_y_scaled[test:]\n",
    "y_test = UMCSENT_80_df['UMCSENT_1'][test:]"
   ]
  },
  {
   "cell_type": "code",
   "execution_count": 6,
   "metadata": {
    "ExecuteTime": {
     "end_time": "2019-06-10T23:06:14.885092Z",
     "start_time": "2019-06-10T23:06:14.854353Z"
    }
   },
   "outputs": [],
   "source": [
    "X_train = np.reshape(X_train_scaled, \n",
    "                     (X_train_scaled.shape[0], 1, X_train_scaled.shape[1]))\n",
    "# y_train = np.reshape(y_train_scaled, \n",
    "#                      (y_train_scaled.shape[0], 1, y_train_scaled.shape[1]))\n",
    "\n",
    "X_test = np.reshape(X_test_scaled, \n",
    "                    (X_test_scaled.shape[0], 1, X_test_scaled.shape[1]))\n",
    "# y_test = np.reshape(y_test_scaled, \n",
    "#                     (y_test_scaled.shape[0], 1, y_test_scaled.shape[1]))"
   ]
  },
  {
   "cell_type": "code",
   "execution_count": 7,
   "metadata": {
    "ExecuteTime": {
     "end_time": "2019-06-10T23:06:14.915915Z",
     "start_time": "2019-06-10T23:06:14.886660Z"
    }
   },
   "outputs": [],
   "source": [
    "n_lookback = 1"
   ]
  },
  {
   "cell_type": "code",
   "execution_count": 8,
   "metadata": {
    "ExecuteTime": {
     "end_time": "2019-06-10T23:06:14.949763Z",
     "start_time": "2019-06-10T23:06:14.918497Z"
    }
   },
   "outputs": [],
   "source": [
    "# model = Sequential()\n",
    "# model.add(LSTM(128, input_shape=(n_lookback,X_train.shape[2]), \n",
    "#                activation='relu', return_sequences=True))\n",
    "# # model.add(Dropout(0.2))\n",
    "# # model.add(BatchNormalization())  #normalizes activation outputs, same reason you want to normalize your input data.\n",
    "\n",
    "# model.add(LSTM(128, activation='relu', return_sequences=True))\n",
    "# model.add(Dropout(0.1))\n",
    "# model.add(BatchNormalization())\n",
    "\n",
    "# model.add(LSTM(128, activation='relu'))\n",
    "# model.add(Dropout(0.2))\n",
    "# model.add(BatchNormalization())\n",
    "\n",
    "# model.add(Dense(32, activation='relu'))\n",
    "# model.add(Dropout(0.2))\n",
    "\n",
    "# model.add(Dense(1, activation='softmax'))\n",
    "\n",
    "# model.compile(loss='mae', optimizer='RMSprop')"
   ]
  },
  {
   "cell_type": "code",
   "execution_count": 9,
   "metadata": {
    "ExecuteTime": {
     "end_time": "2019-06-10T23:06:15.713708Z",
     "start_time": "2019-06-10T23:06:14.952592Z"
    }
   },
   "outputs": [
    {
     "name": "stdout",
     "output_type": "stream",
     "text": [
      "WARNING:tensorflow:From /Users/marktblack/anaconda3/lib/python3.7/site-packages/tensorflow/python/ops/resource_variable_ops.py:435: colocate_with (from tensorflow.python.framework.ops) is deprecated and will be removed in a future version.\n",
      "Instructions for updating:\n",
      "Colocations handled automatically by placer.\n",
      "WARNING:tensorflow:From /Users/marktblack/anaconda3/lib/python3.7/site-packages/tensorflow/python/keras/backend.py:4010: calling dropout (from tensorflow.python.ops.nn_ops) with keep_prob is deprecated and will be removed in a future version.\n",
      "Instructions for updating:\n",
      "Please use `rate` instead of `keep_prob`. Rate should be set to `rate = 1 - keep_prob`.\n",
      "WARNING:tensorflow:From /Users/marktblack/anaconda3/lib/python3.7/site-packages/tensorflow/python/keras/utils/losses_utils.py:170: to_float (from tensorflow.python.ops.math_ops) is deprecated and will be removed in a future version.\n",
      "Instructions for updating:\n",
      "Use tf.cast instead.\n"
     ]
    }
   ],
   "source": [
    "model = Sequential()\n",
    "model.add(LSTM(60, dropout=0.1, recurrent_dropout=0.2, return_sequences=True,\n",
    "              input_shape=(n_lookback, X_train.shape[2])))\n",
    "# model.add(Dropout(0.2))\n",
    "\n",
    "model.add(LSTM(32, activation='relu'))\n",
    "model.add(Dropout(0.1))\n",
    "model.add(Dense(X_train.shape[2]))\n",
    "\n",
    "# opt = tf.keras.optimizers.RMSprop(lr=0.001)\n",
    "\n",
    "model.compile(loss='mean_squared_error', optimizer='RMSprop', metrics=['mae'])"
   ]
  },
  {
   "cell_type": "code",
   "execution_count": 10,
   "metadata": {
    "ExecuteTime": {
     "end_time": "2019-06-10T23:06:15.743260Z",
     "start_time": "2019-06-10T23:06:15.715184Z"
    }
   },
   "outputs": [],
   "source": [
    "def rnn_hyperparameter_tune(X_train, y_train_scaled, n_epochs, batchSize):\n",
    "    model.fit(X_train, \n",
    "              y_train_scaled, \n",
    "              epochs=n_epochs,\n",
    "              batch_size=batchSize, \n",
    "              verbose=0,\n",
    "              shuffle=False)\n",
    "    \n",
    "    yhat_scale = model.predict(X_test)\n",
    "    \n",
    "    y_hat_inv_scaled = scaler.inverse_transform(yhat_scale)\n",
    "    temp_root_sq_mu_err = sqrt(mean_squared_error(y_test.values, y_hat_inv_scaled))\n",
    "    temp_root_sq_mu_err_per = round(sqrt(mean_squared_error(y_test.values, y_hat_inv_scaled))/y_test.values.mean()*100,4)\n",
    "    \n",
    "    print(f'# of Epochs, Batch Size: {n_epochs}, {batchSize}')\n",
    "    print('Test RMSE: %.3f' % temp_root_sq_mu_err)\n",
    "    print(f'RMSE %: {temp_root_sq_mu_err_per}%\\n')\n",
    "    \n",
    "    return temp_root_sq_mu_err"
   ]
  },
  {
   "cell_type": "code",
   "execution_count": 11,
   "metadata": {
    "ExecuteTime": {
     "end_time": "2019-06-10T23:06:56.763282Z",
     "start_time": "2019-06-10T23:06:15.744879Z"
    }
   },
   "outputs": [
    {
     "name": "stdout",
     "output_type": "stream",
     "text": [
      "WARNING:tensorflow:From /Users/marktblack/anaconda3/lib/python3.7/site-packages/tensorflow/python/ops/math_ops.py:3066: to_int32 (from tensorflow.python.ops.math_ops) is deprecated and will be removed in a future version.\n",
      "Instructions for updating:\n",
      "Use tf.cast instead.\n",
      "# of Epochs, Batch Size: 100, 40\n",
      "Test RMSE: 3.051\n",
      "RMSE %: 3.2136%\n",
      "\n",
      "# of Epochs, Batch Size: 200, 40\n",
      "Test RMSE: 2.841\n",
      "RMSE %: 2.9923%\n",
      "\n",
      "# of Epochs, Batch Size: 300, 40\n",
      "Test RMSE: 2.853\n",
      "RMSE %: 3.0047%\n",
      "\n",
      "# of Epochs, Batch Size: 400, 40\n",
      "Test RMSE: 2.882\n",
      "RMSE %: 3.0357%\n",
      "\n"
     ]
    }
   ],
   "source": [
    "root_sq_mu_err_ls = []\n",
    "\n",
    "for epochs in range(100, 500, 100):\n",
    "    root_sq_mu_err_ls.append(rnn_hyperparameter_tune(X_train, y_train_scaled, epochs, 40))"
   ]
  },
  {
   "cell_type": "code",
   "execution_count": 12,
   "metadata": {
    "ExecuteTime": {
     "end_time": "2019-06-10T23:07:04.590201Z",
     "start_time": "2019-06-10T23:06:56.764819Z"
    }
   },
   "outputs": [
    {
     "data": {
      "text/plain": [
       "<tensorflow.python.keras.callbacks.History at 0x13e758208>"
      ]
     },
     "execution_count": 12,
     "metadata": {},
     "output_type": "execute_result"
    }
   ],
   "source": [
    "N_EPOCHS = 200\n",
    "batchSize = 40\n",
    "\n",
    "model.fit(X_train, \n",
    "          y_train_scaled, \n",
    "          epochs=N_EPOCHS,\n",
    "          batch_size=batchSize, \n",
    "          verbose=0,\n",
    "          shuffle=False)\n"
   ]
  },
  {
   "cell_type": "code",
   "execution_count": 13,
   "metadata": {
    "ExecuteTime": {
     "end_time": "2019-06-10T23:07:04.620970Z",
     "start_time": "2019-06-10T23:07:04.591798Z"
    }
   },
   "outputs": [],
   "source": [
    "tensorboard = TensorBoard(log_dir=\"logs/{}\".format('test'))"
   ]
  },
  {
   "cell_type": "code",
   "execution_count": 14,
   "metadata": {
    "ExecuteTime": {
     "end_time": "2019-06-10T23:07:04.657976Z",
     "start_time": "2019-06-10T23:07:04.622415Z"
    }
   },
   "outputs": [],
   "source": [
    "yhat_scale = model.predict(X_test)\n",
    "# yhat_scale"
   ]
  },
  {
   "cell_type": "code",
   "execution_count": 15,
   "metadata": {
    "ExecuteTime": {
     "end_time": "2019-06-10T23:07:04.689269Z",
     "start_time": "2019-06-10T23:07:04.659898Z"
    }
   },
   "outputs": [],
   "source": [
    "inv_yhat = np.concatenate((X_test_scaled, yhat_scale), axis=1)\n",
    "inv_yhat = scaler.inverse_transform(inv_yhat)"
   ]
  },
  {
   "cell_type": "code",
   "execution_count": 16,
   "metadata": {
    "ExecuteTime": {
     "end_time": "2019-06-10T23:07:04.739749Z",
     "start_time": "2019-06-10T23:07:04.690818Z"
    }
   },
   "outputs": [
    {
     "data": {
      "text/html": [
       "<div>\n",
       "<style scoped>\n",
       "    .dataframe tbody tr th:only-of-type {\n",
       "        vertical-align: middle;\n",
       "    }\n",
       "\n",
       "    .dataframe tbody tr th {\n",
       "        vertical-align: top;\n",
       "    }\n",
       "\n",
       "    .dataframe thead th {\n",
       "        text-align: right;\n",
       "    }\n",
       "</style>\n",
       "<table border=\"1\" class=\"dataframe\">\n",
       "  <thead>\n",
       "    <tr style=\"text-align: right;\">\n",
       "      <th></th>\n",
       "      <th>preds</th>\n",
       "      <th>actual</th>\n",
       "      <th>diff</th>\n",
       "    </tr>\n",
       "  </thead>\n",
       "  <tbody>\n",
       "    <tr>\n",
       "      <th>0</th>\n",
       "      <td>94.679970</td>\n",
       "      <td>90.7</td>\n",
       "      <td>3.979970</td>\n",
       "    </tr>\n",
       "    <tr>\n",
       "      <th>1</th>\n",
       "      <td>91.177277</td>\n",
       "      <td>96.1</td>\n",
       "      <td>-4.922723</td>\n",
       "    </tr>\n",
       "    <tr>\n",
       "      <th>2</th>\n",
       "      <td>94.842216</td>\n",
       "      <td>93.1</td>\n",
       "      <td>1.742216</td>\n",
       "    </tr>\n",
       "    <tr>\n",
       "      <th>3</th>\n",
       "      <td>92.638489</td>\n",
       "      <td>91.9</td>\n",
       "      <td>0.738489</td>\n",
       "    </tr>\n",
       "    <tr>\n",
       "      <th>4</th>\n",
       "      <td>91.883652</td>\n",
       "      <td>87.2</td>\n",
       "      <td>4.683652</td>\n",
       "    </tr>\n",
       "    <tr>\n",
       "      <th>5</th>\n",
       "      <td>87.804703</td>\n",
       "      <td>90.0</td>\n",
       "      <td>-2.195297</td>\n",
       "    </tr>\n",
       "    <tr>\n",
       "      <th>6</th>\n",
       "      <td>90.761169</td>\n",
       "      <td>91.3</td>\n",
       "      <td>-0.538831</td>\n",
       "    </tr>\n",
       "    <tr>\n",
       "      <th>7</th>\n",
       "      <td>91.525932</td>\n",
       "      <td>92.6</td>\n",
       "      <td>-1.074068</td>\n",
       "    </tr>\n",
       "    <tr>\n",
       "      <th>8</th>\n",
       "      <td>92.316650</td>\n",
       "      <td>92.0</td>\n",
       "      <td>0.316650</td>\n",
       "    </tr>\n",
       "    <tr>\n",
       "      <th>9</th>\n",
       "      <td>91.944382</td>\n",
       "      <td>91.7</td>\n",
       "      <td>0.244382</td>\n",
       "    </tr>\n",
       "    <tr>\n",
       "      <th>10</th>\n",
       "      <td>91.763199</td>\n",
       "      <td>91.0</td>\n",
       "      <td>0.763199</td>\n",
       "    </tr>\n",
       "    <tr>\n",
       "      <th>11</th>\n",
       "      <td>91.350677</td>\n",
       "      <td>89.0</td>\n",
       "      <td>2.350677</td>\n",
       "    </tr>\n",
       "    <tr>\n",
       "      <th>12</th>\n",
       "      <td>89.894844</td>\n",
       "      <td>94.7</td>\n",
       "      <td>-4.805156</td>\n",
       "    </tr>\n",
       "    <tr>\n",
       "      <th>13</th>\n",
       "      <td>93.752548</td>\n",
       "      <td>93.5</td>\n",
       "      <td>0.252548</td>\n",
       "    </tr>\n",
       "    <tr>\n",
       "      <th>14</th>\n",
       "      <td>92.904472</td>\n",
       "      <td>90.0</td>\n",
       "      <td>2.904472</td>\n",
       "    </tr>\n",
       "    <tr>\n",
       "      <th>15</th>\n",
       "      <td>90.761169</td>\n",
       "      <td>89.8</td>\n",
       "      <td>0.961169</td>\n",
       "    </tr>\n",
       "    <tr>\n",
       "      <th>16</th>\n",
       "      <td>90.595238</td>\n",
       "      <td>91.2</td>\n",
       "      <td>-0.604762</td>\n",
       "    </tr>\n",
       "    <tr>\n",
       "      <th>17</th>\n",
       "      <td>91.467278</td>\n",
       "      <td>87.2</td>\n",
       "      <td>4.267278</td>\n",
       "    </tr>\n",
       "    <tr>\n",
       "      <th>18</th>\n",
       "      <td>87.804703</td>\n",
       "      <td>93.8</td>\n",
       "      <td>-5.995297</td>\n",
       "    </tr>\n",
       "    <tr>\n",
       "      <th>19</th>\n",
       "      <td>93.109268</td>\n",
       "      <td>98.2</td>\n",
       "      <td>-5.090732</td>\n",
       "    </tr>\n",
       "    <tr>\n",
       "      <th>20</th>\n",
       "      <td>96.664940</td>\n",
       "      <td>98.5</td>\n",
       "      <td>-1.835060</td>\n",
       "    </tr>\n",
       "    <tr>\n",
       "      <th>21</th>\n",
       "      <td>96.940804</td>\n",
       "      <td>96.3</td>\n",
       "      <td>0.640804</td>\n",
       "    </tr>\n",
       "    <tr>\n",
       "      <th>22</th>\n",
       "      <td>95.006584</td>\n",
       "      <td>96.9</td>\n",
       "      <td>-1.893416</td>\n",
       "    </tr>\n",
       "    <tr>\n",
       "      <th>23</th>\n",
       "      <td>95.512047</td>\n",
       "      <td>97.0</td>\n",
       "      <td>-1.487953</td>\n",
       "    </tr>\n",
       "    <tr>\n",
       "      <th>24</th>\n",
       "      <td>95.598030</td>\n",
       "      <td>97.1</td>\n",
       "      <td>-1.501970</td>\n",
       "    </tr>\n",
       "    <tr>\n",
       "      <th>25</th>\n",
       "      <td>95.684486</td>\n",
       "      <td>95.0</td>\n",
       "      <td>0.684486</td>\n",
       "    </tr>\n",
       "    <tr>\n",
       "      <th>26</th>\n",
       "      <td>93.976906</td>\n",
       "      <td>93.4</td>\n",
       "      <td>0.576906</td>\n",
       "    </tr>\n",
       "    <tr>\n",
       "      <th>27</th>\n",
       "      <td>92.837234</td>\n",
       "      <td>96.8</td>\n",
       "      <td>-3.962766</td>\n",
       "    </tr>\n",
       "    <tr>\n",
       "      <th>28</th>\n",
       "      <td>95.426552</td>\n",
       "      <td>95.1</td>\n",
       "      <td>0.326552</td>\n",
       "    </tr>\n",
       "    <tr>\n",
       "      <th>29</th>\n",
       "      <td>94.052811</td>\n",
       "      <td>100.7</td>\n",
       "      <td>-6.647189</td>\n",
       "    </tr>\n",
       "    <tr>\n",
       "      <th>30</th>\n",
       "      <td>99.043304</td>\n",
       "      <td>98.5</td>\n",
       "      <td>0.543304</td>\n",
       "    </tr>\n",
       "    <tr>\n",
       "      <th>31</th>\n",
       "      <td>96.940804</td>\n",
       "      <td>95.9</td>\n",
       "      <td>1.040804</td>\n",
       "    </tr>\n",
       "    <tr>\n",
       "      <th>32</th>\n",
       "      <td>94.679970</td>\n",
       "      <td>95.7</td>\n",
       "      <td>-1.020030</td>\n",
       "    </tr>\n",
       "    <tr>\n",
       "      <th>33</th>\n",
       "      <td>94.519882</td>\n",
       "      <td>99.7</td>\n",
       "      <td>-5.180118</td>\n",
       "    </tr>\n",
       "    <tr>\n",
       "      <th>34</th>\n",
       "      <td>98.073265</td>\n",
       "      <td>101.4</td>\n",
       "      <td>-3.326735</td>\n",
       "    </tr>\n",
       "    <tr>\n",
       "      <th>35</th>\n",
       "      <td>99.730759</td>\n",
       "      <td>98.8</td>\n",
       "      <td>0.930759</td>\n",
       "    </tr>\n",
       "    <tr>\n",
       "      <th>36</th>\n",
       "      <td>97.219833</td>\n",
       "      <td>98.0</td>\n",
       "      <td>-0.780167</td>\n",
       "    </tr>\n",
       "    <tr>\n",
       "      <th>37</th>\n",
       "      <td>96.482918</td>\n",
       "      <td>98.2</td>\n",
       "      <td>-1.717082</td>\n",
       "    </tr>\n",
       "    <tr>\n",
       "      <th>38</th>\n",
       "      <td>96.664940</td>\n",
       "      <td>97.9</td>\n",
       "      <td>-1.235060</td>\n",
       "    </tr>\n",
       "    <tr>\n",
       "      <th>39</th>\n",
       "      <td>96.392494</td>\n",
       "      <td>96.2</td>\n",
       "      <td>0.192494</td>\n",
       "    </tr>\n",
       "    <tr>\n",
       "      <th>40</th>\n",
       "      <td>94.924133</td>\n",
       "      <td>100.1</td>\n",
       "      <td>-5.175867</td>\n",
       "    </tr>\n",
       "    <tr>\n",
       "      <th>41</th>\n",
       "      <td>98.459061</td>\n",
       "      <td>98.6</td>\n",
       "      <td>-0.140939</td>\n",
       "    </tr>\n",
       "    <tr>\n",
       "      <th>42</th>\n",
       "      <td>97.033478</td>\n",
       "      <td>97.5</td>\n",
       "      <td>-0.466522</td>\n",
       "    </tr>\n",
       "    <tr>\n",
       "      <th>43</th>\n",
       "      <td>96.034966</td>\n",
       "      <td>98.3</td>\n",
       "      <td>-2.265034</td>\n",
       "    </tr>\n",
       "    <tr>\n",
       "      <th>44</th>\n",
       "      <td>96.756531</td>\n",
       "      <td>91.2</td>\n",
       "      <td>5.556531</td>\n",
       "    </tr>\n",
       "    <tr>\n",
       "      <th>45</th>\n",
       "      <td>91.467278</td>\n",
       "      <td>93.8</td>\n",
       "      <td>-2.332722</td>\n",
       "    </tr>\n",
       "    <tr>\n",
       "      <th>46</th>\n",
       "      <td>93.109268</td>\n",
       "      <td>98.4</td>\n",
       "      <td>-5.290732</td>\n",
       "    </tr>\n",
       "    <tr>\n",
       "      <th>47</th>\n",
       "      <td>96.848488</td>\n",
       "      <td>97.2</td>\n",
       "      <td>-0.351512</td>\n",
       "    </tr>\n",
       "  </tbody>\n",
       "</table>\n",
       "</div>"
      ],
      "text/plain": [
       "        preds  actual      diff\n",
       "0   94.679970    90.7  3.979970\n",
       "1   91.177277    96.1 -4.922723\n",
       "2   94.842216    93.1  1.742216\n",
       "3   92.638489    91.9  0.738489\n",
       "4   91.883652    87.2  4.683652\n",
       "5   87.804703    90.0 -2.195297\n",
       "6   90.761169    91.3 -0.538831\n",
       "7   91.525932    92.6 -1.074068\n",
       "8   92.316650    92.0  0.316650\n",
       "9   91.944382    91.7  0.244382\n",
       "10  91.763199    91.0  0.763199\n",
       "11  91.350677    89.0  2.350677\n",
       "12  89.894844    94.7 -4.805156\n",
       "13  93.752548    93.5  0.252548\n",
       "14  92.904472    90.0  2.904472\n",
       "15  90.761169    89.8  0.961169\n",
       "16  90.595238    91.2 -0.604762\n",
       "17  91.467278    87.2  4.267278\n",
       "18  87.804703    93.8 -5.995297\n",
       "19  93.109268    98.2 -5.090732\n",
       "20  96.664940    98.5 -1.835060\n",
       "21  96.940804    96.3  0.640804\n",
       "22  95.006584    96.9 -1.893416\n",
       "23  95.512047    97.0 -1.487953\n",
       "24  95.598030    97.1 -1.501970\n",
       "25  95.684486    95.0  0.684486\n",
       "26  93.976906    93.4  0.576906\n",
       "27  92.837234    96.8 -3.962766\n",
       "28  95.426552    95.1  0.326552\n",
       "29  94.052811   100.7 -6.647189\n",
       "30  99.043304    98.5  0.543304\n",
       "31  96.940804    95.9  1.040804\n",
       "32  94.679970    95.7 -1.020030\n",
       "33  94.519882    99.7 -5.180118\n",
       "34  98.073265   101.4 -3.326735\n",
       "35  99.730759    98.8  0.930759\n",
       "36  97.219833    98.0 -0.780167\n",
       "37  96.482918    98.2 -1.717082\n",
       "38  96.664940    97.9 -1.235060\n",
       "39  96.392494    96.2  0.192494\n",
       "40  94.924133   100.1 -5.175867\n",
       "41  98.459061    98.6 -0.140939\n",
       "42  97.033478    97.5 -0.466522\n",
       "43  96.034966    98.3 -2.265034\n",
       "44  96.756531    91.2  5.556531\n",
       "45  91.467278    93.8 -2.332722\n",
       "46  93.109268    98.4 -5.290732\n",
       "47  96.848488    97.2 -0.351512"
      ]
     },
     "execution_count": 16,
     "metadata": {},
     "output_type": "execute_result"
    }
   ],
   "source": [
    "y_hat_inv_scaled = scaler.inverse_transform(yhat_scale)\n",
    "preds_actuals_df = pd.DataFrame(y_test.values, \n",
    "                                y_hat_inv_scaled.flatten()).reset_index(drop=False)\n",
    "preds_actuals_df.columns = ['preds', 'actual']\n",
    "preds_actuals_df.assign(diff=preds_actuals_df.preds-preds_actuals_df.actual)\n"
   ]
  },
  {
   "cell_type": "code",
   "execution_count": 17,
   "metadata": {
    "ExecuteTime": {
     "end_time": "2019-06-10T23:07:04.772872Z",
     "start_time": "2019-06-10T23:07:04.741438Z"
    }
   },
   "outputs": [
    {
     "data": {
      "text/plain": [
       "array([[94.67997 ],\n",
       "       [91.17728 ],\n",
       "       [94.84222 ],\n",
       "       [92.63849 ],\n",
       "       [91.88365 ],\n",
       "       [87.8047  ],\n",
       "       [90.76117 ],\n",
       "       [91.52593 ],\n",
       "       [92.31665 ],\n",
       "       [91.94438 ],\n",
       "       [91.7632  ],\n",
       "       [91.35068 ],\n",
       "       [89.894844],\n",
       "       [93.75255 ],\n",
       "       [92.90447 ],\n",
       "       [90.76117 ],\n",
       "       [90.59524 ],\n",
       "       [91.46728 ],\n",
       "       [87.8047  ],\n",
       "       [93.10927 ],\n",
       "       [96.66494 ],\n",
       "       [96.9408  ],\n",
       "       [95.006584],\n",
       "       [95.51205 ],\n",
       "       [95.59803 ],\n",
       "       [95.68449 ],\n",
       "       [93.976906],\n",
       "       [92.837234],\n",
       "       [95.42655 ],\n",
       "       [94.05281 ],\n",
       "       [99.043304],\n",
       "       [96.9408  ],\n",
       "       [94.67997 ],\n",
       "       [94.51988 ],\n",
       "       [98.073265],\n",
       "       [99.73076 ],\n",
       "       [97.21983 ],\n",
       "       [96.48292 ],\n",
       "       [96.66494 ],\n",
       "       [96.392494],\n",
       "       [94.92413 ],\n",
       "       [98.45906 ],\n",
       "       [97.03348 ],\n",
       "       [96.034966],\n",
       "       [96.75653 ],\n",
       "       [91.46728 ],\n",
       "       [93.10927 ],\n",
       "       [96.84849 ]], dtype=float32)"
      ]
     },
     "execution_count": 17,
     "metadata": {},
     "output_type": "execute_result"
    }
   ],
   "source": [
    "y_hat_inv_scaled"
   ]
  },
  {
   "cell_type": "code",
   "execution_count": 18,
   "metadata": {
    "ExecuteTime": {
     "end_time": "2019-06-10T23:07:04.810699Z",
     "start_time": "2019-06-10T23:07:04.774856Z"
    }
   },
   "outputs": [
    {
     "name": "stdout",
     "output_type": "stream",
     "text": [
      "Test RMSE: 2.910\n",
      "RMSE %: 3.0655%\n"
     ]
    }
   ],
   "source": [
    "from math import sqrt\n",
    "from sklearn.metrics import mean_squared_error\n",
    "\n",
    "print('Test RMSE: %.3f' % sqrt(mean_squared_error(y_test.values,\n",
    "                                                 y_hat_inv_scaled)))\n",
    "print(f'RMSE %: {round(sqrt(mean_squared_error(y_test.values, y_hat_inv_scaled))/y_test.values.mean()*100,4)}%')"
   ]
  },
  {
   "cell_type": "markdown",
   "metadata": {},
   "source": [
    "### beer"
   ]
  },
  {
   "cell_type": "code",
   "execution_count": 19,
   "metadata": {
    "ExecuteTime": {
     "end_time": "2019-06-10T23:07:09.899343Z",
     "start_time": "2019-06-10T23:07:04.813409Z"
    }
   },
   "outputs": [
    {
     "data": {
      "image/png": "[encoded data removed]",
      "text/plain": [
       "<Figure size 432x288 with 1 Axes>"
      ]
     },
     "metadata": {
      "needs_background": "light"
     },
     "output_type": "display_data"
    }
   ],
   "source": [
    "beer_df = fred.get_series('MRTSSM4453USN').to_frame()\n",
    "beer_df.columns = ['beer']\n",
    "beer_df = beer_df[beer_df.index >= '1980-01']\n",
    "beer_df['beer_1'] = beer_df.shift(-1)\n",
    "plt.plot(beer_df['beer'])\n",
    "plt.show()"
   ]
  },
  {
   "cell_type": "code",
   "execution_count": 20,
   "metadata": {
    "ExecuteTime": {
     "end_time": "2019-06-10T23:07:09.931471Z",
     "start_time": "2019-06-10T23:07:09.901040Z"
    }
   },
   "outputs": [],
   "source": [
    "beer_UMCSENT_df = pd.merge(beer_df, UMCSENT_80_df, \n",
    "                            how='left', right_index=True, left_index=True).dropna()"
   ]
  },
  {
   "cell_type": "code",
   "execution_count": 21,
   "metadata": {
    "ExecuteTime": {
     "end_time": "2019-06-10T23:07:09.968475Z",
     "start_time": "2019-06-10T23:07:09.933362Z"
    }
   },
   "outputs": [],
   "source": [
    "from sklearn.preprocessing import StandardScaler, MinMaxScaler\n",
    "\n",
    "scaler = StandardScaler()\n",
    "\n",
    "beer_UMCSENT_X_scaled = scaler.fit_transform(beer_UMCSENT_df[['beer', 'UMCSENT']])\n",
    "beer_UMCSENT_y_scaled = scaler.fit_transform(beer_UMCSENT_df[['UMCSENT_1']])"
   ]
  },
  {
   "cell_type": "code",
   "execution_count": 22,
   "metadata": {
    "ExecuteTime": {
     "end_time": "2019-06-10T23:07:10.000457Z",
     "start_time": "2019-06-10T23:07:09.970057Z"
    }
   },
   "outputs": [],
   "source": [
    "test = int(len(beer_UMCSENT_X_scaled)*0.95)\n",
    "\n",
    "X_train_scaled = beer_UMCSENT_X_scaled[:test]\n",
    "y_train_scaled = beer_UMCSENT_y_scaled[:test]\n",
    "y_train = beer_UMCSENT_df[['beer_1','UMCSENT_1']][:test]\n",
    "\n",
    "X_test_scaled = beer_UMCSENT_X_scaled[test:]\n",
    "y_test_scaled = beer_UMCSENT_y_scaled[test:]\n",
    "y_test = beer_UMCSENT_df[['UMCSENT_1']][test:]"
   ]
  },
  {
   "cell_type": "code",
   "execution_count": 23,
   "metadata": {
    "ExecuteTime": {
     "end_time": "2019-06-10T23:07:10.037696Z",
     "start_time": "2019-06-10T23:07:10.005113Z"
    }
   },
   "outputs": [],
   "source": [
    "X_train = np.reshape(X_train_scaled, \n",
    "                     (X_train_scaled.shape[0], 1, X_train_scaled.shape[1]))\n",
    "\n",
    "X_test = np.reshape(X_test_scaled, \n",
    "                    (X_test_scaled.shape[0], 1, X_test_scaled.shape[1]))"
   ]
  },
  {
   "cell_type": "code",
   "execution_count": 24,
   "metadata": {
    "ExecuteTime": {
     "end_time": "2019-06-10T23:07:10.802240Z",
     "start_time": "2019-06-10T23:07:10.040554Z"
    }
   },
   "outputs": [],
   "source": [
    "model = Sequential()\n",
    "model.add(LSTM(60, dropout=0.1, recurrent_dropout=0.2, return_sequences=True,\n",
    "              input_shape=(n_lookback, X_train.shape[2]),  activation='relu'))\n",
    "model.add(Dropout(0.2))\n",
    "\n",
    "model.add(LSTM(32, activation='relu'))\n",
    "model.add(Dropout(0.1))\n",
    "model.add(Dense(X_train.shape[1]))\n",
    "\n",
    "# opt = tf.keras.optimizers.RMSprop(lr=0.001)\n",
    "\n",
    "model.compile(loss='mean_squared_error', optimizer='RMSprop', metrics=['mae'])"
   ]
  },
  {
   "cell_type": "code",
   "execution_count": 25,
   "metadata": {
    "ExecuteTime": {
     "end_time": "2019-06-10T23:07:17.743578Z",
     "start_time": "2019-06-10T23:07:10.803754Z"
    }
   },
   "outputs": [
    {
     "name": "stdout",
     "output_type": "stream",
     "text": [
      "Epoch 1/100\n",
      "309/309 [==============================] - 1s 5ms/sample - loss: 1.0163 - mean_absolute_error: 0.8067\n",
      "Epoch 2/100\n",
      "309/309 [==============================] - 0s 131us/sample - loss: 1.0048 - mean_absolute_error: 0.8017\n",
      "Epoch 3/100\n",
      "309/309 [==============================] - 0s 126us/sample - loss: 0.9944 - mean_absolute_error: 0.7974\n",
      "Epoch 4/100\n",
      "309/309 [==============================] - 0s 122us/sample - loss: 0.9822 - mean_absolute_error: 0.7924\n",
      "Epoch 5/100\n",
      "309/309 [==============================] - 0s 126us/sample - loss: 0.9722 - mean_absolute_error: 0.7875\n",
      "Epoch 6/100\n",
      "309/309 [==============================] - 0s 113us/sample - loss: 0.9603 - mean_absolute_error: 0.7820\n",
      "Epoch 7/100\n",
      "309/309 [==============================] - 0s 115us/sample - loss: 0.9410 - mean_absolute_error: 0.7745\n",
      "Epoch 8/100\n",
      "309/309 [==============================] - 0s 110us/sample - loss: 0.9309 - mean_absolute_error: 0.7673\n",
      "Epoch 9/100\n",
      "309/309 [==============================] - 0s 117us/sample - loss: 0.9067 - mean_absolute_error: 0.7577\n",
      "Epoch 10/100\n",
      "309/309 [==============================] - 0s 115us/sample - loss: 0.8820 - mean_absolute_error: 0.7474\n",
      "Epoch 11/100\n",
      "309/309 [==============================] - 0s 113us/sample - loss: 0.8631 - mean_absolute_error: 0.7359\n",
      "Epoch 12/100\n",
      "309/309 [==============================] - 0s 108us/sample - loss: 0.8387 - mean_absolute_error: 0.7258\n",
      "Epoch 13/100\n",
      "309/309 [==============================] - 0s 108us/sample - loss: 0.8118 - mean_absolute_error: 0.7140\n",
      "Epoch 14/100\n",
      "309/309 [==============================] - 0s 109us/sample - loss: 0.7848 - mean_absolute_error: 0.6978\n",
      "Epoch 15/100\n",
      "309/309 [==============================] - 0s 107us/sample - loss: 0.7478 - mean_absolute_error: 0.6793\n",
      "Epoch 16/100\n",
      "309/309 [==============================] - 0s 110us/sample - loss: 0.7266 - mean_absolute_error: 0.6707\n",
      "Epoch 17/100\n",
      "309/309 [==============================] - 0s 111us/sample - loss: 0.6969 - mean_absolute_error: 0.6554\n",
      "Epoch 18/100\n",
      "309/309 [==============================] - 0s 106us/sample - loss: 0.6608 - mean_absolute_error: 0.6352\n",
      "Epoch 19/100\n",
      "309/309 [==============================] - 0s 106us/sample - loss: 0.6071 - mean_absolute_error: 0.6091\n",
      "Epoch 20/100\n",
      "309/309 [==============================] - 0s 109us/sample - loss: 0.6032 - mean_absolute_error: 0.6011\n",
      "Epoch 21/100\n",
      "309/309 [==============================] - 0s 105us/sample - loss: 0.5316 - mean_absolute_error: 0.5651\n",
      "Epoch 22/100\n",
      "309/309 [==============================] - 0s 112us/sample - loss: 0.4782 - mean_absolute_error: 0.5341\n",
      "Epoch 23/100\n",
      "309/309 [==============================] - 0s 127us/sample - loss: 0.4503 - mean_absolute_error: 0.5154\n",
      "Epoch 24/100\n",
      "309/309 [==============================] - 0s 128us/sample - loss: 0.4395 - mean_absolute_error: 0.5080\n",
      "Epoch 25/100\n",
      "309/309 [==============================] - 0s 133us/sample - loss: 0.3608 - mean_absolute_error: 0.4630\n",
      "Epoch 26/100\n",
      "309/309 [==============================] - 0s 120us/sample - loss: 0.3537 - mean_absolute_error: 0.4530\n",
      "Epoch 27/100\n",
      "309/309 [==============================] - 0s 118us/sample - loss: 0.3030 - mean_absolute_error: 0.4148\n",
      "Epoch 28/100\n",
      "309/309 [==============================] - 0s 122us/sample - loss: 0.2943 - mean_absolute_error: 0.3929\n",
      "Epoch 29/100\n",
      "309/309 [==============================] - 0s 114us/sample - loss: 0.2564 - mean_absolute_error: 0.3761\n",
      "Epoch 30/100\n",
      "309/309 [==============================] - 0s 111us/sample - loss: 0.2590 - mean_absolute_error: 0.3867\n",
      "Epoch 31/100\n",
      "309/309 [==============================] - 0s 107us/sample - loss: 0.2488 - mean_absolute_error: 0.3529\n",
      "Epoch 32/100\n",
      "309/309 [==============================] - 0s 100us/sample - loss: 0.2537 - mean_absolute_error: 0.3594\n",
      "Epoch 33/100\n",
      "309/309 [==============================] - 0s 114us/sample - loss: 0.2347 - mean_absolute_error: 0.3445\n",
      "Epoch 34/100\n",
      "309/309 [==============================] - 0s 115us/sample - loss: 0.2036 - mean_absolute_error: 0.3370\n",
      "Epoch 35/100\n",
      "309/309 [==============================] - 0s 112us/sample - loss: 0.1690 - mean_absolute_error: 0.3076\n",
      "Epoch 36/100\n",
      "309/309 [==============================] - 0s 116us/sample - loss: 0.2053 - mean_absolute_error: 0.3433\n",
      "Epoch 37/100\n",
      "309/309 [==============================] - 0s 115us/sample - loss: 0.2009 - mean_absolute_error: 0.3229\n",
      "Epoch 38/100\n",
      "309/309 [==============================] - 0s 116us/sample - loss: 0.1940 - mean_absolute_error: 0.3217\n",
      "Epoch 39/100\n",
      "309/309 [==============================] - 0s 105us/sample - loss: 0.2457 - mean_absolute_error: 0.3558\n",
      "Epoch 40/100\n",
      "309/309 [==============================] - 0s 107us/sample - loss: 0.2083 - mean_absolute_error: 0.3312\n",
      "Epoch 41/100\n",
      "309/309 [==============================] - 0s 102us/sample - loss: 0.2250 - mean_absolute_error: 0.3381\n",
      "Epoch 42/100\n",
      "309/309 [==============================] - 0s 98us/sample - loss: 0.2093 - mean_absolute_error: 0.3269\n",
      "Epoch 43/100\n",
      "309/309 [==============================] - 0s 99us/sample - loss: 0.2140 - mean_absolute_error: 0.3303\n",
      "Epoch 44/100\n",
      "309/309 [==============================] - 0s 99us/sample - loss: 0.2093 - mean_absolute_error: 0.3314\n",
      "Epoch 45/100\n",
      "309/309 [==============================] - 0s 96us/sample - loss: 0.1778 - mean_absolute_error: 0.3179\n",
      "Epoch 46/100\n",
      "309/309 [==============================] - 0s 100us/sample - loss: 0.1998 - mean_absolute_error: 0.3279\n",
      "Epoch 47/100\n",
      "309/309 [==============================] - 0s 93us/sample - loss: 0.2107 - mean_absolute_error: 0.3220\n",
      "Epoch 48/100\n",
      "309/309 [==============================] - 0s 95us/sample - loss: 0.2237 - mean_absolute_error: 0.3568\n",
      "Epoch 49/100\n",
      "309/309 [==============================] - 0s 98us/sample - loss: 0.2084 - mean_absolute_error: 0.3360\n",
      "Epoch 50/100\n",
      "309/309 [==============================] - 0s 93us/sample - loss: 0.2626 - mean_absolute_error: 0.3594\n",
      "Epoch 51/100\n",
      "309/309 [==============================] - 0s 105us/sample - loss: 0.1693 - mean_absolute_error: 0.3105\n",
      "Epoch 52/100\n",
      "309/309 [==============================] - 0s 96us/sample - loss: 0.2111 - mean_absolute_error: 0.3222\n",
      "Epoch 53/100\n",
      "309/309 [==============================] - 0s 105us/sample - loss: 0.1929 - mean_absolute_error: 0.3284\n",
      "Epoch 54/100\n",
      "309/309 [==============================] - 0s 102us/sample - loss: 0.2110 - mean_absolute_error: 0.3387\n",
      "Epoch 55/100\n",
      "309/309 [==============================] - 0s 105us/sample - loss: 0.2132 - mean_absolute_error: 0.3207\n",
      "Epoch 56/100\n",
      "309/309 [==============================] - 0s 99us/sample - loss: 0.2342 - mean_absolute_error: 0.3243\n",
      "Epoch 57/100\n",
      "309/309 [==============================] - 0s 97us/sample - loss: 0.1603 - mean_absolute_error: 0.3010\n",
      "Epoch 58/100\n",
      "309/309 [==============================] - 0s 104us/sample - loss: 0.1773 - mean_absolute_error: 0.3096\n",
      "Epoch 59/100\n",
      "309/309 [==============================] - 0s 97us/sample - loss: 0.2516 - mean_absolute_error: 0.3599\n",
      "Epoch 60/100\n",
      "309/309 [==============================] - 0s 98us/sample - loss: 0.2306 - mean_absolute_error: 0.3375\n",
      "Epoch 61/100\n",
      "309/309 [==============================] - 0s 96us/sample - loss: 0.1859 - mean_absolute_error: 0.3171\n",
      "Epoch 62/100\n",
      "309/309 [==============================] - 0s 89us/sample - loss: 0.2663 - mean_absolute_error: 0.3558\n",
      "Epoch 63/100\n",
      "309/309 [==============================] - 0s 90us/sample - loss: 0.2032 - mean_absolute_error: 0.3301\n",
      "Epoch 64/100\n",
      "309/309 [==============================] - 0s 86us/sample - loss: 0.1979 - mean_absolute_error: 0.3179\n",
      "Epoch 65/100\n",
      "309/309 [==============================] - 0s 91us/sample - loss: 0.2371 - mean_absolute_error: 0.3398\n",
      "Epoch 66/100\n",
      "309/309 [==============================] - 0s 91us/sample - loss: 0.1963 - mean_absolute_error: 0.3216\n",
      "Epoch 67/100\n",
      "309/309 [==============================] - 0s 92us/sample - loss: 0.2078 - mean_absolute_error: 0.3245\n",
      "Epoch 68/100\n",
      "309/309 [==============================] - 0s 90us/sample - loss: 0.2089 - mean_absolute_error: 0.3145\n",
      "Epoch 69/100\n",
      "309/309 [==============================] - 0s 93us/sample - loss: 0.1885 - mean_absolute_error: 0.3184\n",
      "Epoch 70/100\n",
      "309/309 [==============================] - 0s 92us/sample - loss: 0.1978 - mean_absolute_error: 0.3122\n",
      "Epoch 71/100\n"
     ]
    },
    {
     "name": "stdout",
     "output_type": "stream",
     "text": [
      "309/309 [==============================] - 0s 102us/sample - loss: 0.1592 - mean_absolute_error: 0.3057\n",
      "Epoch 72/100\n",
      "309/309 [==============================] - 0s 88us/sample - loss: 0.1847 - mean_absolute_error: 0.3096\n",
      "Epoch 73/100\n",
      "309/309 [==============================] - 0s 102us/sample - loss: 0.1893 - mean_absolute_error: 0.3202\n",
      "Epoch 74/100\n",
      "309/309 [==============================] - 0s 98us/sample - loss: 0.2076 - mean_absolute_error: 0.3245\n",
      "Epoch 75/100\n",
      "309/309 [==============================] - 0s 103us/sample - loss: 0.2175 - mean_absolute_error: 0.3396\n",
      "Epoch 76/100\n",
      "309/309 [==============================] - 0s 99us/sample - loss: 0.1495 - mean_absolute_error: 0.2901\n",
      "Epoch 77/100\n",
      "309/309 [==============================] - 0s 98us/sample - loss: 0.2283 - mean_absolute_error: 0.3382\n",
      "Epoch 78/100\n",
      "309/309 [==============================] - 0s 102us/sample - loss: 0.1981 - mean_absolute_error: 0.3195\n",
      "Epoch 79/100\n",
      "309/309 [==============================] - 0s 103us/sample - loss: 0.2037 - mean_absolute_error: 0.3403\n",
      "Epoch 80/100\n",
      "309/309 [==============================] - 0s 100us/sample - loss: 0.2007 - mean_absolute_error: 0.3183\n",
      "Epoch 81/100\n",
      "309/309 [==============================] - 0s 105us/sample - loss: 0.1874 - mean_absolute_error: 0.3168\n",
      "Epoch 82/100\n",
      "309/309 [==============================] - 0s 121us/sample - loss: 0.1975 - mean_absolute_error: 0.3214\n",
      "Epoch 83/100\n",
      "309/309 [==============================] - 0s 119us/sample - loss: 0.2276 - mean_absolute_error: 0.3386\n",
      "Epoch 84/100\n",
      "309/309 [==============================] - 0s 125us/sample - loss: 0.1899 - mean_absolute_error: 0.3182\n",
      "Epoch 85/100\n",
      "309/309 [==============================] - 0s 118us/sample - loss: 0.1782 - mean_absolute_error: 0.2985\n",
      "Epoch 86/100\n",
      "309/309 [==============================] - 0s 112us/sample - loss: 0.1597 - mean_absolute_error: 0.2990\n",
      "Epoch 87/100\n",
      "309/309 [==============================] - 0s 108us/sample - loss: 0.1754 - mean_absolute_error: 0.3055\n",
      "Epoch 88/100\n",
      "309/309 [==============================] - 0s 110us/sample - loss: 0.1936 - mean_absolute_error: 0.3103\n",
      "Epoch 89/100\n",
      "309/309 [==============================] - 0s 116us/sample - loss: 0.1649 - mean_absolute_error: 0.3050\n",
      "Epoch 90/100\n",
      "309/309 [==============================] - 0s 122us/sample - loss: 0.1660 - mean_absolute_error: 0.2946\n",
      "Epoch 91/100\n",
      "309/309 [==============================] - 0s 112us/sample - loss: 0.1820 - mean_absolute_error: 0.3216\n",
      "Epoch 92/100\n",
      "309/309 [==============================] - 0s 108us/sample - loss: 0.2124 - mean_absolute_error: 0.3210\n",
      "Epoch 93/100\n",
      "309/309 [==============================] - 0s 114us/sample - loss: 0.2442 - mean_absolute_error: 0.3467\n",
      "Epoch 94/100\n",
      "309/309 [==============================] - 0s 112us/sample - loss: 0.1709 - mean_absolute_error: 0.3033\n",
      "Epoch 95/100\n",
      "309/309 [==============================] - 0s 123us/sample - loss: 0.1608 - mean_absolute_error: 0.3051\n",
      "Epoch 96/100\n",
      "309/309 [==============================] - 0s 108us/sample - loss: 0.1581 - mean_absolute_error: 0.2948\n",
      "Epoch 97/100\n",
      "309/309 [==============================] - 0s 99us/sample - loss: 0.1826 - mean_absolute_error: 0.3131\n",
      "Epoch 98/100\n",
      "309/309 [==============================] - 0s 99us/sample - loss: 0.1752 - mean_absolute_error: 0.3076\n",
      "Epoch 99/100\n",
      "309/309 [==============================] - 0s 99us/sample - loss: 0.1868 - mean_absolute_error: 0.3152\n",
      "Epoch 100/100\n",
      "309/309 [==============================] - 0s 95us/sample - loss: 0.1813 - mean_absolute_error: 0.3002\n"
     ]
    },
    {
     "data": {
      "text/plain": [
       "<tensorflow.python.keras.callbacks.History at 0x140a236d8>"
      ]
     },
     "execution_count": 25,
     "metadata": {},
     "output_type": "execute_result"
    }
   ],
   "source": [
    "N_EPOCHS =100\n",
    "batchSize = 40\n",
    "\n",
    "model.fit(X_train, \n",
    "          y_train_scaled, \n",
    "          epochs=N_EPOCHS,\n",
    "          batch_size=batchSize, \n",
    "          verbose=1,\n",
    "          shuffle=False)"
   ]
  },
  {
   "cell_type": "code",
   "execution_count": 26,
   "metadata": {
    "ExecuteTime": {
     "end_time": "2019-06-10T23:07:18.108753Z",
     "start_time": "2019-06-10T23:07:17.745012Z"
    }
   },
   "outputs": [],
   "source": [
    "yhat_scale = model.predict(X_test)\n",
    "# yhat_scale"
   ]
  },
  {
   "cell_type": "code",
   "execution_count": 27,
   "metadata": {
    "ExecuteTime": {
     "end_time": "2019-06-10T23:07:18.145841Z",
     "start_time": "2019-06-10T23:07:18.110331Z"
    }
   },
   "outputs": [],
   "source": [
    "# inv_yhat = np.concatenate((X_test_scaled, yhat_scale), axis=1)\n",
    "inv_yhat = scaler.inverse_transform(yhat_scale)"
   ]
  },
  {
   "cell_type": "code",
   "execution_count": 28,
   "metadata": {
    "ExecuteTime": {
     "end_time": "2019-06-10T23:07:18.187973Z",
     "start_time": "2019-06-10T23:07:18.147758Z"
    }
   },
   "outputs": [],
   "source": [
    "y_hat_inv_scaled = scaler.inverse_transform(yhat_scale)\n",
    "preds_df = pd.DataFrame(y_hat_inv_scaled, columns=['UMCSENT_preds'])"
   ]
  },
  {
   "cell_type": "code",
   "execution_count": 29,
   "metadata": {
    "ExecuteTime": {
     "end_time": "2019-06-10T23:07:18.347137Z",
     "start_time": "2019-06-10T23:07:18.189886Z"
    }
   },
   "outputs": [],
   "source": [
    "# y_test = y_test.assign(beer_preds=preds_df['beer_preds'].values)\n",
    "y_test['UMCSENT_preds'] = preds_df['UMCSENT_preds'].values\n",
    "\n",
    "# beer_preds_actual_df = y_test[['beer_1', 'beer_preds']]\n",
    "UMCSENT_preds_actual_df = y_test[['UMCSENT_1', 'UMCSENT_preds']]\n",
    "\n",
    "# beer_preds_actual_df = beer_preds_actual_df.assign(beer_diff=(beer_preds_actual_df.beer_preds-\\\n",
    "#                                                   beer_preds_actual_df.beer_1))\n",
    "UMCSENT_preds_actual_df = UMCSENT_preds_actual_df.assign(UMCSENT_diff=(UMCSENT_preds_actual_df.UMCSENT_preds-\\\n",
    "                                                          UMCSENT_preds_actual_df.UMCSENT_1))\n"
   ]
  },
  {
   "cell_type": "code",
   "execution_count": 30,
   "metadata": {
    "ExecuteTime": {
     "end_time": "2019-06-10T23:07:18.379682Z",
     "start_time": "2019-06-10T23:07:18.349001Z"
    }
   },
   "outputs": [],
   "source": [
    "# print('Test RMSE: %.3f' % sqrt(mean_squared_error(beer_preds_actual_df.beer_1,\n",
    "#                                                  beer_preds_actual_df.beer_preds)))\n",
    "# print(f'RMSE %: {round(sqrt(mean_squared_error(beer_preds_actual_df.beer_1, beer_preds_actual_df.beer_preds))/beer_preds_actual_df.beer_1.mean()*100,4)}%')"
   ]
  },
  {
   "cell_type": "code",
   "execution_count": 31,
   "metadata": {
    "ExecuteTime": {
     "end_time": "2019-06-10T23:07:18.412107Z",
     "start_time": "2019-06-10T23:07:18.381554Z"
    }
   },
   "outputs": [],
   "source": [
    "# plt.figure(figsize=(12,5))\n",
    "# plt.plot(beer_preds_actual_df.beer_1, label='actual')\n",
    "# plt.plot(beer_preds_actual_df.beer_preds, label='pred')\n",
    "# plt.title(f'Beer')\n",
    "# plt.legend()\n",
    "# plt.show()"
   ]
  },
  {
   "cell_type": "code",
   "execution_count": 32,
   "metadata": {
    "ExecuteTime": {
     "end_time": "2019-06-10T23:07:18.447348Z",
     "start_time": "2019-06-10T23:07:18.413908Z"
    }
   },
   "outputs": [
    {
     "name": "stdout",
     "output_type": "stream",
     "text": [
      "Test RMSE: 3.327\n",
      "RMSE %: 3.411%\n"
     ]
    }
   ],
   "source": [
    "print('Test RMSE: %.3f' % sqrt(mean_squared_error(UMCSENT_preds_actual_df.UMCSENT_1,\n",
    "                                                 UMCSENT_preds_actual_df.UMCSENT_preds)))\n",
    "print(f'RMSE %: {round(sqrt(mean_squared_error(UMCSENT_preds_actual_df.UMCSENT_1, UMCSENT_preds_actual_df.UMCSENT_preds))/UMCSENT_preds_actual_df.UMCSENT_1.mean()*100,4)}%')\n"
   ]
  },
  {
   "cell_type": "code",
   "execution_count": 33,
   "metadata": {
    "ExecuteTime": {
     "end_time": "2019-06-10T23:07:18.706400Z",
     "start_time": "2019-06-10T23:07:18.449155Z"
    }
   },
   "outputs": [
    {
     "data": {
      "image/png": "[encoded data removed]",
      "text/plain": [
       "<Figure size 864x360 with 1 Axes>"
      ]
     },
     "metadata": {
      "needs_background": "light"
     },
     "output_type": "display_data"
    }
   ],
   "source": [
    "plt.figure(figsize=(12,5))\n",
    "plt.plot(UMCSENT_preds_actual_df.UMCSENT_1, label='actual')\n",
    "plt.plot(UMCSENT_preds_actual_df.UMCSENT_preds, label='pred')\n",
    "plt.title(f'US Michigan CS')\n",
    "plt.legend()\n",
    "plt.show()"
   ]
  },
  {
   "cell_type": "markdown",
   "metadata": {},
   "source": [
    "### Keras"
   ]
  },
  {
   "cell_type": "code",
   "execution_count": 34,
   "metadata": {
    "ExecuteTime": {
     "end_time": "2019-06-10T23:07:18.805210Z",
     "start_time": "2019-06-10T23:07:18.708113Z"
    }
   },
   "outputs": [
    {
     "name": "stderr",
     "output_type": "stream",
     "text": [
      "Using TensorFlow backend.\n"
     ]
    }
   ],
   "source": [
    "from keras.models import Sequential\n",
    "from keras.layers import Dense, Dropout\n",
    "from keras.layers import LSTM"
   ]
  },
  {
   "cell_type": "code",
   "execution_count": 35,
   "metadata": {
    "ExecuteTime": {
     "end_time": "2019-06-10T23:07:18.839826Z",
     "start_time": "2019-06-10T23:07:18.807314Z"
    }
   },
   "outputs": [],
   "source": [
    "def keras_lstm(x_train, y_train_scaled, X_test, \n",
    "               N_EPOCHS, batchSize, neuron_1):\n",
    "    model = Sequential()\n",
    "    model.add(LSTM(neuron_1, \n",
    "                   batch_input_shape=(batchSize, x_train.shape[1], x_train.shape[2]), \n",
    "                   stateful=True, activation='relu'))\n",
    "    model.add(Dropout(0.2))\n",
    "#     model.add(LSTM(neuron_2, activation='relu'))\n",
    "#     model.add(Dropout(0.1))    \n",
    "    model.add(Dense(X_train.shape[2]))\n",
    "    \n",
    "    model.compile(loss='mean_squared_error', optimizer='RMSprop', metrics=['mae'])\n",
    "    \n",
    "    model.fit(X_train, y_train_scaled, \n",
    "              epochs=N_EPOCHS,\n",
    "              batch_size=batchSize, \n",
    "              verbose=1,\n",
    "              shuffle=False)\n",
    "    yhat_scale = model.predict(X_test, batch_size=batchSize)\n",
    "    return yhat_scale\n"
   ]
  },
  {
   "cell_type": "code",
   "execution_count": 36,
   "metadata": {
    "ExecuteTime": {
     "end_time": "2019-06-10T23:07:18.867839Z",
     "start_time": "2019-06-10T23:07:18.841241Z"
    }
   },
   "outputs": [],
   "source": [
    "# yhat_scale_preds = keras_lstm(X_train, y_train_scaled, X_test, 50, 1, 1, )"
   ]
  },
  {
   "cell_type": "code",
   "execution_count": 37,
   "metadata": {
    "ExecuteTime": {
     "end_time": "2019-06-10T23:07:18.895887Z",
     "start_time": "2019-06-10T23:07:18.869530Z"
    }
   },
   "outputs": [],
   "source": [
    "def inverse_scale(inv_preds):\n",
    "    return scaler.inverse_transform(inv_preds)"
   ]
  },
  {
   "cell_type": "code",
   "execution_count": 38,
   "metadata": {
    "ExecuteTime": {
     "end_time": "2019-06-10T23:07:18.924263Z",
     "start_time": "2019-06-10T23:07:18.897424Z"
    }
   },
   "outputs": [],
   "source": [
    "# inverse_scale(yhat_scale_preds)"
   ]
  },
  {
   "cell_type": "markdown",
   "metadata": {},
   "source": [
    "## LSTM model"
   ]
  },
  {
   "cell_type": "code",
   "execution_count": 43,
   "metadata": {
    "ExecuteTime": {
     "end_time": "2019-06-10T23:19:13.832053Z",
     "start_time": "2019-06-10T23:19:13.798432Z"
    }
   },
   "outputs": [],
   "source": [
    "from qreit.models.lstm.data_processor import *\n",
    "from qreit.models.lstm.model import *\n",
    "\n",
    "default_configs = default_configs"
   ]
  },
  {
   "cell_type": "code",
   "execution_count": 44,
   "metadata": {
    "ExecuteTime": {
     "end_time": "2019-06-10T23:19:14.656965Z",
     "start_time": "2019-06-10T23:19:14.077775Z"
    }
   },
   "outputs": [
    {
     "name": "stdout",
     "output_type": "stream",
     "text": [
      "[Model] Model Compiled\n",
      "Time taken: 0:00:00.535355\n"
     ]
    }
   ],
   "source": [
    "data = DataLoader(beer_UMCSENT_df, 0.85, ['beer', 'UMCSENT'])\n",
    "\n",
    "model = Model()\n",
    "model.build_model()\n",
    "x, y = data.get_train_data(3, True)"
   ]
  },
  {
   "cell_type": "code",
   "execution_count": 45,
   "metadata": {
    "ExecuteTime": {
     "end_time": "2019-06-10T23:19:16.580312Z",
     "start_time": "2019-06-10T23:19:14.659514Z"
    }
   },
   "outputs": [
    {
     "name": "stdout",
     "output_type": "stream",
     "text": [
      "[Model] Training Started\n",
      "[Model] 2 epochs, 32 batch size, 9 batches per epoch\n",
      "Epoch 1/2\n"
     ]
    },
    {
     "ename": "ValueError",
     "evalue": "Error when checking input: expected lstm_4_input to have shape (1, 2) but got array with shape (2, 2)",
     "output_type": "error",
     "traceback": [
      "\u001b[0;31m---------------------------------------------------------------------------\u001b[0m",
      "\u001b[0;31mValueError\u001b[0m                                Traceback (most recent call last)",
      "\u001b[0;32m<ipython-input-45-9ec7e371228c>\u001b[0m in \u001b[0;36m<module>\u001b[0;34m\u001b[0m\n\u001b[1;32m      2\u001b[0m                      steps_per_epoch = math.ceil((data.len_train - \\\n\u001b[1;32m      3\u001b[0m                                                   default_configs['data']['sequence_length']) / \\\n\u001b[0;32m----> 4\u001b[0;31m                                                   default_configs['training']['batch_size']))\n\u001b[0m",
      "\u001b[0;32m~/src/qreit/models/lstm/model.py\u001b[0m in \u001b[0;36mtrain_generator\u001b[0;34m(self, data, steps_per_epoch, epochs, batch_size, save_dir)\u001b[0m\n\u001b[1;32m    100\u001b[0m                         \u001b[0mepochs\u001b[0m\u001b[0;34m=\u001b[0m\u001b[0mepochs\u001b[0m\u001b[0;34m,\u001b[0m\u001b[0;34m\u001b[0m\u001b[0;34m\u001b[0m\u001b[0m\n\u001b[1;32m    101\u001b[0m                         \u001b[0mcallbacks\u001b[0m\u001b[0;34m=\u001b[0m\u001b[0mcallbacks\u001b[0m\u001b[0;34m,\u001b[0m\u001b[0;34m\u001b[0m\u001b[0;34m\u001b[0m\u001b[0m\n\u001b[0;32m--> 102\u001b[0;31m                         \u001b[0mworkers\u001b[0m\u001b[0;34m=\u001b[0m\u001b[0;36m1\u001b[0m\u001b[0;34m\u001b[0m\u001b[0;34m\u001b[0m\u001b[0m\n\u001b[0m\u001b[1;32m    103\u001b[0m \t\t)\n\u001b[1;32m    104\u001b[0m \u001b[0;34m\u001b[0m\u001b[0m\n",
      "\u001b[0;32m~/anaconda3/lib/python3.7/site-packages/keras/legacy/interfaces.py\u001b[0m in \u001b[0;36mwrapper\u001b[0;34m(*args, **kwargs)\u001b[0m\n\u001b[1;32m     89\u001b[0m                 warnings.warn('Update your `' + object_name + '` call to the ' +\n\u001b[1;32m     90\u001b[0m                               'Keras 2 API: ' + signature, stacklevel=2)\n\u001b[0;32m---> 91\u001b[0;31m             \u001b[0;32mreturn\u001b[0m \u001b[0mfunc\u001b[0m\u001b[0;34m(\u001b[0m\u001b[0;34m*\u001b[0m\u001b[0margs\u001b[0m\u001b[0;34m,\u001b[0m \u001b[0;34m**\u001b[0m\u001b[0mkwargs\u001b[0m\u001b[0;34m)\u001b[0m\u001b[0;34m\u001b[0m\u001b[0;34m\u001b[0m\u001b[0m\n\u001b[0m\u001b[1;32m     92\u001b[0m         \u001b[0mwrapper\u001b[0m\u001b[0;34m.\u001b[0m\u001b[0m_original_function\u001b[0m \u001b[0;34m=\u001b[0m \u001b[0mfunc\u001b[0m\u001b[0;34m\u001b[0m\u001b[0;34m\u001b[0m\u001b[0m\n\u001b[1;32m     93\u001b[0m         \u001b[0;32mreturn\u001b[0m \u001b[0mwrapper\u001b[0m\u001b[0;34m\u001b[0m\u001b[0;34m\u001b[0m\u001b[0m\n",
      "\u001b[0;32m~/anaconda3/lib/python3.7/site-packages/keras/engine/training.py\u001b[0m in \u001b[0;36mfit_generator\u001b[0;34m(self, generator, steps_per_epoch, epochs, verbose, callbacks, validation_data, validation_steps, class_weight, max_queue_size, workers, use_multiprocessing, shuffle, initial_epoch)\u001b[0m\n\u001b[1;32m   1416\u001b[0m             \u001b[0muse_multiprocessing\u001b[0m\u001b[0;34m=\u001b[0m\u001b[0muse_multiprocessing\u001b[0m\u001b[0;34m,\u001b[0m\u001b[0;34m\u001b[0m\u001b[0;34m\u001b[0m\u001b[0m\n\u001b[1;32m   1417\u001b[0m             \u001b[0mshuffle\u001b[0m\u001b[0;34m=\u001b[0m\u001b[0mshuffle\u001b[0m\u001b[0;34m,\u001b[0m\u001b[0;34m\u001b[0m\u001b[0;34m\u001b[0m\u001b[0m\n\u001b[0;32m-> 1418\u001b[0;31m             initial_epoch=initial_epoch)\n\u001b[0m\u001b[1;32m   1419\u001b[0m \u001b[0;34m\u001b[0m\u001b[0m\n\u001b[1;32m   1420\u001b[0m     \u001b[0;34m@\u001b[0m\u001b[0minterfaces\u001b[0m\u001b[0;34m.\u001b[0m\u001b[0mlegacy_generator_methods_support\u001b[0m\u001b[0;34m\u001b[0m\u001b[0;34m\u001b[0m\u001b[0m\n",
      "\u001b[0;32m~/anaconda3/lib/python3.7/site-packages/keras/engine/training_generator.py\u001b[0m in \u001b[0;36mfit_generator\u001b[0;34m(model, generator, steps_per_epoch, epochs, verbose, callbacks, validation_data, validation_steps, class_weight, max_queue_size, workers, use_multiprocessing, shuffle, initial_epoch)\u001b[0m\n\u001b[1;32m    215\u001b[0m                 outs = model.train_on_batch(x, y,\n\u001b[1;32m    216\u001b[0m                                             \u001b[0msample_weight\u001b[0m\u001b[0;34m=\u001b[0m\u001b[0msample_weight\u001b[0m\u001b[0;34m,\u001b[0m\u001b[0;34m\u001b[0m\u001b[0;34m\u001b[0m\u001b[0m\n\u001b[0;32m--> 217\u001b[0;31m                                             class_weight=class_weight)\n\u001b[0m\u001b[1;32m    218\u001b[0m \u001b[0;34m\u001b[0m\u001b[0m\n\u001b[1;32m    219\u001b[0m                 \u001b[0mouts\u001b[0m \u001b[0;34m=\u001b[0m \u001b[0mto_list\u001b[0m\u001b[0;34m(\u001b[0m\u001b[0mouts\u001b[0m\u001b[0;34m)\u001b[0m\u001b[0;34m\u001b[0m\u001b[0;34m\u001b[0m\u001b[0m\n",
      "\u001b[0;32m~/anaconda3/lib/python3.7/site-packages/keras/engine/training.py\u001b[0m in \u001b[0;36mtrain_on_batch\u001b[0;34m(self, x, y, sample_weight, class_weight)\u001b[0m\n\u001b[1;32m   1209\u001b[0m             \u001b[0mx\u001b[0m\u001b[0;34m,\u001b[0m \u001b[0my\u001b[0m\u001b[0;34m,\u001b[0m\u001b[0;34m\u001b[0m\u001b[0;34m\u001b[0m\u001b[0m\n\u001b[1;32m   1210\u001b[0m             \u001b[0msample_weight\u001b[0m\u001b[0;34m=\u001b[0m\u001b[0msample_weight\u001b[0m\u001b[0;34m,\u001b[0m\u001b[0;34m\u001b[0m\u001b[0;34m\u001b[0m\u001b[0m\n\u001b[0;32m-> 1211\u001b[0;31m             class_weight=class_weight)\n\u001b[0m\u001b[1;32m   1212\u001b[0m         \u001b[0;32mif\u001b[0m \u001b[0mself\u001b[0m\u001b[0;34m.\u001b[0m\u001b[0m_uses_dynamic_learning_phase\u001b[0m\u001b[0;34m(\u001b[0m\u001b[0;34m)\u001b[0m\u001b[0;34m:\u001b[0m\u001b[0;34m\u001b[0m\u001b[0;34m\u001b[0m\u001b[0m\n\u001b[1;32m   1213\u001b[0m             \u001b[0mins\u001b[0m \u001b[0;34m=\u001b[0m \u001b[0mx\u001b[0m \u001b[0;34m+\u001b[0m \u001b[0my\u001b[0m \u001b[0;34m+\u001b[0m \u001b[0msample_weights\u001b[0m \u001b[0;34m+\u001b[0m \u001b[0;34m[\u001b[0m\u001b[0;36m1.\u001b[0m\u001b[0;34m]\u001b[0m\u001b[0;34m\u001b[0m\u001b[0;34m\u001b[0m\u001b[0m\n",
      "\u001b[0;32m~/anaconda3/lib/python3.7/site-packages/keras/engine/training.py\u001b[0m in \u001b[0;36m_standardize_user_data\u001b[0;34m(self, x, y, sample_weight, class_weight, check_array_lengths, batch_size)\u001b[0m\n\u001b[1;32m    749\u001b[0m             \u001b[0mfeed_input_shapes\u001b[0m\u001b[0;34m,\u001b[0m\u001b[0;34m\u001b[0m\u001b[0;34m\u001b[0m\u001b[0m\n\u001b[1;32m    750\u001b[0m             \u001b[0mcheck_batch_axis\u001b[0m\u001b[0;34m=\u001b[0m\u001b[0;32mFalse\u001b[0m\u001b[0;34m,\u001b[0m  \u001b[0;31m# Don't enforce the batch size.\u001b[0m\u001b[0;34m\u001b[0m\u001b[0;34m\u001b[0m\u001b[0m\n\u001b[0;32m--> 751\u001b[0;31m             exception_prefix='input')\n\u001b[0m\u001b[1;32m    752\u001b[0m \u001b[0;34m\u001b[0m\u001b[0m\n\u001b[1;32m    753\u001b[0m         \u001b[0;32mif\u001b[0m \u001b[0my\u001b[0m \u001b[0;32mis\u001b[0m \u001b[0;32mnot\u001b[0m \u001b[0;32mNone\u001b[0m\u001b[0;34m:\u001b[0m\u001b[0;34m\u001b[0m\u001b[0;34m\u001b[0m\u001b[0m\n",
      "\u001b[0;32m~/anaconda3/lib/python3.7/site-packages/keras/engine/training_utils.py\u001b[0m in \u001b[0;36mstandardize_input_data\u001b[0;34m(data, names, shapes, check_batch_axis, exception_prefix)\u001b[0m\n\u001b[1;32m    136\u001b[0m                             \u001b[0;34m': expected '\u001b[0m \u001b[0;34m+\u001b[0m \u001b[0mnames\u001b[0m\u001b[0;34m[\u001b[0m\u001b[0mi\u001b[0m\u001b[0;34m]\u001b[0m \u001b[0;34m+\u001b[0m \u001b[0;34m' to have shape '\u001b[0m \u001b[0;34m+\u001b[0m\u001b[0;34m\u001b[0m\u001b[0;34m\u001b[0m\u001b[0m\n\u001b[1;32m    137\u001b[0m                             \u001b[0mstr\u001b[0m\u001b[0;34m(\u001b[0m\u001b[0mshape\u001b[0m\u001b[0;34m)\u001b[0m \u001b[0;34m+\u001b[0m \u001b[0;34m' but got array with shape '\u001b[0m \u001b[0;34m+\u001b[0m\u001b[0;34m\u001b[0m\u001b[0;34m\u001b[0m\u001b[0m\n\u001b[0;32m--> 138\u001b[0;31m                             str(data_shape))\n\u001b[0m\u001b[1;32m    139\u001b[0m     \u001b[0;32mreturn\u001b[0m \u001b[0mdata\u001b[0m\u001b[0;34m\u001b[0m\u001b[0;34m\u001b[0m\u001b[0m\n\u001b[1;32m    140\u001b[0m \u001b[0;34m\u001b[0m\u001b[0m\n",
      "\u001b[0;31mValueError\u001b[0m: Error when checking input: expected lstm_4_input to have shape (1, 2) but got array with shape (2, 2)"
     ]
    }
   ],
   "source": [
    "model.train_generator(data,\n",
    "                     steps_per_epoch = math.ceil((data.len_train - \\\n",
    "                                                  default_configs['data']['sequence_length']) / \\\n",
    "                                                  default_configs['training']['batch_size']))\n"
   ]
  },
  {
   "cell_type": "code",
   "execution_count": null,
   "metadata": {
    "ExecuteTime": {
     "end_time": "2019-06-10T23:07:21.563292Z",
     "start_time": "2019-06-10T23:06:10.988Z"
    }
   },
   "outputs": [],
   "source": [
    "x_test, y_test = data.get_test_data(seq_len=3,\n",
    "                                     normalise=True)"
   ]
  },
  {
   "cell_type": "code",
   "execution_count": null,
   "metadata": {
    "ExecuteTime": {
     "end_time": "2019-06-10T23:07:21.564596Z",
     "start_time": "2019-06-10T23:06:10.990Z"
    }
   },
   "outputs": [],
   "source": [
    "predictions = model.predict_point_by_point(x_test)"
   ]
  },
  {
   "cell_type": "code",
   "execution_count": null,
   "metadata": {},
   "outputs": [],
   "source": []
  },
  {
   "cell_type": "code",
   "execution_count": null,
   "metadata": {
    "ExecuteTime": {
     "end_time": "2019-06-10T23:07:21.566020Z",
     "start_time": "2019-06-10T23:06:10.994Z"
    }
   },
   "outputs": [],
   "source": [
    "i_split = int(len(beer_UMCSENT_df)*0.85)\n",
    "train_test = beer_UMCSENT_df.get(['beer', 'UMCSENT']).values[:i_split]\n",
    "test_test = beer_UMCSENT_df.get(['beer', 'UMCSENT']).values[i_split:]\n",
    "\n",
    "len_test = len(test_test)"
   ]
  },
  {
   "cell_type": "code",
   "execution_count": null,
   "metadata": {
    "ExecuteTime": {
     "end_time": "2019-06-10T23:07:21.567202Z",
     "start_time": "2019-06-10T23:06:10.997Z"
    }
   },
   "outputs": [],
   "source": [
    "seq_len = 12\n",
    "data_windows = []\n",
    "for i in range(len_test - seq_len):\n",
    "    data_windows.append(test_test[i:i+seq_len])"
   ]
  },
  {
   "cell_type": "code",
   "execution_count": null,
   "metadata": {
    "ExecuteTime": {
     "end_time": "2019-06-10T23:07:21.568823Z",
     "start_time": "2019-06-10T23:06:11.000Z"
    }
   },
   "outputs": [],
   "source": [
    "def normalise_windows(window_data, single_window=False):\n",
    "    '''Normalise window with a base value of zero'''\n",
    "    normalised_data = []\n",
    "    window_data = [window_data] if single_window else window_data\n",
    "    for window in window_data:\n",
    "        normalised_window = []\n",
    "        for col_i in range(window.shape[1]):\n",
    "            normalised_col = [((float(p) / float(window[0, col_i])) - 1) for p in window[:, col_i]]\n",
    "            normalised_window.append(normalised_col)\n",
    "        normalised_window = np.array(normalised_window).T # reshape and transpose array back into original multidimensional format\n",
    "        normalised_data.append(normalised_window)\n",
    "    return np.array(normalised_data)"
   ]
  },
  {
   "cell_type": "code",
   "execution_count": null,
   "metadata": {
    "ExecuteTime": {
     "end_time": "2019-06-10T23:07:21.570265Z",
     "start_time": "2019-06-10T23:06:11.002Z"
    }
   },
   "outputs": [],
   "source": [
    "data_windows = np.array(data_windows).astype(float)\n",
    "data_windows = normalise_windows(data_windows, single_window=False)"
   ]
  },
  {
   "cell_type": "code",
   "execution_count": null,
   "metadata": {
    "ExecuteTime": {
     "end_time": "2019-06-10T23:07:21.571690Z",
     "start_time": "2019-06-10T23:06:11.004Z"
    }
   },
   "outputs": [],
   "source": [
    "x = data_windows[:, :-1]\n",
    "y = data_windows[:, -1, [0]]"
   ]
  },
  {
   "cell_type": "code",
   "execution_count": null,
   "metadata": {
    "ExecuteTime": {
     "end_time": "2019-06-10T23:07:21.572908Z",
     "start_time": "2019-06-10T23:06:11.006Z"
    }
   },
   "outputs": [],
   "source": [
    "y = data_windows[:, -1, [0]]"
   ]
  },
  {
   "cell_type": "code",
   "execution_count": null,
   "metadata": {
    "ExecuteTime": {
     "end_time": "2019-06-10T23:07:21.574056Z",
     "start_time": "2019-06-10T23:06:11.009Z"
    }
   },
   "outputs": [],
   "source": [
    "y.shape"
   ]
  },
  {
   "cell_type": "code",
   "execution_count": null,
   "metadata": {},
   "outputs": [],
   "source": []
  }
 ],
 "metadata": {
  "kernelspec": {
   "display_name": "Python 3",
   "language": "python",
   "name": "python3"
  },
  "language_info": {
   "codemirror_mode": {
    "name": "ipython",
    "version": 3
   },
   "file_extension": ".py",
   "mimetype": "text/x-python",
   "name": "python",
   "nbconvert_exporter": "python",
   "pygments_lexer": "ipython3",
   "version": "3.7.2"
  }
 },
 "nbformat": 4,
 "nbformat_minor": 2
}
