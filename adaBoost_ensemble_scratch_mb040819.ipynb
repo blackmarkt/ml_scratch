{
 "cells": [
  {
   "cell_type": "markdown",
   "metadata": {},
   "source": [
    "# AdaBoost Ensemble Algorithm\n",
    "\n",
    "#### TL;DR\n",
    "Develop an understanding of the AdaBoost model and it's approach\n",
    "\n",
    "### Reference Resources\n",
    "\n",
    "\n",
    "\n",
    "### General Idea/Key Points\n",
    "\n",
    "- Boosting: \"Weak Learner\" which takes multiple bags and assigns a higher weight to misclassified data in order for \"learn\". Also means you want \"high bias\" overfit models\n",
    "\n",
    "$$F(x)=\\sum_{m=1}^M\\alpha_{m}f_{m}(x)$$\n",
    "\n",
    "- We want weak \"high bias\" (under-fit) models as opposed to bagging/RF which dealt with overfit models (low bias, high variance)\n",
    "\n",
    "- Not prone to overfitting\n",
    "\n",
    "- Fast and efficient at training\n",
    "\n",
    "- Typically used in conjunction with classifiers especially decision tree/random forest\n",
    "\n",
    "- Also can be used with other classifiers and regressors\n",
    "\n",
    "- AdaBoost (Additive Modeling): adds one trained (all data) base model at a time and resamples by assigning weights $w_{i}$ to misclassified data, calculate error weighted by $w_{i}$, calculate $\\alpha_{m}$ (as function of error which means that higher $w_{m}$ should be bigger for more accurate/less error), iterate...\n",
    "\n",
    "- AdaBoost uses a **Exponential Loss Function**\n",
    "\n",
    "$$L(y,f(x))=exp(-yf(x))$$\n",
    "or\n",
    "$$J=\\sum_{t=1}^Ne^{-y_{t}F(x_{t}}$$\n",
    "\n",
    "$$(\\alpha_{m}^*,f_{m}^*)=argmin_{\\alpha_{m},f_{m}}\\sum_{i=1}^N exp(-y_{i}\\big[F_{m-1}(x_{i})+\\alpha_{m}f_{m}(x_{i})\\big])$$\n",
    "\n",
    "which leads to a simplification\n",
    "\n",
    "$$J=e^{-\\alpha}A + e^{\\alpha}B$$\n",
    "\n",
    "where $A=\\text{sum of corrects}$ and $B=\\text{sum of incorrects}$\n",
    "\n",
    "Now we can differentiate w.r.t to $\\alpha$\n",
    "\n",
    "$$\\frac{\\partial J}{\\partial \\alpha}=e^{-\\alpha}A + e^{\\alpha}B$$\n",
    "\n",
    "and set to 0 \n",
    "\n",
    "$$\\alpha_{m}=\\frac{1}{2}ln(\\frac{A}{B})=\\frac{1}{2}ln\\big(\\frac{\\text{# weighted correct}}{\\text{# weighted incorrect}}\\big)=0$$\n",
    "\n",
    "### AdaBoost Details\n",
    "\n",
    "- use targets {-1, +1} and not {0, 1} \n",
    "\n",
    "- No resampling and all data is trained on base model\n",
    "\n",
    "- Can we used for both regression and classification (trees as recommended base model)\n",
    "\n",
    "- **KEY**: Use $w_{i}$ to weight how important each sample record is where an error will result in $w_{i}$ increasing\n",
    "\n",
    "- decision boundary is 0.\n",
    "\n",
    "- Bigger $\\alpha$ means more accurate/less error\n",
    "\n",
    "$$F(x)=sign\\bigg(\\sum_{m=1}^M \\alpha_{m}f_{m}(x)\\bigg)$$\n",
    "\n",
    "where $sign$ is the targets {-1, +1}\n",
    "\n",
    "\n",
    "### Math of AdaBoost\n",
    "\n",
    "First initialize $w_{i}$'s\n",
    "\n",
    "$$\\epsilon_{m}=\\frac{\\sum_{i=1}^Nw_{i}I(y\\neq f_{m}(X_{i}))}{\\sum_{i=1}^N w_{i}}$$\n",
    "\n",
    "$$\\alpha_{m}=\\frac{1}{2}log\\big[\\frac{1-\\epsilon_{m}}{\\epsilon_{m}}\\big]$$\n",
    "\n",
    "$$w_{i}=w_{i}exp\\big[-\\alpha_{m}y_{m}f_{m}(x_{i})\\big],i=1,...,N$$\n",
    "\n",
    "$$w_{i}=w_{i}/\\sum_{j=1}^N w_{j}$$\n",
    "\n",
    "the last step is a normalizes $w$ \n",
    "\n",
    "then save $\\alpha_{m}$, $f_{m}(x)$ \n",
    "\n",
    "### Psuedocode\n",
    "\n",
    "1. Initialize $w_{i}$ with equal weights for $i=1,...,N$\n",
    "2. Fit $f_{m}(x)$ with sample weights $w_{i}$ for $m=1,...,M$\n",
    "3. Error for each model: $\\epsilon_{m}=\\frac{\\sum_{i=1}^N w_{i}I(y_{i}\\neq f_{m}(x_{i}))}{\\sum_{i=1}^N w_{i}}$\n",
    "4. Alpha for each model: $\\alpha_{m}=\\frac{1}{2}log\\big[\\frac{1-\\epsilon_{m}}{\\epsilon_{m}}\\big]$\n",
    "5. Update the weights for each record: $w_{i}=w_{i}exp\\big[-\\alpha_{m}y_{i}f_{m}(x_{i})\\big], \\ i=1,...,N$\n",
    "6. Normalize weights: $w_{i}=\\frac{w_{i}}{\\sum_{j=1}^N w_{j}}$\n",
    "\n",
    "7. Stop and save $\\alpha_{m},\\ f_{m}(x)$"
   ]
  },
  {
   "cell_type": "code",
   "execution_count": 4,
   "metadata": {
    "ExecuteTime": {
     "end_time": "2019-04-11T15:37:11.521977Z",
     "start_time": "2019-04-11T15:37:10.064032Z"
    }
   },
   "outputs": [],
   "source": [
    "import numpy as np\n",
    "import pandas as pd\n",
    "\n",
    "import matplotlib.pyplot as plt\n",
    "%matplotlib inline\n",
    "\n",
    "from sklearn.tree import DecisionTreeClassifier\n",
    "from sklearn import preprocessing"
   ]
  },
  {
   "cell_type": "code",
   "execution_count": 5,
   "metadata": {
    "ExecuteTime": {
     "end_time": "2019-04-11T15:37:11.535802Z",
     "start_time": "2019-04-11T15:37:11.524331Z"
    }
   },
   "outputs": [],
   "source": [
    "class AdaBoost:\n",
    "  def __init__(self, M):\n",
    "    self.M = M\n",
    "\n",
    "  def fit(self, X, Y):\n",
    "    self.models = []\n",
    "    self.alphas = []\n",
    "\n",
    "    N, _ = X.shape\n",
    "    W = np.ones(N) / N\n",
    "\n",
    "    for m in range(self.M):\n",
    "      tree = DecisionTreeClassifier(max_depth=1)\n",
    "      tree.fit(X, Y, sample_weight=W)\n",
    "      P = tree.predict(X)\n",
    "\n",
    "      err = W.dot(P != Y)\n",
    "      alpha = 0.5*(np.log(1 - err) - np.log(err))\n",
    "\n",
    "      W = W*np.exp(-alpha*Y*P) # vectorized form\n",
    "      W = W / W.sum() # normalize so it sums to 1\n",
    "\n",
    "      self.models.append(tree)\n",
    "      self.alphas.append(alpha)\n",
    "\n",
    "  def predict(self, X):\n",
    "    # NOT like SKLearn API\n",
    "    # we want accuracy and exponential loss for plotting purposes\n",
    "    N, _ = X.shape\n",
    "    FX = np.zeros(N)\n",
    "    for alpha, tree in zip(self.alphas, self.models):\n",
    "      FX += alpha*tree.predict(X)\n",
    "    return np.sign(FX), FX\n",
    "\n",
    "  def score(self, X, Y):\n",
    "    # NOT like SKLearn API\n",
    "    # we want accuracy and exponential loss for plotting purposes\n",
    "    P, FX = self.predict(X)\n",
    "    L = np.exp(-Y*FX).mean()\n",
    "    return np.mean(P == Y), L"
   ]
  },
  {
   "cell_type": "code",
   "execution_count": 6,
   "metadata": {
    "ExecuteTime": {
     "end_time": "2019-04-11T15:37:12.691943Z",
     "start_time": "2019-04-11T15:37:11.538975Z"
    }
   },
   "outputs": [
    {
     "name": "stderr",
     "output_type": "stream",
     "text": [
      "/Users/marktblack/anaconda3/lib/python3.7/site-packages/ipykernel_launcher.py:9: SettingWithCopyWarning: \n",
      "A value is trying to be set on a copy of a slice from a DataFrame\n",
      "\n",
      "See the caveats in the documentation: http://pandas.pydata.org/pandas-docs/stable/indexing.html#indexing-view-versus-copy\n",
      "  if __name__ == '__main__':\n",
      "/Users/marktblack/anaconda3/lib/python3.7/site-packages/ipykernel_launcher.py:10: SettingWithCopyWarning: \n",
      "A value is trying to be set on a copy of a slice from a DataFrame\n",
      "\n",
      "See the caveats in the documentation: http://pandas.pydata.org/pandas-docs/stable/indexing.html#indexing-view-versus-copy\n",
      "  # Remove the CWD from sys.path while we load stuff.\n"
     ]
    },
    {
     "name": "stdout",
     "output_type": "stream",
     "text": [
      "20\n",
      "40\n",
      "60\n",
      "80\n",
      "100\n",
      "120\n",
      "140\n",
      "160\n",
      "180\n",
      "final train error: 0.0\n",
      "final test error: 0.016000000000000014\n"
     ]
    },
    {
     "data": {
      "image/png": "[encoded data removed]",
      "text/plain": [
       "<Figure size 432x288 with 1 Axes>"
      ]
     },
     "metadata": {
      "needs_background": "light"
     },
     "output_type": "display_data"
    },
    {
     "data": {
      "image/png": "[encoded data removed]",
      "text/plain": [
       "<Figure size 432x288 with 1 Axes>"
      ]
     },
     "metadata": {
      "needs_background": "light"
     },
     "output_type": "display_data"
    }
   ],
   "source": [
    "if __name__ == '__main__':\n",
    "    mushroom_df = pd.read_csv('./data/mushrooms.csv')\n",
    "    data_encoded = preprocessing.LabelEncoder() #So, lets code them into numeric categories. Used scikit \n",
    "    for column in mushroom_df.columns[1:]: #OneHotEncoder. Another way - pandas.get_dummies. Code \n",
    "        mushroom_df[column] = data_encoded.fit(mushroom_df[column]).transform(mushroom_df[column])\n",
    "        \n",
    "    X = mushroom_df.iloc[:, 1:].values\n",
    "    Y = mushroom_df.iloc[:, 0]\n",
    "    Y[Y=='p'] = -1\n",
    "    Y[Y=='e'] = 1\n",
    "    Y = Y.astype(int)\n",
    "    Y = Y.values\n",
    "    \n",
    "    Ntrain = int(0.8*len(X))\n",
    "    Xtrain, Ytrain = X[:Ntrain], Y[:Ntrain]\n",
    "    Xtest, Ytest = X[Ntrain:], Y[Ntrain:]\n",
    "    \n",
    "    T = 200\n",
    "    train_errors = np.empty(T)\n",
    "    test_losses = np.empty(T)\n",
    "    test_errors = np.empty(T)\n",
    "    for num_trees in range(T):\n",
    "        if num_trees == 0:\n",
    "          train_errors[num_trees] = None\n",
    "          test_errors[num_trees] = None\n",
    "          test_losses[num_trees] = None\n",
    "          continue\n",
    "        if num_trees % 20 == 0:\n",
    "          print(num_trees)\n",
    "        \n",
    "    model = AdaBoost(num_trees)\n",
    "    model.fit(Xtrain, Ytrain)\n",
    "    acc, loss = model.score(Xtest, Ytest)\n",
    "    acc_train, _ = model.score(Xtrain, Ytrain)\n",
    "    train_errors[num_trees] = 1 - acc_train\n",
    "    test_errors[num_trees] = 1 - acc\n",
    "    test_losses[num_trees] = loss\n",
    "    \n",
    "    if num_trees == T - 1:\n",
    "      print(\"final train error:\", 1 - acc_train)\n",
    "      print(\"final test error:\", 1 - acc)\n",
    "\n",
    "    plt.plot(test_errors, label='test errors')\n",
    "    plt.plot(test_losses, label='test losses')\n",
    "    plt.legend()\n",
    "    plt.show()\n",
    "\n",
    "    plt.plot(train_errors, label='train errors')\n",
    "    plt.plot(test_errors, label='test errors')\n",
    "    plt.legend()\n",
    "    plt.show()"
   ]
  },
  {
   "cell_type": "markdown",
   "metadata": {},
   "source": [
    "## Stacking v AdaBoost\n",
    "\n",
    "In terms of cost functions\n",
    "\n",
    "- Both use weighted ensemble of base models\n",
    "\n",
    "- AdaBoost: base classifier is $f_{m}$ trained with sample weights $W^{m}$\n",
    "- Stacking: base classifier is trained with a leave-one-out (-i means don't train on sample i)\n",
    "\n",
    "#### Complexity\n",
    "\n",
    "- AdaBoost has linear O(N)\n",
    "- Stacking has quadratic O(NM)"
   ]
  },
  {
   "cell_type": "markdown",
   "metadata": {},
   "source": [
    "## AdaBoost Connection to Deep Learning\n",
    "\n",
    "Basically the same structure as a 1-hidden neural network except...\n",
    "\n",
    "AdaBoost uses a hard output a value either -1 or 1: $sign={-1, 1}$\n",
    "NeuralNet uses a soft output a value between -1 and 1: $tanh=[-1, 1]$\n",
    "\n",
    "AdaBoost: $\\hat{y}=sign\\big( \\sum_{m=1}^M \\alpha_{m}(sign(w_{m}^T x)\\big)$\n",
    "\n",
    "NeuralNet: $\\hat{y}=sign\\big( \\sum_{m=1}^M \\alpha_{m}(tanh(w_{m}^T x)\\big)$\n",
    "\n",
    "AdaBoost updates weights sequentially while NeuralNet updates weights globally "
   ]
  },
  {
   "cell_type": "code",
   "execution_count": null,
   "metadata": {},
   "outputs": [],
   "source": []
  }
 ],
 "metadata": {
  "kernelspec": {
   "display_name": "Python 3",
   "language": "python",
   "name": "python3"
  },
  "language_info": {
   "codemirror_mode": {
    "name": "ipython",
    "version": 3
   },
   "file_extension": ".py",
   "mimetype": "text/x-python",
   "name": "python",
   "nbconvert_exporter": "python",
   "pygments_lexer": "ipython3",
   "version": "3.7.2"
  }
 },
 "nbformat": 4,
 "nbformat_minor": 2
}
