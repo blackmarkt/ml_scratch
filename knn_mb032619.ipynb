{
 "cells": [
  {
   "cell_type": "markdown",
   "metadata": {},
   "source": [
    "# KNN (K-Nearest Neighbor)\n",
    "\n",
    "#### TL;DR\n",
    "To gain a more in-depth level of understanding the KNN algorithm by building from scratch\n",
    "\n",
    "#### Data\n",
    "Iris Data (famous)\n",
    "\n",
    "#### References\n",
    "\n",
    "https://medium.com/datadriveninvestor/knn-algorithm-and-implementation-from-scratch-b9f9b739c28f\n",
    "\n",
    "### Steps to the Algorithm\n",
    "\n",
    "1. Select k\n",
    "2. Calculate distance from centroid to data points\n",
    "3. Vote for predicted value based on votes by k nearest points "
   ]
  },
  {
   "cell_type": "code",
   "execution_count": 32,
   "metadata": {
    "ExecuteTime": {
     "end_time": "2019-03-26T17:13:11.335173Z",
     "start_time": "2019-03-26T17:13:11.325358Z"
    }
   },
   "outputs": [],
   "source": [
    "import os\n",
    "cwd = os.getcwd()\n",
    "\n",
    "import numpy as np\n",
    "import pandas as pd\n",
    "import warnings\n",
    "from collections import Counter\n",
    "import random\n",
    "\n",
    "import matplotlib.pyplot as plt\n",
    "%matplotlib inline\n",
    "\n",
    "import math\n",
    "from sklearn import datasets"
   ]
  },
  {
   "cell_type": "markdown",
   "metadata": {},
   "source": [
    "### Simple KNN\n",
    "\n",
    "#### Reference Material\n",
    "\n",
    "Sentdex Video Tutorial on KNN\n",
    "\n",
    "https://www.youtube.com/watch?v=n3RqsMz3-0A\n",
    "\n",
    "https://www.youtube.com/watch?v=GWHG3cS2PKc\n",
    "\n",
    "https://www.youtube.com/watch?list=PLQVvvaa0QuDfKTOs3Keq_kaG2P55YRn5v&time_continue=2&v=r_D5TTV9-2c"
   ]
  },
  {
   "cell_type": "code",
   "execution_count": 198,
   "metadata": {
    "ExecuteTime": {
     "end_time": "2019-03-26T18:29:02.565449Z",
     "start_time": "2019-03-26T18:29:02.561513Z"
    }
   },
   "outputs": [],
   "source": [
    "dataset = {'k': [[1,2], [2,3],[3,1]],\n",
    "           'r': [[6,5], [7,7], [8,6]]\n",
    "          }\n",
    "new_features = [4, 4]"
   ]
  },
  {
   "cell_type": "code",
   "execution_count": 199,
   "metadata": {
    "ExecuteTime": {
     "end_time": "2019-03-26T18:29:03.060878Z",
     "start_time": "2019-03-26T18:29:02.887409Z"
    }
   },
   "outputs": [
    {
     "data": {
      "image/png": "[encoded data removed]",
      "text/plain": [
       "<matplotlib.figure.Figure at 0x1a164b9b70>"
      ]
     },
     "metadata": {},
     "output_type": "display_data"
    }
   ],
   "source": [
    "[[plt.scatter(ii[0], ii[1], s=100, color=i) for ii in dataset[i]] for i in dataset]\n",
    "plt.scatter(new_features[0], new_features[1], color='green')\n",
    "plt.show()"
   ]
  },
  {
   "cell_type": "code",
   "execution_count": 206,
   "metadata": {
    "ExecuteTime": {
     "end_time": "2019-03-26T18:31:12.735629Z",
     "start_time": "2019-03-26T18:31:12.729041Z"
    }
   },
   "outputs": [
    {
     "name": "stdout",
     "output_type": "stream",
     "text": [
      "k [1, 2]\n",
      "k [2, 3]\n",
      "k [3, 1]\n",
      "r [6, 5]\n",
      "r [7, 7]\n",
      "r [8, 6]\n"
     ]
    }
   ],
   "source": [
    "for i in dataset:\n",
    "    for j in dataset[i]:\n",
    "        print(i, j)"
   ]
  },
  {
   "cell_type": "code",
   "execution_count": 231,
   "metadata": {
    "ExecuteTime": {
     "end_time": "2019-03-26T18:39:54.894377Z",
     "start_time": "2019-03-26T18:39:54.872139Z"
    }
   },
   "outputs": [],
   "source": [
    "def k_nearest_neighbors(data, predict, k=3):\n",
    "    if len(data) >= k:\n",
    "        warnings.warn('K is set to a value less than total voting groups.')\n",
    "        \n",
    "    distances = []\n",
    "    for group in data:\n",
    "        for features in data[group]:\n",
    "            eucl_dist = np.linalg.norm(np.array(features)-np.array(predict))\n",
    "            distances.append([eucl_dist, group])\n",
    "#     print(distances)\n",
    "            \n",
    "    votes = [i[1] for i in sorted(distances)[:k]]\n",
    "    vote_result = Counter(votes).most_common(1)[0][0]\n",
    "    confidence = Counter(votes).most_common(1)[0][1] / k\n",
    "    \n",
    "#     print(vote_result, confidence)\n",
    "    \n",
    "    return vote_result, confidence"
   ]
  },
  {
   "cell_type": "code",
   "execution_count": 232,
   "metadata": {
    "ExecuteTime": {
     "end_time": "2019-03-26T18:39:55.235412Z",
     "start_time": "2019-03-26T18:39:55.229675Z"
    }
   },
   "outputs": [
    {
     "name": "stdout",
     "output_type": "stream",
     "text": [
      "k 0.6666666666666666\n"
     ]
    }
   ],
   "source": [
    "result, confidence = k_nearest_neighbors(dataset, new_features, 3)\n",
    "print(result, confidence)"
   ]
  },
  {
   "cell_type": "code",
   "execution_count": 233,
   "metadata": {
    "ExecuteTime": {
     "end_time": "2019-03-26T18:39:55.796266Z",
     "start_time": "2019-03-26T18:39:55.667571Z"
    }
   },
   "outputs": [
    {
     "data": {
      "image/png": "[encoded data removed]",
      "text/plain": [
       "<matplotlib.figure.Figure at 0x10ff57828>"
      ]
     },
     "metadata": {},
     "output_type": "display_data"
    }
   ],
   "source": [
    "[[plt.scatter(ii[0], ii[1], s=100, color=i) for ii in dataset[i]] for i in dataset]\n",
    "plt.scatter(new_features[0], new_features[1], color=result)\n",
    "plt.show()"
   ]
  },
  {
   "cell_type": "code",
   "execution_count": 251,
   "metadata": {
    "ExecuteTime": {
     "end_time": "2019-03-26T18:48:32.835083Z",
     "start_time": "2019-03-26T18:48:32.821286Z"
    }
   },
   "outputs": [
    {
     "name": "stdout",
     "output_type": "stream",
     "text": [
      "(699, 11)\n"
     ]
    }
   ],
   "source": [
    "colnames = ['id', 0, 1, 2, 3, 4, 5,\n",
    "           6, 7, 8, 'class']\n",
    "path_cancer = os.path.join(cwd, \"data/breast-cancer-wisconsin.txt\")\n",
    "df_cancer = pd.read_csv(path_cancer, names=colnames)\n",
    "print(df_cancer.shape)"
   ]
  },
  {
   "cell_type": "code",
   "execution_count": 252,
   "metadata": {
    "ExecuteTime": {
     "end_time": "2019-03-26T18:48:33.324438Z",
     "start_time": "2019-03-26T18:48:33.315309Z"
    }
   },
   "outputs": [
    {
     "name": "stdout",
     "output_type": "stream",
     "text": [
      "[[5.0, 1.0, 1.0, 1.0, 2.0, 1.0, 3.0, 1.0, 1.0, 2.0], [5.0, 4.0, 4.0, 5.0, 7.0, 10.0, 3.0, 2.0, 1.0, 2.0]]\n"
     ]
    }
   ],
   "source": [
    "df_cancer.replace('?', -99999, inplace=True)\n",
    "df_cancer.drop(['id'], 1, inplace=True)\n",
    "\n",
    "full_data = df_cancer.astype(float).values.tolist()\n",
    "print(full_data[:2])"
   ]
  },
  {
   "cell_type": "code",
   "execution_count": 253,
   "metadata": {
    "ExecuteTime": {
     "end_time": "2019-03-26T18:48:33.906379Z",
     "start_time": "2019-03-26T18:48:33.900382Z"
    }
   },
   "outputs": [
    {
     "name": "stdout",
     "output_type": "stream",
     "text": [
      "####################\n",
      "[[10.0, 4.0, 6.0, 1.0, 2.0, 10.0, 5.0, 3.0, 1.0, 4.0], [1.0, 1.0, 1.0, 1.0, 1.0, 1.0, 2.0, 1.0, 1.0, 2.0]]\n"
     ]
    }
   ],
   "source": [
    "random.shuffle(full_data)\n",
    "print(20*'#')\n",
    "print(full_data[:2])"
   ]
  },
  {
   "cell_type": "code",
   "execution_count": 264,
   "metadata": {
    "ExecuteTime": {
     "end_time": "2019-03-26T18:55:28.537516Z",
     "start_time": "2019-03-26T18:55:19.841342Z"
    }
   },
   "outputs": [
    {
     "name": "stderr",
     "output_type": "stream",
     "text": [
      "/Users/marktblack/anaconda3/lib/python3.6/site-packages/ipykernel_launcher.py:3: UserWarning: K is set to a value less than total voting groups.\n",
      "  This is separate from the ipykernel package so we can avoid doing imports until\n"
     ]
    },
    {
     "name": "stdout",
     "output_type": "stream",
     "text": [
      "K = 2 Accuracy: 0.946237\n",
      "K = 10 Accuracy: 0.960573\n",
      "K = 3 Accuracy: 0.964158\n",
      "K = 5 Accuracy: 0.960573\n",
      "K = 12 Accuracy: 0.960573\n",
      "K = 10 Accuracy: 0.960573\n",
      "K = 11 Accuracy: 0.956989\n",
      "K = 2 Accuracy: 0.946237\n",
      "K = 5 Accuracy: 0.960573\n",
      "K = 9 Accuracy: 0.960573\n",
      "Aggregated Accuracies: 0.9605734767025089\n"
     ]
    }
   ],
   "source": [
    "for i in range(10):\n",
    "    accuracies = []\n",
    "    neighbors = random.randint(0, len(colnames)+1)\n",
    "\n",
    "    test_size = 0.4\n",
    "    train_set = {2:[], 4:[]}\n",
    "    test_set = {2:[], 4:[]}\n",
    "    train_data = full_data[:-int(test_size*len(full_data))]\n",
    "    test_data = full_data[-int(test_size*len(full_data)):]\n",
    "\n",
    "    for i in train_data:\n",
    "        train_set[i[-1]].append(i[:-1])\n",
    "\n",
    "    for i in test_data:\n",
    "        test_set[i[-1]].append(i[:-1])\n",
    "\n",
    "    correct = 0\n",
    "    total = 0\n",
    "\n",
    "    for group in test_set:\n",
    "        for data in test_set[group]:\n",
    "            vote, confidence = k_nearest_neighbors(train_set, data, neighbors)\n",
    "            if group == vote:\n",
    "                correct += 1\n",
    "            total += 1\n",
    "    print(f'K = {neighbors} Accuracy: {round(correct/total, 6)}')\n",
    "    accuracies.append(correct/total)\n",
    "\n",
    "print(f'Aggregated Accuracies: {sum(accuracies) / len(accuracies)}')"
   ]
  },
  {
   "cell_type": "code",
   "execution_count": 265,
   "metadata": {
    "ExecuteTime": {
     "end_time": "2019-03-26T18:55:33.720505Z",
     "start_time": "2019-03-26T18:55:33.703173Z"
    }
   },
   "outputs": [
    {
     "name": "stdout",
     "output_type": "stream",
     "text": [
      "sklearn KNN accuracy: 0.9714285714285714\n"
     ]
    }
   ],
   "source": [
    "from sklearn import preprocessing, cross_validation, neighbors\n",
    "\n",
    "X = np.array(df_cancer.drop(['class'], 1))\n",
    "y = np.array(df_cancer['class'])\n",
    "\n",
    "X_train, X_test, y_train, y_test = cross_validation.train_test_split(X, y, test_size=0.4)\n",
    "\n",
    "clf = neighbors.KNeighborsClassifier()\n",
    "clf.fit(X_train, y_train)\n",
    "\n",
    "accuracy = clf.score(X_test, y_test)\n",
    "print(f'sklearn KNN accuracy: {accuracy}')"
   ]
  },
  {
   "cell_type": "code",
   "execution_count": null,
   "metadata": {},
   "outputs": [],
   "source": []
  }
 ],
 "metadata": {
  "kernelspec": {
   "display_name": "Python 3",
   "language": "python",
   "name": "python3"
  },
  "language_info": {
   "codemirror_mode": {
    "name": "ipython",
    "version": 3
   },
   "file_extension": ".py",
   "mimetype": "text/x-python",
   "name": "python",
   "nbconvert_exporter": "python",
   "pygments_lexer": "ipython3",
   "version": "3.6.7"
  }
 },
 "nbformat": 4,
 "nbformat_minor": 2
}
