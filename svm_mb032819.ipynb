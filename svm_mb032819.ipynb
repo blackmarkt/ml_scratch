{
 "cells": [
  {
   "cell_type": "code",
   "execution_count": 7,
   "metadata": {
    "ExecuteTime": {
     "end_time": "2019-03-28T17:04:19.450653Z",
     "start_time": "2019-03-28T17:04:19.441694Z"
    }
   },
   "outputs": [],
   "source": [
    "import numpy as np\n",
    "import pandas as pd\n",
    "\n",
    "import matplotlib.pyplot as plt\n",
    "from matplotlib import style\n",
    "%matplotlib inline\n",
    "\n",
    "style.use('ggplot')"
   ]
  },
  {
   "cell_type": "markdown",
   "metadata": {},
   "source": [
    "# SVM (Support Vector Machine)\n",
    "\n",
    "#### TL; DR\n",
    "To develop a deeper understanding of the **Support Vector Machine** classification model \n",
    "\n",
    "\n",
    "#### References\n",
    "\n",
    "[Python Code Post 1](https://pythonprogramming.net/svm-in-python-machine-learning-tutorial/)\n",
    "\n",
    "[Python Code Post 2](https://pythonprogramming.net/svm-optimization-python-machine-learning-tutorial/?completed=/svm-in-python-machine-learning-tutorial/)\n",
    "\n",
    "[Python Code Post 3](https://pythonprogramming.net/predictions-svm-machine-learning-tutorial/?completed=/svm-optimization-python-2-machine-learning-tutorial/)\n",
    "\n",
    "##### Different Kernels:\n",
    "\n",
    "**Kernels** are similarity functions and used when the shape of your data is non-linear\n",
    "\n",
    "This is what makes SVM's powerful ML algorithms is that you can change the kernels (i.e. polynomials, sigmoid, radian basis functions, etc...)\n",
    "\n",
    "**Inner or dot product between 2 variables gives a projection, overlapping or a degree of similarity**\n",
    "\n",
    "*\"Kernels are similarity functions, which take two inputs and return a similarity using inner products. Since this is a machine learning tutorial, some of you might be wondering why people don't use kernels for machine learning algorithms, and, I am here to tell you that they do! Not only can you create your own new machine learning algorithms with Kernels, you can also translate existing machine learning algorithms into using Kernels.\"*\n",
    "\n",
    "*\"What kernels are going to allow us to do, possibly, is work in many dimensions, without actually paying the processing costs to do it. Kernels do have a requirement: They rely on inner products. For the purposes of this tutorial, \"dot product\" and \"inner product\" are entirely interchangeable.\"*\n",
    "\n",
    "[Blog Post 1](https://pythonprogramming.net/kernels-with-svm-machine-learning-tutorial/?completed=/predictions-svm-machine-learning-tutorial/)\n",
    "\n",
    "[Blog Post 2](https://pythonprogramming.net/soft-margin-svm-machine-learning-tutorial/?completed=/why-use-kernel-with-svm-machine-learning-tutorial/)\n",
    "\n",
    "[Python Code Post 3](https://pythonprogramming.net/soft-margin-kernel-cvxopt-svm-machine-learning-tutorial/?completed=/soft-margin-svm-machine-learning-tutorial/)\n",
    "\n",
    "\n",
    "#### Main Takeaways\n",
    "\n",
    "- Convex Optimization in the *fit* method\n",
    "- Optimize to find decision boundary & support vector hyperplanes"
   ]
  },
  {
   "cell_type": "markdown",
   "metadata": {},
   "source": [
    "### Create Simple Dictionary of Toy Data"
   ]
  },
  {
   "cell_type": "code",
   "execution_count": 18,
   "metadata": {
    "ExecuteTime": {
     "end_time": "2019-03-28T17:23:19.477823Z",
     "start_time": "2019-03-28T17:23:19.474143Z"
    }
   },
   "outputs": [],
   "source": [
    "data_dict = {-1: np.array([[1, 7], [2, 8], [3, 8],]),\n",
    "             1: np.array([[5, 1], [6, -1], [7,3]])}"
   ]
  },
  {
   "cell_type": "code",
   "execution_count": 39,
   "metadata": {
    "ExecuteTime": {
     "end_time": "2019-03-28T17:41:53.328822Z",
     "start_time": "2019-03-28T17:41:52.959948Z"
    }
   },
   "outputs": [],
   "source": [
    "class SupportVectorMachine:\n",
    "    \n",
    "    def __init__(self, visualization=True):\n",
    "        self.visualization = visualization\n",
    "        self.colors = {1:'r', -1:'b'}\n",
    "        if self.visualization:\n",
    "            self.fig = plt.figure()\n",
    "            self.ax = self.fig.add_subplot(1,1,1)\n",
    "            \n",
    "    def fit(self, data):\n",
    "        # optimization problem\n",
    "        self.data = data\n",
    "        # {||w||: [w, b]}\n",
    "        opt_dict = {}\n",
    "        \n",
    "        transforms = [[1,1], [-1,1], [1,-1], [-1,-1]]\n",
    "        \n",
    "        all_data = []\n",
    "        for yi in self.data:\n",
    "            for featureset in self.data[yi]:\n",
    "                for feature in featureset:\n",
    "                    all_data.append(feature)\n",
    "        \n",
    "        self.max_feature_value = max(all_data)\n",
    "        self.min_feature_value = min(all_data)\n",
    "        all_data = None\n",
    "        \n",
    "        # OPTIMIZATION STOPPING CRITERIA: support vectors yi(xi.w+b) = 1 (i.e. 1.001)\n",
    "        \n",
    "        step_sizes = [self.max_feature_value * 0.1, \n",
    "                      self.max_feature_value * 0.01,\n",
    "                      self.max_feature_value * 0.001]\n",
    "        \n",
    "        # extremely expensive\n",
    "        b_range_multiple = 5\n",
    "        \n",
    "        # we dont need to take as small of steps w/ b as we do w\n",
    "        b_multiple = 5\n",
    "        latest_optimum = self.max_feature_value * 10\n",
    "        \n",
    "        for step in step_sizes:\n",
    "            w = np.array([latest_optimum, latest_optimum])\n",
    "            # convex optimization\n",
    "            optimized = False\n",
    "            while not optimized:\n",
    "                for b in np.arange(-1*(self.max_feature_value*b_range_multiple),\n",
    "                                 self.max_feature_value*b_range_multiple,\n",
    "                                 step*b_multiple):\n",
    "                    for transformation in transforms:\n",
    "                        w_t = w * transformation\n",
    "                        found_option = True\n",
    "                        # weakest link the SVM fundamentally\n",
    "                        # SMO attempts to fix this a bit\n",
    "                        # yi(xi.w+b) >= 1\n",
    "                        for i in self.data:\n",
    "                            for xi in self.data[i]:\n",
    "                                yi = i\n",
    "                                if not yi*(np.dot(w_t, xi) +b) >= 1:\n",
    "                                    found_option = False\n",
    "                        if found_option:\n",
    "                            # linalg.norm = distance\n",
    "                            opt_dict[np.linalg.norm(w_t)] = [w_t, b]\n",
    "\n",
    "                if w[0] < 0:\n",
    "                    optimized = True\n",
    "                    print('Optimized a step.')\n",
    "                else:\n",
    "                    w = w - step\n",
    "                    \n",
    "            norms = sorted([n for n in opt_dict])\n",
    "            # ||w|| : [w, b]\n",
    "            opt_choice = opt_dict[norms[0]]\n",
    "            \n",
    "            self.w = opt_choice[0]\n",
    "            self.b = opt_choice[1]\n",
    "            latest_optimum = opt_choice[0][0] + step * 2\n",
    "            \n",
    "            for i in self.data:\n",
    "                for xi in self.data[i]:\n",
    "                    yi = i\n",
    "                    print(xi, ':', yi*(np.dot(self.w, xi) + self.b))\n",
    "    \n",
    "    def predict(self, features):\n",
    "        # sign( x.w+b )\n",
    "        classification = np.sign(np.dot(np.array(features), self.w)+self.b)\n",
    "        if classification != 0 and self.visualization:\n",
    "            self.ax.scatter(features[0], features[1], s=200, marker='*',\n",
    "                           c=self.colors[classification])\n",
    "        return classification\n",
    "    \n",
    "    def visualize(self):\n",
    "        [[self.ax.scatter(x[0], \n",
    "                          x[1], \n",
    "                          s=100, \n",
    "                          color=self.colors[i]) for x in data_dict[i]] for i in data_dict]\n",
    "        \n",
    "        # hyperplane = x.w+b\n",
    "        # v = x.w+b\n",
    "        # psv = 1\n",
    "        # nsv = -1\n",
    "        # dec = 0\n",
    "        def hyperplane(x, w, b, v):\n",
    "            return (-w[0]*x-b+v) / w[1]\n",
    "        \n",
    "        datarange = (self.min_feature_value * 0.9, self.max_feature_value * 1.1)\n",
    "        hyp_x_min = datarange[0]\n",
    "        hyp_x_max = datarange[1]\n",
    "        \n",
    "        # (w.x+b) = 1\n",
    "        # psv (positive support vector hyperplane)\n",
    "        psv1 = hyperplane(hyp_x_min, self.w, self.b, 1)\n",
    "        psv2 = hyperplane(hyp_x_max, self.w, self.b, 1)\n",
    "        self.ax.plot([hyp_x_min, hyp_x_max], [psv1, psv2], 'k')\n",
    "        \n",
    "        # (w.x+b) = -1\n",
    "        # nsv (negative support vector hyperplane)\n",
    "        nsv1 = hyperplane(hyp_x_min, self.w, self.b, -1)\n",
    "        nsv2 = hyperplane(hyp_x_max, self.w, self.b, -1)\n",
    "        self.ax.plot([hyp_x_min, hyp_x_max], [nsv1, nsv2], 'k')\n",
    "        \n",
    "        # (w.x+b) = 1\n",
    "        # db (decision boundaru)\n",
    "        db1 = hyperplane(hyp_x_min, self.w, self.b, 0)\n",
    "        db2 = hyperplane(hyp_x_max, self.w, self.b, 0)\n",
    "        self.ax.plot([hyp_x_min, hyp_x_max], [db1, db2], 'y--')\n",
    "        "
   ]
  },
  {
   "cell_type": "code",
   "execution_count": 47,
   "metadata": {
    "ExecuteTime": {
     "end_time": "2019-03-28T17:44:10.579415Z",
     "start_time": "2019-03-28T17:44:02.965912Z"
    }
   },
   "outputs": [
    {
     "name": "stdout",
     "output_type": "stream",
     "text": [
      "Optimized a step.\n",
      "[1 7] : 4.799999999999098\n",
      "[2 8] : 4.799999999999098\n",
      "[3 8] : 3.9999999999992486\n",
      "[5 1] : 3.199999999999399\n",
      "[ 6 -1] : 5.599999999998948\n",
      "[7 3] : 3.199999999999399\n",
      "Optimized a step.\n",
      "[1 7] : 1.5199999999992362\n",
      "[2 8] : 1.5199999999992362\n",
      "[3 8] : 1.1999999999993876\n",
      "[5 1] : 1.6799999999992516\n",
      "[ 6 -1] : 2.639999999998798\n",
      "[7 3] : 1.6799999999992516\n",
      "Optimized a step.\n",
      "[1 7] : 1.2239999999999465\n",
      "[2 8] : 1.2239999999999465\n",
      "[3 8] : 1.000000000000098\n",
      "[5 1] : 1.015999999998539\n",
      "[ 6 -1] : 1.6879999999980846\n",
      "[7 3] : 1.015999999998539\n",
      "Prediction: -1.0\n",
      "Prediction: -1.0\n",
      "Prediction: -1.0\n",
      "Prediction: -1.0\n",
      "Prediction: 1.0\n",
      "Prediction: -1.0\n",
      "Prediction: 1.0\n",
      "Prediction: -1.0\n"
     ]
    },
    {
     "data": {
      "image/png": "[encoded data removed]",
      "text/plain": [
       "<matplotlib.figure.Figure at 0x114dfcd68>"
      ]
     },
     "metadata": {},
     "output_type": "display_data"
    }
   ],
   "source": [
    "svm = SupportVectorMachine()\n",
    "svm.fit(data=data_dict)\n",
    "\n",
    "predict_us = [[0, 10],\n",
    "              [1, 3],\n",
    "              [3, 4],\n",
    "              [3, 5],\n",
    "              [5, 5],\n",
    "              [5, 6],\n",
    "              [6, -5],\n",
    "              [5, 8]]\n",
    "\n",
    "for p in predict_us:\n",
    "    print(f'Prediction: {svm.predict(p)}')\n",
    "    \n",
    "svm.visualize()"
   ]
  },
  {
   "cell_type": "markdown",
   "metadata": {},
   "source": [
    "---\n",
    "\n",
    "## Hyperparameters"
   ]
  },
  {
   "cell_type": "markdown",
   "metadata": {},
   "source": [
    "### Kernels\n",
    "\n",
    "*How to choose a kernel*\n",
    "\n",
    "Whole discussion on how to approach selecting/testing kernels but it appears on the shape/geometry of your data. Unfortunately many problems are interpretable or incomprehendable from a spatial standpoint (limited to 3 dimensions). \n",
    "\n",
    "A good default is to start with [Radial Basis Function (RBF)](https://en.wikipedia.org/wiki/Radial_basis_function_kernel) for non-linearity.\n",
    "\n",
    "$$K(x,x')=exp(-\\gamma||x-x'||^2)$$\n",
    "\n",
    "where $\\gamma=\\frac{1}{2\\sigma^2}$\n",
    "\n",
    "One must be careful applying data mining techniques like optimizing based on cross validation scores and can typically lead to overfitting.\n",
    "\n",
    "https://stats.stackexchange.com/questions/18030/how-to-select-kernel-for-svm"
   ]
  },
  {
   "cell_type": "markdown",
   "metadata": {},
   "source": [
    "### Hard/Soft Margins\n",
    "\n",
    "In order to avoid overfitting your data to your SVM decision boundary one may want to employ a \"soft margin\" to relax or generalize for the allowance for errors . Essentially a soft margin:\n",
    "\n",
    "*\"has the same margin-maximizing objective (distance between the support vectors) but adds an additional constraint to each lagrange multiplier associated with support vector bounded by C... The result is that soft-margin SVM could choose a decision boundary that is less likely to overfit.\"* ~[Stackoverflow](https://stackoverflow.com/questions/4629505/svm-hard-or-soft-margins/4630731)\n",
    "\n",
    "$$argmin_{w}=\\frac{1}{2}||\\bar{w}||^2+C\\sum_{i}\\xi_{i}$$\n",
    "\n",
    "where $\\xi_{i}$ is the \"slack\" and $C$ is a constant multiplier for the sum of slack's influence. Lower $C$ the lower the effects of the slacks to the magnitude of vector $w$"
   ]
  },
  {
   "cell_type": "code",
   "execution_count": 48,
   "metadata": {
    "ExecuteTime": {
     "end_time": "2019-03-28T18:48:45.942017Z",
     "start_time": "2019-03-28T18:48:45.935217Z"
    }
   },
   "outputs": [],
   "source": [
    "def linear_kernel(x1, x2):\n",
    "    return np.dot(x1, x2)\n",
    "\n",
    "def polynomial_kernel(x, y, p=3):\n",
    "    return (1 + np.dot(x, y))**p\n",
    "\n",
    "def gaussian_kernel(x, y, sigma=5.0):\n",
    "    return np.exp(-np.linalg.norm(x-y)**2 / (2*(sigma**2)))"
   ]
  },
  {
   "cell_type": "markdown",
   "metadata": {},
   "source": [
    "### Parameters\n",
    "\n",
    "#### For classifications > 2 (more than just binary)\n",
    "\n",
    "[Blog Post 1](https://pythonprogramming.net/support-vector-machine-parameters-machine-learning-tutorial/?completed=/soft-margin-kernel-cvxopt-svm-machine-learning-tutorial/)\n",
    "\n",
    "Approaches:\n",
    "\n",
    "- OVR (\"One Verse Rest\")\n",
    "\n",
    "- OVO (\"One v. One\")\n"
   ]
  },
  {
   "cell_type": "code",
   "execution_count": null,
   "metadata": {},
   "outputs": [],
   "source": []
  }
 ],
 "metadata": {
  "kernelspec": {
   "display_name": "Python 3",
   "language": "python",
   "name": "python3"
  },
  "language_info": {
   "codemirror_mode": {
    "name": "ipython",
    "version": 3
   },
   "file_extension": ".py",
   "mimetype": "text/x-python",
   "name": "python",
   "nbconvert_exporter": "python",
   "pygments_lexer": "ipython3",
   "version": "3.6.7"
  }
 },
 "nbformat": 4,
 "nbformat_minor": 2
}
