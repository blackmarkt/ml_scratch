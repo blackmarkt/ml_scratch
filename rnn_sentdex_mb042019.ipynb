{
 "cells": [
  {
   "cell_type": "markdown",
   "metadata": {},
   "source": [
    "# RNN (Recurrent Neural Nets)\n",
    "\n",
    "**Recall: RNN is used with sequential data (i.e. time series)**\n",
    "\n",
    "\n",
    "- \"Memory\" where the previous hidden state is fed into the current hidden states.\n",
    "\n",
    "- LSTM \"Long Short Term Memory\" allows for longer term hidden states to stay relevant\n",
    "\n",
    "### Reference\n",
    "\n",
    "https://pythonprogramming.net/recurrent-neural-network-deep-learning-python-tensorflow-keras/\n",
    "\n",
    "https://pythonprogramming.net/recurrent-neural-network-rnn-lstm-machine-learning-tutorial/\n",
    "\n",
    "### Questions\n",
    "\n",
    "- What are the different layers? Dense? Dropout, etc...\n",
    "\n",
    "[*Dropout*](https://medium.com/@amarbudhiraja/https-medium-com-amarbudhiraja-learning-less-to-learn-better-dropout-in-deep-machine-learning-74334da4bfc5)- basically used to prevent overfitting. Dropout is an approach to regularization in neural networks which helps reducing interdependent learning amongst the neurons.\n",
    "\n",
    "[*Dense*](http://hunterheidenreich.com/blog/understanding_keras_dense_layers/)\n",
    "\n",
    "- How do the different hyperparameters factor in?\n",
    "\n",
    "- What are the different activation functions?\n",
    "\n",
    "- What is a CuDNNLSTM? \n",
    "*CuDNNLSTM* is used for a GPU but because GPU is not supported by Mac OS we have to use LSTM"
   ]
  },
  {
   "cell_type": "markdown",
   "metadata": {},
   "source": [
    "### Simple Example"
   ]
  },
  {
   "cell_type": "code",
   "execution_count": 17,
   "metadata": {
    "ExecuteTime": {
     "end_time": "2019-04-20T18:13:48.636949Z",
     "start_time": "2019-04-20T18:13:48.633719Z"
    }
   },
   "outputs": [],
   "source": [
    "import tensorflow as tf\n",
    "from tensorflow.keras.models import Sequential\n",
    "from tensorflow.keras.layers import Dense, Dropout, LSTM, CuDNNLSTM"
   ]
  },
  {
   "cell_type": "code",
   "execution_count": 13,
   "metadata": {
    "ExecuteTime": {
     "end_time": "2019-04-20T18:07:12.617273Z",
     "start_time": "2019-04-20T18:07:12.256584Z"
    }
   },
   "outputs": [
    {
     "name": "stdout",
     "output_type": "stream",
     "text": [
      "(60000, 28, 28)\n",
      "(28, 28)\n"
     ]
    }
   ],
   "source": [
    "mnist = tf.keras.datasets.mnist\n",
    "\n",
    "(x_train, y_train), (x_test, y_test) = mnist.load_data()\n",
    "\n",
    "print(x_train.shape)\n",
    "print(x_train[0].shape)"
   ]
  },
  {
   "cell_type": "code",
   "execution_count": 14,
   "metadata": {
    "ExecuteTime": {
     "end_time": "2019-04-20T18:07:13.023351Z",
     "start_time": "2019-04-20T18:07:12.619284Z"
    }
   },
   "outputs": [],
   "source": [
    "x_train = x_train/255.0\n",
    "x_test = x_test/255.0"
   ]
  },
  {
   "cell_type": "markdown",
   "metadata": {},
   "source": [
    "From the shape we see that there are 60,000 images with 28x28 sizes."
   ]
  },
  {
   "cell_type": "code",
   "execution_count": 15,
   "metadata": {
    "ExecuteTime": {
     "end_time": "2019-04-20T18:13:04.889584Z",
     "start_time": "2019-04-20T18:07:13.470407Z"
    }
   },
   "outputs": [
    {
     "name": "stdout",
     "output_type": "stream",
     "text": [
      "Train on 60000 samples, validate on 10000 samples\n",
      "Epoch 1/3\n",
      "60000/60000 [==============================] - 118s 2ms/sample - loss: 0.6014 - acc: 0.8038 - val_loss: 0.1468 - val_acc: 0.9571\n",
      "Epoch 2/3\n",
      "60000/60000 [==============================] - 116s 2ms/sample - loss: 0.1577 - acc: 0.9575 - val_loss: 0.0840 - val_acc: 0.9759\n",
      "Epoch 3/3\n",
      "60000/60000 [==============================] - 113s 2ms/sample - loss: 0.1184 - acc: 0.9679 - val_loss: 0.0927 - val_acc: 0.9716\n"
     ]
    },
    {
     "data": {
      "text/plain": [
       "<tensorflow.python.keras.callbacks.History at 0x13bc43d68>"
      ]
     },
     "execution_count": 15,
     "metadata": {},
     "output_type": "execute_result"
    }
   ],
   "source": [
    "model = Sequential()\n",
    "model.add(LSTM(128, input_shape=(x_train.shape[1:]), \n",
    "               activation='relu', return_sequences=True))\n",
    "model.add(Dropout(0.2))\n",
    "\n",
    "model.add(LSTM(128, activation='relu'))\n",
    "model.add(Dropout(0.2))\n",
    "\n",
    "model.add(Dense(32, activation='relu'))\n",
    "model.add(Dropout(0.2))\n",
    "\n",
    "model.add(Dense(10, activation='softmax'))\n",
    "\n",
    "opt = tf.keras.optimizers.Adam(lr=0.001, decay=1e-6)\n",
    "\n",
    "# MSE\n",
    "model.compile(loss='sparse_categorical_crossentropy',\n",
    "             optimizer=opt, metrics=['accuracy'])\n",
    "\n",
    "model.fit(x_train, y_train, epochs=3, validation_data=(x_test, y_test))\n"
   ]
  },
  {
   "cell_type": "markdown",
   "metadata": {},
   "source": [
    "The below does not work there is an issue with CuDNNLSTM"
   ]
  },
  {
   "cell_type": "code",
   "execution_count": 21,
   "metadata": {
    "ExecuteTime": {
     "end_time": "2019-04-20T18:20:39.889141Z",
     "start_time": "2019-04-20T18:20:39.886000Z"
    },
    "code_folding": []
   },
   "outputs": [],
   "source": [
    "# model = Sequential()\n",
    "# model.add(CuDNNLSTM(128, input_shape=(x_train.shape[1:]), \n",
    "#                return_sequences=True))\n",
    "# model.add(Dropout(0.2))\n",
    "\n",
    "# model.add(CuDNNLSTM(128))\n",
    "# model.add(Dropout(0.2))\n",
    "\n",
    "# model.add(Dense(32, activation='relu'))\n",
    "# model.add(Dropout(0.2))\n",
    "\n",
    "# model.add(Dense(10, activation='softmax'))\n",
    "\n",
    "# opt = tf.keras.optimizers.Adam(lr=1e-3, decay=1e-5)\n",
    "\n",
    "# # MSE\n",
    "# model.compile(loss='sparse_categorical_crossentropy',\n",
    "#              optimizer=opt, metrics=['accuracy'])\n",
    "\n",
    "# model.fit(x_train, y_train, epochs=3, validation_data=(x_test, y_test))\n"
   ]
  },
  {
   "cell_type": "code",
   "execution_count": null,
   "metadata": {},
   "outputs": [],
   "source": []
  }
 ],
 "metadata": {
  "kernelspec": {
   "display_name": "Python 3",
   "language": "python",
   "name": "python3"
  },
  "language_info": {
   "codemirror_mode": {
    "name": "ipython",
    "version": 3
   },
   "file_extension": ".py",
   "mimetype": "text/x-python",
   "name": "python",
   "nbconvert_exporter": "python",
   "pygments_lexer": "ipython3",
   "version": "3.7.2"
  }
 },
 "nbformat": 4,
 "nbformat_minor": 2
}
