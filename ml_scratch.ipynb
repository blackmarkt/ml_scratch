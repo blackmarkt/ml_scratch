{
 "cells": [
  {
   "cell_type": "code",
   "execution_count": 2,
   "metadata": {
    "ExecuteTime": {
     "end_time": "2019-03-17T15:24:17.799770Z",
     "start_time": "2019-03-17T15:24:17.243606Z"
    }
   },
   "outputs": [],
   "source": [
    "import numpy as np\n",
    "import pandas as pd\n",
    "\n",
    "import matplotlib.pyplot as plt\n",
    "%matplotlib inline"
   ]
  },
  {
   "cell_type": "code",
   "execution_count": 3,
   "metadata": {
    "ExecuteTime": {
     "end_time": "2019-03-17T15:24:17.824176Z",
     "start_time": "2019-03-17T15:24:17.801728Z"
    }
   },
   "outputs": [
    {
     "name": "stdout",
     "output_type": "stream",
     "text": [
      "100\n"
     ]
    },
    {
     "data": {
      "text/html": [
       "<div>\n",
       "<style>\n",
       "    .dataframe thead tr:only-child th {\n",
       "        text-align: right;\n",
       "    }\n",
       "\n",
       "    .dataframe thead th {\n",
       "        text-align: left;\n",
       "    }\n",
       "\n",
       "    .dataframe tbody tr th {\n",
       "        vertical-align: top;\n",
       "    }\n",
       "</style>\n",
       "<table border=\"1\" class=\"dataframe\">\n",
       "  <thead>\n",
       "    <tr style=\"text-align: right;\">\n",
       "      <th></th>\n",
       "      <th>0</th>\n",
       "      <th>1</th>\n",
       "    </tr>\n",
       "  </thead>\n",
       "  <tbody>\n",
       "    <tr>\n",
       "      <th>0</th>\n",
       "      <td>32.502345</td>\n",
       "      <td>31.707006</td>\n",
       "    </tr>\n",
       "    <tr>\n",
       "      <th>1</th>\n",
       "      <td>53.426804</td>\n",
       "      <td>68.777596</td>\n",
       "    </tr>\n",
       "    <tr>\n",
       "      <th>2</th>\n",
       "      <td>61.530358</td>\n",
       "      <td>62.562382</td>\n",
       "    </tr>\n",
       "    <tr>\n",
       "      <th>3</th>\n",
       "      <td>47.475640</td>\n",
       "      <td>71.546632</td>\n",
       "    </tr>\n",
       "    <tr>\n",
       "      <th>4</th>\n",
       "      <td>59.813208</td>\n",
       "      <td>87.230925</td>\n",
       "    </tr>\n",
       "  </tbody>\n",
       "</table>\n",
       "</div>"
      ],
      "text/plain": [
       "           0          1\n",
       "0  32.502345  31.707006\n",
       "1  53.426804  68.777596\n",
       "2  61.530358  62.562382\n",
       "3  47.475640  71.546632\n",
       "4  59.813208  87.230925"
      ]
     },
     "execution_count": 3,
     "metadata": {},
     "output_type": "execute_result"
    }
   ],
   "source": [
    "data = pd.read_csv('data.csv', header=None)\n",
    "print(len(data))\n",
    "data.head()"
   ]
  },
  {
   "cell_type": "code",
   "execution_count": 4,
   "metadata": {
    "ExecuteTime": {
     "end_time": "2019-03-17T15:24:17.904902Z",
     "start_time": "2019-03-17T15:24:17.825916Z"
    }
   },
   "outputs": [],
   "source": [
    "def compute_error_for_line_given_points(b, m, points):\n",
    "    totalError = 0\n",
    "    for i in range(0, len(points)):\n",
    "        x = points[i, 0]\n",
    "        y = points[i, 1]\n",
    "        totalError += (y - (m *x + b)) **2\n",
    "    return totalError / float(len(points))\n",
    "        \n",
    "def step_gradient(b_current, m_current, points, learningRate):\n",
    "    # gradient dscent\n",
    "    b_gradient = 0\n",
    "    m_gradient = 0\n",
    "    N = float(len(points))\n",
    "    for i in range(0, len(points)):\n",
    "        x = points[i, 0]\n",
    "        y = points[i, 1]\n",
    "        b_gradient += -(2/N) * (y - ((m_current * x) + b_current))\n",
    "        m_gradient += -(2/N) * x * (y - ((m_current * x) + b_current))\n",
    "    new_b = b_current - (learningRate * b_gradient)\n",
    "    new_m = m_current - (learningRate * m_gradient)\n",
    "    return [new_b, new_m]\n",
    "    \n",
    "def gradient_descent_runner(points, starting_b, starting_m, \n",
    "                            learning_rate, num_iterations):\n",
    "    b = starting_b\n",
    "    m = starting_m\n",
    "    \n",
    "    for i in range(num_iterations):\n",
    "        b, m = step_gradient(b, m, np.array(points), learning_rate)\n",
    "    return [b,m]\n",
    "\n",
    "def run():\n",
    "    points = np.genfromtxt('data.csv', delimiter=',')\n",
    "    learning_rate = 0.0001\n",
    "    # y = mx + b (slope fomula)\n",
    "    initial_b = 0\n",
    "    initial_m = 0\n",
    "    num_iterations = 2500\n",
    "    [b, m] = gradient_descent_runner(points, \n",
    "                                     initial_b, initial_m, \n",
    "                                     learning_rate, num_iterations)\n",
    "#     print(b)\n",
    "#     print(m)\n",
    "#     print(\"Starting gradient descent at b = {0}, m = {1}, error = {2}\".format(initial_b, \n",
    "#                                                                               initial_m, \n",
    "#                                                                               compute_error_for_line_given_points(initial_b, initial_m, points)))\n",
    "#     print(\"Running...\")\n",
    "#     [b, m] = gradient_descent_runner(points, initial_b, initial_m, learning_rate, num_iterations)\n",
    "#     print(\"After {0} iterations b = {1}, m = {2}, error = {3}\".format(num_iterations, \n",
    "#                                                                       b, m, \n",
    "#                                                                       compute_error_for_line_given_points(b, m, points)))"
   ]
  },
  {
   "cell_type": "code",
   "execution_count": 5,
   "metadata": {
    "ExecuteTime": {
     "end_time": "2019-03-17T15:24:18.160008Z",
     "start_time": "2019-03-17T15:24:17.906647Z"
    }
   },
   "outputs": [],
   "source": [
    "if __name__==\"__main__\":\n",
    "    run()"
   ]
  },
  {
   "cell_type": "code",
   "execution_count": 6,
   "metadata": {
    "ExecuteTime": {
     "end_time": "2019-03-17T15:24:18.166615Z",
     "start_time": "2019-03-17T15:24:18.161802Z"
    }
   },
   "outputs": [],
   "source": [
    "points = np.genfromtxt('data.csv', delimiter=',')\n",
    "x = points[:, 0]\n",
    "y = points[:, 1]"
   ]
  },
  {
   "cell_type": "markdown",
   "metadata": {},
   "source": [
    "## Ridge Regression (L2 Norm)"
   ]
  },
  {
   "cell_type": "code",
   "execution_count": 7,
   "metadata": {
    "ExecuteTime": {
     "end_time": "2019-03-17T15:24:18.174620Z",
     "start_time": "2019-03-17T15:24:18.168218Z"
    }
   },
   "outputs": [],
   "source": [
    "N = 50\n",
    "\n",
    "X = np.linspace(0, 10, N)\n",
    "Y = 0.5*X + np.random.randn(N)\n",
    "\n",
    "Y[-1] += 30\n",
    "Y[-2] += 30"
   ]
  },
  {
   "cell_type": "code",
   "execution_count": 8,
   "metadata": {
    "ExecuteTime": {
     "end_time": "2019-03-17T15:24:18.291957Z",
     "start_time": "2019-03-17T15:24:18.176294Z"
    }
   },
   "outputs": [
    {
     "data": {
      "image/png": "[encoded data removed]",
      "text/plain": [
       "<matplotlib.figure.Figure at 0x112de3ac8>"
      ]
     },
     "metadata": {},
     "output_type": "display_data"
    }
   ],
   "source": [
    "plt.scatter(X, Y)\n",
    "plt.show()"
   ]
  },
  {
   "cell_type": "code",
   "execution_count": 9,
   "metadata": {
    "ExecuteTime": {
     "end_time": "2019-03-17T15:24:18.410362Z",
     "start_time": "2019-03-17T15:24:18.293959Z"
    }
   },
   "outputs": [
    {
     "data": {
      "image/png": "[encoded data removed]",
      "text/plain": [
       "<matplotlib.figure.Figure at 0x112ec23c8>"
      ]
     },
     "metadata": {},
     "output_type": "display_data"
    }
   ],
   "source": [
    "X = np.vstack([np.ones(N), X]).T\n",
    "\n",
    "w_ml = np.linalg.solve(X.T.dot(X), X.T.dot(Y))\n",
    "Yhat_ml = X.dot(w_ml)\n",
    "\n",
    "plt.scatter(X[:,1], Y)\n",
    "plt.scatter(X[:,1], Yhat_ml)\n",
    "plt.show()"
   ]
  },
  {
   "cell_type": "code",
   "execution_count": 10,
   "metadata": {
    "ExecuteTime": {
     "end_time": "2019-03-17T15:24:18.572694Z",
     "start_time": "2019-03-17T15:24:18.412806Z"
    }
   },
   "outputs": [
    {
     "data": {
      "image/png": "[encoded data removed]",
      "text/plain": [
       "<matplotlib.figure.Figure at 0x112e95cf8>"
      ]
     },
     "metadata": {},
     "output_type": "display_data"
    }
   ],
   "source": [
    "# penalty\n",
    "l2 = 1000.0\n",
    "\n",
    "w_map = np.linalg.solve(l2*np.eye(2) + X.T.dot(X), X.T.dot(Y))\n",
    "Yhat_map = X.dot(w_map)\n",
    "\n",
    "plt.scatter(X[:,1], Y)\n",
    "plt.plot(X[:,1], Yhat_ml, label='maximum likelihood')\n",
    "plt.plot(X[:,1], Yhat_map, label='map')\n",
    "plt.legend()\n",
    "plt.show()"
   ]
  },
  {
   "cell_type": "markdown",
   "metadata": {},
   "source": [
    "## Lasso Regression (L1 Norm)"
   ]
  },
  {
   "cell_type": "code",
   "execution_count": 11,
   "metadata": {
    "ExecuteTime": {
     "end_time": "2019-03-17T15:24:18.601089Z",
     "start_time": "2019-03-17T15:24:18.574980Z"
    }
   },
   "outputs": [],
   "source": [
    "N = 50\n",
    "D = 50\n",
    "\n",
    "X = (np.random.random((N, D)) - 0.5)*10\n",
    "\n",
    "true_w = np.array([1, 0.5, -0.5] + [0]*(D-3))\n",
    "\n",
    "Y = X.dot(true_w) + np.random.randn(N)*0.5\n",
    "\n",
    "costs = []\n",
    "w = np.random.randn(D) / np.sqrt(D)\n",
    "learning_rate = 0.001\n",
    "l1 = 10.0\n",
    "\n",
    "for t in range(500):\n",
    "    Yhat = X.dot(w)\n",
    "    delta = Yhat - Y\n",
    "    w = w - learning_rate * (X.T.dot(delta) + l1*np.sign(w))\n",
    "    \n",
    "    mse =delta.dot(delta) / N\n",
    "    costs.append(mse)"
   ]
  },
  {
   "cell_type": "code",
   "execution_count": 12,
   "metadata": {
    "ExecuteTime": {
     "end_time": "2019-03-17T15:24:18.717037Z",
     "start_time": "2019-03-17T15:24:18.603422Z"
    }
   },
   "outputs": [
    {
     "data": {
      "image/png": "[encoded data removed]",
      "text/plain": [
       "<matplotlib.figure.Figure at 0x114199198>"
      ]
     },
     "metadata": {},
     "output_type": "display_data"
    },
    {
     "name": "stdout",
     "output_type": "stream",
     "text": [
      "final w: [ 9.79529997e-01  4.72368290e-01 -4.56844846e-01 -4.62860674e-03\n",
      " -1.12643949e-02 -4.51571649e-03 -1.34711467e-02 -5.20113949e-03\n",
      "  1.03810314e-02 -9.38685388e-03  2.37777209e-03 -2.31058403e-03\n",
      " -1.38105249e-02  1.71899537e-02  3.75417929e-03  7.84612445e-04\n",
      "  7.02055667e-03  8.58258724e-05  8.75275006e-03 -1.21241764e-02\n",
      " -4.01433724e-03 -1.10776208e-02  1.72903901e-02  3.51575878e-03\n",
      " -2.37762433e-03  1.63187703e-02 -1.07426307e-03 -2.04680838e-02\n",
      " -8.75300904e-03 -3.34183886e-03  1.00196389e-02 -1.26981729e-02\n",
      " -8.35304731e-03  1.97959250e-02  7.25094994e-03 -1.36000662e-02\n",
      "  2.01011584e-03  6.02389723e-04 -8.47606627e-03 -1.25156991e-02\n",
      " -3.97078692e-03  2.30384662e-03  1.36629951e-02 -2.17790462e-02\n",
      "  1.74782868e-02  1.69962269e-02 -5.43765500e-02 -1.14997064e-02\n",
      "  1.60000278e-03 -2.05539534e-02]\n"
     ]
    }
   ],
   "source": [
    "plt.plot(costs)\n",
    "plt.show()\n",
    "\n",
    "print(f'final w: {w}')"
   ]
  },
  {
   "cell_type": "code",
   "execution_count": 13,
   "metadata": {
    "ExecuteTime": {
     "end_time": "2019-03-17T15:24:18.850299Z",
     "start_time": "2019-03-17T15:24:18.719268Z"
    }
   },
   "outputs": [
    {
     "data": {
      "image/png": "[encoded data removed]",
      "text/plain": [
       "<matplotlib.figure.Figure at 0x11429d4e0>"
      ]
     },
     "metadata": {},
     "output_type": "display_data"
    }
   ],
   "source": [
    "plt.plot(true_w, label='true w')\n",
    "plt.plot(w, label='w_map')\n",
    "plt.legend()\n",
    "plt.show()"
   ]
  },
  {
   "cell_type": "code",
   "execution_count": 14,
   "metadata": {
    "ExecuteTime": {
     "end_time": "2019-03-17T15:24:18.863046Z",
     "start_time": "2019-03-17T15:24:18.852519Z"
    }
   },
   "outputs": [],
   "source": [
    "def ridge_regression(x_train, y_train, lam):\n",
    "    \n",
    "    X = np.array(x_train)\n",
    "    ones = np.ones(len(X))\n",
    "    X = np.column_stack((ones, X))\n",
    "    y = np.array(y_train)\n",
    "    \n",
    "    Xt = np.transpose(X)\n",
    "    lambda_identity = lam * np.identity(len(Xt))\n",
    "    theInverse = np.linalg.inv(np.dot(Xt, X)) * lambda_identity\n",
    "    w = np.dot(np.dot(theInverse, Xt), y)\n",
    "    \n",
    "    return w, lambda x: dot(w, x)"
   ]
  },
  {
   "cell_type": "code",
   "execution_count": 15,
   "metadata": {
    "ExecuteTime": {
     "end_time": "2019-03-17T15:24:18.871162Z",
     "start_time": "2019-03-17T15:24:18.865945Z"
    }
   },
   "outputs": [
    {
     "data": {
      "text/plain": [
       "(array([ 3.87976403e+11,  2.13062773e+14,  7.52111021e+13, -6.74851775e+13,\n",
       "        -8.79171945e+12,  2.96443727e+13, -1.60484843e+12, -8.36960080e+10,\n",
       "         7.41736087e+13, -6.28274312e+12, -6.89977805e+12,  2.82960363e+12,\n",
       "         1.28408174e+14,  1.02236689e+13, -5.89500900e+11, -1.27363227e+11,\n",
       "         1.71029433e+13,  8.58472863e+12, -4.45224255e+10,  8.36801400e+12,\n",
       "         8.85472440e+12,  2.86961131e+11, -3.07131610e+13,  9.94126461e+10,\n",
       "        -3.78222572e+08,  6.45747575e+13, -8.17662919e+12, -1.18103885e+14,\n",
       "        -4.84362714e+11, -1.90522117e+13,  1.96337506e+13,  2.61563593e+13,\n",
       "         2.72700991e+13,  2.87537246e+11, -4.21894126e+13, -4.10184709e+11,\n",
       "         1.99436205e+12,  3.31364666e+11,  1.80109899e+13,  3.01411137e+13,\n",
       "         4.49891800e+11,  7.79405275e+12,  1.48598238e+13,  3.57700594e+12,\n",
       "        -1.59379450e+13, -1.64747170e+14,  3.91301340e+11, -2.54222968e+13,\n",
       "        -2.24151636e+12, -9.25027662e+13,  5.15834656e+13]),\n",
       " <function __main__.ridge_regression.<locals>.<lambda>>)"
      ]
     },
     "execution_count": 15,
     "metadata": {},
     "output_type": "execute_result"
    }
   ],
   "source": [
    "ridge_regression(X, Y, 0.5)"
   ]
  },
  {
   "cell_type": "code",
   "execution_count": 16,
   "metadata": {
    "ExecuteTime": {
     "end_time": "2019-03-17T15:24:18.877860Z",
     "start_time": "2019-03-17T15:24:18.872898Z"
    }
   },
   "outputs": [
    {
     "data": {
      "text/plain": [
       "(100,)"
      ]
     },
     "execution_count": 16,
     "metadata": {},
     "output_type": "execute_result"
    }
   ],
   "source": [
    "y.shape"
   ]
  },
  {
   "cell_type": "markdown",
   "metadata": {},
   "source": [
    "## Logistic Regression"
   ]
  },
  {
   "cell_type": "code",
   "execution_count": 17,
   "metadata": {
    "ExecuteTime": {
     "end_time": "2019-03-17T15:24:18.905309Z",
     "start_time": "2019-03-17T15:24:18.880176Z"
    }
   },
   "outputs": [],
   "source": [
    "%matplotlib inline\n",
    "\n",
    "from patsy import dmatrices\n",
    "import warnings"
   ]
  },
  {
   "cell_type": "code",
   "execution_count": 18,
   "metadata": {
    "ExecuteTime": {
     "end_time": "2019-03-17T15:24:18.910439Z",
     "start_time": "2019-03-17T15:24:18.906939Z"
    }
   },
   "outputs": [],
   "source": [
    "def sigmoid(x):\n",
    "    '''Sigmoid function of x'''\n",
    "    \n",
    "    return 1 / (1 + np.exp(-x))"
   ]
  },
  {
   "cell_type": "code",
   "execution_count": 19,
   "metadata": {
    "ExecuteTime": {
     "end_time": "2019-03-17T15:24:18.916193Z",
     "start_time": "2019-03-17T15:24:18.912354Z"
    }
   },
   "outputs": [
    {
     "data": {
      "text/plain": [
       "1.0"
      ]
     },
     "execution_count": 19,
     "metadata": {},
     "output_type": "execute_result"
    }
   ],
   "source": [
    "sigmoid(90)"
   ]
  },
  {
   "cell_type": "markdown",
   "metadata": {},
   "source": [
    "####  Define Model Parameters (Hyperparameters)"
   ]
  },
  {
   "cell_type": "code",
   "execution_count": 36,
   "metadata": {
    "ExecuteTime": {
     "end_time": "2019-03-17T15:30:04.661478Z",
     "start_time": "2019-03-17T15:30:04.645335Z"
    }
   },
   "outputs": [],
   "source": [
    "import warnings\n",
    "\n",
    "np.random.seed(0) # set the seed\n",
    "\n",
    "##Step 1 - Define model parameters (hyperparameters)\n",
    "\n",
    "## algorithm settings\n",
    "#the minimum threshold for the difference between the predicted output and the actual output\n",
    "#this tells our model when to stop learning, when our prediction capability is good enough\n",
    "tol=1e-8 # convergence tolerance\n",
    "\n",
    "lam = None # l2-regularization\n",
    "#how long to train for?\n",
    "max_iter = 20 # maximum allowed iterations\n",
    "\n",
    "## data creation settings\n",
    "#Covariance measures how two variables move together. \n",
    "#It measures whether the two move in the same direction (a positive covariance) \n",
    "#or in opposite directions (a negative covariance). \n",
    "r = 0.95 # covariance between x and z\n",
    "n = 1000 # number of observations (size of dataset to generate) \n",
    "sigma = 1 # variance of noise - how spread out is the data?\n",
    "\n",
    "## model settings\n",
    "beta_x, beta_z, beta_v = -4, .9, 1 # true beta coefficients\n",
    "var_x, var_z, var_v = 1, 1, 4 # variances of inputs\n",
    "\n",
    "## the model specification you want to fit\n",
    "formula = 'y ~ x + z + v + np.exp(x) + I(v**2 + z)'"
   ]
  },
  {
   "cell_type": "markdown",
   "metadata": {},
   "source": [
    "#### Generate & Organize Data"
   ]
  },
  {
   "cell_type": "code",
   "execution_count": 37,
   "metadata": {
    "ExecuteTime": {
     "end_time": "2019-03-17T15:30:05.419659Z",
     "start_time": "2019-03-17T15:30:05.367789Z"
    }
   },
   "outputs": [
    {
     "name": "stderr",
     "output_type": "stream",
     "text": [
      "/Users/marktblack/anaconda3/lib/python3.6/site-packages/ipykernel_launcher.py:4: RuntimeWarning: overflow encountered in exp\n",
      "  after removing the cwd from sys.path.\n"
     ]
    },
    {
     "ename": "AssertionError",
     "evalue": "",
     "output_type": "error",
     "traceback": [
      "\u001b[0;31m---------------------------------------------------------------------------\u001b[0m",
      "\u001b[0;31mAssertionError\u001b[0m                            Traceback (most recent call last)",
      "\u001b[0;32m<ipython-input-37-f6d6218916cc>\u001b[0m in \u001b[0;36m<module>\u001b[0;34m()\u001b[0m\n\u001b[1;32m     18\u001b[0m \u001b[0;34m\u001b[0m\u001b[0m\n\u001b[1;32m     19\u001b[0m \u001b[0;31m#create a dataframe that encompasses our input data, model formula, and outputs\u001b[0m\u001b[0;34m\u001b[0m\u001b[0;34m\u001b[0m\u001b[0;34m\u001b[0m\u001b[0m\n\u001b[0;32m---> 20\u001b[0;31m \u001b[0my\u001b[0m\u001b[0;34m,\u001b[0m \u001b[0mX\u001b[0m \u001b[0;34m=\u001b[0m \u001b[0mdmatrices\u001b[0m\u001b[0;34m(\u001b[0m\u001b[0mformula\u001b[0m\u001b[0;34m,\u001b[0m \u001b[0mA\u001b[0m\u001b[0;34m,\u001b[0m \u001b[0mreturn_type\u001b[0m\u001b[0;34m=\u001b[0m\u001b[0;34m'dataframe'\u001b[0m\u001b[0;34m)\u001b[0m\u001b[0;34m\u001b[0m\u001b[0;34m\u001b[0m\u001b[0m\n\u001b[0m\u001b[1;32m     21\u001b[0m \u001b[0;34m\u001b[0m\u001b[0m\n\u001b[1;32m     22\u001b[0m \u001b[0;31m#print it\u001b[0m\u001b[0;34m\u001b[0m\u001b[0;34m\u001b[0m\u001b[0;34m\u001b[0m\u001b[0m\n",
      "\u001b[0;32m~/anaconda3/lib/python3.6/site-packages/patsy/highlevel.py\u001b[0m in \u001b[0;36mdmatrices\u001b[0;34m(formula_like, data, eval_env, NA_action, return_type)\u001b[0m\n\u001b[1;32m    308\u001b[0m     \u001b[0meval_env\u001b[0m \u001b[0;34m=\u001b[0m \u001b[0mEvalEnvironment\u001b[0m\u001b[0;34m.\u001b[0m\u001b[0mcapture\u001b[0m\u001b[0;34m(\u001b[0m\u001b[0meval_env\u001b[0m\u001b[0;34m,\u001b[0m \u001b[0mreference\u001b[0m\u001b[0;34m=\u001b[0m\u001b[0;36m1\u001b[0m\u001b[0;34m)\u001b[0m\u001b[0;34m\u001b[0m\u001b[0;34m\u001b[0m\u001b[0m\n\u001b[1;32m    309\u001b[0m     (lhs, rhs) = _do_highlevel_design(formula_like, data, eval_env,\n\u001b[0;32m--> 310\u001b[0;31m                                       NA_action, return_type)\n\u001b[0m\u001b[1;32m    311\u001b[0m     \u001b[0;32mif\u001b[0m \u001b[0mlhs\u001b[0m\u001b[0;34m.\u001b[0m\u001b[0mshape\u001b[0m\u001b[0;34m[\u001b[0m\u001b[0;36m1\u001b[0m\u001b[0;34m]\u001b[0m \u001b[0;34m==\u001b[0m \u001b[0;36m0\u001b[0m\u001b[0;34m:\u001b[0m\u001b[0;34m\u001b[0m\u001b[0;34m\u001b[0m\u001b[0m\n\u001b[1;32m    312\u001b[0m         \u001b[0;32mraise\u001b[0m \u001b[0mPatsyError\u001b[0m\u001b[0;34m(\u001b[0m\u001b[0;34m\"model is missing required outcome variables\"\u001b[0m\u001b[0;34m)\u001b[0m\u001b[0;34m\u001b[0m\u001b[0;34m\u001b[0m\u001b[0m\n",
      "\u001b[0;32m~/anaconda3/lib/python3.6/site-packages/patsy/highlevel.py\u001b[0m in \u001b[0;36m_do_highlevel_design\u001b[0;34m(formula_like, data, eval_env, NA_action, return_type)\u001b[0m\n\u001b[1;32m    163\u001b[0m         \u001b[0;32mreturn\u001b[0m \u001b[0miter\u001b[0m\u001b[0;34m(\u001b[0m\u001b[0;34m[\u001b[0m\u001b[0mdata\u001b[0m\u001b[0;34m]\u001b[0m\u001b[0;34m)\u001b[0m\u001b[0;34m\u001b[0m\u001b[0;34m\u001b[0m\u001b[0m\n\u001b[1;32m    164\u001b[0m     design_infos = _try_incr_builders(formula_like, data_iter_maker, eval_env,\n\u001b[0;32m--> 165\u001b[0;31m                                       NA_action)\n\u001b[0m\u001b[1;32m    166\u001b[0m     \u001b[0;32mif\u001b[0m \u001b[0mdesign_infos\u001b[0m \u001b[0;32mis\u001b[0m \u001b[0;32mnot\u001b[0m \u001b[0;32mNone\u001b[0m\u001b[0;34m:\u001b[0m\u001b[0;34m\u001b[0m\u001b[0;34m\u001b[0m\u001b[0m\n\u001b[1;32m    167\u001b[0m         return build_design_matrices(design_infos, data,\n",
      "\u001b[0;32m~/anaconda3/lib/python3.6/site-packages/patsy/highlevel.py\u001b[0m in \u001b[0;36m_try_incr_builders\u001b[0;34m(formula_like, data_iter_maker, eval_env, NA_action)\u001b[0m\n\u001b[1;32m     60\u001b[0m                 \"ascii-only, or else upgrade to Python 3.\")\n\u001b[1;32m     61\u001b[0m     \u001b[0;32mif\u001b[0m \u001b[0misinstance\u001b[0m\u001b[0;34m(\u001b[0m\u001b[0mformula_like\u001b[0m\u001b[0;34m,\u001b[0m \u001b[0mstr\u001b[0m\u001b[0;34m)\u001b[0m\u001b[0;34m:\u001b[0m\u001b[0;34m\u001b[0m\u001b[0;34m\u001b[0m\u001b[0m\n\u001b[0;32m---> 62\u001b[0;31m         \u001b[0mformula_like\u001b[0m \u001b[0;34m=\u001b[0m \u001b[0mModelDesc\u001b[0m\u001b[0;34m.\u001b[0m\u001b[0mfrom_formula\u001b[0m\u001b[0;34m(\u001b[0m\u001b[0mformula_like\u001b[0m\u001b[0;34m)\u001b[0m\u001b[0;34m\u001b[0m\u001b[0;34m\u001b[0m\u001b[0m\n\u001b[0m\u001b[1;32m     63\u001b[0m         \u001b[0;31m# fallthrough\u001b[0m\u001b[0;34m\u001b[0m\u001b[0;34m\u001b[0m\u001b[0;34m\u001b[0m\u001b[0m\n\u001b[1;32m     64\u001b[0m     \u001b[0;32mif\u001b[0m \u001b[0misinstance\u001b[0m\u001b[0;34m(\u001b[0m\u001b[0mformula_like\u001b[0m\u001b[0;34m,\u001b[0m \u001b[0mModelDesc\u001b[0m\u001b[0;34m)\u001b[0m\u001b[0;34m:\u001b[0m\u001b[0;34m\u001b[0m\u001b[0;34m\u001b[0m\u001b[0m\n",
      "\u001b[0;32m~/anaconda3/lib/python3.6/site-packages/patsy/desc.py\u001b[0m in \u001b[0;36mfrom_formula\u001b[0;34m(cls, tree_or_string)\u001b[0m\n\u001b[1;32m    162\u001b[0m             \u001b[0mtree\u001b[0m \u001b[0;34m=\u001b[0m \u001b[0mtree_or_string\u001b[0m\u001b[0;34m\u001b[0m\u001b[0;34m\u001b[0m\u001b[0m\n\u001b[1;32m    163\u001b[0m         \u001b[0;32melse\u001b[0m\u001b[0;34m:\u001b[0m\u001b[0;34m\u001b[0m\u001b[0;34m\u001b[0m\u001b[0m\n\u001b[0;32m--> 164\u001b[0;31m             \u001b[0mtree\u001b[0m \u001b[0;34m=\u001b[0m \u001b[0mparse_formula\u001b[0m\u001b[0;34m(\u001b[0m\u001b[0mtree_or_string\u001b[0m\u001b[0;34m)\u001b[0m\u001b[0;34m\u001b[0m\u001b[0;34m\u001b[0m\u001b[0m\n\u001b[0m\u001b[1;32m    165\u001b[0m         \u001b[0mvalue\u001b[0m \u001b[0;34m=\u001b[0m \u001b[0mEvaluator\u001b[0m\u001b[0;34m(\u001b[0m\u001b[0;34m)\u001b[0m\u001b[0;34m.\u001b[0m\u001b[0meval\u001b[0m\u001b[0;34m(\u001b[0m\u001b[0mtree\u001b[0m\u001b[0;34m,\u001b[0m \u001b[0mrequire_evalexpr\u001b[0m\u001b[0;34m=\u001b[0m\u001b[0;32mFalse\u001b[0m\u001b[0;34m)\u001b[0m\u001b[0;34m\u001b[0m\u001b[0;34m\u001b[0m\u001b[0m\n\u001b[1;32m    166\u001b[0m         \u001b[0;32massert\u001b[0m \u001b[0misinstance\u001b[0m\u001b[0;34m(\u001b[0m\u001b[0mvalue\u001b[0m\u001b[0;34m,\u001b[0m \u001b[0mcls\u001b[0m\u001b[0;34m)\u001b[0m\u001b[0;34m\u001b[0m\u001b[0;34m\u001b[0m\u001b[0m\n",
      "\u001b[0;32m~/anaconda3/lib/python3.6/site-packages/patsy/parse_formula.py\u001b[0m in \u001b[0;36mparse_formula\u001b[0;34m(code, extra_operators)\u001b[0m\n\u001b[1;32m    146\u001b[0m     tree = infix_parse(_tokenize_formula(code, operator_strings),\n\u001b[1;32m    147\u001b[0m                        \u001b[0moperators\u001b[0m\u001b[0;34m,\u001b[0m\u001b[0;34m\u001b[0m\u001b[0;34m\u001b[0m\u001b[0m\n\u001b[0;32m--> 148\u001b[0;31m                        _atomic_token_types)\n\u001b[0m\u001b[1;32m    149\u001b[0m     \u001b[0;32mif\u001b[0m \u001b[0;32mnot\u001b[0m \u001b[0misinstance\u001b[0m\u001b[0;34m(\u001b[0m\u001b[0mtree\u001b[0m\u001b[0;34m,\u001b[0m \u001b[0mParseNode\u001b[0m\u001b[0;34m)\u001b[0m \u001b[0;32mor\u001b[0m \u001b[0mtree\u001b[0m\u001b[0;34m.\u001b[0m\u001b[0mtype\u001b[0m \u001b[0;34m!=\u001b[0m \u001b[0;34m\"~\"\u001b[0m\u001b[0;34m:\u001b[0m\u001b[0;34m\u001b[0m\u001b[0;34m\u001b[0m\u001b[0m\n\u001b[1;32m    150\u001b[0m         \u001b[0mtree\u001b[0m \u001b[0;34m=\u001b[0m \u001b[0mParseNode\u001b[0m\u001b[0;34m(\u001b[0m\u001b[0;34m\"~\"\u001b[0m\u001b[0;34m,\u001b[0m \u001b[0;32mNone\u001b[0m\u001b[0;34m,\u001b[0m \u001b[0;34m[\u001b[0m\u001b[0mtree\u001b[0m\u001b[0;34m]\u001b[0m\u001b[0;34m,\u001b[0m \u001b[0mtree\u001b[0m\u001b[0;34m.\u001b[0m\u001b[0morigin\u001b[0m\u001b[0;34m)\u001b[0m\u001b[0;34m\u001b[0m\u001b[0;34m\u001b[0m\u001b[0m\n",
      "\u001b[0;32m~/anaconda3/lib/python3.6/site-packages/patsy/infix_parser.py\u001b[0m in \u001b[0;36minfix_parse\u001b[0;34m(tokens, operators, atomic_types, trace)\u001b[0m\n\u001b[1;32m    208\u001b[0m \u001b[0;34m\u001b[0m\u001b[0m\n\u001b[1;32m    209\u001b[0m     \u001b[0mwant_noun\u001b[0m \u001b[0;34m=\u001b[0m \u001b[0;32mTrue\u001b[0m\u001b[0;34m\u001b[0m\u001b[0;34m\u001b[0m\u001b[0m\n\u001b[0;32m--> 210\u001b[0;31m     \u001b[0;32mfor\u001b[0m \u001b[0mtoken\u001b[0m \u001b[0;32min\u001b[0m \u001b[0mtoken_source\u001b[0m\u001b[0;34m:\u001b[0m\u001b[0;34m\u001b[0m\u001b[0;34m\u001b[0m\u001b[0m\n\u001b[0m\u001b[1;32m    211\u001b[0m         \u001b[0;32mif\u001b[0m \u001b[0mc\u001b[0m\u001b[0;34m.\u001b[0m\u001b[0mtrace\u001b[0m\u001b[0;34m:\u001b[0m\u001b[0;34m\u001b[0m\u001b[0;34m\u001b[0m\u001b[0m\n\u001b[1;32m    212\u001b[0m             \u001b[0mprint\u001b[0m\u001b[0;34m(\u001b[0m\u001b[0;34m\"Reading next token (want_noun=%r)\"\u001b[0m \u001b[0;34m%\u001b[0m \u001b[0;34m(\u001b[0m\u001b[0mwant_noun\u001b[0m\u001b[0;34m,\u001b[0m\u001b[0;34m)\u001b[0m\u001b[0;34m)\u001b[0m\u001b[0;34m\u001b[0m\u001b[0;34m\u001b[0m\u001b[0m\n",
      "\u001b[0;32m~/anaconda3/lib/python3.6/site-packages/patsy/parse_formula.py\u001b[0m in \u001b[0;36m_tokenize_formula\u001b[0;34m(code, operator_strings)\u001b[0m\n\u001b[1;32m     92\u001b[0m         \u001b[0;32melse\u001b[0m\u001b[0;34m:\u001b[0m\u001b[0;34m\u001b[0m\u001b[0;34m\u001b[0m\u001b[0m\n\u001b[1;32m     93\u001b[0m             \u001b[0mit\u001b[0m\u001b[0;34m.\u001b[0m\u001b[0mpush_back\u001b[0m\u001b[0;34m(\u001b[0m\u001b[0;34m(\u001b[0m\u001b[0mpytype\u001b[0m\u001b[0;34m,\u001b[0m \u001b[0mtoken_string\u001b[0m\u001b[0;34m,\u001b[0m \u001b[0morigin\u001b[0m\u001b[0;34m)\u001b[0m\u001b[0;34m)\u001b[0m\u001b[0;34m\u001b[0m\u001b[0;34m\u001b[0m\u001b[0m\n\u001b[0;32m---> 94\u001b[0;31m             \u001b[0;32myield\u001b[0m \u001b[0m_read_python_expr\u001b[0m\u001b[0;34m(\u001b[0m\u001b[0mit\u001b[0m\u001b[0;34m,\u001b[0m \u001b[0mend_tokens\u001b[0m\u001b[0;34m)\u001b[0m\u001b[0;34m\u001b[0m\u001b[0;34m\u001b[0m\u001b[0m\n\u001b[0m\u001b[1;32m     95\u001b[0m \u001b[0;34m\u001b[0m\u001b[0m\n\u001b[1;32m     96\u001b[0m \u001b[0;32mdef\u001b[0m \u001b[0mtest__tokenize_formula\u001b[0m\u001b[0;34m(\u001b[0m\u001b[0;34m)\u001b[0m\u001b[0;34m:\u001b[0m\u001b[0;34m\u001b[0m\u001b[0;34m\u001b[0m\u001b[0m\n",
      "\u001b[0;32m~/anaconda3/lib/python3.6/site-packages/patsy/parse_formula.py\u001b[0m in \u001b[0;36m_read_python_expr\u001b[0;34m(it, end_tokens)\u001b[0m\n\u001b[1;32m     42\u001b[0m     \u001b[0morigins\u001b[0m \u001b[0;34m=\u001b[0m \u001b[0;34m[\u001b[0m\u001b[0;34m]\u001b[0m\u001b[0;34m\u001b[0m\u001b[0;34m\u001b[0m\u001b[0m\n\u001b[1;32m     43\u001b[0m     \u001b[0mbracket_level\u001b[0m \u001b[0;34m=\u001b[0m \u001b[0;36m0\u001b[0m\u001b[0;34m\u001b[0m\u001b[0;34m\u001b[0m\u001b[0m\n\u001b[0;32m---> 44\u001b[0;31m     \u001b[0;32mfor\u001b[0m \u001b[0mpytype\u001b[0m\u001b[0;34m,\u001b[0m \u001b[0mtoken_string\u001b[0m\u001b[0;34m,\u001b[0m \u001b[0morigin\u001b[0m \u001b[0;32min\u001b[0m \u001b[0mit\u001b[0m\u001b[0;34m:\u001b[0m\u001b[0;34m\u001b[0m\u001b[0;34m\u001b[0m\u001b[0m\n\u001b[0m\u001b[1;32m     45\u001b[0m         \u001b[0;32massert\u001b[0m \u001b[0mbracket_level\u001b[0m \u001b[0;34m>=\u001b[0m \u001b[0;36m0\u001b[0m\u001b[0;34m\u001b[0m\u001b[0;34m\u001b[0m\u001b[0m\n\u001b[1;32m     46\u001b[0m         \u001b[0;32mif\u001b[0m \u001b[0mbracket_level\u001b[0m \u001b[0;34m==\u001b[0m \u001b[0;36m0\u001b[0m \u001b[0;32mand\u001b[0m \u001b[0mtoken_string\u001b[0m \u001b[0;32min\u001b[0m \u001b[0mend_tokens\u001b[0m\u001b[0;34m:\u001b[0m\u001b[0;34m\u001b[0m\u001b[0;34m\u001b[0m\u001b[0m\n",
      "\u001b[0;32m~/anaconda3/lib/python3.6/site-packages/patsy/util.py\u001b[0m in \u001b[0;36mnext\u001b[0;34m(self)\u001b[0m\n\u001b[1;32m    319\u001b[0m         \u001b[0;32melse\u001b[0m\u001b[0;34m:\u001b[0m\u001b[0;34m\u001b[0m\u001b[0;34m\u001b[0m\u001b[0m\n\u001b[1;32m    320\u001b[0m             \u001b[0;31m# May raise StopIteration\u001b[0m\u001b[0;34m\u001b[0m\u001b[0;34m\u001b[0m\u001b[0;34m\u001b[0m\u001b[0m\n\u001b[0;32m--> 321\u001b[0;31m             \u001b[0;32mreturn\u001b[0m \u001b[0msix\u001b[0m\u001b[0;34m.\u001b[0m\u001b[0madvance_iterator\u001b[0m\u001b[0;34m(\u001b[0m\u001b[0mself\u001b[0m\u001b[0;34m.\u001b[0m\u001b[0m_it\u001b[0m\u001b[0;34m)\u001b[0m\u001b[0;34m\u001b[0m\u001b[0;34m\u001b[0m\u001b[0m\n\u001b[0m\u001b[1;32m    322\u001b[0m     \u001b[0m__next__\u001b[0m \u001b[0;34m=\u001b[0m \u001b[0mnext\u001b[0m\u001b[0;34m\u001b[0m\u001b[0;34m\u001b[0m\u001b[0m\n\u001b[1;32m    323\u001b[0m \u001b[0;34m\u001b[0m\u001b[0m\n",
      "\u001b[0;32m~/anaconda3/lib/python3.6/site-packages/patsy/tokens.py\u001b[0m in \u001b[0;36mpython_tokenize\u001b[0;34m(code)\u001b[0m\n\u001b[1;32m     33\u001b[0m                 \u001b[0;32mbreak\u001b[0m\u001b[0;34m\u001b[0m\u001b[0;34m\u001b[0m\u001b[0m\n\u001b[1;32m     34\u001b[0m             \u001b[0morigin\u001b[0m \u001b[0;34m=\u001b[0m \u001b[0mOrigin\u001b[0m\u001b[0;34m(\u001b[0m\u001b[0mcode\u001b[0m\u001b[0;34m,\u001b[0m \u001b[0mstart\u001b[0m\u001b[0;34m,\u001b[0m \u001b[0mend\u001b[0m\u001b[0;34m)\u001b[0m\u001b[0;34m\u001b[0m\u001b[0;34m\u001b[0m\u001b[0m\n\u001b[0;32m---> 35\u001b[0;31m             \u001b[0;32massert\u001b[0m \u001b[0mpytype\u001b[0m \u001b[0;32mnot\u001b[0m \u001b[0;32min\u001b[0m \u001b[0;34m(\u001b[0m\u001b[0mtokenize\u001b[0m\u001b[0;34m.\u001b[0m\u001b[0mNL\u001b[0m\u001b[0;34m,\u001b[0m \u001b[0mtokenize\u001b[0m\u001b[0;34m.\u001b[0m\u001b[0mNEWLINE\u001b[0m\u001b[0;34m)\u001b[0m\u001b[0;34m\u001b[0m\u001b[0;34m\u001b[0m\u001b[0m\n\u001b[0m\u001b[1;32m     36\u001b[0m             \u001b[0;32mif\u001b[0m \u001b[0mpytype\u001b[0m \u001b[0;34m==\u001b[0m \u001b[0mtokenize\u001b[0m\u001b[0;34m.\u001b[0m\u001b[0mERRORTOKEN\u001b[0m\u001b[0;34m:\u001b[0m\u001b[0;34m\u001b[0m\u001b[0;34m\u001b[0m\u001b[0m\n\u001b[1;32m     37\u001b[0m                 raise PatsyError(\"error tokenizing input \"\n",
      "\u001b[0;31mAssertionError\u001b[0m: "
     ]
    }
   ],
   "source": [
    "#lets keep x and z closely related (height and weight)\n",
    "x, z = np.random.multivariate_normal([0,0], [[var_x,r],[r,var_z]], n).T\n",
    "#blood presure\n",
    "v = np.random.normal(0,var_v,n)**3\n",
    "\n",
    "#create a pandas dataframe (easily parseable object for manipulation)\n",
    "A = pd.DataFrame({'x' : x, 'z' : z, 'v' : v})\n",
    "#compute the log odds for our 3 independent variables\n",
    "#using the sigmoid function \n",
    "A['log_odds'] = sigmoid(A[['x','z','v']].dot([beta_x,beta_z,beta_v]) + sigma*np.random.normal(0,1,n))\n",
    "\n",
    "\n",
    "\n",
    "#compute the probability sample from binomial distribution\n",
    "#A binomial random variable is the number of successes x has in n repeated trials of a binomial experiment. \n",
    "#The probability distribution of a binomial random variable is called a binomial distribution. \n",
    "A['y'] = [np.random.binomial(1,p) for p in A.log_odds]\n",
    "\n",
    "#create a dataframe that encompasses our input data, model formula, and outputs\n",
    "y, X = dmatrices(formula, A, return_type='dataframe')\n",
    "\n",
    "#print it\n",
    "X.head(100)"
   ]
  },
  {
   "cell_type": "code",
   "execution_count": null,
   "metadata": {},
   "outputs": [],
   "source": [
    "#like dividing by zero (Wtff omgggggg universe collapses)\n",
    "def catch_singularity(f):\n",
    "    '''Silences LinAlg Errors and throws a warning instead.'''\n",
    "    \n",
    "    def silencer(*args, **kwargs):\n",
    "        try:\n",
    "            return f(*args, **kwargs)\n",
    "        except np.linalg.LinAlgError:\n",
    "            warnings.warn('Algorithm terminated - singular Hessian!')\n",
    "            return args[0]\n",
    "    return silencer"
   ]
  },
  {
   "cell_type": "code",
   "execution_count": 22,
   "metadata": {
    "ExecuteTime": {
     "end_time": "2019-03-17T15:24:18.961255Z",
     "start_time": "2019-03-17T15:24:18.941062Z"
    }
   },
   "outputs": [
    {
     "name": "stderr",
     "output_type": "stream",
     "text": [
      "/Users/marktblack/anaconda3/lib/python3.6/site-packages/ipykernel_launcher.py:4: RuntimeWarning: overflow encountered in exp\n",
      "  after removing the cwd from sys.path.\n"
     ]
    }
   ],
   "source": [
    "A = pd.DataFrame({'x': x,\n",
    "                  'z': z,\n",
    "                  'v': v})\n",
    "\n",
    "A['log_odds'] = sigmoid(A[['x', 'z', 'v']].dot([beta_x, beta_z, beta_v]) + \\\n",
    "                        sigma*np.random.normal(0, 1, n))\n",
    "\n",
    "A['y'] = [np.random.binomial(1, p) for p in A.log_odds]"
   ]
  },
  {
   "cell_type": "code",
   "execution_count": 23,
   "metadata": {
    "ExecuteTime": {
     "end_time": "2019-03-17T15:24:18.971853Z",
     "start_time": "2019-03-17T15:24:18.962959Z"
    }
   },
   "outputs": [
    {
     "data": {
      "text/html": [
       "<div>\n",
       "<style>\n",
       "    .dataframe thead tr:only-child th {\n",
       "        text-align: right;\n",
       "    }\n",
       "\n",
       "    .dataframe thead th {\n",
       "        text-align: left;\n",
       "    }\n",
       "\n",
       "    .dataframe tbody tr th {\n",
       "        vertical-align: top;\n",
       "    }\n",
       "</style>\n",
       "<table border=\"1\" class=\"dataframe\">\n",
       "  <thead>\n",
       "    <tr style=\"text-align: right;\">\n",
       "      <th></th>\n",
       "      <th>v</th>\n",
       "      <th>x</th>\n",
       "      <th>z</th>\n",
       "      <th>log_odds</th>\n",
       "      <th>y</th>\n",
       "    </tr>\n",
       "  </thead>\n",
       "  <tbody>\n",
       "    <tr>\n",
       "      <th>0</th>\n",
       "      <td>-230.536312</td>\n",
       "      <td>-1.805133</td>\n",
       "      <td>-1.678592</td>\n",
       "      <td>1.124697e-97</td>\n",
       "      <td>0</td>\n",
       "    </tr>\n",
       "    <tr>\n",
       "      <th>1</th>\n",
       "      <td>-321.120883</td>\n",
       "      <td>-1.320743</td>\n",
       "      <td>-0.612110</td>\n",
       "      <td>6.935508e-138</td>\n",
       "      <td>0</td>\n",
       "    </tr>\n",
       "    <tr>\n",
       "      <th>2</th>\n",
       "      <td>0.006285</td>\n",
       "      <td>-1.689545</td>\n",
       "      <td>-1.998587</td>\n",
       "      <td>9.922420e-01</td>\n",
       "      <td>1</td>\n",
       "    </tr>\n",
       "    <tr>\n",
       "      <th>3</th>\n",
       "      <td>-56.335960</td>\n",
       "      <td>-0.914205</td>\n",
       "      <td>-0.962069</td>\n",
       "      <td>7.161166e-24</td>\n",
       "      <td>0</td>\n",
       "    </tr>\n",
       "    <tr>\n",
       "      <th>4</th>\n",
       "      <td>-0.033775</td>\n",
       "      <td>0.036999</td>\n",
       "      <td>0.166842</td>\n",
       "      <td>2.240063e-01</td>\n",
       "      <td>0</td>\n",
       "    </tr>\n",
       "  </tbody>\n",
       "</table>\n",
       "</div>"
      ],
      "text/plain": [
       "            v         x         z       log_odds  y\n",
       "0 -230.536312 -1.805133 -1.678592   1.124697e-97  0\n",
       "1 -321.120883 -1.320743 -0.612110  6.935508e-138  0\n",
       "2    0.006285 -1.689545 -1.998587   9.922420e-01  1\n",
       "3  -56.335960 -0.914205 -0.962069   7.161166e-24  0\n",
       "4   -0.033775  0.036999  0.166842   2.240063e-01  0"
      ]
     },
     "execution_count": 23,
     "metadata": {},
     "output_type": "execute_result"
    }
   ],
   "source": [
    "A.head()"
   ]
  },
  {
   "cell_type": "code",
   "execution_count": 24,
   "metadata": {
    "ExecuteTime": {
     "end_time": "2019-03-17T15:24:19.048854Z",
     "start_time": "2019-03-17T15:24:18.973520Z"
    }
   },
   "outputs": [
    {
     "ename": "AssertionError",
     "evalue": "",
     "output_type": "error",
     "traceback": [
      "\u001b[0;31m---------------------------------------------------------------------------\u001b[0m",
      "\u001b[0;31mAssertionError\u001b[0m                            Traceback (most recent call last)",
      "\u001b[0;32m<ipython-input-24-6234c7373b0b>\u001b[0m in \u001b[0;36m<module>\u001b[0;34m()\u001b[0m\n\u001b[0;32m----> 1\u001b[0;31m \u001b[0my\u001b[0m\u001b[0;34m,\u001b[0m \u001b[0mX\u001b[0m \u001b[0;34m=\u001b[0m \u001b[0mdmatrices\u001b[0m\u001b[0;34m(\u001b[0m\u001b[0mformula\u001b[0m\u001b[0;34m,\u001b[0m \u001b[0mA\u001b[0m\u001b[0;34m,\u001b[0m \u001b[0mreturn_type\u001b[0m\u001b[0;34m=\u001b[0m\u001b[0;34m'dataframe'\u001b[0m\u001b[0;34m)\u001b[0m\u001b[0;34m\u001b[0m\u001b[0;34m\u001b[0m\u001b[0m\n\u001b[0m\u001b[1;32m      2\u001b[0m \u001b[0;34m\u001b[0m\u001b[0m\n\u001b[1;32m      3\u001b[0m \u001b[0mX\u001b[0m\u001b[0;34m.\u001b[0m\u001b[0mhead\u001b[0m\u001b[0;34m(\u001b[0m\u001b[0;36m100\u001b[0m\u001b[0;34m)\u001b[0m\u001b[0;34m\u001b[0m\u001b[0;34m\u001b[0m\u001b[0m\n",
      "\u001b[0;32m~/anaconda3/lib/python3.6/site-packages/patsy/highlevel.py\u001b[0m in \u001b[0;36mdmatrices\u001b[0;34m(formula_like, data, eval_env, NA_action, return_type)\u001b[0m\n\u001b[1;32m    308\u001b[0m     \u001b[0meval_env\u001b[0m \u001b[0;34m=\u001b[0m \u001b[0mEvalEnvironment\u001b[0m\u001b[0;34m.\u001b[0m\u001b[0mcapture\u001b[0m\u001b[0;34m(\u001b[0m\u001b[0meval_env\u001b[0m\u001b[0;34m,\u001b[0m \u001b[0mreference\u001b[0m\u001b[0;34m=\u001b[0m\u001b[0;36m1\u001b[0m\u001b[0;34m)\u001b[0m\u001b[0;34m\u001b[0m\u001b[0;34m\u001b[0m\u001b[0m\n\u001b[1;32m    309\u001b[0m     (lhs, rhs) = _do_highlevel_design(formula_like, data, eval_env,\n\u001b[0;32m--> 310\u001b[0;31m                                       NA_action, return_type)\n\u001b[0m\u001b[1;32m    311\u001b[0m     \u001b[0;32mif\u001b[0m \u001b[0mlhs\u001b[0m\u001b[0;34m.\u001b[0m\u001b[0mshape\u001b[0m\u001b[0;34m[\u001b[0m\u001b[0;36m1\u001b[0m\u001b[0;34m]\u001b[0m \u001b[0;34m==\u001b[0m \u001b[0;36m0\u001b[0m\u001b[0;34m:\u001b[0m\u001b[0;34m\u001b[0m\u001b[0;34m\u001b[0m\u001b[0m\n\u001b[1;32m    312\u001b[0m         \u001b[0;32mraise\u001b[0m \u001b[0mPatsyError\u001b[0m\u001b[0;34m(\u001b[0m\u001b[0;34m\"model is missing required outcome variables\"\u001b[0m\u001b[0;34m)\u001b[0m\u001b[0;34m\u001b[0m\u001b[0;34m\u001b[0m\u001b[0m\n",
      "\u001b[0;32m~/anaconda3/lib/python3.6/site-packages/patsy/highlevel.py\u001b[0m in \u001b[0;36m_do_highlevel_design\u001b[0;34m(formula_like, data, eval_env, NA_action, return_type)\u001b[0m\n\u001b[1;32m    163\u001b[0m         \u001b[0;32mreturn\u001b[0m \u001b[0miter\u001b[0m\u001b[0;34m(\u001b[0m\u001b[0;34m[\u001b[0m\u001b[0mdata\u001b[0m\u001b[0;34m]\u001b[0m\u001b[0;34m)\u001b[0m\u001b[0;34m\u001b[0m\u001b[0;34m\u001b[0m\u001b[0m\n\u001b[1;32m    164\u001b[0m     design_infos = _try_incr_builders(formula_like, data_iter_maker, eval_env,\n\u001b[0;32m--> 165\u001b[0;31m                                       NA_action)\n\u001b[0m\u001b[1;32m    166\u001b[0m     \u001b[0;32mif\u001b[0m \u001b[0mdesign_infos\u001b[0m \u001b[0;32mis\u001b[0m \u001b[0;32mnot\u001b[0m \u001b[0;32mNone\u001b[0m\u001b[0;34m:\u001b[0m\u001b[0;34m\u001b[0m\u001b[0;34m\u001b[0m\u001b[0m\n\u001b[1;32m    167\u001b[0m         return build_design_matrices(design_infos, data,\n",
      "\u001b[0;32m~/anaconda3/lib/python3.6/site-packages/patsy/highlevel.py\u001b[0m in \u001b[0;36m_try_incr_builders\u001b[0;34m(formula_like, data_iter_maker, eval_env, NA_action)\u001b[0m\n\u001b[1;32m     60\u001b[0m                 \"ascii-only, or else upgrade to Python 3.\")\n\u001b[1;32m     61\u001b[0m     \u001b[0;32mif\u001b[0m \u001b[0misinstance\u001b[0m\u001b[0;34m(\u001b[0m\u001b[0mformula_like\u001b[0m\u001b[0;34m,\u001b[0m \u001b[0mstr\u001b[0m\u001b[0;34m)\u001b[0m\u001b[0;34m:\u001b[0m\u001b[0;34m\u001b[0m\u001b[0;34m\u001b[0m\u001b[0m\n\u001b[0;32m---> 62\u001b[0;31m         \u001b[0mformula_like\u001b[0m \u001b[0;34m=\u001b[0m \u001b[0mModelDesc\u001b[0m\u001b[0;34m.\u001b[0m\u001b[0mfrom_formula\u001b[0m\u001b[0;34m(\u001b[0m\u001b[0mformula_like\u001b[0m\u001b[0;34m)\u001b[0m\u001b[0;34m\u001b[0m\u001b[0;34m\u001b[0m\u001b[0m\n\u001b[0m\u001b[1;32m     63\u001b[0m         \u001b[0;31m# fallthrough\u001b[0m\u001b[0;34m\u001b[0m\u001b[0;34m\u001b[0m\u001b[0;34m\u001b[0m\u001b[0m\n\u001b[1;32m     64\u001b[0m     \u001b[0;32mif\u001b[0m \u001b[0misinstance\u001b[0m\u001b[0;34m(\u001b[0m\u001b[0mformula_like\u001b[0m\u001b[0;34m,\u001b[0m \u001b[0mModelDesc\u001b[0m\u001b[0;34m)\u001b[0m\u001b[0;34m:\u001b[0m\u001b[0;34m\u001b[0m\u001b[0;34m\u001b[0m\u001b[0m\n",
      "\u001b[0;32m~/anaconda3/lib/python3.6/site-packages/patsy/desc.py\u001b[0m in \u001b[0;36mfrom_formula\u001b[0;34m(cls, tree_or_string)\u001b[0m\n\u001b[1;32m    162\u001b[0m             \u001b[0mtree\u001b[0m \u001b[0;34m=\u001b[0m \u001b[0mtree_or_string\u001b[0m\u001b[0;34m\u001b[0m\u001b[0;34m\u001b[0m\u001b[0m\n\u001b[1;32m    163\u001b[0m         \u001b[0;32melse\u001b[0m\u001b[0;34m:\u001b[0m\u001b[0;34m\u001b[0m\u001b[0;34m\u001b[0m\u001b[0m\n\u001b[0;32m--> 164\u001b[0;31m             \u001b[0mtree\u001b[0m \u001b[0;34m=\u001b[0m \u001b[0mparse_formula\u001b[0m\u001b[0;34m(\u001b[0m\u001b[0mtree_or_string\u001b[0m\u001b[0;34m)\u001b[0m\u001b[0;34m\u001b[0m\u001b[0;34m\u001b[0m\u001b[0m\n\u001b[0m\u001b[1;32m    165\u001b[0m         \u001b[0mvalue\u001b[0m \u001b[0;34m=\u001b[0m \u001b[0mEvaluator\u001b[0m\u001b[0;34m(\u001b[0m\u001b[0;34m)\u001b[0m\u001b[0;34m.\u001b[0m\u001b[0meval\u001b[0m\u001b[0;34m(\u001b[0m\u001b[0mtree\u001b[0m\u001b[0;34m,\u001b[0m \u001b[0mrequire_evalexpr\u001b[0m\u001b[0;34m=\u001b[0m\u001b[0;32mFalse\u001b[0m\u001b[0;34m)\u001b[0m\u001b[0;34m\u001b[0m\u001b[0;34m\u001b[0m\u001b[0m\n\u001b[1;32m    166\u001b[0m         \u001b[0;32massert\u001b[0m \u001b[0misinstance\u001b[0m\u001b[0;34m(\u001b[0m\u001b[0mvalue\u001b[0m\u001b[0;34m,\u001b[0m \u001b[0mcls\u001b[0m\u001b[0;34m)\u001b[0m\u001b[0;34m\u001b[0m\u001b[0;34m\u001b[0m\u001b[0m\n",
      "\u001b[0;32m~/anaconda3/lib/python3.6/site-packages/patsy/parse_formula.py\u001b[0m in \u001b[0;36mparse_formula\u001b[0;34m(code, extra_operators)\u001b[0m\n\u001b[1;32m    146\u001b[0m     tree = infix_parse(_tokenize_formula(code, operator_strings),\n\u001b[1;32m    147\u001b[0m                        \u001b[0moperators\u001b[0m\u001b[0;34m,\u001b[0m\u001b[0;34m\u001b[0m\u001b[0;34m\u001b[0m\u001b[0m\n\u001b[0;32m--> 148\u001b[0;31m                        _atomic_token_types)\n\u001b[0m\u001b[1;32m    149\u001b[0m     \u001b[0;32mif\u001b[0m \u001b[0;32mnot\u001b[0m \u001b[0misinstance\u001b[0m\u001b[0;34m(\u001b[0m\u001b[0mtree\u001b[0m\u001b[0;34m,\u001b[0m \u001b[0mParseNode\u001b[0m\u001b[0;34m)\u001b[0m \u001b[0;32mor\u001b[0m \u001b[0mtree\u001b[0m\u001b[0;34m.\u001b[0m\u001b[0mtype\u001b[0m \u001b[0;34m!=\u001b[0m \u001b[0;34m\"~\"\u001b[0m\u001b[0;34m:\u001b[0m\u001b[0;34m\u001b[0m\u001b[0;34m\u001b[0m\u001b[0m\n\u001b[1;32m    150\u001b[0m         \u001b[0mtree\u001b[0m \u001b[0;34m=\u001b[0m \u001b[0mParseNode\u001b[0m\u001b[0;34m(\u001b[0m\u001b[0;34m\"~\"\u001b[0m\u001b[0;34m,\u001b[0m \u001b[0;32mNone\u001b[0m\u001b[0;34m,\u001b[0m \u001b[0;34m[\u001b[0m\u001b[0mtree\u001b[0m\u001b[0;34m]\u001b[0m\u001b[0;34m,\u001b[0m \u001b[0mtree\u001b[0m\u001b[0;34m.\u001b[0m\u001b[0morigin\u001b[0m\u001b[0;34m)\u001b[0m\u001b[0;34m\u001b[0m\u001b[0;34m\u001b[0m\u001b[0m\n",
      "\u001b[0;32m~/anaconda3/lib/python3.6/site-packages/patsy/infix_parser.py\u001b[0m in \u001b[0;36minfix_parse\u001b[0;34m(tokens, operators, atomic_types, trace)\u001b[0m\n\u001b[1;32m    208\u001b[0m \u001b[0;34m\u001b[0m\u001b[0m\n\u001b[1;32m    209\u001b[0m     \u001b[0mwant_noun\u001b[0m \u001b[0;34m=\u001b[0m \u001b[0;32mTrue\u001b[0m\u001b[0;34m\u001b[0m\u001b[0;34m\u001b[0m\u001b[0m\n\u001b[0;32m--> 210\u001b[0;31m     \u001b[0;32mfor\u001b[0m \u001b[0mtoken\u001b[0m \u001b[0;32min\u001b[0m \u001b[0mtoken_source\u001b[0m\u001b[0;34m:\u001b[0m\u001b[0;34m\u001b[0m\u001b[0;34m\u001b[0m\u001b[0m\n\u001b[0m\u001b[1;32m    211\u001b[0m         \u001b[0;32mif\u001b[0m \u001b[0mc\u001b[0m\u001b[0;34m.\u001b[0m\u001b[0mtrace\u001b[0m\u001b[0;34m:\u001b[0m\u001b[0;34m\u001b[0m\u001b[0;34m\u001b[0m\u001b[0m\n\u001b[1;32m    212\u001b[0m             \u001b[0mprint\u001b[0m\u001b[0;34m(\u001b[0m\u001b[0;34m\"Reading next token (want_noun=%r)\"\u001b[0m \u001b[0;34m%\u001b[0m \u001b[0;34m(\u001b[0m\u001b[0mwant_noun\u001b[0m\u001b[0;34m,\u001b[0m\u001b[0;34m)\u001b[0m\u001b[0;34m)\u001b[0m\u001b[0;34m\u001b[0m\u001b[0;34m\u001b[0m\u001b[0m\n",
      "\u001b[0;32m~/anaconda3/lib/python3.6/site-packages/patsy/parse_formula.py\u001b[0m in \u001b[0;36m_tokenize_formula\u001b[0;34m(code, operator_strings)\u001b[0m\n\u001b[1;32m     92\u001b[0m         \u001b[0;32melse\u001b[0m\u001b[0;34m:\u001b[0m\u001b[0;34m\u001b[0m\u001b[0;34m\u001b[0m\u001b[0m\n\u001b[1;32m     93\u001b[0m             \u001b[0mit\u001b[0m\u001b[0;34m.\u001b[0m\u001b[0mpush_back\u001b[0m\u001b[0;34m(\u001b[0m\u001b[0;34m(\u001b[0m\u001b[0mpytype\u001b[0m\u001b[0;34m,\u001b[0m \u001b[0mtoken_string\u001b[0m\u001b[0;34m,\u001b[0m \u001b[0morigin\u001b[0m\u001b[0;34m)\u001b[0m\u001b[0;34m)\u001b[0m\u001b[0;34m\u001b[0m\u001b[0;34m\u001b[0m\u001b[0m\n\u001b[0;32m---> 94\u001b[0;31m             \u001b[0;32myield\u001b[0m \u001b[0m_read_python_expr\u001b[0m\u001b[0;34m(\u001b[0m\u001b[0mit\u001b[0m\u001b[0;34m,\u001b[0m \u001b[0mend_tokens\u001b[0m\u001b[0;34m)\u001b[0m\u001b[0;34m\u001b[0m\u001b[0;34m\u001b[0m\u001b[0m\n\u001b[0m\u001b[1;32m     95\u001b[0m \u001b[0;34m\u001b[0m\u001b[0m\n\u001b[1;32m     96\u001b[0m \u001b[0;32mdef\u001b[0m \u001b[0mtest__tokenize_formula\u001b[0m\u001b[0;34m(\u001b[0m\u001b[0;34m)\u001b[0m\u001b[0;34m:\u001b[0m\u001b[0;34m\u001b[0m\u001b[0;34m\u001b[0m\u001b[0m\n",
      "\u001b[0;32m~/anaconda3/lib/python3.6/site-packages/patsy/parse_formula.py\u001b[0m in \u001b[0;36m_read_python_expr\u001b[0;34m(it, end_tokens)\u001b[0m\n\u001b[1;32m     42\u001b[0m     \u001b[0morigins\u001b[0m \u001b[0;34m=\u001b[0m \u001b[0;34m[\u001b[0m\u001b[0;34m]\u001b[0m\u001b[0;34m\u001b[0m\u001b[0;34m\u001b[0m\u001b[0m\n\u001b[1;32m     43\u001b[0m     \u001b[0mbracket_level\u001b[0m \u001b[0;34m=\u001b[0m \u001b[0;36m0\u001b[0m\u001b[0;34m\u001b[0m\u001b[0;34m\u001b[0m\u001b[0m\n\u001b[0;32m---> 44\u001b[0;31m     \u001b[0;32mfor\u001b[0m \u001b[0mpytype\u001b[0m\u001b[0;34m,\u001b[0m \u001b[0mtoken_string\u001b[0m\u001b[0;34m,\u001b[0m \u001b[0morigin\u001b[0m \u001b[0;32min\u001b[0m \u001b[0mit\u001b[0m\u001b[0;34m:\u001b[0m\u001b[0;34m\u001b[0m\u001b[0;34m\u001b[0m\u001b[0m\n\u001b[0m\u001b[1;32m     45\u001b[0m         \u001b[0;32massert\u001b[0m \u001b[0mbracket_level\u001b[0m \u001b[0;34m>=\u001b[0m \u001b[0;36m0\u001b[0m\u001b[0;34m\u001b[0m\u001b[0;34m\u001b[0m\u001b[0m\n\u001b[1;32m     46\u001b[0m         \u001b[0;32mif\u001b[0m \u001b[0mbracket_level\u001b[0m \u001b[0;34m==\u001b[0m \u001b[0;36m0\u001b[0m \u001b[0;32mand\u001b[0m \u001b[0mtoken_string\u001b[0m \u001b[0;32min\u001b[0m \u001b[0mend_tokens\u001b[0m\u001b[0;34m:\u001b[0m\u001b[0;34m\u001b[0m\u001b[0;34m\u001b[0m\u001b[0m\n",
      "\u001b[0;32m~/anaconda3/lib/python3.6/site-packages/patsy/util.py\u001b[0m in \u001b[0;36mnext\u001b[0;34m(self)\u001b[0m\n\u001b[1;32m    319\u001b[0m         \u001b[0;32melse\u001b[0m\u001b[0;34m:\u001b[0m\u001b[0;34m\u001b[0m\u001b[0;34m\u001b[0m\u001b[0m\n\u001b[1;32m    320\u001b[0m             \u001b[0;31m# May raise StopIteration\u001b[0m\u001b[0;34m\u001b[0m\u001b[0;34m\u001b[0m\u001b[0;34m\u001b[0m\u001b[0m\n\u001b[0;32m--> 321\u001b[0;31m             \u001b[0;32mreturn\u001b[0m \u001b[0msix\u001b[0m\u001b[0;34m.\u001b[0m\u001b[0madvance_iterator\u001b[0m\u001b[0;34m(\u001b[0m\u001b[0mself\u001b[0m\u001b[0;34m.\u001b[0m\u001b[0m_it\u001b[0m\u001b[0;34m)\u001b[0m\u001b[0;34m\u001b[0m\u001b[0;34m\u001b[0m\u001b[0m\n\u001b[0m\u001b[1;32m    322\u001b[0m     \u001b[0m__next__\u001b[0m \u001b[0;34m=\u001b[0m \u001b[0mnext\u001b[0m\u001b[0;34m\u001b[0m\u001b[0;34m\u001b[0m\u001b[0m\n\u001b[1;32m    323\u001b[0m \u001b[0;34m\u001b[0m\u001b[0m\n",
      "\u001b[0;32m~/anaconda3/lib/python3.6/site-packages/patsy/tokens.py\u001b[0m in \u001b[0;36mpython_tokenize\u001b[0;34m(code)\u001b[0m\n\u001b[1;32m     33\u001b[0m                 \u001b[0;32mbreak\u001b[0m\u001b[0;34m\u001b[0m\u001b[0;34m\u001b[0m\u001b[0m\n\u001b[1;32m     34\u001b[0m             \u001b[0morigin\u001b[0m \u001b[0;34m=\u001b[0m \u001b[0mOrigin\u001b[0m\u001b[0;34m(\u001b[0m\u001b[0mcode\u001b[0m\u001b[0;34m,\u001b[0m \u001b[0mstart\u001b[0m\u001b[0;34m,\u001b[0m \u001b[0mend\u001b[0m\u001b[0;34m)\u001b[0m\u001b[0;34m\u001b[0m\u001b[0;34m\u001b[0m\u001b[0m\n\u001b[0;32m---> 35\u001b[0;31m             \u001b[0;32massert\u001b[0m \u001b[0mpytype\u001b[0m \u001b[0;32mnot\u001b[0m \u001b[0;32min\u001b[0m \u001b[0;34m(\u001b[0m\u001b[0mtokenize\u001b[0m\u001b[0;34m.\u001b[0m\u001b[0mNL\u001b[0m\u001b[0;34m,\u001b[0m \u001b[0mtokenize\u001b[0m\u001b[0;34m.\u001b[0m\u001b[0mNEWLINE\u001b[0m\u001b[0;34m)\u001b[0m\u001b[0;34m\u001b[0m\u001b[0;34m\u001b[0m\u001b[0m\n\u001b[0m\u001b[1;32m     36\u001b[0m             \u001b[0;32mif\u001b[0m \u001b[0mpytype\u001b[0m \u001b[0;34m==\u001b[0m \u001b[0mtokenize\u001b[0m\u001b[0;34m.\u001b[0m\u001b[0mERRORTOKEN\u001b[0m\u001b[0;34m:\u001b[0m\u001b[0;34m\u001b[0m\u001b[0;34m\u001b[0m\u001b[0m\n\u001b[1;32m     37\u001b[0m                 raise PatsyError(\"error tokenizing input \"\n",
      "\u001b[0;31mAssertionError\u001b[0m: "
     ]
    }
   ],
   "source": [
    "y, X = dmatrices(formula, A, return_type='dataframe')\n",
    "\n",
    "X.head(100)"
   ]
  },
  {
   "cell_type": "code",
   "execution_count": null,
   "metadata": {
    "ExecuteTime": {
     "end_time": "2019-03-17T15:24:19.049797Z",
     "start_time": "2019-03-17T15:24:17.301Z"
    }
   },
   "outputs": [],
   "source": [
    "def catch_singularity(f):\n",
    "    '''\n",
    "    Silences LinAlg Errors & throws a warning instead\n",
    "    '''\n",
    "    \n",
    "    def silencer(*args, **kwargs):\n",
    "        try:\n",
    "            return f(*args, **kwargs)\n",
    "        except np.linalg.LinAlgError:\n",
    "            warnings.warn('Algorithm terminated - singular Hessian!')\n",
    "            return args[0]\n",
    "    return silencer"
   ]
  },
  {
   "cell_type": "code",
   "execution_count": null,
   "metadata": {
    "ExecuteTime": {
     "end_time": "2019-03-17T15:24:19.050870Z",
     "start_time": "2019-03-17T15:24:17.303Z"
    }
   },
   "outputs": [],
   "source": [
    "@catch_singularity\n",
    "def newton_step(curr, X, lam=None):\n",
    "    # create probability matrix, minimum 2 dimensions, tranpose (flip it)\n",
    "    p = np.array(sigmoid(X.dot(curr[:,0])), ndmin=2).T\n",
    "    # create weight matrix from it\n",
    "    W = np.diag((p*(1-p))[:,0])\n",
    "    # derive the hessian\n",
    "    hessian = X.T.dot(W).dot(X)\n",
    "    # derive the gradient\n",
    "    grad = X.T.dot(y-p)\n",
    "    \n",
    "    # regularization step (avoiding overfitting)\n",
    "    if lam:\n",
    "        step, *_ = np.linalg.lstsq(hessian + lam*np.eye(curr.shape[0]), grad)\n",
    "    else:\n",
    "        step, *_ = np.linalg.lstsq(hessian, grad)\n",
    "        \n",
    "    ## update our\n",
    "    beta = curr + step\n",
    "    \n",
    "    return beta"
   ]
  },
  {
   "cell_type": "code",
   "execution_count": null,
   "metadata": {
    "ExecuteTime": {
     "end_time": "2019-03-17T15:24:19.051551Z",
     "start_time": "2019-03-17T15:24:17.304Z"
    }
   },
   "outputs": [],
   "source": [
    "@catch_singularity\n",
    "def alt_newton_step(curr, X, lam=None):\n",
    "    '''\n",
    "    One naive step of Newton's Method\n",
    "    '''\n",
    "    \n",
    "    ## compute necessary objects\n",
    "    p = np.array(sigmoid(X.dot(curr[:,0])), ndmin=2).T\n",
    "    W = np.diag((p*(1-p))[:,0])\n",
    "    hessian = X.T.dot(W).dot(X)\n",
    "    grad = X.T.dot(y-p)\n",
    "    \n",
    "    if lam:\n",
    "        step = np.dot(np.linalg.inv(hessian + lam*np.eye(curr.shape[0])), grad)\n",
    "    else:\n",
    "        step = np.dot(np.linalg.inv(hessian), grad)\n",
    "        \n",
    "        beta = curr + step\n",
    "        \n",
    "    return beta"
   ]
  },
  {
   "cell_type": "markdown",
   "metadata": {},
   "source": [
    "## Softmax as a Converter of LR into Probabilities"
   ]
  },
  {
   "cell_type": "code",
   "execution_count": 25,
   "metadata": {
    "ExecuteTime": {
     "end_time": "2019-03-17T15:24:33.379262Z",
     "start_time": "2019-03-17T15:24:33.373655Z"
    }
   },
   "outputs": [
    {
     "name": "stdout",
     "output_type": "stream",
     "text": [
      "[2.72, 7.39, 20.09, 54.6, 2.72, 7.39, 20.09]\n"
     ]
    }
   ],
   "source": [
    "import math\n",
    "\n",
    "z = [1.0, 2.0, 3.0, 4.0, 1.0, 2.0, 3.0]\n",
    "\n",
    "z_exp = [math.exp(i) for i in z]\n",
    "print([round(i, 2) for i in z_exp])"
   ]
  },
  {
   "cell_type": "code",
   "execution_count": 26,
   "metadata": {
    "ExecuteTime": {
     "end_time": "2019-03-17T15:24:34.029726Z",
     "start_time": "2019-03-17T15:24:34.024945Z"
    }
   },
   "outputs": [
    {
     "data": {
      "text/plain": [
       "114.98389973429897"
      ]
     },
     "execution_count": 26,
     "metadata": {},
     "output_type": "execute_result"
    }
   ],
   "source": [
    "sum(z_exp)"
   ]
  },
  {
   "cell_type": "code",
   "execution_count": 27,
   "metadata": {
    "ExecuteTime": {
     "end_time": "2019-03-17T15:24:34.378433Z",
     "start_time": "2019-03-17T15:24:34.374158Z"
    }
   },
   "outputs": [
    {
     "name": "stdout",
     "output_type": "stream",
     "text": [
      "[0.0236, 0.0643, 0.1747, 0.4748, 0.0236, 0.0643, 0.1747]\n"
     ]
    }
   ],
   "source": [
    "softmax = [i / sum(z_exp) for i in z_exp]\n",
    "print([round(i, 4) for i in softmax])"
   ]
  },
  {
   "cell_type": "code",
   "execution_count": 33,
   "metadata": {
    "ExecuteTime": {
     "end_time": "2019-03-17T15:25:16.308278Z",
     "start_time": "2019-03-17T15:25:16.303800Z"
    }
   },
   "outputs": [
    {
     "data": {
      "text/plain": [
       "0.0066928509242848554"
      ]
     },
     "execution_count": 33,
     "metadata": {},
     "output_type": "execute_result"
    }
   ],
   "source": [
    "sigmoid(-5)"
   ]
  },
  {
   "cell_type": "code",
   "execution_count": 40,
   "metadata": {
    "ExecuteTime": {
     "end_time": "2019-03-17T15:33:44.226381Z",
     "start_time": "2019-03-17T15:33:44.221284Z"
    }
   },
   "outputs": [
    {
     "data": {
      "text/plain": [
       "0.04879016416943127"
      ]
     },
     "execution_count": 40,
     "metadata": {},
     "output_type": "execute_result"
    }
   ],
   "source": [
    "np.log(105) - np.log(100)"
   ]
  },
  {
   "cell_type": "markdown",
   "metadata": {},
   "source": [
    "## Naive Bayes Classifier\n",
    "\n",
    "https://appliedmachinelearning.blog/2017/05/23/understanding-naive-bayes-classifier-from-scratch-python-code/\n",
    "\n",
    "$$P(A|B)=\\frac{P(B|A)P(A)}{P(B)}$$\n",
    "\n",
    "which is equivalent to:\n",
    "\n",
    "$$posterior\\ probability=\\frac{likelihood * prior\\ probability}{evidence}$$"
   ]
  },
  {
   "cell_type": "code",
   "execution_count": 41,
   "metadata": {
    "ExecuteTime": {
     "end_time": "2019-03-18T16:33:12.744510Z",
     "start_time": "2019-03-18T16:33:12.732182Z"
    }
   },
   "outputs": [],
   "source": [
    "import numpy as np\n",
    "training = np.asarray(((1,0,1,1),\n",
    "                       (1,1,0,0),\n",
    "                       (1,0,2,1),\n",
    "                       (0,1,1,1),\n",
    "                       (0,0,0,0),\n",
    "                       (0,1,2,1),\n",
    "                       (0,1,2,0),\n",
    "                       (1,1,1,1)));\n",
    "outcome = np.asarray((0,1,1,1,0,1,0,1))"
   ]
  },
  {
   "cell_type": "code",
   "execution_count": 47,
   "metadata": {
    "ExecuteTime": {
     "end_time": "2019-03-18T16:37:17.796814Z",
     "start_time": "2019-03-18T16:37:17.790614Z"
    }
   },
   "outputs": [],
   "source": [
    "# Calculate the Prior Probabilities\n",
    "\n",
    "from collections import Counter, defaultdict\n",
    "\n",
    "def occurrences(outcome):\n",
    "    no_of_examples = len(outcome)\n",
    "    prob = dict(Counter(outcome))\n",
    "    for key in prob.keys():\n",
    "        prob[key] = prob[key] / float(no_of_examples)\n",
    "    return prob"
   ]
  },
  {
   "cell_type": "code",
   "execution_count": 50,
   "metadata": {
    "ExecuteTime": {
     "end_time": "2019-03-18T16:40:50.648325Z",
     "start_time": "2019-03-18T16:40:50.644215Z"
    }
   },
   "outputs": [
    {
     "data": {
      "text/plain": [
       "(8, 4)"
      ]
     },
     "execution_count": 50,
     "metadata": {},
     "output_type": "execute_result"
    }
   ],
   "source": [
    "np.shape(training)"
   ]
  },
  {
   "cell_type": "code",
   "execution_count": 61,
   "metadata": {
    "ExecuteTime": {
     "end_time": "2019-03-18T16:53:54.344201Z",
     "start_time": "2019-03-18T16:53:54.291566Z"
    }
   },
   "outputs": [],
   "source": [
    "def naive_bayes(training, outcome, new_sample):\n",
    "    classes     = np.unique(outcome)\n",
    "    rows, cols  = np.shape(training)\n",
    "    likelihoods = {}\n",
    "    for cls in classes:\n",
    "        likelihoods[cls] = defaultdict(list)\n",
    "  \n",
    "    class_probabilities = occurrences(outcome)\n",
    "  \n",
    "    for cls in classes:\n",
    "        row_indices = np.where(outcome == cls)[0]\n",
    "        subset      = training[row_indices, :]\n",
    "        r, c        = np.shape(subset)\n",
    "        for j in range(0,c):\n",
    "            likelihoods[cls][j] += list(subset[:,j])\n",
    "  \n",
    "    for cls in classes:\n",
    "        for j in range(0,cols):\n",
    "             likelihoods[cls][j] = occurrences(likelihoods[cls][j])\n",
    "  \n",
    "  \n",
    "    results = {}\n",
    "    for cls in classes:\n",
    "         class_probability = class_probabilities[cls]\n",
    "         for i in range(0,len(new_sample)):\n",
    "             relative_values = likelihoods[cls][i]\n",
    "             if new_sample[i] in relative_values.keys():\n",
    "                 class_probability *= relative_values[new_sample[i]]\n",
    "             else:\n",
    "                 class_probability *= 0\n",
    "             results[cls] = class_probability\n",
    "    print(results)\n",
    "                \n",
    "        "
   ]
  },
  {
   "cell_type": "code",
   "execution_count": 62,
   "metadata": {
    "ExecuteTime": {
     "end_time": "2019-03-18T16:53:55.717654Z",
     "start_time": "2019-03-18T16:53:55.706680Z"
    }
   },
   "outputs": [
    {
     "name": "stdout",
     "output_type": "stream",
     "text": [
      "{0: 0.018518518518518517, 1: 0.006000000000000002}\n"
     ]
    }
   ],
   "source": [
    "if __name__ == '__main__':\n",
    "    training   = np.asarray(((1,0,1,1),(1,1,0,0),(1,0,2,1),\n",
    "                             (0,1,1,1),(0,0,0,0),(0,1,2,1),\n",
    "                             (0,1,2,0),(1,1,1,1)));\n",
    "    outcome    = np.asarray((0,1,1,1,0,1,0,1))\n",
    "    new_sample = np.asarray((1,0,1,0))\n",
    "    naive_bayes(training, outcome, new_sample)"
   ]
  },
  {
   "cell_type": "markdown",
   "metadata": {},
   "source": [
    "## Naive Bayes Python Code"
   ]
  },
  {
   "cell_type": "code",
   "execution_count": 3,
   "metadata": {
    "ExecuteTime": {
     "end_time": "2019-03-19T00:13:11.459844Z",
     "start_time": "2019-03-19T00:13:11.057340Z"
    }
   },
   "outputs": [],
   "source": [
    "import numpy as np\n",
    "# from util import get_data\n",
    "from datetime import datetime\n",
    "from scipy.stats import norm\n",
    "from scipy.stats import multivariate_normal as mvn"
   ]
  },
  {
   "cell_type": "code",
   "execution_count": 5,
   "metadata": {
    "ExecuteTime": {
     "end_time": "2019-03-19T00:18:19.323678Z",
     "start_time": "2019-03-19T00:18:19.291384Z"
    }
   },
   "outputs": [],
   "source": [
    "class NaiveBayes(object):\n",
    "    \n",
    "    def fit(self, X, Y, smoothing=10e-3):\n",
    "        self.gaussians = dict()\n",
    "        self.priors = dict()\n",
    "        labels = set(Y)\n",
    "        \n",
    "        for c in labels:\n",
    "            current_x = X[Y == c]\n",
    "            self.gaussians[c] = {\n",
    "                'mean': current_x.mean(axis=0),\n",
    "                'var': current_x.var(axis=0) + smoothing,\n",
    "            }\n",
    "            self.priors[c] = float(len(Y[Y == c])) / len(Y)\n",
    "            \n",
    "        def score(self, X, Y):\n",
    "            P = self.predict(X)\n",
    "            return np.mean(P == Y)\n",
    "        \n",
    "        def predict(self, X):\n",
    "            N, D = X.shape\n",
    "            K = len(self.gaussians)\n",
    "            P = np.zeros((N, K))\n",
    "            for c, g in self.gaussians.iteritems():\n",
    "                mean, var = g['mean'], g['var']\n",
    "                P[:, c] = mvn.logpdf(X, mean=mean, cov=var) + np.log(self.priors[c])\n",
    "            return np.argmax(P, axis=1)"
   ]
  },
  {
   "cell_type": "code",
   "execution_count": 6,
   "metadata": {
    "ExecuteTime": {
     "end_time": "2019-03-19T00:18:46.721448Z",
     "start_time": "2019-03-19T00:18:46.685019Z"
    }
   },
   "outputs": [
    {
     "ename": "NameError",
     "evalue": "name 'get_data' is not defined",
     "output_type": "error",
     "traceback": [
      "\u001b[0;31m---------------------------------------------------------------------------\u001b[0m",
      "\u001b[0;31mNameError\u001b[0m                                 Traceback (most recent call last)",
      "\u001b[0;32m<ipython-input-6-8b9e6429316b>\u001b[0m in \u001b[0;36m<module>\u001b[0;34m()\u001b[0m\n\u001b[1;32m      1\u001b[0m \u001b[0;32mif\u001b[0m \u001b[0m__name__\u001b[0m \u001b[0;34m==\u001b[0m \u001b[0;34m'__main__'\u001b[0m\u001b[0;34m:\u001b[0m\u001b[0;34m\u001b[0m\u001b[0;34m\u001b[0m\u001b[0m\n\u001b[0;32m----> 2\u001b[0;31m     \u001b[0mX\u001b[0m\u001b[0;34m,\u001b[0m \u001b[0mY\u001b[0m \u001b[0;34m=\u001b[0m \u001b[0mget_data\u001b[0m\u001b[0;34m(\u001b[0m\u001b[0;36m10000\u001b[0m\u001b[0;34m)\u001b[0m\u001b[0;34m\u001b[0m\u001b[0;34m\u001b[0m\u001b[0m\n\u001b[0m",
      "\u001b[0;31mNameError\u001b[0m: name 'get_data' is not defined"
     ]
    }
   ],
   "source": [
    "if __name__ == '__main__':\n",
    "    X, Y = get_data(10000)\n",
    "    Ntrain = len(Y) / 2\n",
    "    Xtrain, Ytrain = X[:Ntrain], Y[:Ntrain]\n",
    "    Xtest, Ytest = X[Ntrain:], Y[Ntrain:]\n",
    "    \n",
    "    model = NaiveBayes()\n",
    "    t0 = datetime.now()\n",
    "    model.fit(Xtrain, Ytrain)\n",
    "    print(\"Training time:\", (datetime.now() - t0))\n",
    "    \n",
    "    t0 = datetime.now()\n",
    "    print(\"Training accuracy\", model.score(Xtrain, Ytrain))\n",
    "    print(\"Time to compute train accuracy:\", (datetime.now() - t0),\n",
    "         \"Train size:\" (len(Ytrain)))\n",
    "    \n",
    "    t0 = datetime.now()\n",
    "    print(\"Testing accuracy\", model.score(Xtest, Ytest))\n",
    "    print(\"Time to compute test accuracy:\", (datetime.now() - t0),\n",
    "         \"Test size:\" (len(Ytest)))"
   ]
  },
  {
   "cell_type": "markdown",
   "metadata": {},
   "source": [
    "## Brownian Motion"
   ]
  },
  {
   "cell_type": "code",
   "execution_count": 7,
   "metadata": {
    "ExecuteTime": {
     "end_time": "2019-03-19T00:52:52.150158Z",
     "start_time": "2019-03-19T00:52:52.146918Z"
    }
   },
   "outputs": [],
   "source": [
    "from math import sqrt\n",
    "from scipy.stats import norm\n",
    "import numpy as np"
   ]
  },
  {
   "cell_type": "code",
   "execution_count": 8,
   "metadata": {
    "ExecuteTime": {
     "end_time": "2019-03-19T00:55:46.197946Z",
     "start_time": "2019-03-19T00:55:46.186888Z"
    }
   },
   "outputs": [],
   "source": [
    "def brownian(x0, n, dt, delta, out=None):\n",
    "    x0 = np.asarray(x0)\n",
    "    r = norm.rvs(size=x0.shape + (n,), scale=delta*sqrt(dt))\n",
    "    \n",
    "    if out is None:\n",
    "        out = np.empty(r.shape)\n",
    "        \n",
    "    np.cumsum(r, axis=1, out=out)\n",
    "    \n",
    "    out += np.expand_dims(x0, axis=-1)\n",
    "    \n",
    "    return out"
   ]
  },
  {
   "cell_type": "code",
   "execution_count": 13,
   "metadata": {
    "ExecuteTime": {
     "end_time": "2019-03-19T00:59:09.461547Z",
     "start_time": "2019-03-19T00:59:09.278294Z"
    }
   },
   "outputs": [
    {
     "data": {
      "image/png": "[encoded data removed]",
      "text/plain": [
       "<matplotlib.figure.Figure at 0x112119518>"
      ]
     },
     "metadata": {},
     "output_type": "display_data"
    }
   ],
   "source": [
    "import matplotlib.pyplot as plt\n",
    "%matplotlib inline\n",
    "\n",
    "delta = 2\n",
    "T = 10.0\n",
    "N = 500\n",
    "dt = T/N\n",
    "m = 20\n",
    "x = np.empty((m, N+1))\n",
    "x[:, 0] = 0\n",
    "\n",
    "brownian(x[:, 0], N, dt, delta, out=x[:,1:])\n",
    "\n",
    "t = np.linspace(0.0, N*dt, N+1)\n",
    "for k in range(m):\n",
    "    plt.plot(t, x[k])\n",
    "# grid(True)\n",
    "plt.show()"
   ]
  },
  {
   "cell_type": "markdown",
   "metadata": {},
   "source": [
    "## Decision Tree"
   ]
  },
  {
   "cell_type": "code",
   "execution_count": 17,
   "metadata": {
    "ExecuteTime": {
     "end_time": "2019-03-19T13:56:54.797996Z",
     "start_time": "2019-03-19T13:56:54.795394Z"
    }
   },
   "outputs": [],
   "source": [
    "from __future__ import print_function"
   ]
  },
  {
   "cell_type": "code",
   "execution_count": 14,
   "metadata": {
    "ExecuteTime": {
     "end_time": "2019-03-19T13:43:53.582810Z",
     "start_time": "2019-03-19T13:43:53.578470Z"
    }
   },
   "outputs": [],
   "source": [
    "training_data = [\n",
    "    ['Green', 3, 'Apple'],\n",
    "    ['Yellow', 3, 'Apple'],\n",
    "    ['Red', 1, 'Grape'],\n",
    "    ['Red', 1, 'Grape'],\n",
    "    ['Yellow', 3, 'Lemon'],\n",
    "]"
   ]
  },
  {
   "cell_type": "code",
   "execution_count": 21,
   "metadata": {
    "ExecuteTime": {
     "end_time": "2019-03-19T14:00:09.996940Z",
     "start_time": "2019-03-19T14:00:09.993053Z"
    }
   },
   "outputs": [
    {
     "data": {
      "text/plain": [
       "[['Green', 3, 'Apple'],\n",
       " ['Yellow', 3, 'Apple'],\n",
       " ['Red', 1, 'Grape'],\n",
       " ['Red', 1, 'Grape'],\n",
       " ['Yellow', 3, 'Lemon']]"
      ]
     },
     "execution_count": 21,
     "metadata": {},
     "output_type": "execute_result"
    }
   ],
   "source": [
    "training_data"
   ]
  },
  {
   "cell_type": "code",
   "execution_count": 18,
   "metadata": {
    "ExecuteTime": {
     "end_time": "2019-03-19T13:57:13.304891Z",
     "start_time": "2019-03-19T13:57:13.301975Z"
    }
   },
   "outputs": [],
   "source": [
    "header = ['color', 'diameter', 'label']"
   ]
  },
  {
   "cell_type": "code",
   "execution_count": 19,
   "metadata": {
    "ExecuteTime": {
     "end_time": "2019-03-19T13:58:53.159759Z",
     "start_time": "2019-03-19T13:58:53.156600Z"
    }
   },
   "outputs": [],
   "source": [
    "def unique_vals(rows, col):\n",
    "    return set([row[col] for row in rows])"
   ]
  },
  {
   "cell_type": "code",
   "execution_count": 25,
   "metadata": {
    "ExecuteTime": {
     "end_time": "2019-03-19T14:00:34.434216Z",
     "start_time": "2019-03-19T14:00:34.430209Z"
    }
   },
   "outputs": [
    {
     "data": {
      "text/plain": [
       "{'Green', 'Red', 'Yellow'}"
      ]
     },
     "execution_count": 25,
     "metadata": {},
     "output_type": "execute_result"
    }
   ],
   "source": [
    "# Demo:\n",
    "unique_vals(training_data, 0)"
   ]
  },
  {
   "cell_type": "code",
   "execution_count": 27,
   "metadata": {
    "ExecuteTime": {
     "end_time": "2019-03-19T14:02:07.376258Z",
     "start_time": "2019-03-19T14:02:07.369372Z"
    }
   },
   "outputs": [],
   "source": [
    "def class_counts(rows):\n",
    "    \"\"\"\n",
    "    Counts the number of each type of example in dataset\n",
    "    \"\"\"\n",
    "    counts = {}\n",
    "    for row in rows:\n",
    "        label = row[-1]\n",
    "        if label not in counts:\n",
    "            counts[label] = 0\n",
    "        counts[label] += 1\n",
    "    return counts"
   ]
  },
  {
   "cell_type": "code",
   "execution_count": 28,
   "metadata": {
    "ExecuteTime": {
     "end_time": "2019-03-19T14:02:14.899024Z",
     "start_time": "2019-03-19T14:02:14.894747Z"
    }
   },
   "outputs": [
    {
     "data": {
      "text/plain": [
       "{'Apple': 2, 'Grape': 2, 'Lemon': 1}"
      ]
     },
     "execution_count": 28,
     "metadata": {},
     "output_type": "execute_result"
    }
   ],
   "source": [
    "# Demo:\n",
    "class_counts(training_data)"
   ]
  },
  {
   "cell_type": "code",
   "execution_count": 29,
   "metadata": {
    "ExecuteTime": {
     "end_time": "2019-03-19T14:02:53.003987Z",
     "start_time": "2019-03-19T14:02:53.000189Z"
    }
   },
   "outputs": [],
   "source": [
    "def is_numeric(value):\n",
    "    \"\"\"\n",
    "    Test if a value is numeric.\n",
    "    \"\"\"\n",
    "    return isinstance(value, int) or isinstance(value, float)"
   ]
  },
  {
   "cell_type": "code",
   "execution_count": 30,
   "metadata": {
    "ExecuteTime": {
     "end_time": "2019-03-19T14:03:16.247671Z",
     "start_time": "2019-03-19T14:03:16.243692Z"
    }
   },
   "outputs": [
    {
     "data": {
      "text/plain": [
       "True"
      ]
     },
     "execution_count": 30,
     "metadata": {},
     "output_type": "execute_result"
    }
   ],
   "source": [
    "# Demo\n",
    "is_numeric(7)"
   ]
  },
  {
   "cell_type": "code",
   "execution_count": 32,
   "metadata": {
    "ExecuteTime": {
     "end_time": "2019-03-19T14:09:52.533791Z",
     "start_time": "2019-03-19T14:09:52.518022Z"
    }
   },
   "outputs": [],
   "source": [
    "class Question:\n",
    "    \"\"\"\n",
    "    A question is used to partition a dataset.\n",
    "    \n",
    "    This class just records a 'column number' (i.e., 0 for color) and a \n",
    "    'column value' (i.e. green). The 'match' method is used to compare the \n",
    "    feature value in an example to the feature value stored in the question.\n",
    "    See demo below:\n",
    "    \"\"\"\n",
    "    def __init__(self, column, value):\n",
    "        self.column = column\n",
    "        self.value = value\n",
    "        \n",
    "    def match(self, example):\n",
    "        # Compare the feature value in an example to the\n",
    "        # feature value in this question.\n",
    "        val = example[self.column]\n",
    "        if is_numeric(val):\n",
    "            return val >= self.value\n",
    "        else:\n",
    "            return val == self.value\n",
    "        \n",
    "    def __repr__(self):\n",
    "        # This is just a helper method to print\n",
    "        # the question in a readable format\n",
    "        condition = \"==\"\n",
    "        if is_numeric(self.value):\n",
    "            condition = \">=\"\n",
    "        return \"Is %s %s %s?\" % (\n",
    "            header[self.column], condition, str(self.value))"
   ]
  },
  {
   "cell_type": "code",
   "execution_count": 39,
   "metadata": {
    "ExecuteTime": {
     "end_time": "2019-03-19T14:11:42.695090Z",
     "start_time": "2019-03-19T14:11:42.691940Z"
    }
   },
   "outputs": [],
   "source": [
    "# Demo\n",
    "q = Question(0, 'Green')"
   ]
  },
  {
   "cell_type": "code",
   "execution_count": 38,
   "metadata": {
    "ExecuteTime": {
     "end_time": "2019-03-19T14:11:16.001292Z",
     "start_time": "2019-03-19T14:11:15.997241Z"
    }
   },
   "outputs": [
    {
     "data": {
      "text/plain": [
       "Is diameter >= 3?"
      ]
     },
     "execution_count": 38,
     "metadata": {},
     "output_type": "execute_result"
    }
   ],
   "source": [
    "# Demo (numeric)\n",
    "Question(1, 3)"
   ]
  },
  {
   "cell_type": "code",
   "execution_count": 40,
   "metadata": {
    "ExecuteTime": {
     "end_time": "2019-03-19T14:12:42.380397Z",
     "start_time": "2019-03-19T14:12:42.375663Z"
    }
   },
   "outputs": [
    {
     "data": {
      "text/plain": [
       "True"
      ]
     },
     "execution_count": 40,
     "metadata": {},
     "output_type": "execute_result"
    }
   ],
   "source": [
    "# Pick an example from the training set\n",
    "example = training_data[0]\n",
    "# ... and see if it matches the question\n",
    "q.match(example) # this will be true, since the first example is Green/"
   ]
  },
  {
   "cell_type": "code",
   "execution_count": 41,
   "metadata": {
    "ExecuteTime": {
     "end_time": "2019-03-19T14:14:38.351174Z",
     "start_time": "2019-03-19T14:14:38.343925Z"
    }
   },
   "outputs": [],
   "source": [
    "def partition(rows, question):\n",
    "    \"\"\"\n",
    "    Partitions in a dataset.\n",
    "    \n",
    "    For each row in the dataset, check if it matches the question.\n",
    "    If so, add it to 'true rows', otherwise, add it to 'false rows    \n",
    "    \"\"\"\n",
    "    true_rows, false_rows = [], []\n",
    "    for row in rows:\n",
    "        if question.match(row):\n",
    "            true_rows.append(row)\n",
    "        else:\n",
    "            false_rows.append(row)\n",
    "    return true_rows, false_rows"
   ]
  },
  {
   "cell_type": "code",
   "execution_count": 42,
   "metadata": {
    "ExecuteTime": {
     "end_time": "2019-03-19T14:18:07.378814Z",
     "start_time": "2019-03-19T14:18:07.373599Z"
    }
   },
   "outputs": [
    {
     "data": {
      "text/plain": [
       "[['Red', 1, 'Grape'], ['Red', 1, 'Grape']]"
      ]
     },
     "execution_count": 42,
     "metadata": {},
     "output_type": "execute_result"
    }
   ],
   "source": [
    "# Demo:\n",
    "true_rows, false_rows = partition(training_data, Question(0, 'Red'))\n",
    "true_rows"
   ]
  },
  {
   "cell_type": "code",
   "execution_count": 45,
   "metadata": {
    "ExecuteTime": {
     "end_time": "2019-03-19T14:22:54.517686Z",
     "start_time": "2019-03-19T14:22:54.513315Z"
    }
   },
   "outputs": [
    {
     "data": {
      "text/plain": [
       "[['Green', 3, 'Apple'], ['Yellow', 3, 'Apple'], ['Yellow', 3, 'Lemon']]"
      ]
     },
     "execution_count": 45,
     "metadata": {},
     "output_type": "execute_result"
    }
   ],
   "source": [
    "# Containing everything else\n",
    "false_rows"
   ]
  },
  {
   "cell_type": "code",
   "execution_count": 119,
   "metadata": {
    "ExecuteTime": {
     "end_time": "2019-03-19T15:56:42.801034Z",
     "start_time": "2019-03-19T15:56:42.791508Z"
    }
   },
   "outputs": [],
   "source": [
    "def gini(rows):\n",
    "    \"\"\"\n",
    "    Calculate the Gini Impurity for a list of rows.\n",
    "    \n",
    "    There are a few different ways to do this, I thought this one was the most concise.\n",
    "    See: \n",
    "    https://en.wikipedia.org/wiki/Decision_tree_learning#Gini_impurity\n",
    "    \"\"\"\n",
    "    \n",
    "    counts = class_counts(rows)\n",
    "    print(counts)\n",
    "    impurity = 1\n",
    "    for lbl in counts:\n",
    "        print(counts[lbl])\n",
    "        prob_of_lbl = counts[lbl] / float(len(rows))\n",
    "        print(prob_of_lbl)\n",
    "        impurity -= prob_of_lbl**2\n",
    "        print(impurity)\n",
    "    return impurity"
   ]
  },
  {
   "cell_type": "code",
   "execution_count": 120,
   "metadata": {
    "ExecuteTime": {
     "end_time": "2019-03-19T15:56:43.303609Z",
     "start_time": "2019-03-19T15:56:43.296614Z"
    }
   },
   "outputs": [
    {
     "name": "stdout",
     "output_type": "stream",
     "text": [
      "{'Apple': 2}\n",
      "2\n",
      "1.0\n",
      "0.0\n"
     ]
    },
    {
     "data": {
      "text/plain": [
       "0.0"
      ]
     },
     "execution_count": 120,
     "metadata": {},
     "output_type": "execute_result"
    }
   ],
   "source": [
    "# Demo\n",
    "\n",
    "no_mixing = [['Apple'], ['Apple']]\n",
    "\n",
    "gini(no_mixing)"
   ]
  },
  {
   "cell_type": "code",
   "execution_count": 89,
   "metadata": {
    "ExecuteTime": {
     "end_time": "2019-03-19T15:09:59.401546Z",
     "start_time": "2019-03-19T15:09:59.395832Z"
    }
   },
   "outputs": [
    {
     "name": "stdout",
     "output_type": "stream",
     "text": [
      "{'Apple': 1, 'Orange': 1}\n"
     ]
    },
    {
     "data": {
      "text/plain": [
       "0.5"
      ]
     },
     "execution_count": 89,
     "metadata": {},
     "output_type": "execute_result"
    }
   ],
   "source": [
    "some_mixing = [['Apple'], ['Orange']]\n",
    "\n",
    "gini(some_mixing)"
   ]
  },
  {
   "cell_type": "code",
   "execution_count": 118,
   "metadata": {
    "ExecuteTime": {
     "end_time": "2019-03-19T15:56:22.011125Z",
     "start_time": "2019-03-19T15:56:22.002601Z"
    }
   },
   "outputs": [
    {
     "name": "stdout",
     "output_type": "stream",
     "text": [
      "{'Apple': 1, 'Orange': 1, 'Grape': 1, 'Grapefruit': 1, 'Blueberry': 1}\n",
      "0.2\n",
      "0.96\n",
      "0.2\n",
      "0.9199999999999999\n",
      "0.2\n",
      "0.8799999999999999\n",
      "0.2\n",
      "0.8399999999999999\n",
      "0.2\n",
      "0.7999999999999998\n"
     ]
    },
    {
     "data": {
      "text/plain": [
       "0.7999999999999998"
      ]
     },
     "execution_count": 118,
     "metadata": {},
     "output_type": "execute_result"
    }
   ],
   "source": [
    "# Now, we'll look at a dataset with many different labels\n",
    "lots_of_mixing = [['Apple'],\n",
    "                  ['Orange'],\n",
    "                  ['Grape'],\n",
    "                  ['Grapefruit'],\n",
    "                  ['Blueberry']]\n",
    "# This will return 0.8\n",
    "gini(lots_of_mixing)"
   ]
  },
  {
   "cell_type": "code",
   "execution_count": 91,
   "metadata": {
    "ExecuteTime": {
     "end_time": "2019-03-19T15:09:59.916822Z",
     "start_time": "2019-03-19T15:09:59.912047Z"
    }
   },
   "outputs": [],
   "source": [
    "def info_gain(left, right, current_uncertainty):\n",
    "    \"\"\"\n",
    "    Information Gain.\n",
    "    \n",
    "    The uncertainty of the starting node minus the weighted impurity of\n",
    "    the 2 child nodes.\n",
    "    \"\"\"\n",
    "    p = float(len(left)) / (len(left) + len(right))\n",
    "    return current_uncertainty - p * gini(left) - (1-p) * gini(right)"
   ]
  },
  {
   "cell_type": "code",
   "execution_count": 92,
   "metadata": {
    "ExecuteTime": {
     "end_time": "2019-03-19T15:10:00.191748Z",
     "start_time": "2019-03-19T15:10:00.186034Z"
    }
   },
   "outputs": [
    {
     "name": "stdout",
     "output_type": "stream",
     "text": [
      "{'Apple': 2, 'Grape': 2, 'Lemon': 1}\n"
     ]
    },
    {
     "data": {
      "text/plain": [
       "0.6399999999999999"
      ]
     },
     "execution_count": 92,
     "metadata": {},
     "output_type": "execute_result"
    }
   ],
   "source": [
    "current_uncertainty = gini(training_data)\n",
    "current_uncertainty"
   ]
  },
  {
   "cell_type": "code",
   "execution_count": 93,
   "metadata": {
    "ExecuteTime": {
     "end_time": "2019-03-19T15:10:00.458996Z",
     "start_time": "2019-03-19T15:10:00.452312Z"
    }
   },
   "outputs": [
    {
     "name": "stdout",
     "output_type": "stream",
     "text": [
      "{'Apple': 1}\n",
      "{'Apple': 1, 'Grape': 2, 'Lemon': 1}\n"
     ]
    },
    {
     "data": {
      "text/plain": [
       "0.1399999999999999"
      ]
     },
     "execution_count": 93,
     "metadata": {},
     "output_type": "execute_result"
    }
   ],
   "source": [
    "# How much info do we gain by partitioning on 'Green'?\n",
    "true_rows, false_rows = partition(training_data, Question(0, 'Green'))\n",
    "info_gain(true_rows, false_rows, current_uncertainty)"
   ]
  },
  {
   "cell_type": "code",
   "execution_count": 94,
   "metadata": {
    "ExecuteTime": {
     "end_time": "2019-03-19T15:10:00.714708Z",
     "start_time": "2019-03-19T15:10:00.709504Z"
    }
   },
   "outputs": [
    {
     "data": {
      "text/plain": [
       "[['Red', 1, 'Grape'], ['Red', 1, 'Grape']]"
      ]
     },
     "execution_count": 94,
     "metadata": {},
     "output_type": "execute_result"
    }
   ],
   "source": [
    "# What about if we partitioned on 'Red' instead?\n",
    "true_rows, false_rows = partition(training_data, Question(0, 'Red'))\n",
    "\n",
    "true_rows"
   ]
  },
  {
   "cell_type": "code",
   "execution_count": 95,
   "metadata": {
    "ExecuteTime": {
     "end_time": "2019-03-19T15:10:00.989546Z",
     "start_time": "2019-03-19T15:10:00.985201Z"
    }
   },
   "outputs": [
    {
     "data": {
      "text/plain": [
       "[['Green', 3, 'Apple'], ['Yellow', 3, 'Apple'], ['Yellow', 3, 'Lemon']]"
      ]
     },
     "execution_count": 95,
     "metadata": {},
     "output_type": "execute_result"
    }
   ],
   "source": [
    "false_rows"
   ]
  },
  {
   "cell_type": "code",
   "execution_count": 96,
   "metadata": {
    "ExecuteTime": {
     "end_time": "2019-03-19T15:10:01.323311Z",
     "start_time": "2019-03-19T15:10:01.318079Z"
    }
   },
   "outputs": [
    {
     "data": {
      "text/plain": [
       "1"
      ]
     },
     "execution_count": 96,
     "metadata": {},
     "output_type": "execute_result"
    }
   ],
   "source": [
    "true_rows, false_rows = partition(training_data, Question(0, 'Green'))\n",
    "\n",
    "len(true_rows)"
   ]
  },
  {
   "cell_type": "code",
   "execution_count": 97,
   "metadata": {
    "ExecuteTime": {
     "end_time": "2019-03-19T15:10:01.629805Z",
     "start_time": "2019-03-19T15:10:01.625251Z"
    }
   },
   "outputs": [
    {
     "data": {
      "text/plain": [
       "[['Yellow', 3, 'Apple'],\n",
       " ['Red', 1, 'Grape'],\n",
       " ['Red', 1, 'Grape'],\n",
       " ['Yellow', 3, 'Lemon']]"
      ]
     },
     "execution_count": 97,
     "metadata": {},
     "output_type": "execute_result"
    }
   ],
   "source": [
    "false_rows"
   ]
  },
  {
   "cell_type": "code",
   "execution_count": 98,
   "metadata": {
    "ExecuteTime": {
     "end_time": "2019-03-19T15:10:01.927156Z",
     "start_time": "2019-03-19T15:10:01.892725Z"
    }
   },
   "outputs": [],
   "source": [
    "def find_best_split(rows):\n",
    "    \"\"\"\n",
    "    Find the best question to ask by iterating over every feature / value\n",
    "    and calculating the information gain.\n",
    "    \"\"\"\n",
    "    best_gain = 0 # initialize and keep track of the best IG\n",
    "    best_question = None # keep train of the feature / value that produced it\n",
    "    current_uncertainty = gini(rows)\n",
    "    n_features = len(rows[0]) - 1 # number of columns\n",
    "    \n",
    "    for col in range(n_features): # for each feature\n",
    "        \n",
    "        values = set([row[col] for row in rows]) # unique values in the column\n",
    "        \n",
    "        for val in values: # for each value\n",
    "            \n",
    "            question = Question(col, val)\n",
    "            \n",
    "            #try splitting the dataset\n",
    "            true_rows, false_rows = partition(rows, question)\n",
    "            \n",
    "            # Skip the split if it doesn't divide the dataset\n",
    "            if len(true_rows) == 0 or len(false_rows) == 0:\n",
    "                continue\n",
    "            \n",
    "            # Calculate the IG from this split\n",
    "            gain = info_gain(true_rows, false_rows, current_uncertainty)\n",
    "            \n",
    "            # You actually can use '>' instead of '>=' here\n",
    "            # but I wanted the tree to look a certain way for our \n",
    "            # toy dataset\n",
    "            if gain >= best_gain:\n",
    "                best_gain, best_question = gain, question\n",
    "                \n",
    "    return best_gain, best_question"
   ]
  },
  {
   "cell_type": "code",
   "execution_count": 99,
   "metadata": {
    "ExecuteTime": {
     "end_time": "2019-03-19T15:10:02.840742Z",
     "start_time": "2019-03-19T15:10:02.834720Z"
    }
   },
   "outputs": [
    {
     "name": "stdout",
     "output_type": "stream",
     "text": [
      "{'Apple': 2, 'Grape': 2, 'Lemon': 1}\n",
      "{'Grape': 2}\n",
      "{'Apple': 2, 'Lemon': 1}\n",
      "{'Apple': 1}\n",
      "{'Apple': 1, 'Grape': 2, 'Lemon': 1}\n",
      "{'Apple': 1, 'Lemon': 1}\n",
      "{'Apple': 1, 'Grape': 2}\n",
      "{'Apple': 2, 'Lemon': 1}\n",
      "{'Grape': 2}\n",
      "0.37333333333333324\n",
      "Is diameter >= 3?\n"
     ]
    }
   ],
   "source": [
    "# Demo\n",
    "best_gain, best_question = find_best_split(training_data)\n",
    "print(best_gain)\n",
    "print(best_question)"
   ]
  },
  {
   "cell_type": "code",
   "execution_count": 100,
   "metadata": {
    "ExecuteTime": {
     "end_time": "2019-03-19T15:25:57.501741Z",
     "start_time": "2019-03-19T15:25:57.497335Z"
    }
   },
   "outputs": [],
   "source": [
    "class Leaf:\n",
    "    \"\"\"\n",
    "    A leaf node classifies data.\n",
    "    \n",
    "    This holds a dictionary of class (i.e. \"Apple\") --> number of times\n",
    "    it appears in the rows from the training data that reach this leaf.\n",
    "    \"\"\"\n",
    "    \n",
    "    def __init__(self, rows):\n",
    "        self.predictions = class_counts(rows)"
   ]
  },
  {
   "cell_type": "code",
   "execution_count": 101,
   "metadata": {
    "ExecuteTime": {
     "end_time": "2019-03-19T15:27:25.684359Z",
     "start_time": "2019-03-19T15:27:25.679561Z"
    }
   },
   "outputs": [],
   "source": [
    "class Decision_Node:\n",
    "    \"\"\"\n",
    "    A Decision Node asks a question.\n",
    "    \n",
    "    This holds a reference to the question, & to the 2 child nodes.\n",
    "    \"\"\"\n",
    "    \n",
    "    def __init__(self, question, true_branch, false_branch):\n",
    "        self.question = question\n",
    "        self.true_branch = true_branch\n",
    "        self.false_branch = false_branch"
   ]
  },
  {
   "cell_type": "code",
   "execution_count": 102,
   "metadata": {
    "ExecuteTime": {
     "end_time": "2019-03-19T15:33:14.720527Z",
     "start_time": "2019-03-19T15:33:14.705244Z"
    }
   },
   "outputs": [],
   "source": [
    "def build_tree(rows):\n",
    "    \"\"\"\n",
    "    Builds the tree.\n",
    "    \n",
    "    Rules of recursion:\n",
    "    1) Believe that it works.\n",
    "    2) Start by checking for the base case (no further info gain).\n",
    "    3) Prepare for giant stack traces.\n",
    "    \"\"\"\n",
    "    \n",
    "    # Try partitioning the dataset on each of the unique attribute,\n",
    "    # calculate the IG\n",
    "    # return the question that produces the highest gain.\n",
    "    gain, question = find_best_split(rows)\n",
    "    \n",
    "    # Base case: no further info gain\n",
    "    # Since we can ask no further questions,\n",
    "    # we'll return a Leaf.\n",
    "    if gain == 0:\n",
    "        return Leaf(rows)\n",
    "    \n",
    "    # if we reach here, we found a useful feature / value\n",
    "    true_rows, false_rows = partition(rows, question)\n",
    "    \n",
    "    # Recursively build the true branch\n",
    "    true_branch = build_tree(true_rows)\n",
    "    \n",
    "    # Recursively build the false branch\n",
    "    false_branch = build_tree(false_rows)\n",
    "    \n",
    "    # Return a Question node.\n",
    "    # This records the best feature / value to ask at this point,\n",
    "    # as well as the branches to follow\n",
    "    # depending on the answer\n",
    "    return Decision_Node(question, true_branch, false_branch)"
   ]
  },
  {
   "cell_type": "code",
   "execution_count": 103,
   "metadata": {
    "ExecuteTime": {
     "end_time": "2019-03-19T15:36:08.294183Z",
     "start_time": "2019-03-19T15:36:08.275106Z"
    }
   },
   "outputs": [],
   "source": [
    "def print_tree(node, spacing=\"\"):\n",
    "    \"\"\"World's most elegant tree printing function\"\"\"\n",
    "    \n",
    "    # Base case: we've reached a leaf\n",
    "    if isinstance(node, Leaf):\n",
    "        print(spacing + \"Predict\", node.predictions)\n",
    "        return\n",
    "    \n",
    "    # Print the question at this node\n",
    "    print(spacing + str(node.question))\n",
    "    \n",
    "    # Call this function recursively on the true branch\n",
    "    print(spacing + '--> True:')\n",
    "    print_tree(node.true_branch, spacing + \"  \")\n",
    "    \n",
    "    # Call this function recursively on the false branch\n",
    "    print(spacing + '--> False:')\n",
    "    print_tree(node.false_branch, spacing + \"  \")"
   ]
  },
  {
   "cell_type": "code",
   "execution_count": 104,
   "metadata": {
    "ExecuteTime": {
     "end_time": "2019-03-19T15:36:18.620023Z",
     "start_time": "2019-03-19T15:36:18.613216Z"
    }
   },
   "outputs": [
    {
     "name": "stdout",
     "output_type": "stream",
     "text": [
      "{'Apple': 2, 'Grape': 2, 'Lemon': 1}\n",
      "{'Grape': 2}\n",
      "{'Apple': 2, 'Lemon': 1}\n",
      "{'Apple': 1}\n",
      "{'Apple': 1, 'Grape': 2, 'Lemon': 1}\n",
      "{'Apple': 1, 'Lemon': 1}\n",
      "{'Apple': 1, 'Grape': 2}\n",
      "{'Apple': 2, 'Lemon': 1}\n",
      "{'Grape': 2}\n",
      "{'Apple': 2, 'Lemon': 1}\n",
      "{'Apple': 1}\n",
      "{'Apple': 1, 'Lemon': 1}\n",
      "{'Apple': 1, 'Lemon': 1}\n",
      "{'Apple': 1}\n",
      "{'Apple': 1, 'Lemon': 1}\n",
      "{'Apple': 1}\n",
      "{'Grape': 2}\n"
     ]
    }
   ],
   "source": [
    "my_tree = build_tree(training_data)"
   ]
  },
  {
   "cell_type": "code",
   "execution_count": 105,
   "metadata": {
    "ExecuteTime": {
     "end_time": "2019-03-19T15:36:46.259879Z",
     "start_time": "2019-03-19T15:36:46.253603Z"
    }
   },
   "outputs": [
    {
     "name": "stdout",
     "output_type": "stream",
     "text": [
      "Is diameter >= 3?\n",
      "--> True:\n",
      "  Is color == Yellow?\n",
      "  --> True:\n",
      "    Predict {'Apple': 1, 'Lemon': 1}\n",
      "  --> False:\n",
      "    Predict {'Apple': 1}\n",
      "--> False:\n",
      "  Predict {'Grape': 2}\n"
     ]
    }
   ],
   "source": [
    "print_tree(my_tree)"
   ]
  },
  {
   "cell_type": "code",
   "execution_count": 106,
   "metadata": {
    "ExecuteTime": {
     "end_time": "2019-03-19T15:38:52.218974Z",
     "start_time": "2019-03-19T15:38:52.209851Z"
    }
   },
   "outputs": [],
   "source": [
    "def classify(row, node):\n",
    "    \"\"\"\n",
    "    See the 'rules of recursion' above.\n",
    "    \"\"\"\n",
    "    \n",
    "    # Base case: we've reached a leaf\n",
    "    if isinstance(node, Leaf):\n",
    "        return node.predictions\n",
    "    \n",
    "    # Decide whether to follow the true-branch or the false-branch.\n",
    "    # Compare the feature /  value stored in the node,\n",
    "    # to the example we're considering.\n",
    "    if node.question.match(row):\n",
    "        return classify(row, node.true_branch)\n",
    "    else:\n",
    "        return classify(row, node.false_branch)"
   ]
  },
  {
   "cell_type": "code",
   "execution_count": 107,
   "metadata": {
    "ExecuteTime": {
     "end_time": "2019-03-19T15:39:06.222393Z",
     "start_time": "2019-03-19T15:39:06.218320Z"
    }
   },
   "outputs": [
    {
     "data": {
      "text/plain": [
       "{'Apple': 1}"
      ]
     },
     "execution_count": 107,
     "metadata": {},
     "output_type": "execute_result"
    }
   ],
   "source": [
    "# Demo\n",
    "classify(training_data[0], my_tree)"
   ]
  },
  {
   "cell_type": "code",
   "execution_count": 108,
   "metadata": {
    "ExecuteTime": {
     "end_time": "2019-03-19T15:40:44.854786Z",
     "start_time": "2019-03-19T15:40:44.848635Z"
    }
   },
   "outputs": [],
   "source": [
    "def print_leaf(counts):\n",
    "    \"\"\"\n",
    "    A nicer way to print the predictions at a leaf.\n",
    "    \"\"\"\n",
    "    total = sum(counts.values()) * 1.0\n",
    "    probs = {}\n",
    "    for lbl in counts.keys():\n",
    "        probs[lbl] = str(int(counts[lbl] / total * 100)) + \"%\"\n",
    "    return probs"
   ]
  },
  {
   "cell_type": "code",
   "execution_count": 109,
   "metadata": {
    "ExecuteTime": {
     "end_time": "2019-03-19T15:40:58.882676Z",
     "start_time": "2019-03-19T15:40:58.878543Z"
    }
   },
   "outputs": [
    {
     "data": {
      "text/plain": [
       "{'Apple': '100%'}"
      ]
     },
     "execution_count": 109,
     "metadata": {},
     "output_type": "execute_result"
    }
   ],
   "source": [
    "print_leaf(classify(training_data[0], my_tree))"
   ]
  },
  {
   "cell_type": "code",
   "execution_count": 111,
   "metadata": {
    "ExecuteTime": {
     "end_time": "2019-03-19T15:41:31.631953Z",
     "start_time": "2019-03-19T15:41:31.627032Z"
    }
   },
   "outputs": [
    {
     "data": {
      "text/plain": [
       "{'Apple': '50%', 'Lemon': '50%'}"
      ]
     },
     "execution_count": 111,
     "metadata": {},
     "output_type": "execute_result"
    }
   ],
   "source": [
    "print_leaf(classify(training_data[1], my_tree))"
   ]
  },
  {
   "cell_type": "code",
   "execution_count": 112,
   "metadata": {
    "ExecuteTime": {
     "end_time": "2019-03-19T15:42:39.291327Z",
     "start_time": "2019-03-19T15:42:39.287140Z"
    }
   },
   "outputs": [],
   "source": [
    "# Evaluate\n",
    "testing_data = [\n",
    "    ['Green', 3, 'Apple'],\n",
    "    ['Yellow', 4, 'Apple'],\n",
    "    ['Red', 2, 'Grape'],\n",
    "    ['Red', 1, 'Grape'],\n",
    "    ['Yellow', 3, 'Lemon']\n",
    "]"
   ]
  },
  {
   "cell_type": "code",
   "execution_count": 114,
   "metadata": {
    "ExecuteTime": {
     "end_time": "2019-03-19T15:43:30.144248Z",
     "start_time": "2019-03-19T15:43:30.138944Z"
    }
   },
   "outputs": [
    {
     "name": "stdout",
     "output_type": "stream",
     "text": [
      "Actual: Apple. Predicted: {'Apple': '100%'}\n",
      "Actual: Apple. Predicted: {'Apple': '50%', 'Lemon': '50%'}\n",
      "Actual: Grape. Predicted: {'Grape': '100%'}\n",
      "Actual: Grape. Predicted: {'Grape': '100%'}\n",
      "Actual: Lemon. Predicted: {'Apple': '50%', 'Lemon': '50%'}\n"
     ]
    }
   ],
   "source": [
    "for row in testing_data:\n",
    "    print(\"Actual: %s. Predicted: %s\" %\n",
    "         (row[-1], print_leaf(classify(row, my_tree))))"
   ]
  },
  {
   "cell_type": "code",
   "execution_count": 115,
   "metadata": {
    "ExecuteTime": {
     "end_time": "2019-03-19T15:47:55.487960Z",
     "start_time": "2019-03-19T15:47:55.483683Z"
    }
   },
   "outputs": [
    {
     "data": {
      "text/plain": [
       "[['Green', 3, 'Apple'],\n",
       " ['Yellow', 3, 'Apple'],\n",
       " ['Red', 1, 'Grape'],\n",
       " ['Red', 1, 'Grape'],\n",
       " ['Yellow', 3, 'Lemon']]"
      ]
     },
     "execution_count": 115,
     "metadata": {},
     "output_type": "execute_result"
    }
   ],
   "source": [
    "training_data"
   ]
  },
  {
   "cell_type": "markdown",
   "metadata": {},
   "source": [
    "## Econometrics"
   ]
  },
  {
   "cell_type": "code",
   "execution_count": 151,
   "metadata": {
    "ExecuteTime": {
     "end_time": "2019-03-19T17:29:52.943087Z",
     "start_time": "2019-03-19T17:29:52.939145Z"
    }
   },
   "outputs": [],
   "source": [
    "n = 10000\n",
    "b = 1\n",
    "rho = 1\n",
    "alpha = 0.05"
   ]
  },
  {
   "cell_type": "code",
   "execution_count": 167,
   "metadata": {
    "ExecuteTime": {
     "end_time": "2019-03-19T17:35:52.075069Z",
     "start_time": "2019-03-19T17:35:52.070384Z"
    }
   },
   "outputs": [],
   "source": [
    "x = np.zeros([n, 1])\n",
    "# x[0] = 0\n",
    "y = np.zeros([n, 1])\n",
    "# y[0] = 0"
   ]
  },
  {
   "cell_type": "code",
   "execution_count": 169,
   "metadata": {
    "ExecuteTime": {
     "end_time": "2019-03-19T17:36:43.394171Z",
     "start_time": "2019-03-19T17:36:43.327186Z"
    }
   },
   "outputs": [],
   "source": [
    "for i in range(1, n):\n",
    "    x[i] = alpha + (rho*x[i-1]) + (b*np.random.randn())\n",
    "#     print(temp_x)\n",
    "#     x = np.append(x, temp_x)\n",
    "    y[i] = (alpha*i) + (b*np.random.randn())\n",
    "#     print(temp_y)\n",
    "#     y = np.append(y, temp_y)"
   ]
  },
  {
   "cell_type": "code",
   "execution_count": 170,
   "metadata": {
    "ExecuteTime": {
     "end_time": "2019-03-19T17:36:44.358842Z",
     "start_time": "2019-03-19T17:36:44.223637Z"
    }
   },
   "outputs": [
    {
     "data": {
      "image/png": "[encoded data removed]",
      "text/plain": [
       "<matplotlib.figure.Figure at 0x11ae6b908>"
      ]
     },
     "metadata": {},
     "output_type": "display_data"
    }
   ],
   "source": [
    "plt.plot(x)\n",
    "plt.plot(y)\n",
    "plt.show()"
   ]
  },
  {
   "cell_type": "code",
   "execution_count": 163,
   "metadata": {
    "ExecuteTime": {
     "end_time": "2019-03-19T17:35:05.599031Z",
     "start_time": "2019-03-19T17:35:05.594964Z"
    }
   },
   "outputs": [
    {
     "data": {
      "text/plain": [
       "array([0.        , 0.        , 0.        , ..., 1.05460649, 1.7690688 ,\n",
       "       1.89102434])"
      ]
     },
     "execution_count": 163,
     "metadata": {},
     "output_type": "execute_result"
    }
   ],
   "source": [
    "x"
   ]
  },
  {
   "cell_type": "code",
   "execution_count": 171,
   "metadata": {
    "ExecuteTime": {
     "end_time": "2019-03-21T04:22:48.370246Z",
     "start_time": "2019-03-21T04:22:47.649218Z"
    }
   },
   "outputs": [],
   "source": [
    "import numpy as np\n",
    "import pandas as pd\n",
    "import scipy.stats as stats\n",
    "import matplotlib.pyplot as plt\n",
    "%matplotlib inline\n",
    "import math"
   ]
  },
  {
   "cell_type": "code",
   "execution_count": 173,
   "metadata": {
    "ExecuteTime": {
     "end_time": "2019-03-21T04:24:45.890662Z",
     "start_time": "2019-03-21T04:24:45.846178Z"
    }
   },
   "outputs": [],
   "source": [
    "np.random.seed(1234)\n",
    "\n",
    "pop_ages1 = stats.poisson.rvs(loc=18, mu=35, size=150000)\n",
    "pop_ages2 = stats.poisson.rvs(loc=18, mu=10, size=100000)\n",
    "population_ages = np.concatenate((pop_ages1, pop_ages2))"
   ]
  },
  {
   "cell_type": "code",
   "execution_count": 174,
   "metadata": {
    "ExecuteTime": {
     "end_time": "2019-03-21T04:25:47.962591Z",
     "start_time": "2019-03-21T04:25:47.957821Z"
    }
   },
   "outputs": [],
   "source": [
    "mn_ages1 = stats.poisson.rvs(loc=18, mu=20, size=30)\n",
    "mn_ages2 = stats.poisson.rvs(loc=18, mu=10, size=20)\n",
    "mn_ages = np.concatenate((mn_ages1, mn_ages2))"
   ]
  },
  {
   "cell_type": "code",
   "execution_count": 177,
   "metadata": {
    "ExecuteTime": {
     "end_time": "2019-03-21T04:26:18.347379Z",
     "start_time": "2019-03-21T04:26:18.343069Z"
    }
   },
   "outputs": [
    {
     "name": "stdout",
     "output_type": "stream",
     "text": [
      "52.97834666666667\n",
      "34.64\n"
     ]
    }
   ],
   "source": [
    "print(pop_ages1.mean())\n",
    "print(mn_ages.mean())"
   ]
  },
  {
   "cell_type": "code",
   "execution_count": 186,
   "metadata": {
    "ExecuteTime": {
     "end_time": "2019-03-21T04:28:42.281276Z",
     "start_time": "2019-03-21T04:28:42.276945Z"
    }
   },
   "outputs": [
    {
     "name": "stdout",
     "output_type": "stream",
     "text": [
      "-9.793672501251685 4.0035052661244947e-13\n"
     ]
    }
   ],
   "source": [
    "tstat, pvalue = stats.ttest_1samp(a=mn_ages, popmean=population_ages.mean())\n",
    "print(tstat, pvalue)"
   ]
  },
  {
   "cell_type": "code",
   "execution_count": 190,
   "metadata": {
    "ExecuteTime": {
     "end_time": "2019-03-21T04:30:20.148055Z",
     "start_time": "2019-03-21T04:30:20.139808Z"
    }
   },
   "outputs": [
    {
     "name": "stdout",
     "output_type": "stream",
     "text": [
      "0.8436871458070224\n"
     ]
    },
    {
     "data": {
      "text/plain": [
       "(32.94454720612932, 36.33545279387068)"
      ]
     },
     "execution_count": 190,
     "metadata": {},
     "output_type": "execute_result"
    }
   ],
   "source": [
    "sigma = mn_ages.std() / math.sqrt(50)\n",
    "print(sigma)\n",
    "\n",
    "stats.t.interval(0.95, df=50-1, loc=mn_ages.mean(), scale=sigma)"
   ]
  },
  {
   "cell_type": "markdown",
   "metadata": {},
   "source": [
    "## LDA"
   ]
  },
  {
   "cell_type": "code",
   "execution_count": 203,
   "metadata": {
    "ExecuteTime": {
     "end_time": "2019-03-21T16:49:34.504934Z",
     "start_time": "2019-03-21T16:49:34.493523Z"
    }
   },
   "outputs": [],
   "source": [
    "import numpy as np\n",
    "import pandas as pd\n",
    "\n",
    "import matplotlib.pyplot as plt\n",
    "%matplotlib inline\n",
    "from mpl_toolkits.mplot3d import Axes3D\n",
    "from sklearn import datasets\n",
    "from sklearn.decomposition import PCA"
   ]
  },
  {
   "cell_type": "code",
   "execution_count": 200,
   "metadata": {
    "ExecuteTime": {
     "end_time": "2019-03-21T16:49:08.775832Z",
     "start_time": "2019-03-21T16:49:08.765432Z"
    }
   },
   "outputs": [],
   "source": [
    "iris = datasets.load_iris()\n",
    "X = iris.data[:, :4]  # we only take the first two features.\n",
    "y = iris.target"
   ]
  },
  {
   "cell_type": "code",
   "execution_count": 240,
   "metadata": {
    "ExecuteTime": {
     "end_time": "2019-03-21T17:10:01.252934Z",
     "start_time": "2019-03-21T17:10:01.249064Z"
    }
   },
   "outputs": [
    {
     "data": {
      "text/plain": [
       "array([0, 0, 0, 0, 0, 0, 0, 0, 0, 0, 0, 0, 0, 0, 0, 0, 0, 0, 0, 0, 0, 0,\n",
       "       0, 0, 0, 0, 0, 0, 0, 0, 0, 0, 0, 0, 0, 0, 0, 0, 0, 0, 0, 0, 0, 0,\n",
       "       0, 0, 0, 0, 0, 0, 1, 1, 1, 1, 1, 1, 1, 1, 1, 1, 1, 1, 1, 1, 1, 1,\n",
       "       1, 1, 1, 1, 1, 1, 1, 1, 1, 1, 1, 1, 1, 1, 1, 1, 1, 1, 1, 1, 1, 1,\n",
       "       1, 1, 1, 1, 1, 1, 1, 1, 1, 1, 1, 1, 2, 2, 2, 2, 2, 2, 2, 2, 2, 2,\n",
       "       2, 2, 2, 2, 2, 2, 2, 2, 2, 2, 2, 2, 2, 2, 2, 2, 2, 2, 2, 2, 2, 2,\n",
       "       2, 2, 2, 2, 2, 2, 2, 2, 2, 2, 2, 2, 2, 2, 2, 2, 2, 2])"
      ]
     },
     "execution_count": 240,
     "metadata": {},
     "output_type": "execute_result"
    }
   ],
   "source": [
    "y"
   ]
  },
  {
   "cell_type": "code",
   "execution_count": 230,
   "metadata": {
    "ExecuteTime": {
     "end_time": "2019-03-21T16:59:08.565743Z",
     "start_time": "2019-03-21T16:59:08.561531Z"
    }
   },
   "outputs": [],
   "source": [
    "X_y_arr = np.concatenate((X, y.reshape(150,1)), axis=1)\n",
    "\n",
    "df = pd.DataFrame(X_y_arr)"
   ]
  },
  {
   "cell_type": "code",
   "execution_count": 231,
   "metadata": {
    "ExecuteTime": {
     "end_time": "2019-03-21T16:59:11.905934Z",
     "start_time": "2019-03-21T16:59:11.888636Z"
    }
   },
   "outputs": [
    {
     "data": {
      "text/html": [
       "<div>\n",
       "<style>\n",
       "    .dataframe thead tr:only-child th {\n",
       "        text-align: right;\n",
       "    }\n",
       "\n",
       "    .dataframe thead th {\n",
       "        text-align: left;\n",
       "    }\n",
       "\n",
       "    .dataframe tbody tr th {\n",
       "        vertical-align: top;\n",
       "    }\n",
       "</style>\n",
       "<table border=\"1\" class=\"dataframe\">\n",
       "  <thead>\n",
       "    <tr style=\"text-align: right;\">\n",
       "      <th></th>\n",
       "      <th>sepal length in cm</th>\n",
       "      <th>sepal width in cm</th>\n",
       "      <th>petal length in cm</th>\n",
       "      <th>petal width in cm</th>\n",
       "      <th>class label</th>\n",
       "    </tr>\n",
       "  </thead>\n",
       "  <tbody>\n",
       "    <tr>\n",
       "      <th>145</th>\n",
       "      <td>6.7</td>\n",
       "      <td>3.0</td>\n",
       "      <td>5.2</td>\n",
       "      <td>2.3</td>\n",
       "      <td>2.0</td>\n",
       "    </tr>\n",
       "    <tr>\n",
       "      <th>146</th>\n",
       "      <td>6.3</td>\n",
       "      <td>2.5</td>\n",
       "      <td>5.0</td>\n",
       "      <td>1.9</td>\n",
       "      <td>2.0</td>\n",
       "    </tr>\n",
       "    <tr>\n",
       "      <th>147</th>\n",
       "      <td>6.5</td>\n",
       "      <td>3.0</td>\n",
       "      <td>5.2</td>\n",
       "      <td>2.0</td>\n",
       "      <td>2.0</td>\n",
       "    </tr>\n",
       "    <tr>\n",
       "      <th>148</th>\n",
       "      <td>6.2</td>\n",
       "      <td>3.4</td>\n",
       "      <td>5.4</td>\n",
       "      <td>2.3</td>\n",
       "      <td>2.0</td>\n",
       "    </tr>\n",
       "    <tr>\n",
       "      <th>149</th>\n",
       "      <td>5.9</td>\n",
       "      <td>3.0</td>\n",
       "      <td>5.1</td>\n",
       "      <td>1.8</td>\n",
       "      <td>2.0</td>\n",
       "    </tr>\n",
       "  </tbody>\n",
       "</table>\n",
       "</div>"
      ],
      "text/plain": [
       "     sepal length in cm  sepal width in cm  petal length in cm  \\\n",
       "145                 6.7                3.0                 5.2   \n",
       "146                 6.3                2.5                 5.0   \n",
       "147                 6.5                3.0                 5.2   \n",
       "148                 6.2                3.4                 5.4   \n",
       "149                 5.9                3.0                 5.1   \n",
       "\n",
       "     petal width in cm  class label  \n",
       "145                2.3          2.0  \n",
       "146                1.9          2.0  \n",
       "147                2.0          2.0  \n",
       "148                2.3          2.0  \n",
       "149                1.8          2.0  "
      ]
     },
     "execution_count": 231,
     "metadata": {},
     "output_type": "execute_result"
    }
   ],
   "source": [
    "feature_dict = {i:label for i,label in zip(\n",
    "                range(4),\n",
    "                  ('sepal length in cm',\n",
    "                  'sepal width in cm',\n",
    "                  'petal length in cm',\n",
    "                  'petal width in cm', ))}\n",
    "\n",
    "df.columns = [l for i,l in sorted(feature_dict.items())] + ['class label']\n",
    "df.dropna(how=\"all\", inplace=True) # to drop the empty line at file-end\n",
    "\n",
    "df.tail()"
   ]
  },
  {
   "cell_type": "code",
   "execution_count": 241,
   "metadata": {
    "ExecuteTime": {
     "end_time": "2019-03-21T17:10:15.101521Z",
     "start_time": "2019-03-21T17:10:15.098053Z"
    }
   },
   "outputs": [],
   "source": [
    "label_dict = {0: 'Setosa', 1: 'Versicolor', 2:'Virginica'}"
   ]
  },
  {
   "cell_type": "code",
   "execution_count": null,
   "metadata": {},
   "outputs": [],
   "source": []
  },
  {
   "cell_type": "code",
   "execution_count": 243,
   "metadata": {
    "ExecuteTime": {
     "end_time": "2019-03-21T17:10:27.357412Z",
     "start_time": "2019-03-21T17:10:26.316262Z"
    }
   },
   "outputs": [
    {
     "data": {
      "image/png": "[encoded data removed]",
      "text/plain": [
       "<matplotlib.figure.Figure at 0x1a1ebf5a90>"
      ]
     },
     "metadata": {},
     "output_type": "display_data"
    }
   ],
   "source": [
    "import math\n",
    "\n",
    "fig, axes = plt.subplots(nrows=2, ncols=2, figsize=(12,6))\n",
    "\n",
    "for ax,cnt in zip(axes.ravel(), range(4)):  \n",
    "\n",
    "    # set bin sizes\n",
    "    min_b = math.floor(np.min(X[:,cnt]))\n",
    "    max_b = math.ceil(np.max(X[:,cnt]))\n",
    "    bins = np.linspace(min_b, max_b, 25)\n",
    "\n",
    "    # plottling the histograms\n",
    "    for lab, col in zip(range(0,3), ('blue', 'red', 'green')):\n",
    "        ax.hist(X[y==lab, cnt],\n",
    "                   color=col,\n",
    "                   label='class %s' %label_dict[lab],\n",
    "                   bins=bins,\n",
    "                   alpha=0.5,)\n",
    "    ylims = ax.get_ylim()\n",
    "\n",
    "    # plot annotation\n",
    "    leg = ax.legend(loc='upper right', fancybox=True, fontsize=8)\n",
    "    leg.get_frame().set_alpha(0.5)\n",
    "    ax.set_ylim([0, max(ylims)+2])\n",
    "    ax.set_xlabel(feature_dict[cnt])\n",
    "    ax.set_title('Iris histogram #%s' %str(cnt+1))\n",
    "\n",
    "    # hide axis ticks\n",
    "    ax.tick_params(axis=\"both\", which=\"both\", bottom=\"off\", top=\"off\",  \n",
    "            labelbottom=\"on\", left=\"off\", right=\"off\", labelleft=\"on\")\n",
    "\n",
    "    # remove axis spines\n",
    "    ax.spines[\"top\"].set_visible(False)  \n",
    "    ax.spines[\"right\"].set_visible(False)\n",
    "    ax.spines[\"bottom\"].set_visible(False)\n",
    "    ax.spines[\"left\"].set_visible(False)    \n",
    "\n",
    "axes[0][0].set_ylabel('count')\n",
    "axes[1][0].set_ylabel('count')\n",
    "\n",
    "fig.tight_layout()       \n",
    "\n",
    "plt.show()"
   ]
  },
  {
   "cell_type": "markdown",
   "metadata": {},
   "source": [
    "#### Compute Means"
   ]
  },
  {
   "cell_type": "code",
   "execution_count": 275,
   "metadata": {
    "ExecuteTime": {
     "end_time": "2019-03-21T17:27:25.734878Z",
     "start_time": "2019-03-21T17:27:25.727861Z"
    }
   },
   "outputs": [
    {
     "name": "stdout",
     "output_type": "stream",
     "text": [
      "Mean Vector class 0: [5.006 3.418 1.464 0.244]\n",
      "\n",
      "Mean Vector class 1: [5.936 2.77  4.26  1.326]\n",
      "\n",
      "Mean Vector class 2: [6.588 2.974 5.552 2.026]\n",
      "\n"
     ]
    }
   ],
   "source": [
    "mean_vectors = []\n",
    "\n",
    "for cl in range(0,3):\n",
    "    mean_vectors.append(np.mean(X[y==cl], axis=0))\n",
    "    print('Mean Vector class %s: %s\\n' % (cl, mean_vectors[cl]))"
   ]
  },
  {
   "cell_type": "code",
   "execution_count": 276,
   "metadata": {
    "ExecuteTime": {
     "end_time": "2019-03-21T17:27:48.117443Z",
     "start_time": "2019-03-21T17:27:48.103537Z"
    }
   },
   "outputs": [
    {
     "name": "stdout",
     "output_type": "stream",
     "text": [
      "within-class Scatter Matrix:\n",
      " [[38.9562 13.683  24.614   5.6556]\n",
      " [13.683  17.035   8.12    4.9132]\n",
      " [24.614   8.12   27.22    6.2536]\n",
      " [ 5.6556  4.9132  6.2536  6.1756]]\n"
     ]
    }
   ],
   "source": [
    "S_W = np.zeros((4,4))\n",
    "\n",
    "for cl, mv in zip(range(0,3), mean_vectors):\n",
    "    class_sc_mat = np.zeros((4,4))\n",
    "    for row in X[y==cl]:\n",
    "        row, mv = row.reshape(4,1), mv.reshape(4,1)\n",
    "        class_sc_mat += (row-mv).dot((row-mv).T)\n",
    "    S_W += class_sc_mat\n",
    "    \n",
    "print('within-class Scatter Matrix:\\n', S_W)"
   ]
  },
  {
   "cell_type": "code",
   "execution_count": 282,
   "metadata": {
    "ExecuteTime": {
     "end_time": "2019-03-21T17:34:19.638447Z",
     "start_time": "2019-03-21T17:34:19.634045Z"
    }
   },
   "outputs": [
    {
     "data": {
      "text/plain": [
       "array([[0.396256, 0.091888, 0.297224, 0.048112],\n",
       "       [0.091888, 0.101924, 0.069952, 0.046676],\n",
       "       [0.297224, 0.069952, 0.298496, 0.047848],\n",
       "       [0.048112, 0.046676, 0.047848, 0.073924]])"
      ]
     },
     "execution_count": 282,
     "metadata": {},
     "output_type": "execute_result"
    }
   ],
   "source": [
    "class_sc_mat / 50"
   ]
  },
  {
   "cell_type": "code",
   "execution_count": 283,
   "metadata": {
    "ExecuteTime": {
     "end_time": "2019-03-21T17:35:39.715388Z",
     "start_time": "2019-03-21T17:35:39.702140Z"
    }
   },
   "outputs": [
    {
     "name": "stdout",
     "output_type": "stream",
     "text": [
      "50\n",
      "50\n",
      "50\n",
      "between-class Scatter Matrix:\n",
      " [[ 63.21213333 -19.534      165.16466667  71.36306667]\n",
      " [-19.534       10.9776     -56.0552     -22.4924    ]\n",
      " [165.16466667 -56.0552     436.64373333 186.90813333]\n",
      " [ 71.36306667 -22.4924     186.90813333  80.60413333]]\n"
     ]
    }
   ],
   "source": [
    "overall_mean = np.mean(X, axis=0)\n",
    "\n",
    "S_B = np.zeros((4,4))\n",
    "\n",
    "for i, mean_vec in enumerate(mean_vectors):\n",
    "    n = X[y==i,:].shape[0]\n",
    "    print(n)\n",
    "    mean_vec = mean_vec.reshape(4,1)\n",
    "    overall_mean = overall_mean.reshape(4,1)\n",
    "    S_B += n * (mean_vec - overall_mean).dot((mean_vec - overall_mean).T)\n",
    "    \n",
    "print('between-class Scatter Matrix:\\n', S_B)"
   ]
  },
  {
   "cell_type": "code",
   "execution_count": 294,
   "metadata": {
    "ExecuteTime": {
     "end_time": "2019-03-21T17:43:13.261054Z",
     "start_time": "2019-03-21T17:43:13.254442Z"
    }
   },
   "outputs": [
    {
     "name": "stdout",
     "output_type": "stream",
     "text": [
      "Eigenvalue: [ 3.22719578e+01  2.77566864e-01 -2.28331034e-15  6.34213497e-16]\n",
      "\n",
      "Eigenvectors: [[ 0.20490976 -0.00898234  0.06655256 -0.3445975 ]\n",
      " [ 0.38714331 -0.58899857  0.31429275  0.42493152]\n",
      " [-0.54648218  0.25428655  0.38544266  0.47880589]\n",
      " [-0.71378517 -0.76703217 -0.86499987 -0.6866081 ]]\n",
      "\n"
     ]
    }
   ],
   "source": [
    "eig_vals, eig_vecs = np.linalg.eig(np.linalg.inv(S_W).dot(S_B))\n",
    "\n",
    "print('Eigenvalue: %s\\n' % eig_vals)\n",
    "print('Eigenvectors: %s\\n' % eig_vecs)"
   ]
  },
  {
   "cell_type": "code",
   "execution_count": 295,
   "metadata": {
    "ExecuteTime": {
     "end_time": "2019-03-21T17:43:13.997142Z",
     "start_time": "2019-03-21T17:43:13.988177Z"
    }
   },
   "outputs": [
    {
     "name": "stdout",
     "output_type": "stream",
     "text": [
      "\n",
      "Eigenvectors 0: \n",
      "[[ 0.20490976]\n",
      " [ 0.38714331]\n",
      " [-0.54648218]\n",
      " [-0.71378517]]\n",
      "\n",
      "Eigenvalue 0: 3.2272e+01\n",
      "\n",
      "Eigenvectors 1: \n",
      "[[-0.00898234]\n",
      " [-0.58899857]\n",
      " [ 0.25428655]\n",
      " [-0.76703217]]\n",
      "\n",
      "Eigenvalue 1: 2.7757e-01\n",
      "\n",
      "Eigenvectors 2: \n",
      "[[ 0.06655256]\n",
      " [ 0.31429275]\n",
      " [ 0.38544266]\n",
      " [-0.86499987]]\n",
      "\n",
      "Eigenvalue 2: -2.2833e-15\n",
      "\n",
      "Eigenvectors 3: \n",
      "[[-0.3445975 ]\n",
      " [ 0.42493152]\n",
      " [ 0.47880589]\n",
      " [-0.6866081 ]]\n",
      "\n",
      "Eigenvalue 3: 6.3421e-16\n"
     ]
    }
   ],
   "source": [
    "for i in range(len(eig_vals)):\n",
    "    eigvec_sc = eig_vecs[:, i].reshape(4,1)\n",
    "    print('\\nEigenvectors {}: \\n{}'.format(i, eigvec_sc.real))\n",
    "    print('\\nEigenvalue {:}: {:.4e}'.format(i, eig_vals[i].real))"
   ]
  },
  {
   "cell_type": "code",
   "execution_count": 296,
   "metadata": {
    "ExecuteTime": {
     "end_time": "2019-03-21T17:43:15.558518Z",
     "start_time": "2019-03-21T17:43:15.550146Z"
    }
   },
   "outputs": [
    {
     "name": "stdout",
     "output_type": "stream",
     "text": [
      "ok\n"
     ]
    }
   ],
   "source": [
    "# Check to ensure that Av =lamv\n",
    "for i in range(len(eig_vals)):\n",
    "    eigv = eig_vecs[:,i].reshape(4,1)\n",
    "    np.testing.assert_array_almost_equal(np.linalg.inv(S_W).dot(S_B).dot(eigv),\n",
    "                                         eig_vals[i] * eigv,\n",
    "                                         decimal=6, err_msg='', verbose=True)\n",
    "print('ok')"
   ]
  },
  {
   "cell_type": "markdown",
   "metadata": {
    "ExecuteTime": {
     "end_time": "2019-03-21T17:46:26.266856Z",
     "start_time": "2019-03-21T17:46:26.263890Z"
    }
   },
   "source": []
  },
  {
   "cell_type": "code",
   "execution_count": 303,
   "metadata": {
    "ExecuteTime": {
     "end_time": "2019-03-21T17:49:43.567168Z",
     "start_time": "2019-03-21T17:49:43.558218Z"
    }
   },
   "outputs": [
    {
     "data": {
      "text/plain": [
       "[(32.27195779972982,\n",
       "  array([ 0.20490976,  0.38714331, -0.54648218, -0.71378517])),\n",
       " (0.2775668638400461,\n",
       "  array([-0.00898234, -0.58899857,  0.25428655, -0.76703217])),\n",
       " (2.2833103419793817e-15,\n",
       "  array([ 0.06655256,  0.31429275,  0.38544266, -0.86499987])),\n",
       " (6.342134974218695e-16,\n",
       "  array([-0.3445975 ,  0.42493152,  0.47880589, -0.6866081 ]))]"
      ]
     },
     "execution_count": 303,
     "metadata": {},
     "output_type": "execute_result"
    }
   ],
   "source": [
    "eig_pairs = [(np.abs(eig_vals[i]), eig_vecs[:,i]) for i in range(len(eig_vals))]\n",
    "eig_pairs = sorted(eig_pairs, key=lambda k: k[0], reverse=True)\n",
    "\n",
    "eig_pairs\n",
    "# print('Eigenvalues in decreasing order:\\n')\n",
    "# for i in eig_pairs:\n",
    "#     print(i[0])"
   ]
  },
  {
   "cell_type": "markdown",
   "metadata": {},
   "source": [
    "### Print Variance Explained"
   ]
  },
  {
   "cell_type": "code",
   "execution_count": 318,
   "metadata": {
    "ExecuteTime": {
     "end_time": "2019-03-21T17:55:42.111501Z",
     "start_time": "2019-03-21T17:55:42.105021Z"
    }
   },
   "outputs": [
    {
     "name": "stdout",
     "output_type": "stream",
     "text": [
      "Variance explained:\n",
      "\n",
      "Eigenvalue 0: 99.15%\n",
      "Eigenvalue 1: 0.85%\n",
      "Eigenvalue 2: 0.00%\n",
      "Eigenvalue 3: 0.00%\n"
     ]
    }
   ],
   "source": [
    "print('Variance explained:\\n')\n",
    "eigv_sum = sum(eig_vals)\n",
    "for i, j in enumerate(eig_pairs):\n",
    "    print('Eigenvalue {0:}: {1:.2%}'.format(i, (j[0]/eigv_sum).real))"
   ]
  },
  {
   "cell_type": "code",
   "execution_count": 323,
   "metadata": {
    "ExecuteTime": {
     "end_time": "2019-03-21T17:58:09.530875Z",
     "start_time": "2019-03-21T17:58:09.526380Z"
    }
   },
   "outputs": [
    {
     "name": "stdout",
     "output_type": "stream",
     "text": [
      "[[ 0.20490976 -0.00898234]\n",
      " [ 0.38714331 -0.58899857]\n",
      " [-0.54648218  0.25428655]\n",
      " [-0.71378517 -0.76703217]]\n"
     ]
    }
   ],
   "source": [
    "W = np.hstack((eig_pairs[0][1].reshape(4, 1), eig_pairs[1][1].reshape(4, 1)))\n",
    "print(W.real)"
   ]
  },
  {
   "cell_type": "code",
   "execution_count": 338,
   "metadata": {
    "ExecuteTime": {
     "end_time": "2019-03-21T18:01:55.356219Z",
     "start_time": "2019-03-21T18:01:55.352248Z"
    }
   },
   "outputs": [
    {
     "data": {
      "text/plain": [
       "(150, 2)"
      ]
     },
     "execution_count": 338,
     "metadata": {},
     "output_type": "execute_result"
    }
   ],
   "source": [
    "X_lda = X.dot(W)\n",
    "X_lda.shape"
   ]
  },
  {
   "cell_type": "code",
   "execution_count": 351,
   "metadata": {
    "ExecuteTime": {
     "end_time": "2019-03-21T18:12:51.318453Z",
     "start_time": "2019-03-21T18:12:51.126934Z"
    }
   },
   "outputs": [
    {
     "data": {
      "image/png": "[encoded data removed]",
      "text/plain": [
       "<matplotlib.figure.Figure at 0x1a1f6c3898>"
      ]
     },
     "metadata": {},
     "output_type": "display_data"
    }
   ],
   "source": [
    "def plot_step_lda():\n",
    "\n",
    "    ax = plt.subplot(111)\n",
    "    for label,marker,color in zip(\n",
    "        range(0,3),('^', 's', 'o'),('blue', 'red', 'green')):\n",
    "\n",
    "        plt.scatter(x=X_lda[:,0].real[y == label],\n",
    "                y=X_lda[:,1].real[y == label],\n",
    "                marker=marker,\n",
    "                color=color,\n",
    "                alpha=0.5,\n",
    "                label=label_dict[label]\n",
    "                )\n",
    "\n",
    "    plt.xlabel('LD1')\n",
    "    plt.ylabel('LD2')\n",
    "\n",
    "    leg = plt.legend(loc='upper right', fancybox=True)\n",
    "    leg.get_frame().set_alpha(0.5)\n",
    "    plt.title('LDA: Iris projection onto the first 2 linear discriminants')\n",
    "\n",
    "    # hide axis ticks\n",
    "    plt.tick_params(axis=\"both\", which=\"both\", bottom=\"off\", top=\"off\",  \n",
    "            labelbottom=\"on\", left=\"off\", right=\"off\", labelleft=\"on\")\n",
    "\n",
    "    # remove axis spines\n",
    "    ax.spines[\"top\"].set_visible(False)  \n",
    "    ax.spines[\"right\"].set_visible(False)\n",
    "    ax.spines[\"bottom\"].set_visible(False)\n",
    "    ax.spines[\"left\"].set_visible(False)    \n",
    "\n",
    "    plt.grid()\n",
    "    plt.tight_layout\n",
    "    plt.show()\n",
    "\n",
    "plot_step_lda()"
   ]
  },
  {
   "cell_type": "code",
   "execution_count": 341,
   "metadata": {
    "ExecuteTime": {
     "end_time": "2019-03-21T18:02:59.314290Z",
     "start_time": "2019-03-21T18:02:59.309375Z"
    }
   },
   "outputs": [
    {
     "data": {
      "text/plain": [
       "array([[ 0.20490976],\n",
       "       [ 0.38714331],\n",
       "       [-0.54648218],\n",
       "       [-0.71378517]])"
      ]
     },
     "execution_count": 341,
     "metadata": {},
     "output_type": "execute_result"
    }
   ],
   "source": [
    "W_2 = eig_pairs[0][1].reshape(4, 1)\n",
    "W_2"
   ]
  },
  {
   "cell_type": "code",
   "execution_count": 343,
   "metadata": {
    "ExecuteTime": {
     "end_time": "2019-03-21T18:04:03.296537Z",
     "start_time": "2019-03-21T18:04:03.289755Z"
    }
   },
   "outputs": [
    {
     "data": {
      "text/plain": [
       "array([[ 1.49220928],\n",
       "       [ 1.25765567],\n",
       "       [ 1.3487506 ],\n",
       "       [ 1.18024885],\n",
       "       [ 1.51043263],\n",
       "       [ 1.40183784],\n",
       "       [ 1.27966155],\n",
       "       [ 1.37835575],\n",
       "       [ 1.11648646],\n",
       "       [ 1.3131003 ],\n",
       "       [ 1.57646265],\n",
       "       [ 1.28272558],\n",
       "       [ 1.30854321],\n",
       "       [ 1.37003298],\n",
       "       [ 1.9385142 ],\n",
       "       [ 1.76617886],\n",
       "       [ 1.62043071],\n",
       "       [ 1.42083076],\n",
       "       [ 1.49597495],\n",
       "       [ 1.48232553],\n",
       "       [ 1.35102322],\n",
       "       [ 1.37223268],\n",
       "       [ 1.6470616 ],\n",
       "       [ 1.03670041],\n",
       "       [ 1.11878093],\n",
       "       [ 1.16885021],\n",
       "       [ 1.1809505 ],\n",
       "       [ 1.45805203],\n",
       "       [ 1.47398592],\n",
       "       [ 1.18480594],\n",
       "       [ 1.16658259],\n",
       "       [ 1.31756262],\n",
       "       [ 1.76171654],\n",
       "       [ 1.8451735 ],\n",
       "       [ 1.3131003 ],\n",
       "       [ 1.46487174],\n",
       "       [ 1.6288214 ],\n",
       "       [ 1.3131003 ],\n",
       "       [ 1.20984901],\n",
       "       [ 1.39884673],\n",
       "       [ 1.454988  ],\n",
       "       [ 0.88796115],\n",
       "       [ 1.28727767],\n",
       "       [ 1.07690779],\n",
       "       [ 1.19235414],\n",
       "       [ 1.16578618],\n",
       "       [ 1.49905583],\n",
       "       [ 1.2736114 ],\n",
       "       [ 1.55597167],\n",
       "       [ 1.39428964],\n",
       "       [-0.89453857],\n",
       "       [-0.97956651],\n",
       "       [-1.13441883],\n",
       "       [-1.09641615],\n",
       "       [-1.16858108],\n",
       "       [-1.13510363],\n",
       "       [-1.14201811],\n",
       "       [-0.5839746 ],\n",
       "       [-0.96661874],\n",
       "       [-1.01976205],\n",
       "       [-0.82763738],\n",
       "       [-0.9955054 ],\n",
       "       [-0.81854005],\n",
       "       [-1.19510035],\n",
       "       [-0.62504632],\n",
       "       [-0.83078118],\n",
       "       [-1.22092298],\n",
       "       [-0.72059856],\n",
       "       [-1.40769177],\n",
       "       [-0.80109126],\n",
       "       [-1.4601016 ],\n",
       "       [-0.77989864],\n",
       "       [-1.48965068],\n",
       "       [-1.09105765],\n",
       "       [-0.84365603],\n",
       "       [-0.88998649],\n",
       "       [-1.14502607],\n",
       "       [-1.41152037],\n",
       "       [-1.17767341],\n",
       "       [-0.45191456],\n",
       "       [-0.80564835],\n",
       "       [-0.67962161],\n",
       "       [-0.75405916],\n",
       "       [-1.6543699 ],\n",
       "       [-1.26190493],\n",
       "       [-1.05548027],\n",
       "       [-1.06610435],\n",
       "       [-1.15108121],\n",
       "       [-0.85957307],\n",
       "       [-1.01898749],\n",
       "       [-1.12748751],\n",
       "       [-1.1017378 ],\n",
       "       [-0.84742171],\n",
       "       [-0.60219795],\n",
       "       [-1.03036429],\n",
       "       [-0.8223518 ],\n",
       "       [-0.93244465],\n",
       "       [-0.88463799],\n",
       "       [-0.41171218],\n",
       "       [-0.91651076],\n",
       "       [-2.4948516 ],\n",
       "       [-1.9094874 ],\n",
       "       [-2.1069045 ],\n",
       "       [-1.93146643],\n",
       "       [-2.24658065],\n",
       "       [-2.38698714],\n",
       "       [-1.7006885 ],\n",
       "       [-2.1090942 ],\n",
       "       [-2.11365629],\n",
       "       [-2.24893804],\n",
       "       [-1.64385743],\n",
       "       [-1.89583798],\n",
       "       [-1.94978455],\n",
       "       [-2.02413734],\n",
       "       [-2.22766566],\n",
       "       [-1.98778039],\n",
       "       [-1.79712193],\n",
       "       [-2.18280825],\n",
       "       [-2.82805518],\n",
       "       [-1.72191482],\n",
       "       [-2.10391839],\n",
       "       [-1.8738371 ],\n",
       "       [-2.42719453],\n",
       "       [-1.62635757],\n",
       "       [-1.96342897],\n",
       "       [-1.84949752],\n",
       "       [-1.55348599],\n",
       "       [-1.55119653],\n",
       "       [-2.16382534],\n",
       "       [-1.67487272],\n",
       "       [-2.08939963],\n",
       "       [-1.83512461],\n",
       "       [-2.23520385],\n",
       "       [-1.48280412],\n",
       "       [-1.8030773 ],\n",
       "       [-2.23601211],\n",
       "       [-2.16616588],\n",
       "       [-1.77889857],\n",
       "       [-1.51703928],\n",
       "       [-1.83593103],\n",
       "       [-2.20034497],\n",
       "       [-1.81474341],\n",
       "       [-1.9094874 ],\n",
       "       [-2.2337058 ],\n",
       "       [-2.24894304],\n",
       "       [-1.94908791],\n",
       "       [-1.82981296],\n",
       "       [-1.77593431],\n",
       "       [-2.0059819 ],\n",
       "       [-1.70147491]])"
      ]
     },
     "execution_count": 343,
     "metadata": {},
     "output_type": "execute_result"
    }
   ],
   "source": [
    "X2_lda = X.dot(W_2)\n",
    "\n",
    "X2_lda"
   ]
  },
  {
   "cell_type": "code",
   "execution_count": 349,
   "metadata": {
    "ExecuteTime": {
     "end_time": "2019-03-21T18:08:52.133257Z",
     "start_time": "2019-03-21T18:08:52.015441Z"
    }
   },
   "outputs": [
    {
     "data": {
      "image/png": "[encoded data removed]",
      "text/plain": [
       "<matplotlib.figure.Figure at 0x1a1e780048>"
      ]
     },
     "metadata": {},
     "output_type": "display_data"
    }
   ],
   "source": [
    "plt.plot(X2_lda[:,0])\n",
    "plt.show()"
   ]
  },
  {
   "cell_type": "markdown",
   "metadata": {},
   "source": [
    "## PCA"
   ]
  },
  {
   "cell_type": "code",
   "execution_count": 378,
   "metadata": {
    "ExecuteTime": {
     "end_time": "2019-03-22T20:47:34.576953Z",
     "start_time": "2019-03-22T20:47:34.547593Z"
    }
   },
   "outputs": [],
   "source": [
    "import numpy as np\n",
    "\n",
    "np.random.seed(1234)\n",
    "\n",
    "mu_vec1 = np.array([0,0,0])\n",
    "cov_mat1 = np.array([[1,0,0],[0,1,0],[0,0,1]])\n",
    "\n",
    "class1_sample = np.random.multivariate_normal(mu_vec1, cov_mat1, 20).T\n",
    "assert class1_sample.shape == (3,20)\n",
    "\n",
    "mu_vec2 = np.array([1,1,1])\n",
    "cov_mat2 = np.array([[1,0,0],[0,1,0],[0,0,1]])\n",
    "class2_sample = np.random.multivariate_normal(mu_vec2, cov_mat2, 20).T\n",
    "assert class2_sample.shape == (3,20)"
   ]
  },
  {
   "cell_type": "code",
   "execution_count": 382,
   "metadata": {
    "ExecuteTime": {
     "end_time": "2019-03-22T20:51:17.392055Z",
     "start_time": "2019-03-22T20:51:17.193267Z"
    }
   },
   "outputs": [
    {
     "data": {
      "image/png": "[encoded data removed]",
      "text/plain": [
       "<matplotlib.figure.Figure at 0x1a1f043978>"
      ]
     },
     "metadata": {},
     "output_type": "display_data"
    }
   ],
   "source": [
    "from mpl_toolkits.mplot3d import Axes3D\n",
    "from mpl_toolkits.mplot3d import proj3d\n",
    "\n",
    "fig = plt.figure(figsize=(8,8))\n",
    "ax = fig.add_subplot(111, projection='3d')\n",
    "plt.rcParams['legend.fontsize'] = 10\n",
    "ax.plot(class1_sample[0,:], class1_sample[1,:], class1_sample[2,:],\n",
    "       'o', markersize=8, color='blue', alpha=0.5, label='class1')\n",
    "ax.plot(class2_sample[0,:], class2_sample[1,:], class2_sample[2,:], \n",
    "        '^', markersize=8, alpha=0.5, color='red', label='class2')\n",
    "\n",
    "plt.title('Samples for class 1 and class 2')\n",
    "ax.legend(loc='upper right')\n",
    "\n",
    "plt.show()"
   ]
  },
  {
   "cell_type": "code",
   "execution_count": 384,
   "metadata": {
    "ExecuteTime": {
     "end_time": "2019-03-22T20:52:19.869208Z",
     "start_time": "2019-03-22T20:52:19.865877Z"
    }
   },
   "outputs": [],
   "source": [
    "all_samples = np.concatenate((class1_sample, class2_sample), axis=1)\n",
    "assert all_samples.shape == (3, 40)"
   ]
  },
  {
   "cell_type": "code",
   "execution_count": 387,
   "metadata": {
    "ExecuteTime": {
     "end_time": "2019-03-22T20:53:55.470230Z",
     "start_time": "2019-03-22T20:53:55.462197Z"
    }
   },
   "outputs": [
    {
     "name": "stdout",
     "output_type": "stream",
     "text": [
      "Mean Vector:\n",
      " [[0.53513993]\n",
      " [0.3204501 ]\n",
      " [0.74643724]]\n"
     ]
    }
   ],
   "source": [
    "mean_x = np.mean(all_samples[0, :])\n",
    "mean_y = np.mean(all_samples[1, :])\n",
    "mean_z = np.mean(all_samples[2, :])\n",
    "\n",
    "mean_vector = np.array([[mean_x], [mean_y], [mean_z]])\n",
    "\n",
    "print('Mean Vector:\\n', mean_vector)"
   ]
  },
  {
   "cell_type": "markdown",
   "metadata": {},
   "source": [
    "### Scatter Matrix"
   ]
  },
  {
   "cell_type": "code",
   "execution_count": 389,
   "metadata": {
    "ExecuteTime": {
     "end_time": "2019-03-22T20:55:46.948095Z",
     "start_time": "2019-03-22T20:55:46.940337Z"
    }
   },
   "outputs": [
    {
     "name": "stdout",
     "output_type": "stream",
     "text": [
      "scatter matrix:\n",
      " [[69.32153776 -0.44803277 -2.35946406]\n",
      " [-0.44803277 42.94895756  6.02095291]\n",
      " [-2.35946406  6.02095291 25.85365764]]\n"
     ]
    }
   ],
   "source": [
    "scatter_matrix = np.zeros((3,3))\n",
    "for i in range(all_samples.shape[1]):\n",
    "    scatter_matrix += (all_samples[:,i].reshape(3,1)-\\\n",
    "                       mean_vector).dot((all_samples[:,i].reshape(3,1) - mean_vector).T)\n",
    "print('scatter matrix:\\n', scatter_matrix)"
   ]
  },
  {
   "cell_type": "markdown",
   "metadata": {},
   "source": [
    "### Covariance Matrix (alternative way)"
   ]
  },
  {
   "cell_type": "code",
   "execution_count": 390,
   "metadata": {
    "ExecuteTime": {
     "end_time": "2019-03-22T20:57:14.990139Z",
     "start_time": "2019-03-22T20:57:14.983741Z"
    }
   },
   "outputs": [
    {
     "name": "stdout",
     "output_type": "stream",
     "text": [
      "covariance matrix\n",
      " [[ 1.77747533 -0.01148802 -0.06049908]\n",
      " [-0.01148802  1.10125532  0.15438341]\n",
      " [-0.06049908  0.15438341  0.6629143 ]]\n"
     ]
    }
   ],
   "source": [
    "cov_mat = np.cov([all_samples[0,:], all_samples[1,:], all_samples[2,:]])\n",
    "\n",
    "print('covariance matrix\\n', cov_mat)"
   ]
  },
  {
   "cell_type": "markdown",
   "metadata": {},
   "source": [
    "### Computing Eigenvectors & Corresponding Eigenvalues"
   ]
  },
  {
   "cell_type": "code",
   "execution_count": 394,
   "metadata": {
    "ExecuteTime": {
     "end_time": "2019-03-22T21:03:05.981420Z",
     "start_time": "2019-03-22T21:03:05.962452Z"
    }
   },
   "outputs": [
    {
     "name": "stdout",
     "output_type": "stream",
     "text": [
      "Eigenvector: 1: \n",
      "[[ 0.99785694]\n",
      " [-0.03005032]\n",
      " [-0.0581249 ]]\n",
      "Eigenvalue 1 from scatter matrix: 69.47246835455627\n",
      "Eigenvalue 1 from covariance matrix: 1.781345342424521\n",
      "Scaling factor:  38.99999999999997\n",
      "----------------------------------------\n",
      "Eigenvector: 2: \n",
      "[[-0.04649955]\n",
      " [ 0.2993114 ]\n",
      " [-0.95302176]]\n",
      "Eigenvalue 2 from scatter matrix: 23.847560879317143\n",
      "Eigenvalue 2 from covariance matrix: 0.6114759199824904\n",
      "Scaling factor:  39.00000000000003\n",
      "----------------------------------------\n",
      "Eigenvector: 3: \n",
      "[[-0.04603605]\n",
      " [-0.95368216]\n",
      " [-0.29727263]]\n",
      "Eigenvalue 3 from scatter matrix: 44.80412372467968\n",
      "Eigenvalue 3 from covariance matrix: 1.1488236852481977\n",
      "Scaling factor:  38.99999999999997\n",
      "----------------------------------------\n"
     ]
    }
   ],
   "source": [
    "eig_val_sc, eig_vec_sc = np.linalg.eig(scatter_matrix)\n",
    "\n",
    "eig_val_cov, eig_vec_cov = np.linalg.eig(cov_mat)\n",
    "\n",
    "for i in range(len(eig_val_sc)):\n",
    "    eigvec_sc = eig_vec_sc[:,i].reshape(1,3).T\n",
    "    eigvec_cov = eig_vec_cov[:,i].reshape(1,3).T\n",
    "    assert eigvec_sc.all() == eigvec_cov.all()\n",
    "    \n",
    "    print('Eigenvector: {}: \\n{}'.format(i+1, eigvec_sc))\n",
    "    print('Eigenvalue {} from scatter matrix: {}'.format(i+1, eig_val_sc[i]))\n",
    "    print('Eigenvalue {} from covariance matrix: {}'.format(i+1, eig_val_cov[i]))\n",
    "    print('Scaling factor: ', eig_val_sc[i] / eig_val_cov[i])\n",
    "    print(40 * '-')"
   ]
  },
  {
   "cell_type": "code",
   "execution_count": 396,
   "metadata": {
    "ExecuteTime": {
     "end_time": "2019-03-22T21:07:25.377767Z",
     "start_time": "2019-03-22T21:07:25.372182Z"
    }
   },
   "outputs": [],
   "source": [
    "for i in range(len(eig_val_sc)):\n",
    "    eigv = eig_vec_sc[:,i].reshape(1,3).T\n",
    "    np.testing.assert_array_almost_equal(scatter_matrix.dot(eigv), \n",
    "                                        eig_val_sc[i] * eigv,\n",
    "                                       decimal=6, err_msg='',\n",
    "                                       verbose=True)"
   ]
  },
  {
   "cell_type": "code",
   "execution_count": 397,
   "metadata": {
    "ExecuteTime": {
     "end_time": "2019-03-22T21:07:56.002273Z",
     "start_time": "2019-03-22T21:07:55.804424Z"
    }
   },
   "outputs": [
    {
     "data": {
      "image/png": "[encoded data removed]",
      "text/plain": [
       "<matplotlib.figure.Figure at 0x1a1e1042b0>"
      ]
     },
     "metadata": {},
     "output_type": "display_data"
    }
   ],
   "source": [
    "from matplotlib import pyplot as plt\n",
    "from mpl_toolkits.mplot3d import Axes3D\n",
    "from mpl_toolkits.mplot3d import proj3d\n",
    "from matplotlib.patches import FancyArrowPatch\n",
    "\n",
    "\n",
    "class Arrow3D(FancyArrowPatch):\n",
    "    def __init__(self, xs, ys, zs, *args, **kwargs):\n",
    "        FancyArrowPatch.__init__(self, (0,0), (0,0), *args, **kwargs)\n",
    "        self._verts3d = xs, ys, zs\n",
    "\n",
    "    def draw(self, renderer):\n",
    "        xs3d, ys3d, zs3d = self._verts3d\n",
    "        xs, ys, zs = proj3d.proj_transform(xs3d, ys3d, zs3d, renderer.M)\n",
    "        self.set_positions((xs[0],ys[0]),(xs[1],ys[1]))\n",
    "        FancyArrowPatch.draw(self, renderer)\n",
    "\n",
    "fig = plt.figure(figsize=(7,7))\n",
    "ax = fig.add_subplot(111, projection='3d')\n",
    "\n",
    "ax.plot(all_samples[0,:], all_samples[1,:], all_samples[2,:], 'o', markersize=8, color='green', alpha=0.2)\n",
    "ax.plot([mean_x], [mean_y], [mean_z], 'o', markersize=10, color='red', alpha=0.5)\n",
    "for v in eig_vec_sc.T:\n",
    "    a = Arrow3D([mean_x, v[0]], [mean_y, v[1]], [mean_z, v[2]], mutation_scale=20, lw=3, arrowstyle=\"-|>\", color=\"r\")\n",
    "    ax.add_artist(a)\n",
    "ax.set_xlabel('x_values')\n",
    "ax.set_ylabel('y_values')\n",
    "ax.set_zlabel('z_values')\n",
    "\n",
    "plt.title('Eigenvectors')\n",
    "\n",
    "plt.show()\n"
   ]
  },
  {
   "cell_type": "code",
   "execution_count": 398,
   "metadata": {
    "ExecuteTime": {
     "end_time": "2019-03-22T21:09:27.287264Z",
     "start_time": "2019-03-22T21:09:27.280601Z"
    }
   },
   "outputs": [
    {
     "name": "stdout",
     "output_type": "stream",
     "text": [
      "69.47246835455627\n",
      "44.80412372467968\n",
      "23.847560879317143\n"
     ]
    }
   ],
   "source": [
    "eig_pairs = [(np.abs(eig_val_sc[i]), eig_vec_sc[:,i]) for i in range(len(eig_val_sc))]\n",
    "\n",
    "eig_pairs.sort(key=lambda x: x[0], reverse=True)\n",
    "\n",
    "for i in eig_pairs:\n",
    "    print(i[0])"
   ]
  },
  {
   "cell_type": "code",
   "execution_count": null,
   "metadata": {},
   "outputs": [],
   "source": []
  }
 ],
 "metadata": {
  "kernelspec": {
   "display_name": "Python 3",
   "language": "python",
   "name": "python3"
  },
  "language_info": {
   "codemirror_mode": {
    "name": "ipython",
    "version": 3
   },
   "file_extension": ".py",
   "mimetype": "text/x-python",
   "name": "python",
   "nbconvert_exporter": "python",
   "pygments_lexer": "ipython3",
   "version": "3.6.7"
  }
 },
 "nbformat": 4,
 "nbformat_minor": 2
}
