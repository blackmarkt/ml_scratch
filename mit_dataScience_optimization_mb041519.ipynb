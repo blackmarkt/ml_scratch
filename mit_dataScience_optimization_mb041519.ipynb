{
 "cells": [
  {
   "cell_type": "markdown",
   "metadata": {
    "hideCode": false,
    "hidePrompt": false
   },
   "source": [
    "# MIT: Data Science & Optimization\n",
    "\n",
    "#### TL; DR\n",
    "To keep reviewing and developing a stronger base of optimization, statistical learning, etc... for Data Science\n",
    "\n",
    "#### Material/Reference \n",
    "\n",
    "All lecture Youtube videos:\n",
    "https://www.youtube.com/watch?v=C1lhuz6pZC0&list=PLUl4u3cNGP619EG1wp0kT-7rDE_Az5TNd\n",
    "\n",
    "MIT Page:\n",
    "https://ocw.mit.edu/courses/electrical-engineering-and-computer-science/6-0002-introduction-to-computational-thinking-and-data-science-fall-2016/lecture-videos/index.htm\n",
    "\n",
    "### Classical Approaches to Optimization\n",
    "\n",
    "1. Brute Force\n",
    "2. Greedy Algorithm"
   ]
  },
  {
   "cell_type": "markdown",
   "metadata": {
    "hideCode": false,
    "hidePrompt": false
   },
   "source": [
    "---\n",
    "## Lec1: Intro to DS & Optimization\n",
    "\n",
    "Reference: https://www.youtube.com/watch?v=C1lhuz6pZC0\n",
    "\n",
    "### Greedy Algorithm\n",
    "\n",
    "**Approach:**\n",
    "Makes a sequence of optimal choices at each \"local\" step/stage in an attempt to find the overall global optimum. Unfortunately this typically does not lead to the most global optimal solution.\n",
    "\n",
    "*Basically you can get stuck at a local optimum*\n",
    "\n",
    "Pros<br>\n",
    "- Easy to implement\n",
    "- Fast\n",
    "\n",
    "Cons<br>\n",
    "- may not lead to global optimal\n",
    "\n",
    "**Efficiency:**\n",
    "\n",
    "*sort*: $O(n\\ log\\ n)$<br>\n",
    "*loop*: $O(n)$<br>\n",
    "*total* = $O(n\\ log\\ n)$\n",
    "\n",
    "### Python In-Class Example\n",
    "\n",
    "Scenario: Optimize Value w.r.t to calories, cost, density/value (a.k.a. personal happiness utility)"
   ]
  },
  {
   "cell_type": "code",
   "execution_count": 12,
   "metadata": {
    "ExecuteTime": {
     "end_time": "2019-04-16T17:34:47.243125Z",
     "start_time": "2019-04-16T17:34:46.452287Z"
    }
   },
   "outputs": [],
   "source": [
    "import numpy as np\n",
    "import pandas as pd\n",
    "\n",
    "import matplotlib.pyplot as plt\n",
    "%matplotlib inline"
   ]
  },
  {
   "cell_type": "code",
   "execution_count": 1,
   "metadata": {
    "ExecuteTime": {
     "end_time": "2019-04-16T16:30:33.375013Z",
     "start_time": "2019-04-16T16:30:33.368105Z"
    },
    "hideCode": false,
    "hidePrompt": false
   },
   "outputs": [],
   "source": [
    "# Python code for optimal eating\n",
    "class Food(object):\n",
    "    def __init__(self, n, v, w):\n",
    "        self.name = n\n",
    "        self.value = v\n",
    "        self.calories = w\n",
    "        \n",
    "    def getValue(self):\n",
    "        return self.value\n",
    "    \n",
    "    def getCost(self):\n",
    "        return self.calories\n",
    "    \n",
    "    def density(self):\n",
    "        return self.getValue()/self.getCost()\n",
    "    \n",
    "    def __str__(self):\n",
    "        return self.name + ': <' + str(self.value)\\\n",
    "                + ', ' + str(self.calories) + '>'"
   ]
  },
  {
   "cell_type": "code",
   "execution_count": 2,
   "metadata": {
    "ExecuteTime": {
     "end_time": "2019-04-16T16:30:34.642371Z",
     "start_time": "2019-04-16T16:30:34.636834Z"
    },
    "hideCode": false,
    "hidePrompt": false
   },
   "outputs": [],
   "source": [
    "def buildMenu(names, values, calories):\n",
    "    \"\"\"\n",
    "    names, values, calories lists of same length\n",
    "    name a list of strings\n",
    "    values & calories are lists of numbers\n",
    "    Returns: list of Foods\n",
    "    \"\"\"\n",
    "    menu = []\n",
    "    for i in range(len(values)):\n",
    "        menu.append(Food(names[i], values[i], calories[i]))\n",
    "    return menu"
   ]
  },
  {
   "cell_type": "code",
   "execution_count": 3,
   "metadata": {
    "ExecuteTime": {
     "end_time": "2019-04-16T16:34:47.998154Z",
     "start_time": "2019-04-16T16:34:47.992504Z"
    },
    "hideCode": false,
    "hidePrompt": false
   },
   "outputs": [],
   "source": [
    "# Greedy Algorithm\n",
    "def greedy(items, maxCost, keyFunction):\n",
    "    \"\"\"\n",
    "    Assumes items a list, maxCost >= 0,\n",
    "    keyFunction maps leements of items to numbers\n",
    "    \"\"\"\n",
    "    itemsCopy = sorted(items, key=keyFunction, reverse=True)\n",
    "    \n",
    "    result = []\n",
    "    totalValue, totalCost = 0.0, 0.0\n",
    "    \n",
    "    for i in range(len(itemsCopy)):\n",
    "        if (totalCost + itemsCopy[i].getCost()) <= maxCost:\n",
    "            result.append(itemsCopy[i])\n",
    "            totalCost += itemsCopy[i].getCost()\n",
    "            totalValue += itemsCopy[i].getValue()\n",
    "\n",
    "    return (result, totalValue)"
   ]
  },
  {
   "cell_type": "code",
   "execution_count": 4,
   "metadata": {
    "ExecuteTime": {
     "end_time": "2019-04-16T16:46:53.926326Z",
     "start_time": "2019-04-16T16:46:53.922879Z"
    },
    "hideCode": false,
    "hidePrompt": false
   },
   "outputs": [],
   "source": [
    "def testGreedy(items, constraint, keyFunction):\n",
    "    taken, val = greedy(items, constraint, keyFunction)\n",
    "    print('Total value of items taken=', val)\n",
    "    for item in taken:\n",
    "        print('  ', item)"
   ]
  },
  {
   "cell_type": "code",
   "execution_count": 9,
   "metadata": {
    "ExecuteTime": {
     "end_time": "2019-04-16T17:02:53.377405Z",
     "start_time": "2019-04-16T17:02:53.360492Z"
    },
    "hideCode": false,
    "hidePrompt": false
   },
   "outputs": [
    {
     "name": "stdout",
     "output_type": "stream",
     "text": [
      "Use greedy by value to allocate 750 calories\n",
      "Total value of items taken= 284.0\n",
      "   burger: <100, 354>\n",
      "   pizza: <95, 258>\n",
      "   wine: <89, 123>\n",
      "\n",
      "Use greedy by cost to allocate 750 calories\n",
      "Total value of items taken= 318.0\n",
      "   apple: <50, 95>\n",
      "   wine: <89, 123>\n",
      "   cola: <79, 150>\n",
      "   beer: <90, 154>\n",
      "   donut: <10, 195>\n",
      "\n",
      "Use greedy by density to allocate 750 calories\n",
      "Total value of items taken= 318.0\n",
      "   wine: <89, 123>\n",
      "   beer: <90, 154>\n",
      "   cola: <79, 150>\n",
      "   apple: <50, 95>\n",
      "   donut: <10, 195>\n"
     ]
    }
   ],
   "source": [
    "def testGreedys(foods, maxUnits):\n",
    "    print('Use greedy by value to allocate', maxUnits, 'calories')\n",
    "    testGreedy(foods, maxUnits, Food.getValue)\n",
    "    print('\\nUse greedy by cost to allocate', maxUnits, 'calories')\n",
    "    testGreedy(foods, maxUnits, lambda x: 1/Food.getCost(x))\n",
    "    print('\\nUse greedy by density to allocate', maxUnits, 'calories')\n",
    "    testGreedy(foods, maxUnits, Food.density)\n",
    "    \n",
    "names = ['wine', 'beer', 'pizza', 'burger', 'fries',\n",
    "        'cola', 'apple', 'donut', 'cake']\n",
    "values = [89, 90, 95, 100, 90, 79, 50, 10]\n",
    "calories = [123, 154, 258, 354, 365, 150, 95, 195]\n",
    "foods = buildMenu(names, values, calories)\n",
    "testGreedys(foods, 750)"
   ]
  },
  {
   "cell_type": "code",
   "execution_count": 10,
   "metadata": {
    "ExecuteTime": {
     "end_time": "2019-04-16T17:09:05.465569Z",
     "start_time": "2019-04-16T17:09:05.451273Z"
    },
    "hideCode": false,
    "hidePrompt": false
   },
   "outputs": [
    {
     "name": "stdout",
     "output_type": "stream",
     "text": [
      "Use greedy by value to allocate 1000 calories\n",
      "Total value of items taken= 424.0\n",
      "   burger: <100, 354>\n",
      "   pizza: <95, 258>\n",
      "   beer: <90, 154>\n",
      "   wine: <89, 123>\n",
      "   apple: <50, 95>\n",
      "\n",
      "Use greedy by cost to allocate 1000 calories\n",
      "Total value of items taken= 413.0\n",
      "   apple: <50, 95>\n",
      "   wine: <89, 123>\n",
      "   cola: <79, 150>\n",
      "   beer: <90, 154>\n",
      "   donut: <10, 195>\n",
      "   pizza: <95, 258>\n",
      "\n",
      "Use greedy by density to allocate 1000 calories\n",
      "Total value of items taken= 413.0\n",
      "   wine: <89, 123>\n",
      "   beer: <90, 154>\n",
      "   cola: <79, 150>\n",
      "   apple: <50, 95>\n",
      "   pizza: <95, 258>\n",
      "   donut: <10, 195>\n"
     ]
    }
   ],
   "source": [
    "testGreedys(foods, 1000)"
   ]
  },
  {
   "cell_type": "markdown",
   "metadata": {
    "hideCode": false,
    "hidePrompt": false
   },
   "source": [
    "---\n",
    "## Lec2: Optimization\n",
    "\n",
    "Reference: https://www.youtube.com/watch?v=uK5yvoXnkSk&list=PLUl4u3cNGP619EG1wp0kT-7rDE_Az5TNd&index=2\n",
    "\n",
    "### Brute Force\n",
    "(Using a Search Tree)\n",
    "\n",
    "**Efficiency** \n",
    "basically # of branches: $O=(2^{n+1})$\n",
    "\n",
    "#### Python In-Class Example #1: Brute Force Example: Menu/Calories/Value Optimization\n",
    "\n",
    "Search Tree Brute Force Example optimizing a menu\n",
    "*Complexity:* $O=(2^{\\text{# of branches}})=(2^8)$\n",
    "\n",
    "#### Python In-Class Example #2: Recursion Example: Fibonacci \n",
    "\n",
    "#### Dynamic Programming\n",
    "\n",
    "Mainly used in recursion problems the idea is to store overlapping problems in memory to avoid redundancy in calculation & therefore saving memory/computational time.\n",
    "\n",
    "- Fast & Efficient\n",
    "- Guaranteed Global Optimal\n",
    "\n",
    "**memoization** - save space/memory & time by storing variables in memory & then looking up the value when necessary rather than continually re-calculating the same calculation (redundancy)\n",
    "\n",
    "**Optimal Substructures**\n",
    "\n",
    "**Overlapping Problems**\n"
   ]
  },
  {
   "cell_type": "code",
   "execution_count": 61,
   "metadata": {
    "ExecuteTime": {
     "end_time": "2019-04-16T18:55:03.055855Z",
     "start_time": "2019-04-16T18:55:03.048799Z"
    }
   },
   "outputs": [],
   "source": [
    "def maxVal(toConsider, avail):\n",
    "    \"\"\"\n",
    "    - toConsider is a list of items (items that nodes higher up \n",
    "    in the tree have not considered)\n",
    "    - avail a weight (amount of space still available)\n",
    "    Returns\n",
    "    =======\n",
    "    tuple of total value of a solution to 0/1 knapsack problem & the \n",
    "    item of that solution\n",
    "    \"\"\"\n",
    "    if toConsider == [] or avail == 0:\n",
    "        result = (0, ())\n",
    "    elif toConsider[0].getCost() > avail:\n",
    "        # Explore right branch only\n",
    "        result = maxVal(toConsider[1:], avail)\n",
    "    else:\n",
    "        nextItem = toConsider[0]\n",
    "        # Explore left branch\n",
    "        withVal, withToTake = maxVal(toConsider[1:],\n",
    "                                    avail - nextItem.getCost())\n",
    "        withVal += nextItem.getValue()\n",
    "        # Explore right branch\n",
    "        withoutVal, withoutToTake = maxVal(toConsider[1:], avail)\n",
    "        # Choose better branch\n",
    "        if withVal > withoutVal:\n",
    "            result = (withVal, withToTake + (nextItem,))\n",
    "        else:\n",
    "            result = (withoutVal, withoutToTake)\n",
    "    return result\n",
    "    "
   ]
  },
  {
   "cell_type": "code",
   "execution_count": 62,
   "metadata": {
    "ExecuteTime": {
     "end_time": "2019-04-16T18:55:03.374604Z",
     "start_time": "2019-04-16T18:55:03.369168Z"
    }
   },
   "outputs": [],
   "source": [
    "def testMaxVal(foods, maxUnits, printItems=True):\n",
    "    print('Use search tree to allocate', maxUnits, 'calories')\n",
    "    val, taken = maxVal(foods, maxUnits)\n",
    "    print('Total value of items taken = ', val)\n",
    "    if printItems:\n",
    "        for item in taken:\n",
    "            print('  ', item)"
   ]
  },
  {
   "cell_type": "code",
   "execution_count": 63,
   "metadata": {
    "ExecuteTime": {
     "end_time": "2019-04-16T18:55:03.685542Z",
     "start_time": "2019-04-16T18:55:03.679261Z"
    }
   },
   "outputs": [
    {
     "name": "stdout",
     "output_type": "stream",
     "text": [
      "Use search tree to allocate 750 calories\n",
      "Total value of items taken =  353\n",
      "   cola: <79, 150>\n",
      "   pizza: <95, 258>\n",
      "   beer: <90, 154>\n",
      "   wine: <89, 123>\n"
     ]
    }
   ],
   "source": [
    "testMaxVal(foods, 750)"
   ]
  },
  {
   "cell_type": "code",
   "execution_count": 64,
   "metadata": {
    "ExecuteTime": {
     "end_time": "2019-04-16T18:59:39.145120Z",
     "start_time": "2019-04-16T18:59:39.140694Z"
    }
   },
   "outputs": [],
   "source": [
    "# Manufacture larger menus\n",
    "import random\n",
    "\n",
    "def buildLargeMenu(numItems, maxVal, maxCost):\n",
    "    items = []\n",
    "    for i in range(numItems):\n",
    "        items.append(Food(str(i),\n",
    "                         random.randint(1, maxVal),\n",
    "                         random.randint(1, maxCost)))\n",
    "    return items"
   ]
  },
  {
   "cell_type": "code",
   "execution_count": 65,
   "metadata": {
    "ExecuteTime": {
     "end_time": "2019-04-16T19:08:09.753570Z",
     "start_time": "2019-04-16T19:00:25.603893Z"
    }
   },
   "outputs": [
    {
     "name": "stdout",
     "output_type": "stream",
     "text": [
      "Use search tree to allocate 750 calories\n",
      "Total value of items taken =  254\n",
      "Use search tree to allocate 750 calories\n",
      "Total value of items taken =  364\n",
      "Use search tree to allocate 750 calories\n",
      "Total value of items taken =  346\n",
      "Use search tree to allocate 750 calories\n",
      "Total value of items taken =  575\n",
      "Use search tree to allocate 750 calories\n",
      "Total value of items taken =  565\n",
      "Use search tree to allocate 750 calories\n",
      "Total value of items taken =  662\n",
      "Use search tree to allocate 750 calories\n",
      "Total value of items taken =  628\n",
      "Use search tree to allocate 750 calories\n",
      "Total value of items taken =  879\n",
      "Use search tree to allocate 750 calories\n"
     ]
    },
    {
     "ename": "KeyboardInterrupt",
     "evalue": "",
     "output_type": "error",
     "traceback": [
      "\u001b[0;31m---------------------------------------------------------------------------\u001b[0m",
      "\u001b[0;31mKeyboardInterrupt\u001b[0m                         Traceback (most recent call last)",
      "\u001b[0;32m<ipython-input-65-2166ec0d5e96>\u001b[0m in \u001b[0;36m<module>\u001b[0;34m\u001b[0m\n\u001b[1;32m      1\u001b[0m \u001b[0;32mfor\u001b[0m \u001b[0mnumItems\u001b[0m \u001b[0;32min\u001b[0m \u001b[0;34m(\u001b[0m\u001b[0;36m5\u001b[0m\u001b[0;34m,\u001b[0m\u001b[0;36m10\u001b[0m\u001b[0;34m,\u001b[0m\u001b[0;36m15\u001b[0m\u001b[0;34m,\u001b[0m\u001b[0;36m20\u001b[0m\u001b[0;34m,\u001b[0m\u001b[0;36m25\u001b[0m\u001b[0;34m,\u001b[0m\u001b[0;36m30\u001b[0m\u001b[0;34m,\u001b[0m\u001b[0;36m35\u001b[0m\u001b[0;34m,\u001b[0m\u001b[0;36m40\u001b[0m\u001b[0;34m,\u001b[0m\u001b[0;36m45\u001b[0m\u001b[0;34m,\u001b[0m\u001b[0;36m50\u001b[0m\u001b[0;34m,\u001b[0m\u001b[0;36m55\u001b[0m\u001b[0;34m,\u001b[0m\u001b[0;36m60\u001b[0m\u001b[0;34m)\u001b[0m\u001b[0;34m:\u001b[0m\u001b[0;34m\u001b[0m\u001b[0;34m\u001b[0m\u001b[0m\n\u001b[1;32m      2\u001b[0m     \u001b[0mitems\u001b[0m \u001b[0;34m=\u001b[0m \u001b[0mbuildLargeMenu\u001b[0m\u001b[0;34m(\u001b[0m\u001b[0mnumItems\u001b[0m\u001b[0;34m,\u001b[0m \u001b[0;36m90\u001b[0m\u001b[0;34m,\u001b[0m \u001b[0;36m250\u001b[0m\u001b[0;34m)\u001b[0m\u001b[0;34m\u001b[0m\u001b[0;34m\u001b[0m\u001b[0m\n\u001b[0;32m----> 3\u001b[0;31m     \u001b[0mtestMaxVal\u001b[0m\u001b[0;34m(\u001b[0m\u001b[0mitems\u001b[0m\u001b[0;34m,\u001b[0m \u001b[0;36m750\u001b[0m\u001b[0;34m,\u001b[0m \u001b[0;32mFalse\u001b[0m\u001b[0;34m)\u001b[0m\u001b[0;34m\u001b[0m\u001b[0;34m\u001b[0m\u001b[0m\n\u001b[0m",
      "\u001b[0;32m<ipython-input-62-fda0148c4567>\u001b[0m in \u001b[0;36mtestMaxVal\u001b[0;34m(foods, maxUnits, printItems)\u001b[0m\n\u001b[1;32m      1\u001b[0m \u001b[0;32mdef\u001b[0m \u001b[0mtestMaxVal\u001b[0m\u001b[0;34m(\u001b[0m\u001b[0mfoods\u001b[0m\u001b[0;34m,\u001b[0m \u001b[0mmaxUnits\u001b[0m\u001b[0;34m,\u001b[0m \u001b[0mprintItems\u001b[0m\u001b[0;34m=\u001b[0m\u001b[0;32mTrue\u001b[0m\u001b[0;34m)\u001b[0m\u001b[0;34m:\u001b[0m\u001b[0;34m\u001b[0m\u001b[0;34m\u001b[0m\u001b[0m\n\u001b[1;32m      2\u001b[0m     \u001b[0mprint\u001b[0m\u001b[0;34m(\u001b[0m\u001b[0;34m'Use search tree to allocate'\u001b[0m\u001b[0;34m,\u001b[0m \u001b[0mmaxUnits\u001b[0m\u001b[0;34m,\u001b[0m \u001b[0;34m'calories'\u001b[0m\u001b[0;34m)\u001b[0m\u001b[0;34m\u001b[0m\u001b[0;34m\u001b[0m\u001b[0m\n\u001b[0;32m----> 3\u001b[0;31m     \u001b[0mval\u001b[0m\u001b[0;34m,\u001b[0m \u001b[0mtaken\u001b[0m \u001b[0;34m=\u001b[0m \u001b[0mmaxVal\u001b[0m\u001b[0;34m(\u001b[0m\u001b[0mfoods\u001b[0m\u001b[0;34m,\u001b[0m \u001b[0mmaxUnits\u001b[0m\u001b[0;34m)\u001b[0m\u001b[0;34m\u001b[0m\u001b[0;34m\u001b[0m\u001b[0m\n\u001b[0m\u001b[1;32m      4\u001b[0m     \u001b[0mprint\u001b[0m\u001b[0;34m(\u001b[0m\u001b[0;34m'Total value of items taken = '\u001b[0m\u001b[0;34m,\u001b[0m \u001b[0mval\u001b[0m\u001b[0;34m)\u001b[0m\u001b[0;34m\u001b[0m\u001b[0;34m\u001b[0m\u001b[0m\n\u001b[1;32m      5\u001b[0m     \u001b[0;32mif\u001b[0m \u001b[0mprintItems\u001b[0m\u001b[0;34m:\u001b[0m\u001b[0;34m\u001b[0m\u001b[0;34m\u001b[0m\u001b[0m\n",
      "\u001b[0;32m<ipython-input-61-040cedd0f870>\u001b[0m in \u001b[0;36mmaxVal\u001b[0;34m(toConsider, avail)\u001b[0m\n\u001b[1;32m     21\u001b[0m         \u001b[0mwithVal\u001b[0m \u001b[0;34m+=\u001b[0m \u001b[0mnextItem\u001b[0m\u001b[0;34m.\u001b[0m\u001b[0mgetValue\u001b[0m\u001b[0;34m(\u001b[0m\u001b[0;34m)\u001b[0m\u001b[0;34m\u001b[0m\u001b[0;34m\u001b[0m\u001b[0m\n\u001b[1;32m     22\u001b[0m         \u001b[0;31m# Explore right branch\u001b[0m\u001b[0;34m\u001b[0m\u001b[0;34m\u001b[0m\u001b[0;34m\u001b[0m\u001b[0m\n\u001b[0;32m---> 23\u001b[0;31m         \u001b[0mwithoutVal\u001b[0m\u001b[0;34m,\u001b[0m \u001b[0mwithoutToTake\u001b[0m \u001b[0;34m=\u001b[0m \u001b[0mmaxVal\u001b[0m\u001b[0;34m(\u001b[0m\u001b[0mtoConsider\u001b[0m\u001b[0;34m[\u001b[0m\u001b[0;36m1\u001b[0m\u001b[0;34m:\u001b[0m\u001b[0;34m]\u001b[0m\u001b[0;34m,\u001b[0m \u001b[0mavail\u001b[0m\u001b[0;34m)\u001b[0m\u001b[0;34m\u001b[0m\u001b[0;34m\u001b[0m\u001b[0m\n\u001b[0m\u001b[1;32m     24\u001b[0m         \u001b[0;31m# Choose better branch\u001b[0m\u001b[0;34m\u001b[0m\u001b[0;34m\u001b[0m\u001b[0;34m\u001b[0m\u001b[0m\n\u001b[1;32m     25\u001b[0m         \u001b[0;32mif\u001b[0m \u001b[0mwithVal\u001b[0m \u001b[0;34m>\u001b[0m \u001b[0mwithoutVal\u001b[0m\u001b[0;34m:\u001b[0m\u001b[0;34m\u001b[0m\u001b[0;34m\u001b[0m\u001b[0m\n",
      "\u001b[0;32m<ipython-input-61-040cedd0f870>\u001b[0m in \u001b[0;36mmaxVal\u001b[0;34m(toConsider, avail)\u001b[0m\n\u001b[1;32m     21\u001b[0m         \u001b[0mwithVal\u001b[0m \u001b[0;34m+=\u001b[0m \u001b[0mnextItem\u001b[0m\u001b[0;34m.\u001b[0m\u001b[0mgetValue\u001b[0m\u001b[0;34m(\u001b[0m\u001b[0;34m)\u001b[0m\u001b[0;34m\u001b[0m\u001b[0;34m\u001b[0m\u001b[0m\n\u001b[1;32m     22\u001b[0m         \u001b[0;31m# Explore right branch\u001b[0m\u001b[0;34m\u001b[0m\u001b[0;34m\u001b[0m\u001b[0;34m\u001b[0m\u001b[0m\n\u001b[0;32m---> 23\u001b[0;31m         \u001b[0mwithoutVal\u001b[0m\u001b[0;34m,\u001b[0m \u001b[0mwithoutToTake\u001b[0m \u001b[0;34m=\u001b[0m \u001b[0mmaxVal\u001b[0m\u001b[0;34m(\u001b[0m\u001b[0mtoConsider\u001b[0m\u001b[0;34m[\u001b[0m\u001b[0;36m1\u001b[0m\u001b[0;34m:\u001b[0m\u001b[0;34m]\u001b[0m\u001b[0;34m,\u001b[0m \u001b[0mavail\u001b[0m\u001b[0;34m)\u001b[0m\u001b[0;34m\u001b[0m\u001b[0;34m\u001b[0m\u001b[0m\n\u001b[0m\u001b[1;32m     24\u001b[0m         \u001b[0;31m# Choose better branch\u001b[0m\u001b[0;34m\u001b[0m\u001b[0;34m\u001b[0m\u001b[0;34m\u001b[0m\u001b[0m\n\u001b[1;32m     25\u001b[0m         \u001b[0;32mif\u001b[0m \u001b[0mwithVal\u001b[0m \u001b[0;34m>\u001b[0m \u001b[0mwithoutVal\u001b[0m\u001b[0;34m:\u001b[0m\u001b[0;34m\u001b[0m\u001b[0;34m\u001b[0m\u001b[0m\n",
      "\u001b[0;32m<ipython-input-61-040cedd0f870>\u001b[0m in \u001b[0;36mmaxVal\u001b[0;34m(toConsider, avail)\u001b[0m\n\u001b[1;32m     21\u001b[0m         \u001b[0mwithVal\u001b[0m \u001b[0;34m+=\u001b[0m \u001b[0mnextItem\u001b[0m\u001b[0;34m.\u001b[0m\u001b[0mgetValue\u001b[0m\u001b[0;34m(\u001b[0m\u001b[0;34m)\u001b[0m\u001b[0;34m\u001b[0m\u001b[0;34m\u001b[0m\u001b[0m\n\u001b[1;32m     22\u001b[0m         \u001b[0;31m# Explore right branch\u001b[0m\u001b[0;34m\u001b[0m\u001b[0;34m\u001b[0m\u001b[0;34m\u001b[0m\u001b[0m\n\u001b[0;32m---> 23\u001b[0;31m         \u001b[0mwithoutVal\u001b[0m\u001b[0;34m,\u001b[0m \u001b[0mwithoutToTake\u001b[0m \u001b[0;34m=\u001b[0m \u001b[0mmaxVal\u001b[0m\u001b[0;34m(\u001b[0m\u001b[0mtoConsider\u001b[0m\u001b[0;34m[\u001b[0m\u001b[0;36m1\u001b[0m\u001b[0;34m:\u001b[0m\u001b[0;34m]\u001b[0m\u001b[0;34m,\u001b[0m \u001b[0mavail\u001b[0m\u001b[0;34m)\u001b[0m\u001b[0;34m\u001b[0m\u001b[0;34m\u001b[0m\u001b[0m\n\u001b[0m\u001b[1;32m     24\u001b[0m         \u001b[0;31m# Choose better branch\u001b[0m\u001b[0;34m\u001b[0m\u001b[0;34m\u001b[0m\u001b[0;34m\u001b[0m\u001b[0m\n\u001b[1;32m     25\u001b[0m         \u001b[0;32mif\u001b[0m \u001b[0mwithVal\u001b[0m \u001b[0;34m>\u001b[0m \u001b[0mwithoutVal\u001b[0m\u001b[0;34m:\u001b[0m\u001b[0;34m\u001b[0m\u001b[0;34m\u001b[0m\u001b[0m\n",
      "\u001b[0;32m<ipython-input-61-040cedd0f870>\u001b[0m in \u001b[0;36mmaxVal\u001b[0;34m(toConsider, avail)\u001b[0m\n\u001b[1;32m     21\u001b[0m         \u001b[0mwithVal\u001b[0m \u001b[0;34m+=\u001b[0m \u001b[0mnextItem\u001b[0m\u001b[0;34m.\u001b[0m\u001b[0mgetValue\u001b[0m\u001b[0;34m(\u001b[0m\u001b[0;34m)\u001b[0m\u001b[0;34m\u001b[0m\u001b[0;34m\u001b[0m\u001b[0m\n\u001b[1;32m     22\u001b[0m         \u001b[0;31m# Explore right branch\u001b[0m\u001b[0;34m\u001b[0m\u001b[0;34m\u001b[0m\u001b[0;34m\u001b[0m\u001b[0m\n\u001b[0;32m---> 23\u001b[0;31m         \u001b[0mwithoutVal\u001b[0m\u001b[0;34m,\u001b[0m \u001b[0mwithoutToTake\u001b[0m \u001b[0;34m=\u001b[0m \u001b[0mmaxVal\u001b[0m\u001b[0;34m(\u001b[0m\u001b[0mtoConsider\u001b[0m\u001b[0;34m[\u001b[0m\u001b[0;36m1\u001b[0m\u001b[0;34m:\u001b[0m\u001b[0;34m]\u001b[0m\u001b[0;34m,\u001b[0m \u001b[0mavail\u001b[0m\u001b[0;34m)\u001b[0m\u001b[0;34m\u001b[0m\u001b[0;34m\u001b[0m\u001b[0m\n\u001b[0m\u001b[1;32m     24\u001b[0m         \u001b[0;31m# Choose better branch\u001b[0m\u001b[0;34m\u001b[0m\u001b[0;34m\u001b[0m\u001b[0;34m\u001b[0m\u001b[0m\n\u001b[1;32m     25\u001b[0m         \u001b[0;32mif\u001b[0m \u001b[0mwithVal\u001b[0m \u001b[0;34m>\u001b[0m \u001b[0mwithoutVal\u001b[0m\u001b[0;34m:\u001b[0m\u001b[0;34m\u001b[0m\u001b[0;34m\u001b[0m\u001b[0m\n",
      "\u001b[0;32m<ipython-input-61-040cedd0f870>\u001b[0m in \u001b[0;36mmaxVal\u001b[0;34m(toConsider, avail)\u001b[0m\n\u001b[1;32m     21\u001b[0m         \u001b[0mwithVal\u001b[0m \u001b[0;34m+=\u001b[0m \u001b[0mnextItem\u001b[0m\u001b[0;34m.\u001b[0m\u001b[0mgetValue\u001b[0m\u001b[0;34m(\u001b[0m\u001b[0;34m)\u001b[0m\u001b[0;34m\u001b[0m\u001b[0;34m\u001b[0m\u001b[0m\n\u001b[1;32m     22\u001b[0m         \u001b[0;31m# Explore right branch\u001b[0m\u001b[0;34m\u001b[0m\u001b[0;34m\u001b[0m\u001b[0;34m\u001b[0m\u001b[0m\n\u001b[0;32m---> 23\u001b[0;31m         \u001b[0mwithoutVal\u001b[0m\u001b[0;34m,\u001b[0m \u001b[0mwithoutToTake\u001b[0m \u001b[0;34m=\u001b[0m \u001b[0mmaxVal\u001b[0m\u001b[0;34m(\u001b[0m\u001b[0mtoConsider\u001b[0m\u001b[0;34m[\u001b[0m\u001b[0;36m1\u001b[0m\u001b[0;34m:\u001b[0m\u001b[0;34m]\u001b[0m\u001b[0;34m,\u001b[0m \u001b[0mavail\u001b[0m\u001b[0;34m)\u001b[0m\u001b[0;34m\u001b[0m\u001b[0;34m\u001b[0m\u001b[0m\n\u001b[0m\u001b[1;32m     24\u001b[0m         \u001b[0;31m# Choose better branch\u001b[0m\u001b[0;34m\u001b[0m\u001b[0;34m\u001b[0m\u001b[0;34m\u001b[0m\u001b[0m\n\u001b[1;32m     25\u001b[0m         \u001b[0;32mif\u001b[0m \u001b[0mwithVal\u001b[0m \u001b[0;34m>\u001b[0m \u001b[0mwithoutVal\u001b[0m\u001b[0;34m:\u001b[0m\u001b[0;34m\u001b[0m\u001b[0;34m\u001b[0m\u001b[0m\n",
      "\u001b[0;32m<ipython-input-61-040cedd0f870>\u001b[0m in \u001b[0;36mmaxVal\u001b[0;34m(toConsider, avail)\u001b[0m\n\u001b[1;32m     21\u001b[0m         \u001b[0mwithVal\u001b[0m \u001b[0;34m+=\u001b[0m \u001b[0mnextItem\u001b[0m\u001b[0;34m.\u001b[0m\u001b[0mgetValue\u001b[0m\u001b[0;34m(\u001b[0m\u001b[0;34m)\u001b[0m\u001b[0;34m\u001b[0m\u001b[0;34m\u001b[0m\u001b[0m\n\u001b[1;32m     22\u001b[0m         \u001b[0;31m# Explore right branch\u001b[0m\u001b[0;34m\u001b[0m\u001b[0;34m\u001b[0m\u001b[0;34m\u001b[0m\u001b[0m\n\u001b[0;32m---> 23\u001b[0;31m         \u001b[0mwithoutVal\u001b[0m\u001b[0;34m,\u001b[0m \u001b[0mwithoutToTake\u001b[0m \u001b[0;34m=\u001b[0m \u001b[0mmaxVal\u001b[0m\u001b[0;34m(\u001b[0m\u001b[0mtoConsider\u001b[0m\u001b[0;34m[\u001b[0m\u001b[0;36m1\u001b[0m\u001b[0;34m:\u001b[0m\u001b[0;34m]\u001b[0m\u001b[0;34m,\u001b[0m \u001b[0mavail\u001b[0m\u001b[0;34m)\u001b[0m\u001b[0;34m\u001b[0m\u001b[0;34m\u001b[0m\u001b[0m\n\u001b[0m\u001b[1;32m     24\u001b[0m         \u001b[0;31m# Choose better branch\u001b[0m\u001b[0;34m\u001b[0m\u001b[0;34m\u001b[0m\u001b[0;34m\u001b[0m\u001b[0m\n\u001b[1;32m     25\u001b[0m         \u001b[0;32mif\u001b[0m \u001b[0mwithVal\u001b[0m \u001b[0;34m>\u001b[0m \u001b[0mwithoutVal\u001b[0m\u001b[0;34m:\u001b[0m\u001b[0;34m\u001b[0m\u001b[0;34m\u001b[0m\u001b[0m\n",
      "\u001b[0;32m<ipython-input-61-040cedd0f870>\u001b[0m in \u001b[0;36mmaxVal\u001b[0;34m(toConsider, avail)\u001b[0m\n\u001b[1;32m     21\u001b[0m         \u001b[0mwithVal\u001b[0m \u001b[0;34m+=\u001b[0m \u001b[0mnextItem\u001b[0m\u001b[0;34m.\u001b[0m\u001b[0mgetValue\u001b[0m\u001b[0;34m(\u001b[0m\u001b[0;34m)\u001b[0m\u001b[0;34m\u001b[0m\u001b[0;34m\u001b[0m\u001b[0m\n\u001b[1;32m     22\u001b[0m         \u001b[0;31m# Explore right branch\u001b[0m\u001b[0;34m\u001b[0m\u001b[0;34m\u001b[0m\u001b[0;34m\u001b[0m\u001b[0m\n\u001b[0;32m---> 23\u001b[0;31m         \u001b[0mwithoutVal\u001b[0m\u001b[0;34m,\u001b[0m \u001b[0mwithoutToTake\u001b[0m \u001b[0;34m=\u001b[0m \u001b[0mmaxVal\u001b[0m\u001b[0;34m(\u001b[0m\u001b[0mtoConsider\u001b[0m\u001b[0;34m[\u001b[0m\u001b[0;36m1\u001b[0m\u001b[0;34m:\u001b[0m\u001b[0;34m]\u001b[0m\u001b[0;34m,\u001b[0m \u001b[0mavail\u001b[0m\u001b[0;34m)\u001b[0m\u001b[0;34m\u001b[0m\u001b[0;34m\u001b[0m\u001b[0m\n\u001b[0m\u001b[1;32m     24\u001b[0m         \u001b[0;31m# Choose better branch\u001b[0m\u001b[0;34m\u001b[0m\u001b[0;34m\u001b[0m\u001b[0;34m\u001b[0m\u001b[0m\n\u001b[1;32m     25\u001b[0m         \u001b[0;32mif\u001b[0m \u001b[0mwithVal\u001b[0m \u001b[0;34m>\u001b[0m \u001b[0mwithoutVal\u001b[0m\u001b[0;34m:\u001b[0m\u001b[0;34m\u001b[0m\u001b[0;34m\u001b[0m\u001b[0m\n",
      "\u001b[0;32m<ipython-input-61-040cedd0f870>\u001b[0m in \u001b[0;36mmaxVal\u001b[0;34m(toConsider, avail)\u001b[0m\n\u001b[1;32m     21\u001b[0m         \u001b[0mwithVal\u001b[0m \u001b[0;34m+=\u001b[0m \u001b[0mnextItem\u001b[0m\u001b[0;34m.\u001b[0m\u001b[0mgetValue\u001b[0m\u001b[0;34m(\u001b[0m\u001b[0;34m)\u001b[0m\u001b[0;34m\u001b[0m\u001b[0;34m\u001b[0m\u001b[0m\n\u001b[1;32m     22\u001b[0m         \u001b[0;31m# Explore right branch\u001b[0m\u001b[0;34m\u001b[0m\u001b[0;34m\u001b[0m\u001b[0;34m\u001b[0m\u001b[0m\n\u001b[0;32m---> 23\u001b[0;31m         \u001b[0mwithoutVal\u001b[0m\u001b[0;34m,\u001b[0m \u001b[0mwithoutToTake\u001b[0m \u001b[0;34m=\u001b[0m \u001b[0mmaxVal\u001b[0m\u001b[0;34m(\u001b[0m\u001b[0mtoConsider\u001b[0m\u001b[0;34m[\u001b[0m\u001b[0;36m1\u001b[0m\u001b[0;34m:\u001b[0m\u001b[0;34m]\u001b[0m\u001b[0;34m,\u001b[0m \u001b[0mavail\u001b[0m\u001b[0;34m)\u001b[0m\u001b[0;34m\u001b[0m\u001b[0;34m\u001b[0m\u001b[0m\n\u001b[0m\u001b[1;32m     24\u001b[0m         \u001b[0;31m# Choose better branch\u001b[0m\u001b[0;34m\u001b[0m\u001b[0;34m\u001b[0m\u001b[0;34m\u001b[0m\u001b[0m\n\u001b[1;32m     25\u001b[0m         \u001b[0;32mif\u001b[0m \u001b[0mwithVal\u001b[0m \u001b[0;34m>\u001b[0m \u001b[0mwithoutVal\u001b[0m\u001b[0;34m:\u001b[0m\u001b[0;34m\u001b[0m\u001b[0;34m\u001b[0m\u001b[0m\n",
      "\u001b[0;32m<ipython-input-61-040cedd0f870>\u001b[0m in \u001b[0;36mmaxVal\u001b[0;34m(toConsider, avail)\u001b[0m\n\u001b[1;32m     21\u001b[0m         \u001b[0mwithVal\u001b[0m \u001b[0;34m+=\u001b[0m \u001b[0mnextItem\u001b[0m\u001b[0;34m.\u001b[0m\u001b[0mgetValue\u001b[0m\u001b[0;34m(\u001b[0m\u001b[0;34m)\u001b[0m\u001b[0;34m\u001b[0m\u001b[0;34m\u001b[0m\u001b[0m\n\u001b[1;32m     22\u001b[0m         \u001b[0;31m# Explore right branch\u001b[0m\u001b[0;34m\u001b[0m\u001b[0;34m\u001b[0m\u001b[0;34m\u001b[0m\u001b[0m\n\u001b[0;32m---> 23\u001b[0;31m         \u001b[0mwithoutVal\u001b[0m\u001b[0;34m,\u001b[0m \u001b[0mwithoutToTake\u001b[0m \u001b[0;34m=\u001b[0m \u001b[0mmaxVal\u001b[0m\u001b[0;34m(\u001b[0m\u001b[0mtoConsider\u001b[0m\u001b[0;34m[\u001b[0m\u001b[0;36m1\u001b[0m\u001b[0;34m:\u001b[0m\u001b[0;34m]\u001b[0m\u001b[0;34m,\u001b[0m \u001b[0mavail\u001b[0m\u001b[0;34m)\u001b[0m\u001b[0;34m\u001b[0m\u001b[0;34m\u001b[0m\u001b[0m\n\u001b[0m\u001b[1;32m     24\u001b[0m         \u001b[0;31m# Choose better branch\u001b[0m\u001b[0;34m\u001b[0m\u001b[0;34m\u001b[0m\u001b[0;34m\u001b[0m\u001b[0m\n\u001b[1;32m     25\u001b[0m         \u001b[0;32mif\u001b[0m \u001b[0mwithVal\u001b[0m \u001b[0;34m>\u001b[0m \u001b[0mwithoutVal\u001b[0m\u001b[0;34m:\u001b[0m\u001b[0;34m\u001b[0m\u001b[0;34m\u001b[0m\u001b[0m\n",
      "\u001b[0;32m<ipython-input-61-040cedd0f870>\u001b[0m in \u001b[0;36mmaxVal\u001b[0;34m(toConsider, avail)\u001b[0m\n\u001b[1;32m     21\u001b[0m         \u001b[0mwithVal\u001b[0m \u001b[0;34m+=\u001b[0m \u001b[0mnextItem\u001b[0m\u001b[0;34m.\u001b[0m\u001b[0mgetValue\u001b[0m\u001b[0;34m(\u001b[0m\u001b[0;34m)\u001b[0m\u001b[0;34m\u001b[0m\u001b[0;34m\u001b[0m\u001b[0m\n\u001b[1;32m     22\u001b[0m         \u001b[0;31m# Explore right branch\u001b[0m\u001b[0;34m\u001b[0m\u001b[0;34m\u001b[0m\u001b[0;34m\u001b[0m\u001b[0m\n\u001b[0;32m---> 23\u001b[0;31m         \u001b[0mwithoutVal\u001b[0m\u001b[0;34m,\u001b[0m \u001b[0mwithoutToTake\u001b[0m \u001b[0;34m=\u001b[0m \u001b[0mmaxVal\u001b[0m\u001b[0;34m(\u001b[0m\u001b[0mtoConsider\u001b[0m\u001b[0;34m[\u001b[0m\u001b[0;36m1\u001b[0m\u001b[0;34m:\u001b[0m\u001b[0;34m]\u001b[0m\u001b[0;34m,\u001b[0m \u001b[0mavail\u001b[0m\u001b[0;34m)\u001b[0m\u001b[0;34m\u001b[0m\u001b[0;34m\u001b[0m\u001b[0m\n\u001b[0m\u001b[1;32m     24\u001b[0m         \u001b[0;31m# Choose better branch\u001b[0m\u001b[0;34m\u001b[0m\u001b[0;34m\u001b[0m\u001b[0;34m\u001b[0m\u001b[0m\n\u001b[1;32m     25\u001b[0m         \u001b[0;32mif\u001b[0m \u001b[0mwithVal\u001b[0m \u001b[0;34m>\u001b[0m \u001b[0mwithoutVal\u001b[0m\u001b[0;34m:\u001b[0m\u001b[0;34m\u001b[0m\u001b[0;34m\u001b[0m\u001b[0m\n",
      "\u001b[0;32m<ipython-input-61-040cedd0f870>\u001b[0m in \u001b[0;36mmaxVal\u001b[0;34m(toConsider, avail)\u001b[0m\n\u001b[1;32m     21\u001b[0m         \u001b[0mwithVal\u001b[0m \u001b[0;34m+=\u001b[0m \u001b[0mnextItem\u001b[0m\u001b[0;34m.\u001b[0m\u001b[0mgetValue\u001b[0m\u001b[0;34m(\u001b[0m\u001b[0;34m)\u001b[0m\u001b[0;34m\u001b[0m\u001b[0;34m\u001b[0m\u001b[0m\n\u001b[1;32m     22\u001b[0m         \u001b[0;31m# Explore right branch\u001b[0m\u001b[0;34m\u001b[0m\u001b[0;34m\u001b[0m\u001b[0;34m\u001b[0m\u001b[0m\n\u001b[0;32m---> 23\u001b[0;31m         \u001b[0mwithoutVal\u001b[0m\u001b[0;34m,\u001b[0m \u001b[0mwithoutToTake\u001b[0m \u001b[0;34m=\u001b[0m \u001b[0mmaxVal\u001b[0m\u001b[0;34m(\u001b[0m\u001b[0mtoConsider\u001b[0m\u001b[0;34m[\u001b[0m\u001b[0;36m1\u001b[0m\u001b[0;34m:\u001b[0m\u001b[0;34m]\u001b[0m\u001b[0;34m,\u001b[0m \u001b[0mavail\u001b[0m\u001b[0;34m)\u001b[0m\u001b[0;34m\u001b[0m\u001b[0;34m\u001b[0m\u001b[0m\n\u001b[0m\u001b[1;32m     24\u001b[0m         \u001b[0;31m# Choose better branch\u001b[0m\u001b[0;34m\u001b[0m\u001b[0;34m\u001b[0m\u001b[0;34m\u001b[0m\u001b[0m\n\u001b[1;32m     25\u001b[0m         \u001b[0;32mif\u001b[0m \u001b[0mwithVal\u001b[0m \u001b[0;34m>\u001b[0m \u001b[0mwithoutVal\u001b[0m\u001b[0;34m:\u001b[0m\u001b[0;34m\u001b[0m\u001b[0;34m\u001b[0m\u001b[0m\n",
      "\u001b[0;32m<ipython-input-61-040cedd0f870>\u001b[0m in \u001b[0;36mmaxVal\u001b[0;34m(toConsider, avail)\u001b[0m\n\u001b[1;32m     21\u001b[0m         \u001b[0mwithVal\u001b[0m \u001b[0;34m+=\u001b[0m \u001b[0mnextItem\u001b[0m\u001b[0;34m.\u001b[0m\u001b[0mgetValue\u001b[0m\u001b[0;34m(\u001b[0m\u001b[0;34m)\u001b[0m\u001b[0;34m\u001b[0m\u001b[0;34m\u001b[0m\u001b[0m\n\u001b[1;32m     22\u001b[0m         \u001b[0;31m# Explore right branch\u001b[0m\u001b[0;34m\u001b[0m\u001b[0;34m\u001b[0m\u001b[0;34m\u001b[0m\u001b[0m\n\u001b[0;32m---> 23\u001b[0;31m         \u001b[0mwithoutVal\u001b[0m\u001b[0;34m,\u001b[0m \u001b[0mwithoutToTake\u001b[0m \u001b[0;34m=\u001b[0m \u001b[0mmaxVal\u001b[0m\u001b[0;34m(\u001b[0m\u001b[0mtoConsider\u001b[0m\u001b[0;34m[\u001b[0m\u001b[0;36m1\u001b[0m\u001b[0;34m:\u001b[0m\u001b[0;34m]\u001b[0m\u001b[0;34m,\u001b[0m \u001b[0mavail\u001b[0m\u001b[0;34m)\u001b[0m\u001b[0;34m\u001b[0m\u001b[0;34m\u001b[0m\u001b[0m\n\u001b[0m\u001b[1;32m     24\u001b[0m         \u001b[0;31m# Choose better branch\u001b[0m\u001b[0;34m\u001b[0m\u001b[0;34m\u001b[0m\u001b[0;34m\u001b[0m\u001b[0m\n\u001b[1;32m     25\u001b[0m         \u001b[0;32mif\u001b[0m \u001b[0mwithVal\u001b[0m \u001b[0;34m>\u001b[0m \u001b[0mwithoutVal\u001b[0m\u001b[0;34m:\u001b[0m\u001b[0;34m\u001b[0m\u001b[0;34m\u001b[0m\u001b[0m\n",
      "\u001b[0;32m<ipython-input-61-040cedd0f870>\u001b[0m in \u001b[0;36mmaxVal\u001b[0;34m(toConsider, avail)\u001b[0m\n\u001b[1;32m     21\u001b[0m         \u001b[0mwithVal\u001b[0m \u001b[0;34m+=\u001b[0m \u001b[0mnextItem\u001b[0m\u001b[0;34m.\u001b[0m\u001b[0mgetValue\u001b[0m\u001b[0;34m(\u001b[0m\u001b[0;34m)\u001b[0m\u001b[0;34m\u001b[0m\u001b[0;34m\u001b[0m\u001b[0m\n\u001b[1;32m     22\u001b[0m         \u001b[0;31m# Explore right branch\u001b[0m\u001b[0;34m\u001b[0m\u001b[0;34m\u001b[0m\u001b[0;34m\u001b[0m\u001b[0m\n\u001b[0;32m---> 23\u001b[0;31m         \u001b[0mwithoutVal\u001b[0m\u001b[0;34m,\u001b[0m \u001b[0mwithoutToTake\u001b[0m \u001b[0;34m=\u001b[0m \u001b[0mmaxVal\u001b[0m\u001b[0;34m(\u001b[0m\u001b[0mtoConsider\u001b[0m\u001b[0;34m[\u001b[0m\u001b[0;36m1\u001b[0m\u001b[0;34m:\u001b[0m\u001b[0;34m]\u001b[0m\u001b[0;34m,\u001b[0m \u001b[0mavail\u001b[0m\u001b[0;34m)\u001b[0m\u001b[0;34m\u001b[0m\u001b[0;34m\u001b[0m\u001b[0m\n\u001b[0m\u001b[1;32m     24\u001b[0m         \u001b[0;31m# Choose better branch\u001b[0m\u001b[0;34m\u001b[0m\u001b[0;34m\u001b[0m\u001b[0;34m\u001b[0m\u001b[0m\n\u001b[1;32m     25\u001b[0m         \u001b[0;32mif\u001b[0m \u001b[0mwithVal\u001b[0m \u001b[0;34m>\u001b[0m \u001b[0mwithoutVal\u001b[0m\u001b[0;34m:\u001b[0m\u001b[0;34m\u001b[0m\u001b[0;34m\u001b[0m\u001b[0m\n",
      "\u001b[0;32m<ipython-input-61-040cedd0f870>\u001b[0m in \u001b[0;36mmaxVal\u001b[0;34m(toConsider, avail)\u001b[0m\n\u001b[1;32m     18\u001b[0m         \u001b[0;31m# Explore left branch\u001b[0m\u001b[0;34m\u001b[0m\u001b[0;34m\u001b[0m\u001b[0;34m\u001b[0m\u001b[0m\n\u001b[1;32m     19\u001b[0m         withVal, withToTake = maxVal(toConsider[1:],\n\u001b[0;32m---> 20\u001b[0;31m                                     avail - nextItem.getCost())\n\u001b[0m\u001b[1;32m     21\u001b[0m         \u001b[0mwithVal\u001b[0m \u001b[0;34m+=\u001b[0m \u001b[0mnextItem\u001b[0m\u001b[0;34m.\u001b[0m\u001b[0mgetValue\u001b[0m\u001b[0;34m(\u001b[0m\u001b[0;34m)\u001b[0m\u001b[0;34m\u001b[0m\u001b[0;34m\u001b[0m\u001b[0m\n\u001b[1;32m     22\u001b[0m         \u001b[0;31m# Explore right branch\u001b[0m\u001b[0;34m\u001b[0m\u001b[0;34m\u001b[0m\u001b[0;34m\u001b[0m\u001b[0m\n",
      "\u001b[0;32m<ipython-input-61-040cedd0f870>\u001b[0m in \u001b[0;36mmaxVal\u001b[0;34m(toConsider, avail)\u001b[0m\n\u001b[1;32m     21\u001b[0m         \u001b[0mwithVal\u001b[0m \u001b[0;34m+=\u001b[0m \u001b[0mnextItem\u001b[0m\u001b[0;34m.\u001b[0m\u001b[0mgetValue\u001b[0m\u001b[0;34m(\u001b[0m\u001b[0;34m)\u001b[0m\u001b[0;34m\u001b[0m\u001b[0;34m\u001b[0m\u001b[0m\n\u001b[1;32m     22\u001b[0m         \u001b[0;31m# Explore right branch\u001b[0m\u001b[0;34m\u001b[0m\u001b[0;34m\u001b[0m\u001b[0;34m\u001b[0m\u001b[0m\n\u001b[0;32m---> 23\u001b[0;31m         \u001b[0mwithoutVal\u001b[0m\u001b[0;34m,\u001b[0m \u001b[0mwithoutToTake\u001b[0m \u001b[0;34m=\u001b[0m \u001b[0mmaxVal\u001b[0m\u001b[0;34m(\u001b[0m\u001b[0mtoConsider\u001b[0m\u001b[0;34m[\u001b[0m\u001b[0;36m1\u001b[0m\u001b[0;34m:\u001b[0m\u001b[0;34m]\u001b[0m\u001b[0;34m,\u001b[0m \u001b[0mavail\u001b[0m\u001b[0;34m)\u001b[0m\u001b[0;34m\u001b[0m\u001b[0;34m\u001b[0m\u001b[0m\n\u001b[0m\u001b[1;32m     24\u001b[0m         \u001b[0;31m# Choose better branch\u001b[0m\u001b[0;34m\u001b[0m\u001b[0;34m\u001b[0m\u001b[0;34m\u001b[0m\u001b[0m\n\u001b[1;32m     25\u001b[0m         \u001b[0;32mif\u001b[0m \u001b[0mwithVal\u001b[0m \u001b[0;34m>\u001b[0m \u001b[0mwithoutVal\u001b[0m\u001b[0;34m:\u001b[0m\u001b[0;34m\u001b[0m\u001b[0;34m\u001b[0m\u001b[0m\n",
      "\u001b[0;32m<ipython-input-61-040cedd0f870>\u001b[0m in \u001b[0;36mmaxVal\u001b[0;34m(toConsider, avail)\u001b[0m\n\u001b[1;32m     21\u001b[0m         \u001b[0mwithVal\u001b[0m \u001b[0;34m+=\u001b[0m \u001b[0mnextItem\u001b[0m\u001b[0;34m.\u001b[0m\u001b[0mgetValue\u001b[0m\u001b[0;34m(\u001b[0m\u001b[0;34m)\u001b[0m\u001b[0;34m\u001b[0m\u001b[0;34m\u001b[0m\u001b[0m\n\u001b[1;32m     22\u001b[0m         \u001b[0;31m# Explore right branch\u001b[0m\u001b[0;34m\u001b[0m\u001b[0;34m\u001b[0m\u001b[0;34m\u001b[0m\u001b[0m\n\u001b[0;32m---> 23\u001b[0;31m         \u001b[0mwithoutVal\u001b[0m\u001b[0;34m,\u001b[0m \u001b[0mwithoutToTake\u001b[0m \u001b[0;34m=\u001b[0m \u001b[0mmaxVal\u001b[0m\u001b[0;34m(\u001b[0m\u001b[0mtoConsider\u001b[0m\u001b[0;34m[\u001b[0m\u001b[0;36m1\u001b[0m\u001b[0;34m:\u001b[0m\u001b[0;34m]\u001b[0m\u001b[0;34m,\u001b[0m \u001b[0mavail\u001b[0m\u001b[0;34m)\u001b[0m\u001b[0;34m\u001b[0m\u001b[0;34m\u001b[0m\u001b[0m\n\u001b[0m\u001b[1;32m     24\u001b[0m         \u001b[0;31m# Choose better branch\u001b[0m\u001b[0;34m\u001b[0m\u001b[0;34m\u001b[0m\u001b[0;34m\u001b[0m\u001b[0m\n\u001b[1;32m     25\u001b[0m         \u001b[0;32mif\u001b[0m \u001b[0mwithVal\u001b[0m \u001b[0;34m>\u001b[0m \u001b[0mwithoutVal\u001b[0m\u001b[0;34m:\u001b[0m\u001b[0;34m\u001b[0m\u001b[0;34m\u001b[0m\u001b[0m\n",
      "\u001b[0;32m<ipython-input-61-040cedd0f870>\u001b[0m in \u001b[0;36mmaxVal\u001b[0;34m(toConsider, avail)\u001b[0m\n\u001b[1;32m     18\u001b[0m         \u001b[0;31m# Explore left branch\u001b[0m\u001b[0;34m\u001b[0m\u001b[0;34m\u001b[0m\u001b[0;34m\u001b[0m\u001b[0m\n\u001b[1;32m     19\u001b[0m         withVal, withToTake = maxVal(toConsider[1:],\n\u001b[0;32m---> 20\u001b[0;31m                                     avail - nextItem.getCost())\n\u001b[0m\u001b[1;32m     21\u001b[0m         \u001b[0mwithVal\u001b[0m \u001b[0;34m+=\u001b[0m \u001b[0mnextItem\u001b[0m\u001b[0;34m.\u001b[0m\u001b[0mgetValue\u001b[0m\u001b[0;34m(\u001b[0m\u001b[0;34m)\u001b[0m\u001b[0;34m\u001b[0m\u001b[0;34m\u001b[0m\u001b[0m\n\u001b[1;32m     22\u001b[0m         \u001b[0;31m# Explore right branch\u001b[0m\u001b[0;34m\u001b[0m\u001b[0;34m\u001b[0m\u001b[0;34m\u001b[0m\u001b[0m\n",
      "\u001b[0;32m<ipython-input-61-040cedd0f870>\u001b[0m in \u001b[0;36mmaxVal\u001b[0;34m(toConsider, avail)\u001b[0m\n\u001b[1;32m     21\u001b[0m         \u001b[0mwithVal\u001b[0m \u001b[0;34m+=\u001b[0m \u001b[0mnextItem\u001b[0m\u001b[0;34m.\u001b[0m\u001b[0mgetValue\u001b[0m\u001b[0;34m(\u001b[0m\u001b[0;34m)\u001b[0m\u001b[0;34m\u001b[0m\u001b[0;34m\u001b[0m\u001b[0m\n\u001b[1;32m     22\u001b[0m         \u001b[0;31m# Explore right branch\u001b[0m\u001b[0;34m\u001b[0m\u001b[0;34m\u001b[0m\u001b[0;34m\u001b[0m\u001b[0m\n\u001b[0;32m---> 23\u001b[0;31m         \u001b[0mwithoutVal\u001b[0m\u001b[0;34m,\u001b[0m \u001b[0mwithoutToTake\u001b[0m \u001b[0;34m=\u001b[0m \u001b[0mmaxVal\u001b[0m\u001b[0;34m(\u001b[0m\u001b[0mtoConsider\u001b[0m\u001b[0;34m[\u001b[0m\u001b[0;36m1\u001b[0m\u001b[0;34m:\u001b[0m\u001b[0;34m]\u001b[0m\u001b[0;34m,\u001b[0m \u001b[0mavail\u001b[0m\u001b[0;34m)\u001b[0m\u001b[0;34m\u001b[0m\u001b[0;34m\u001b[0m\u001b[0m\n\u001b[0m\u001b[1;32m     24\u001b[0m         \u001b[0;31m# Choose better branch\u001b[0m\u001b[0;34m\u001b[0m\u001b[0;34m\u001b[0m\u001b[0;34m\u001b[0m\u001b[0m\n\u001b[1;32m     25\u001b[0m         \u001b[0;32mif\u001b[0m \u001b[0mwithVal\u001b[0m \u001b[0;34m>\u001b[0m \u001b[0mwithoutVal\u001b[0m\u001b[0;34m:\u001b[0m\u001b[0;34m\u001b[0m\u001b[0;34m\u001b[0m\u001b[0m\n",
      "\u001b[0;32m<ipython-input-61-040cedd0f870>\u001b[0m in \u001b[0;36mmaxVal\u001b[0;34m(toConsider, avail)\u001b[0m\n\u001b[1;32m     21\u001b[0m         \u001b[0mwithVal\u001b[0m \u001b[0;34m+=\u001b[0m \u001b[0mnextItem\u001b[0m\u001b[0;34m.\u001b[0m\u001b[0mgetValue\u001b[0m\u001b[0;34m(\u001b[0m\u001b[0;34m)\u001b[0m\u001b[0;34m\u001b[0m\u001b[0;34m\u001b[0m\u001b[0m\n\u001b[1;32m     22\u001b[0m         \u001b[0;31m# Explore right branch\u001b[0m\u001b[0;34m\u001b[0m\u001b[0;34m\u001b[0m\u001b[0;34m\u001b[0m\u001b[0m\n\u001b[0;32m---> 23\u001b[0;31m         \u001b[0mwithoutVal\u001b[0m\u001b[0;34m,\u001b[0m \u001b[0mwithoutToTake\u001b[0m \u001b[0;34m=\u001b[0m \u001b[0mmaxVal\u001b[0m\u001b[0;34m(\u001b[0m\u001b[0mtoConsider\u001b[0m\u001b[0;34m[\u001b[0m\u001b[0;36m1\u001b[0m\u001b[0;34m:\u001b[0m\u001b[0;34m]\u001b[0m\u001b[0;34m,\u001b[0m \u001b[0mavail\u001b[0m\u001b[0;34m)\u001b[0m\u001b[0;34m\u001b[0m\u001b[0;34m\u001b[0m\u001b[0m\n\u001b[0m\u001b[1;32m     24\u001b[0m         \u001b[0;31m# Choose better branch\u001b[0m\u001b[0;34m\u001b[0m\u001b[0;34m\u001b[0m\u001b[0;34m\u001b[0m\u001b[0m\n\u001b[1;32m     25\u001b[0m         \u001b[0;32mif\u001b[0m \u001b[0mwithVal\u001b[0m \u001b[0;34m>\u001b[0m \u001b[0mwithoutVal\u001b[0m\u001b[0;34m:\u001b[0m\u001b[0;34m\u001b[0m\u001b[0;34m\u001b[0m\u001b[0m\n",
      "\u001b[0;32m<ipython-input-61-040cedd0f870>\u001b[0m in \u001b[0;36mmaxVal\u001b[0;34m(toConsider, avail)\u001b[0m\n\u001b[1;32m     21\u001b[0m         \u001b[0mwithVal\u001b[0m \u001b[0;34m+=\u001b[0m \u001b[0mnextItem\u001b[0m\u001b[0;34m.\u001b[0m\u001b[0mgetValue\u001b[0m\u001b[0;34m(\u001b[0m\u001b[0;34m)\u001b[0m\u001b[0;34m\u001b[0m\u001b[0;34m\u001b[0m\u001b[0m\n\u001b[1;32m     22\u001b[0m         \u001b[0;31m# Explore right branch\u001b[0m\u001b[0;34m\u001b[0m\u001b[0;34m\u001b[0m\u001b[0;34m\u001b[0m\u001b[0m\n\u001b[0;32m---> 23\u001b[0;31m         \u001b[0mwithoutVal\u001b[0m\u001b[0;34m,\u001b[0m \u001b[0mwithoutToTake\u001b[0m \u001b[0;34m=\u001b[0m \u001b[0mmaxVal\u001b[0m\u001b[0;34m(\u001b[0m\u001b[0mtoConsider\u001b[0m\u001b[0;34m[\u001b[0m\u001b[0;36m1\u001b[0m\u001b[0;34m:\u001b[0m\u001b[0;34m]\u001b[0m\u001b[0;34m,\u001b[0m \u001b[0mavail\u001b[0m\u001b[0;34m)\u001b[0m\u001b[0;34m\u001b[0m\u001b[0;34m\u001b[0m\u001b[0m\n\u001b[0m\u001b[1;32m     24\u001b[0m         \u001b[0;31m# Choose better branch\u001b[0m\u001b[0;34m\u001b[0m\u001b[0;34m\u001b[0m\u001b[0;34m\u001b[0m\u001b[0m\n\u001b[1;32m     25\u001b[0m         \u001b[0;32mif\u001b[0m \u001b[0mwithVal\u001b[0m \u001b[0;34m>\u001b[0m \u001b[0mwithoutVal\u001b[0m\u001b[0;34m:\u001b[0m\u001b[0;34m\u001b[0m\u001b[0;34m\u001b[0m\u001b[0m\n",
      "\u001b[0;32m<ipython-input-61-040cedd0f870>\u001b[0m in \u001b[0;36mmaxVal\u001b[0;34m(toConsider, avail)\u001b[0m\n\u001b[1;32m     21\u001b[0m         \u001b[0mwithVal\u001b[0m \u001b[0;34m+=\u001b[0m \u001b[0mnextItem\u001b[0m\u001b[0;34m.\u001b[0m\u001b[0mgetValue\u001b[0m\u001b[0;34m(\u001b[0m\u001b[0;34m)\u001b[0m\u001b[0;34m\u001b[0m\u001b[0;34m\u001b[0m\u001b[0m\n\u001b[1;32m     22\u001b[0m         \u001b[0;31m# Explore right branch\u001b[0m\u001b[0;34m\u001b[0m\u001b[0;34m\u001b[0m\u001b[0;34m\u001b[0m\u001b[0m\n\u001b[0;32m---> 23\u001b[0;31m         \u001b[0mwithoutVal\u001b[0m\u001b[0;34m,\u001b[0m \u001b[0mwithoutToTake\u001b[0m \u001b[0;34m=\u001b[0m \u001b[0mmaxVal\u001b[0m\u001b[0;34m(\u001b[0m\u001b[0mtoConsider\u001b[0m\u001b[0;34m[\u001b[0m\u001b[0;36m1\u001b[0m\u001b[0;34m:\u001b[0m\u001b[0;34m]\u001b[0m\u001b[0;34m,\u001b[0m \u001b[0mavail\u001b[0m\u001b[0;34m)\u001b[0m\u001b[0;34m\u001b[0m\u001b[0;34m\u001b[0m\u001b[0m\n\u001b[0m\u001b[1;32m     24\u001b[0m         \u001b[0;31m# Choose better branch\u001b[0m\u001b[0;34m\u001b[0m\u001b[0;34m\u001b[0m\u001b[0;34m\u001b[0m\u001b[0m\n\u001b[1;32m     25\u001b[0m         \u001b[0;32mif\u001b[0m \u001b[0mwithVal\u001b[0m \u001b[0;34m>\u001b[0m \u001b[0mwithoutVal\u001b[0m\u001b[0;34m:\u001b[0m\u001b[0;34m\u001b[0m\u001b[0;34m\u001b[0m\u001b[0m\n",
      "\u001b[0;32m<ipython-input-61-040cedd0f870>\u001b[0m in \u001b[0;36mmaxVal\u001b[0;34m(toConsider, avail)\u001b[0m\n\u001b[1;32m     18\u001b[0m         \u001b[0;31m# Explore left branch\u001b[0m\u001b[0;34m\u001b[0m\u001b[0;34m\u001b[0m\u001b[0;34m\u001b[0m\u001b[0m\n\u001b[1;32m     19\u001b[0m         withVal, withToTake = maxVal(toConsider[1:],\n\u001b[0;32m---> 20\u001b[0;31m                                     avail - nextItem.getCost())\n\u001b[0m\u001b[1;32m     21\u001b[0m         \u001b[0mwithVal\u001b[0m \u001b[0;34m+=\u001b[0m \u001b[0mnextItem\u001b[0m\u001b[0;34m.\u001b[0m\u001b[0mgetValue\u001b[0m\u001b[0;34m(\u001b[0m\u001b[0;34m)\u001b[0m\u001b[0;34m\u001b[0m\u001b[0;34m\u001b[0m\u001b[0m\n\u001b[1;32m     22\u001b[0m         \u001b[0;31m# Explore right branch\u001b[0m\u001b[0;34m\u001b[0m\u001b[0;34m\u001b[0m\u001b[0;34m\u001b[0m\u001b[0m\n",
      "\u001b[0;32m<ipython-input-61-040cedd0f870>\u001b[0m in \u001b[0;36mmaxVal\u001b[0;34m(toConsider, avail)\u001b[0m\n\u001b[1;32m     21\u001b[0m         \u001b[0mwithVal\u001b[0m \u001b[0;34m+=\u001b[0m \u001b[0mnextItem\u001b[0m\u001b[0;34m.\u001b[0m\u001b[0mgetValue\u001b[0m\u001b[0;34m(\u001b[0m\u001b[0;34m)\u001b[0m\u001b[0;34m\u001b[0m\u001b[0;34m\u001b[0m\u001b[0m\n\u001b[1;32m     22\u001b[0m         \u001b[0;31m# Explore right branch\u001b[0m\u001b[0;34m\u001b[0m\u001b[0;34m\u001b[0m\u001b[0;34m\u001b[0m\u001b[0m\n\u001b[0;32m---> 23\u001b[0;31m         \u001b[0mwithoutVal\u001b[0m\u001b[0;34m,\u001b[0m \u001b[0mwithoutToTake\u001b[0m \u001b[0;34m=\u001b[0m \u001b[0mmaxVal\u001b[0m\u001b[0;34m(\u001b[0m\u001b[0mtoConsider\u001b[0m\u001b[0;34m[\u001b[0m\u001b[0;36m1\u001b[0m\u001b[0;34m:\u001b[0m\u001b[0;34m]\u001b[0m\u001b[0;34m,\u001b[0m \u001b[0mavail\u001b[0m\u001b[0;34m)\u001b[0m\u001b[0;34m\u001b[0m\u001b[0;34m\u001b[0m\u001b[0m\n\u001b[0m\u001b[1;32m     24\u001b[0m         \u001b[0;31m# Choose better branch\u001b[0m\u001b[0;34m\u001b[0m\u001b[0;34m\u001b[0m\u001b[0;34m\u001b[0m\u001b[0m\n\u001b[1;32m     25\u001b[0m         \u001b[0;32mif\u001b[0m \u001b[0mwithVal\u001b[0m \u001b[0;34m>\u001b[0m \u001b[0mwithoutVal\u001b[0m\u001b[0;34m:\u001b[0m\u001b[0;34m\u001b[0m\u001b[0;34m\u001b[0m\u001b[0m\n",
      "\u001b[0;32m<ipython-input-61-040cedd0f870>\u001b[0m in \u001b[0;36mmaxVal\u001b[0;34m(toConsider, avail)\u001b[0m\n\u001b[1;32m     21\u001b[0m         \u001b[0mwithVal\u001b[0m \u001b[0;34m+=\u001b[0m \u001b[0mnextItem\u001b[0m\u001b[0;34m.\u001b[0m\u001b[0mgetValue\u001b[0m\u001b[0;34m(\u001b[0m\u001b[0;34m)\u001b[0m\u001b[0;34m\u001b[0m\u001b[0;34m\u001b[0m\u001b[0m\n\u001b[1;32m     22\u001b[0m         \u001b[0;31m# Explore right branch\u001b[0m\u001b[0;34m\u001b[0m\u001b[0;34m\u001b[0m\u001b[0;34m\u001b[0m\u001b[0m\n\u001b[0;32m---> 23\u001b[0;31m         \u001b[0mwithoutVal\u001b[0m\u001b[0;34m,\u001b[0m \u001b[0mwithoutToTake\u001b[0m \u001b[0;34m=\u001b[0m \u001b[0mmaxVal\u001b[0m\u001b[0;34m(\u001b[0m\u001b[0mtoConsider\u001b[0m\u001b[0;34m[\u001b[0m\u001b[0;36m1\u001b[0m\u001b[0;34m:\u001b[0m\u001b[0;34m]\u001b[0m\u001b[0;34m,\u001b[0m \u001b[0mavail\u001b[0m\u001b[0;34m)\u001b[0m\u001b[0;34m\u001b[0m\u001b[0;34m\u001b[0m\u001b[0m\n\u001b[0m\u001b[1;32m     24\u001b[0m         \u001b[0;31m# Choose better branch\u001b[0m\u001b[0;34m\u001b[0m\u001b[0;34m\u001b[0m\u001b[0;34m\u001b[0m\u001b[0m\n\u001b[1;32m     25\u001b[0m         \u001b[0;32mif\u001b[0m \u001b[0mwithVal\u001b[0m \u001b[0;34m>\u001b[0m \u001b[0mwithoutVal\u001b[0m\u001b[0;34m:\u001b[0m\u001b[0;34m\u001b[0m\u001b[0;34m\u001b[0m\u001b[0m\n",
      "\u001b[0;32m<ipython-input-61-040cedd0f870>\u001b[0m in \u001b[0;36mmaxVal\u001b[0;34m(toConsider, avail)\u001b[0m\n\u001b[1;32m     18\u001b[0m         \u001b[0;31m# Explore left branch\u001b[0m\u001b[0;34m\u001b[0m\u001b[0;34m\u001b[0m\u001b[0;34m\u001b[0m\u001b[0m\n\u001b[1;32m     19\u001b[0m         withVal, withToTake = maxVal(toConsider[1:],\n\u001b[0;32m---> 20\u001b[0;31m                                     avail - nextItem.getCost())\n\u001b[0m\u001b[1;32m     21\u001b[0m         \u001b[0mwithVal\u001b[0m \u001b[0;34m+=\u001b[0m \u001b[0mnextItem\u001b[0m\u001b[0;34m.\u001b[0m\u001b[0mgetValue\u001b[0m\u001b[0;34m(\u001b[0m\u001b[0;34m)\u001b[0m\u001b[0;34m\u001b[0m\u001b[0;34m\u001b[0m\u001b[0m\n\u001b[1;32m     22\u001b[0m         \u001b[0;31m# Explore right branch\u001b[0m\u001b[0;34m\u001b[0m\u001b[0;34m\u001b[0m\u001b[0;34m\u001b[0m\u001b[0m\n",
      "\u001b[0;32m<ipython-input-61-040cedd0f870>\u001b[0m in \u001b[0;36mmaxVal\u001b[0;34m(toConsider, avail)\u001b[0m\n\u001b[1;32m     21\u001b[0m         \u001b[0mwithVal\u001b[0m \u001b[0;34m+=\u001b[0m \u001b[0mnextItem\u001b[0m\u001b[0;34m.\u001b[0m\u001b[0mgetValue\u001b[0m\u001b[0;34m(\u001b[0m\u001b[0;34m)\u001b[0m\u001b[0;34m\u001b[0m\u001b[0;34m\u001b[0m\u001b[0m\n\u001b[1;32m     22\u001b[0m         \u001b[0;31m# Explore right branch\u001b[0m\u001b[0;34m\u001b[0m\u001b[0;34m\u001b[0m\u001b[0;34m\u001b[0m\u001b[0m\n\u001b[0;32m---> 23\u001b[0;31m         \u001b[0mwithoutVal\u001b[0m\u001b[0;34m,\u001b[0m \u001b[0mwithoutToTake\u001b[0m \u001b[0;34m=\u001b[0m \u001b[0mmaxVal\u001b[0m\u001b[0;34m(\u001b[0m\u001b[0mtoConsider\u001b[0m\u001b[0;34m[\u001b[0m\u001b[0;36m1\u001b[0m\u001b[0;34m:\u001b[0m\u001b[0;34m]\u001b[0m\u001b[0;34m,\u001b[0m \u001b[0mavail\u001b[0m\u001b[0;34m)\u001b[0m\u001b[0;34m\u001b[0m\u001b[0;34m\u001b[0m\u001b[0m\n\u001b[0m\u001b[1;32m     24\u001b[0m         \u001b[0;31m# Choose better branch\u001b[0m\u001b[0;34m\u001b[0m\u001b[0;34m\u001b[0m\u001b[0;34m\u001b[0m\u001b[0m\n\u001b[1;32m     25\u001b[0m         \u001b[0;32mif\u001b[0m \u001b[0mwithVal\u001b[0m \u001b[0;34m>\u001b[0m \u001b[0mwithoutVal\u001b[0m\u001b[0;34m:\u001b[0m\u001b[0;34m\u001b[0m\u001b[0;34m\u001b[0m\u001b[0m\n",
      "\u001b[0;32m<ipython-input-61-040cedd0f870>\u001b[0m in \u001b[0;36mmaxVal\u001b[0;34m(toConsider, avail)\u001b[0m\n\u001b[1;32m     21\u001b[0m         \u001b[0mwithVal\u001b[0m \u001b[0;34m+=\u001b[0m \u001b[0mnextItem\u001b[0m\u001b[0;34m.\u001b[0m\u001b[0mgetValue\u001b[0m\u001b[0;34m(\u001b[0m\u001b[0;34m)\u001b[0m\u001b[0;34m\u001b[0m\u001b[0;34m\u001b[0m\u001b[0m\n\u001b[1;32m     22\u001b[0m         \u001b[0;31m# Explore right branch\u001b[0m\u001b[0;34m\u001b[0m\u001b[0;34m\u001b[0m\u001b[0;34m\u001b[0m\u001b[0m\n\u001b[0;32m---> 23\u001b[0;31m         \u001b[0mwithoutVal\u001b[0m\u001b[0;34m,\u001b[0m \u001b[0mwithoutToTake\u001b[0m \u001b[0;34m=\u001b[0m \u001b[0mmaxVal\u001b[0m\u001b[0;34m(\u001b[0m\u001b[0mtoConsider\u001b[0m\u001b[0;34m[\u001b[0m\u001b[0;36m1\u001b[0m\u001b[0;34m:\u001b[0m\u001b[0;34m]\u001b[0m\u001b[0;34m,\u001b[0m \u001b[0mavail\u001b[0m\u001b[0;34m)\u001b[0m\u001b[0;34m\u001b[0m\u001b[0;34m\u001b[0m\u001b[0m\n\u001b[0m\u001b[1;32m     24\u001b[0m         \u001b[0;31m# Choose better branch\u001b[0m\u001b[0;34m\u001b[0m\u001b[0;34m\u001b[0m\u001b[0;34m\u001b[0m\u001b[0m\n\u001b[1;32m     25\u001b[0m         \u001b[0;32mif\u001b[0m \u001b[0mwithVal\u001b[0m \u001b[0;34m>\u001b[0m \u001b[0mwithoutVal\u001b[0m\u001b[0;34m:\u001b[0m\u001b[0;34m\u001b[0m\u001b[0;34m\u001b[0m\u001b[0m\n",
      "\u001b[0;32m<ipython-input-61-040cedd0f870>\u001b[0m in \u001b[0;36mmaxVal\u001b[0;34m(toConsider, avail)\u001b[0m\n\u001b[1;32m     21\u001b[0m         \u001b[0mwithVal\u001b[0m \u001b[0;34m+=\u001b[0m \u001b[0mnextItem\u001b[0m\u001b[0;34m.\u001b[0m\u001b[0mgetValue\u001b[0m\u001b[0;34m(\u001b[0m\u001b[0;34m)\u001b[0m\u001b[0;34m\u001b[0m\u001b[0;34m\u001b[0m\u001b[0m\n\u001b[1;32m     22\u001b[0m         \u001b[0;31m# Explore right branch\u001b[0m\u001b[0;34m\u001b[0m\u001b[0;34m\u001b[0m\u001b[0;34m\u001b[0m\u001b[0m\n\u001b[0;32m---> 23\u001b[0;31m         \u001b[0mwithoutVal\u001b[0m\u001b[0;34m,\u001b[0m \u001b[0mwithoutToTake\u001b[0m \u001b[0;34m=\u001b[0m \u001b[0mmaxVal\u001b[0m\u001b[0;34m(\u001b[0m\u001b[0mtoConsider\u001b[0m\u001b[0;34m[\u001b[0m\u001b[0;36m1\u001b[0m\u001b[0;34m:\u001b[0m\u001b[0;34m]\u001b[0m\u001b[0;34m,\u001b[0m \u001b[0mavail\u001b[0m\u001b[0;34m)\u001b[0m\u001b[0;34m\u001b[0m\u001b[0;34m\u001b[0m\u001b[0m\n\u001b[0m\u001b[1;32m     24\u001b[0m         \u001b[0;31m# Choose better branch\u001b[0m\u001b[0;34m\u001b[0m\u001b[0;34m\u001b[0m\u001b[0;34m\u001b[0m\u001b[0m\n\u001b[1;32m     25\u001b[0m         \u001b[0;32mif\u001b[0m \u001b[0mwithVal\u001b[0m \u001b[0;34m>\u001b[0m \u001b[0mwithoutVal\u001b[0m\u001b[0;34m:\u001b[0m\u001b[0;34m\u001b[0m\u001b[0;34m\u001b[0m\u001b[0m\n",
      "\u001b[0;32m<ipython-input-61-040cedd0f870>\u001b[0m in \u001b[0;36mmaxVal\u001b[0;34m(toConsider, avail)\u001b[0m\n\u001b[1;32m     18\u001b[0m         \u001b[0;31m# Explore left branch\u001b[0m\u001b[0;34m\u001b[0m\u001b[0;34m\u001b[0m\u001b[0;34m\u001b[0m\u001b[0m\n\u001b[1;32m     19\u001b[0m         withVal, withToTake = maxVal(toConsider[1:],\n\u001b[0;32m---> 20\u001b[0;31m                                     avail - nextItem.getCost())\n\u001b[0m\u001b[1;32m     21\u001b[0m         \u001b[0mwithVal\u001b[0m \u001b[0;34m+=\u001b[0m \u001b[0mnextItem\u001b[0m\u001b[0;34m.\u001b[0m\u001b[0mgetValue\u001b[0m\u001b[0;34m(\u001b[0m\u001b[0;34m)\u001b[0m\u001b[0;34m\u001b[0m\u001b[0;34m\u001b[0m\u001b[0m\n\u001b[1;32m     22\u001b[0m         \u001b[0;31m# Explore right branch\u001b[0m\u001b[0;34m\u001b[0m\u001b[0;34m\u001b[0m\u001b[0;34m\u001b[0m\u001b[0m\n",
      "\u001b[0;32m<ipython-input-61-040cedd0f870>\u001b[0m in \u001b[0;36mmaxVal\u001b[0;34m(toConsider, avail)\u001b[0m\n\u001b[1;32m     21\u001b[0m         \u001b[0mwithVal\u001b[0m \u001b[0;34m+=\u001b[0m \u001b[0mnextItem\u001b[0m\u001b[0;34m.\u001b[0m\u001b[0mgetValue\u001b[0m\u001b[0;34m(\u001b[0m\u001b[0;34m)\u001b[0m\u001b[0;34m\u001b[0m\u001b[0;34m\u001b[0m\u001b[0m\n\u001b[1;32m     22\u001b[0m         \u001b[0;31m# Explore right branch\u001b[0m\u001b[0;34m\u001b[0m\u001b[0;34m\u001b[0m\u001b[0;34m\u001b[0m\u001b[0m\n\u001b[0;32m---> 23\u001b[0;31m         \u001b[0mwithoutVal\u001b[0m\u001b[0;34m,\u001b[0m \u001b[0mwithoutToTake\u001b[0m \u001b[0;34m=\u001b[0m \u001b[0mmaxVal\u001b[0m\u001b[0;34m(\u001b[0m\u001b[0mtoConsider\u001b[0m\u001b[0;34m[\u001b[0m\u001b[0;36m1\u001b[0m\u001b[0;34m:\u001b[0m\u001b[0;34m]\u001b[0m\u001b[0;34m,\u001b[0m \u001b[0mavail\u001b[0m\u001b[0;34m)\u001b[0m\u001b[0;34m\u001b[0m\u001b[0;34m\u001b[0m\u001b[0m\n\u001b[0m\u001b[1;32m     24\u001b[0m         \u001b[0;31m# Choose better branch\u001b[0m\u001b[0;34m\u001b[0m\u001b[0;34m\u001b[0m\u001b[0;34m\u001b[0m\u001b[0m\n\u001b[1;32m     25\u001b[0m         \u001b[0;32mif\u001b[0m \u001b[0mwithVal\u001b[0m \u001b[0;34m>\u001b[0m \u001b[0mwithoutVal\u001b[0m\u001b[0;34m:\u001b[0m\u001b[0;34m\u001b[0m\u001b[0;34m\u001b[0m\u001b[0m\n",
      "\u001b[0;32m<ipython-input-61-040cedd0f870>\u001b[0m in \u001b[0;36mmaxVal\u001b[0;34m(toConsider, avail)\u001b[0m\n\u001b[1;32m     18\u001b[0m         \u001b[0;31m# Explore left branch\u001b[0m\u001b[0;34m\u001b[0m\u001b[0;34m\u001b[0m\u001b[0;34m\u001b[0m\u001b[0m\n\u001b[1;32m     19\u001b[0m         withVal, withToTake = maxVal(toConsider[1:],\n\u001b[0;32m---> 20\u001b[0;31m                                     avail - nextItem.getCost())\n\u001b[0m\u001b[1;32m     21\u001b[0m         \u001b[0mwithVal\u001b[0m \u001b[0;34m+=\u001b[0m \u001b[0mnextItem\u001b[0m\u001b[0;34m.\u001b[0m\u001b[0mgetValue\u001b[0m\u001b[0;34m(\u001b[0m\u001b[0;34m)\u001b[0m\u001b[0;34m\u001b[0m\u001b[0;34m\u001b[0m\u001b[0m\n\u001b[1;32m     22\u001b[0m         \u001b[0;31m# Explore right branch\u001b[0m\u001b[0;34m\u001b[0m\u001b[0;34m\u001b[0m\u001b[0;34m\u001b[0m\u001b[0m\n",
      "\u001b[0;32m<ipython-input-61-040cedd0f870>\u001b[0m in \u001b[0;36mmaxVal\u001b[0;34m(toConsider, avail)\u001b[0m\n\u001b[1;32m     18\u001b[0m         \u001b[0;31m# Explore left branch\u001b[0m\u001b[0;34m\u001b[0m\u001b[0;34m\u001b[0m\u001b[0;34m\u001b[0m\u001b[0m\n\u001b[1;32m     19\u001b[0m         withVal, withToTake = maxVal(toConsider[1:],\n\u001b[0;32m---> 20\u001b[0;31m                                     avail - nextItem.getCost())\n\u001b[0m\u001b[1;32m     21\u001b[0m         \u001b[0mwithVal\u001b[0m \u001b[0;34m+=\u001b[0m \u001b[0mnextItem\u001b[0m\u001b[0;34m.\u001b[0m\u001b[0mgetValue\u001b[0m\u001b[0;34m(\u001b[0m\u001b[0;34m)\u001b[0m\u001b[0;34m\u001b[0m\u001b[0;34m\u001b[0m\u001b[0m\n\u001b[1;32m     22\u001b[0m         \u001b[0;31m# Explore right branch\u001b[0m\u001b[0;34m\u001b[0m\u001b[0;34m\u001b[0m\u001b[0;34m\u001b[0m\u001b[0m\n",
      "\u001b[0;32m<ipython-input-61-040cedd0f870>\u001b[0m in \u001b[0;36mmaxVal\u001b[0;34m(toConsider, avail)\u001b[0m\n\u001b[1;32m     13\u001b[0m     \u001b[0;32melif\u001b[0m \u001b[0mtoConsider\u001b[0m\u001b[0;34m[\u001b[0m\u001b[0;36m0\u001b[0m\u001b[0;34m]\u001b[0m\u001b[0;34m.\u001b[0m\u001b[0mgetCost\u001b[0m\u001b[0;34m(\u001b[0m\u001b[0;34m)\u001b[0m \u001b[0;34m>\u001b[0m \u001b[0mavail\u001b[0m\u001b[0;34m:\u001b[0m\u001b[0;34m\u001b[0m\u001b[0;34m\u001b[0m\u001b[0m\n\u001b[1;32m     14\u001b[0m         \u001b[0;31m# Explore right branch only\u001b[0m\u001b[0;34m\u001b[0m\u001b[0;34m\u001b[0m\u001b[0;34m\u001b[0m\u001b[0m\n\u001b[0;32m---> 15\u001b[0;31m         \u001b[0mresult\u001b[0m \u001b[0;34m=\u001b[0m \u001b[0mmaxVal\u001b[0m\u001b[0;34m(\u001b[0m\u001b[0mtoConsider\u001b[0m\u001b[0;34m[\u001b[0m\u001b[0;36m1\u001b[0m\u001b[0;34m:\u001b[0m\u001b[0;34m]\u001b[0m\u001b[0;34m,\u001b[0m \u001b[0mavail\u001b[0m\u001b[0;34m)\u001b[0m\u001b[0;34m\u001b[0m\u001b[0;34m\u001b[0m\u001b[0m\n\u001b[0m\u001b[1;32m     16\u001b[0m     \u001b[0;32melse\u001b[0m\u001b[0;34m:\u001b[0m\u001b[0;34m\u001b[0m\u001b[0;34m\u001b[0m\u001b[0m\n\u001b[1;32m     17\u001b[0m         \u001b[0mnextItem\u001b[0m \u001b[0;34m=\u001b[0m \u001b[0mtoConsider\u001b[0m\u001b[0;34m[\u001b[0m\u001b[0;36m0\u001b[0m\u001b[0;34m]\u001b[0m\u001b[0;34m\u001b[0m\u001b[0;34m\u001b[0m\u001b[0m\n",
      "\u001b[0;32m<ipython-input-61-040cedd0f870>\u001b[0m in \u001b[0;36mmaxVal\u001b[0;34m(toConsider, avail)\u001b[0m\n\u001b[1;32m     13\u001b[0m     \u001b[0;32melif\u001b[0m \u001b[0mtoConsider\u001b[0m\u001b[0;34m[\u001b[0m\u001b[0;36m0\u001b[0m\u001b[0;34m]\u001b[0m\u001b[0;34m.\u001b[0m\u001b[0mgetCost\u001b[0m\u001b[0;34m(\u001b[0m\u001b[0;34m)\u001b[0m \u001b[0;34m>\u001b[0m \u001b[0mavail\u001b[0m\u001b[0;34m:\u001b[0m\u001b[0;34m\u001b[0m\u001b[0;34m\u001b[0m\u001b[0m\n\u001b[1;32m     14\u001b[0m         \u001b[0;31m# Explore right branch only\u001b[0m\u001b[0;34m\u001b[0m\u001b[0;34m\u001b[0m\u001b[0;34m\u001b[0m\u001b[0m\n\u001b[0;32m---> 15\u001b[0;31m         \u001b[0mresult\u001b[0m \u001b[0;34m=\u001b[0m \u001b[0mmaxVal\u001b[0m\u001b[0;34m(\u001b[0m\u001b[0mtoConsider\u001b[0m\u001b[0;34m[\u001b[0m\u001b[0;36m1\u001b[0m\u001b[0;34m:\u001b[0m\u001b[0;34m]\u001b[0m\u001b[0;34m,\u001b[0m \u001b[0mavail\u001b[0m\u001b[0;34m)\u001b[0m\u001b[0;34m\u001b[0m\u001b[0;34m\u001b[0m\u001b[0m\n\u001b[0m\u001b[1;32m     16\u001b[0m     \u001b[0;32melse\u001b[0m\u001b[0;34m:\u001b[0m\u001b[0;34m\u001b[0m\u001b[0;34m\u001b[0m\u001b[0m\n\u001b[1;32m     17\u001b[0m         \u001b[0mnextItem\u001b[0m \u001b[0;34m=\u001b[0m \u001b[0mtoConsider\u001b[0m\u001b[0;34m[\u001b[0m\u001b[0;36m0\u001b[0m\u001b[0;34m]\u001b[0m\u001b[0;34m\u001b[0m\u001b[0;34m\u001b[0m\u001b[0m\n",
      "\u001b[0;32m<ipython-input-61-040cedd0f870>\u001b[0m in \u001b[0;36mmaxVal\u001b[0;34m(toConsider, avail)\u001b[0m\n\u001b[1;32m     13\u001b[0m     \u001b[0;32melif\u001b[0m \u001b[0mtoConsider\u001b[0m\u001b[0;34m[\u001b[0m\u001b[0;36m0\u001b[0m\u001b[0;34m]\u001b[0m\u001b[0;34m.\u001b[0m\u001b[0mgetCost\u001b[0m\u001b[0;34m(\u001b[0m\u001b[0;34m)\u001b[0m \u001b[0;34m>\u001b[0m \u001b[0mavail\u001b[0m\u001b[0;34m:\u001b[0m\u001b[0;34m\u001b[0m\u001b[0;34m\u001b[0m\u001b[0m\n\u001b[1;32m     14\u001b[0m         \u001b[0;31m# Explore right branch only\u001b[0m\u001b[0;34m\u001b[0m\u001b[0;34m\u001b[0m\u001b[0;34m\u001b[0m\u001b[0m\n\u001b[0;32m---> 15\u001b[0;31m         \u001b[0mresult\u001b[0m \u001b[0;34m=\u001b[0m \u001b[0mmaxVal\u001b[0m\u001b[0;34m(\u001b[0m\u001b[0mtoConsider\u001b[0m\u001b[0;34m[\u001b[0m\u001b[0;36m1\u001b[0m\u001b[0;34m:\u001b[0m\u001b[0;34m]\u001b[0m\u001b[0;34m,\u001b[0m \u001b[0mavail\u001b[0m\u001b[0;34m)\u001b[0m\u001b[0;34m\u001b[0m\u001b[0;34m\u001b[0m\u001b[0m\n\u001b[0m\u001b[1;32m     16\u001b[0m     \u001b[0;32melse\u001b[0m\u001b[0;34m:\u001b[0m\u001b[0;34m\u001b[0m\u001b[0;34m\u001b[0m\u001b[0m\n\u001b[1;32m     17\u001b[0m         \u001b[0mnextItem\u001b[0m \u001b[0;34m=\u001b[0m \u001b[0mtoConsider\u001b[0m\u001b[0;34m[\u001b[0m\u001b[0;36m0\u001b[0m\u001b[0;34m]\u001b[0m\u001b[0;34m\u001b[0m\u001b[0;34m\u001b[0m\u001b[0m\n",
      "\u001b[0;32m<ipython-input-61-040cedd0f870>\u001b[0m in \u001b[0;36mmaxVal\u001b[0;34m(toConsider, avail)\u001b[0m\n\u001b[1;32m     21\u001b[0m         \u001b[0mwithVal\u001b[0m \u001b[0;34m+=\u001b[0m \u001b[0mnextItem\u001b[0m\u001b[0;34m.\u001b[0m\u001b[0mgetValue\u001b[0m\u001b[0;34m(\u001b[0m\u001b[0;34m)\u001b[0m\u001b[0;34m\u001b[0m\u001b[0;34m\u001b[0m\u001b[0m\n\u001b[1;32m     22\u001b[0m         \u001b[0;31m# Explore right branch\u001b[0m\u001b[0;34m\u001b[0m\u001b[0;34m\u001b[0m\u001b[0;34m\u001b[0m\u001b[0m\n\u001b[0;32m---> 23\u001b[0;31m         \u001b[0mwithoutVal\u001b[0m\u001b[0;34m,\u001b[0m \u001b[0mwithoutToTake\u001b[0m \u001b[0;34m=\u001b[0m \u001b[0mmaxVal\u001b[0m\u001b[0;34m(\u001b[0m\u001b[0mtoConsider\u001b[0m\u001b[0;34m[\u001b[0m\u001b[0;36m1\u001b[0m\u001b[0;34m:\u001b[0m\u001b[0;34m]\u001b[0m\u001b[0;34m,\u001b[0m \u001b[0mavail\u001b[0m\u001b[0;34m)\u001b[0m\u001b[0;34m\u001b[0m\u001b[0;34m\u001b[0m\u001b[0m\n\u001b[0m\u001b[1;32m     24\u001b[0m         \u001b[0;31m# Choose better branch\u001b[0m\u001b[0;34m\u001b[0m\u001b[0;34m\u001b[0m\u001b[0;34m\u001b[0m\u001b[0m\n\u001b[1;32m     25\u001b[0m         \u001b[0;32mif\u001b[0m \u001b[0mwithVal\u001b[0m \u001b[0;34m>\u001b[0m \u001b[0mwithoutVal\u001b[0m\u001b[0;34m:\u001b[0m\u001b[0;34m\u001b[0m\u001b[0;34m\u001b[0m\u001b[0m\n",
      "\u001b[0;32m<ipython-input-61-040cedd0f870>\u001b[0m in \u001b[0;36mmaxVal\u001b[0;34m(toConsider, avail)\u001b[0m\n\u001b[1;32m     21\u001b[0m         \u001b[0mwithVal\u001b[0m \u001b[0;34m+=\u001b[0m \u001b[0mnextItem\u001b[0m\u001b[0;34m.\u001b[0m\u001b[0mgetValue\u001b[0m\u001b[0;34m(\u001b[0m\u001b[0;34m)\u001b[0m\u001b[0;34m\u001b[0m\u001b[0;34m\u001b[0m\u001b[0m\n\u001b[1;32m     22\u001b[0m         \u001b[0;31m# Explore right branch\u001b[0m\u001b[0;34m\u001b[0m\u001b[0;34m\u001b[0m\u001b[0;34m\u001b[0m\u001b[0m\n\u001b[0;32m---> 23\u001b[0;31m         \u001b[0mwithoutVal\u001b[0m\u001b[0;34m,\u001b[0m \u001b[0mwithoutToTake\u001b[0m \u001b[0;34m=\u001b[0m \u001b[0mmaxVal\u001b[0m\u001b[0;34m(\u001b[0m\u001b[0mtoConsider\u001b[0m\u001b[0;34m[\u001b[0m\u001b[0;36m1\u001b[0m\u001b[0;34m:\u001b[0m\u001b[0;34m]\u001b[0m\u001b[0;34m,\u001b[0m \u001b[0mavail\u001b[0m\u001b[0;34m)\u001b[0m\u001b[0;34m\u001b[0m\u001b[0;34m\u001b[0m\u001b[0m\n\u001b[0m\u001b[1;32m     24\u001b[0m         \u001b[0;31m# Choose better branch\u001b[0m\u001b[0;34m\u001b[0m\u001b[0;34m\u001b[0m\u001b[0;34m\u001b[0m\u001b[0m\n\u001b[1;32m     25\u001b[0m         \u001b[0;32mif\u001b[0m \u001b[0mwithVal\u001b[0m \u001b[0;34m>\u001b[0m \u001b[0mwithoutVal\u001b[0m\u001b[0;34m:\u001b[0m\u001b[0;34m\u001b[0m\u001b[0;34m\u001b[0m\u001b[0m\n",
      "\u001b[0;32m<ipython-input-61-040cedd0f870>\u001b[0m in \u001b[0;36mmaxVal\u001b[0;34m(toConsider, avail)\u001b[0m\n\u001b[1;32m     21\u001b[0m         \u001b[0mwithVal\u001b[0m \u001b[0;34m+=\u001b[0m \u001b[0mnextItem\u001b[0m\u001b[0;34m.\u001b[0m\u001b[0mgetValue\u001b[0m\u001b[0;34m(\u001b[0m\u001b[0;34m)\u001b[0m\u001b[0;34m\u001b[0m\u001b[0;34m\u001b[0m\u001b[0m\n\u001b[1;32m     22\u001b[0m         \u001b[0;31m# Explore right branch\u001b[0m\u001b[0;34m\u001b[0m\u001b[0;34m\u001b[0m\u001b[0;34m\u001b[0m\u001b[0m\n\u001b[0;32m---> 23\u001b[0;31m         \u001b[0mwithoutVal\u001b[0m\u001b[0;34m,\u001b[0m \u001b[0mwithoutToTake\u001b[0m \u001b[0;34m=\u001b[0m \u001b[0mmaxVal\u001b[0m\u001b[0;34m(\u001b[0m\u001b[0mtoConsider\u001b[0m\u001b[0;34m[\u001b[0m\u001b[0;36m1\u001b[0m\u001b[0;34m:\u001b[0m\u001b[0;34m]\u001b[0m\u001b[0;34m,\u001b[0m \u001b[0mavail\u001b[0m\u001b[0;34m)\u001b[0m\u001b[0;34m\u001b[0m\u001b[0;34m\u001b[0m\u001b[0m\n\u001b[0m\u001b[1;32m     24\u001b[0m         \u001b[0;31m# Choose better branch\u001b[0m\u001b[0;34m\u001b[0m\u001b[0;34m\u001b[0m\u001b[0;34m\u001b[0m\u001b[0m\n\u001b[1;32m     25\u001b[0m         \u001b[0;32mif\u001b[0m \u001b[0mwithVal\u001b[0m \u001b[0;34m>\u001b[0m \u001b[0mwithoutVal\u001b[0m\u001b[0;34m:\u001b[0m\u001b[0;34m\u001b[0m\u001b[0;34m\u001b[0m\u001b[0m\n",
      "\u001b[0;32m<ipython-input-61-040cedd0f870>\u001b[0m in \u001b[0;36mmaxVal\u001b[0;34m(toConsider, avail)\u001b[0m\n\u001b[1;32m     21\u001b[0m         \u001b[0mwithVal\u001b[0m \u001b[0;34m+=\u001b[0m \u001b[0mnextItem\u001b[0m\u001b[0;34m.\u001b[0m\u001b[0mgetValue\u001b[0m\u001b[0;34m(\u001b[0m\u001b[0;34m)\u001b[0m\u001b[0;34m\u001b[0m\u001b[0;34m\u001b[0m\u001b[0m\n\u001b[1;32m     22\u001b[0m         \u001b[0;31m# Explore right branch\u001b[0m\u001b[0;34m\u001b[0m\u001b[0;34m\u001b[0m\u001b[0;34m\u001b[0m\u001b[0m\n\u001b[0;32m---> 23\u001b[0;31m         \u001b[0mwithoutVal\u001b[0m\u001b[0;34m,\u001b[0m \u001b[0mwithoutToTake\u001b[0m \u001b[0;34m=\u001b[0m \u001b[0mmaxVal\u001b[0m\u001b[0;34m(\u001b[0m\u001b[0mtoConsider\u001b[0m\u001b[0;34m[\u001b[0m\u001b[0;36m1\u001b[0m\u001b[0;34m:\u001b[0m\u001b[0;34m]\u001b[0m\u001b[0;34m,\u001b[0m \u001b[0mavail\u001b[0m\u001b[0;34m)\u001b[0m\u001b[0;34m\u001b[0m\u001b[0;34m\u001b[0m\u001b[0m\n\u001b[0m\u001b[1;32m     24\u001b[0m         \u001b[0;31m# Choose better branch\u001b[0m\u001b[0;34m\u001b[0m\u001b[0;34m\u001b[0m\u001b[0;34m\u001b[0m\u001b[0m\n\u001b[1;32m     25\u001b[0m         \u001b[0;32mif\u001b[0m \u001b[0mwithVal\u001b[0m \u001b[0;34m>\u001b[0m \u001b[0mwithoutVal\u001b[0m\u001b[0;34m:\u001b[0m\u001b[0;34m\u001b[0m\u001b[0;34m\u001b[0m\u001b[0m\n",
      "\u001b[0;32m<ipython-input-61-040cedd0f870>\u001b[0m in \u001b[0;36mmaxVal\u001b[0;34m(toConsider, avail)\u001b[0m\n\u001b[1;32m     18\u001b[0m         \u001b[0;31m# Explore left branch\u001b[0m\u001b[0;34m\u001b[0m\u001b[0;34m\u001b[0m\u001b[0;34m\u001b[0m\u001b[0m\n\u001b[1;32m     19\u001b[0m         withVal, withToTake = maxVal(toConsider[1:],\n\u001b[0;32m---> 20\u001b[0;31m                                     avail - nextItem.getCost())\n\u001b[0m\u001b[1;32m     21\u001b[0m         \u001b[0mwithVal\u001b[0m \u001b[0;34m+=\u001b[0m \u001b[0mnextItem\u001b[0m\u001b[0;34m.\u001b[0m\u001b[0mgetValue\u001b[0m\u001b[0;34m(\u001b[0m\u001b[0;34m)\u001b[0m\u001b[0;34m\u001b[0m\u001b[0;34m\u001b[0m\u001b[0m\n\u001b[1;32m     22\u001b[0m         \u001b[0;31m# Explore right branch\u001b[0m\u001b[0;34m\u001b[0m\u001b[0;34m\u001b[0m\u001b[0;34m\u001b[0m\u001b[0m\n",
      "\u001b[0;32m<ipython-input-61-040cedd0f870>\u001b[0m in \u001b[0;36mmaxVal\u001b[0;34m(toConsider, avail)\u001b[0m\n\u001b[1;32m     21\u001b[0m         \u001b[0mwithVal\u001b[0m \u001b[0;34m+=\u001b[0m \u001b[0mnextItem\u001b[0m\u001b[0;34m.\u001b[0m\u001b[0mgetValue\u001b[0m\u001b[0;34m(\u001b[0m\u001b[0;34m)\u001b[0m\u001b[0;34m\u001b[0m\u001b[0;34m\u001b[0m\u001b[0m\n\u001b[1;32m     22\u001b[0m         \u001b[0;31m# Explore right branch\u001b[0m\u001b[0;34m\u001b[0m\u001b[0;34m\u001b[0m\u001b[0;34m\u001b[0m\u001b[0m\n\u001b[0;32m---> 23\u001b[0;31m         \u001b[0mwithoutVal\u001b[0m\u001b[0;34m,\u001b[0m \u001b[0mwithoutToTake\u001b[0m \u001b[0;34m=\u001b[0m \u001b[0mmaxVal\u001b[0m\u001b[0;34m(\u001b[0m\u001b[0mtoConsider\u001b[0m\u001b[0;34m[\u001b[0m\u001b[0;36m1\u001b[0m\u001b[0;34m:\u001b[0m\u001b[0;34m]\u001b[0m\u001b[0;34m,\u001b[0m \u001b[0mavail\u001b[0m\u001b[0;34m)\u001b[0m\u001b[0;34m\u001b[0m\u001b[0;34m\u001b[0m\u001b[0m\n\u001b[0m\u001b[1;32m     24\u001b[0m         \u001b[0;31m# Choose better branch\u001b[0m\u001b[0;34m\u001b[0m\u001b[0;34m\u001b[0m\u001b[0;34m\u001b[0m\u001b[0m\n\u001b[1;32m     25\u001b[0m         \u001b[0;32mif\u001b[0m \u001b[0mwithVal\u001b[0m \u001b[0;34m>\u001b[0m \u001b[0mwithoutVal\u001b[0m\u001b[0;34m:\u001b[0m\u001b[0;34m\u001b[0m\u001b[0;34m\u001b[0m\u001b[0m\n",
      "\u001b[0;32m<ipython-input-61-040cedd0f870>\u001b[0m in \u001b[0;36mmaxVal\u001b[0;34m(toConsider, avail)\u001b[0m\n\u001b[1;32m     13\u001b[0m     \u001b[0;32melif\u001b[0m \u001b[0mtoConsider\u001b[0m\u001b[0;34m[\u001b[0m\u001b[0;36m0\u001b[0m\u001b[0;34m]\u001b[0m\u001b[0;34m.\u001b[0m\u001b[0mgetCost\u001b[0m\u001b[0;34m(\u001b[0m\u001b[0;34m)\u001b[0m \u001b[0;34m>\u001b[0m \u001b[0mavail\u001b[0m\u001b[0;34m:\u001b[0m\u001b[0;34m\u001b[0m\u001b[0;34m\u001b[0m\u001b[0m\n\u001b[1;32m     14\u001b[0m         \u001b[0;31m# Explore right branch only\u001b[0m\u001b[0;34m\u001b[0m\u001b[0;34m\u001b[0m\u001b[0;34m\u001b[0m\u001b[0m\n\u001b[0;32m---> 15\u001b[0;31m         \u001b[0mresult\u001b[0m \u001b[0;34m=\u001b[0m \u001b[0mmaxVal\u001b[0m\u001b[0;34m(\u001b[0m\u001b[0mtoConsider\u001b[0m\u001b[0;34m[\u001b[0m\u001b[0;36m1\u001b[0m\u001b[0;34m:\u001b[0m\u001b[0;34m]\u001b[0m\u001b[0;34m,\u001b[0m \u001b[0mavail\u001b[0m\u001b[0;34m)\u001b[0m\u001b[0;34m\u001b[0m\u001b[0;34m\u001b[0m\u001b[0m\n\u001b[0m\u001b[1;32m     16\u001b[0m     \u001b[0;32melse\u001b[0m\u001b[0;34m:\u001b[0m\u001b[0;34m\u001b[0m\u001b[0;34m\u001b[0m\u001b[0m\n\u001b[1;32m     17\u001b[0m         \u001b[0mnextItem\u001b[0m \u001b[0;34m=\u001b[0m \u001b[0mtoConsider\u001b[0m\u001b[0;34m[\u001b[0m\u001b[0;36m0\u001b[0m\u001b[0;34m]\u001b[0m\u001b[0;34m\u001b[0m\u001b[0;34m\u001b[0m\u001b[0m\n",
      "\u001b[0;32m<ipython-input-61-040cedd0f870>\u001b[0m in \u001b[0;36mmaxVal\u001b[0;34m(toConsider, avail)\u001b[0m\n\u001b[1;32m     18\u001b[0m         \u001b[0;31m# Explore left branch\u001b[0m\u001b[0;34m\u001b[0m\u001b[0;34m\u001b[0m\u001b[0;34m\u001b[0m\u001b[0m\n\u001b[1;32m     19\u001b[0m         withVal, withToTake = maxVal(toConsider[1:],\n\u001b[0;32m---> 20\u001b[0;31m                                     avail - nextItem.getCost())\n\u001b[0m\u001b[1;32m     21\u001b[0m         \u001b[0mwithVal\u001b[0m \u001b[0;34m+=\u001b[0m \u001b[0mnextItem\u001b[0m\u001b[0;34m.\u001b[0m\u001b[0mgetValue\u001b[0m\u001b[0;34m(\u001b[0m\u001b[0;34m)\u001b[0m\u001b[0;34m\u001b[0m\u001b[0;34m\u001b[0m\u001b[0m\n\u001b[1;32m     22\u001b[0m         \u001b[0;31m# Explore right branch\u001b[0m\u001b[0;34m\u001b[0m\u001b[0;34m\u001b[0m\u001b[0;34m\u001b[0m\u001b[0m\n",
      "\u001b[0;32m<ipython-input-61-040cedd0f870>\u001b[0m in \u001b[0;36mmaxVal\u001b[0;34m(toConsider, avail)\u001b[0m\n\u001b[1;32m     21\u001b[0m         \u001b[0mwithVal\u001b[0m \u001b[0;34m+=\u001b[0m \u001b[0mnextItem\u001b[0m\u001b[0;34m.\u001b[0m\u001b[0mgetValue\u001b[0m\u001b[0;34m(\u001b[0m\u001b[0;34m)\u001b[0m\u001b[0;34m\u001b[0m\u001b[0;34m\u001b[0m\u001b[0m\n\u001b[1;32m     22\u001b[0m         \u001b[0;31m# Explore right branch\u001b[0m\u001b[0;34m\u001b[0m\u001b[0;34m\u001b[0m\u001b[0;34m\u001b[0m\u001b[0m\n\u001b[0;32m---> 23\u001b[0;31m         \u001b[0mwithoutVal\u001b[0m\u001b[0;34m,\u001b[0m \u001b[0mwithoutToTake\u001b[0m \u001b[0;34m=\u001b[0m \u001b[0mmaxVal\u001b[0m\u001b[0;34m(\u001b[0m\u001b[0mtoConsider\u001b[0m\u001b[0;34m[\u001b[0m\u001b[0;36m1\u001b[0m\u001b[0;34m:\u001b[0m\u001b[0;34m]\u001b[0m\u001b[0;34m,\u001b[0m \u001b[0mavail\u001b[0m\u001b[0;34m)\u001b[0m\u001b[0;34m\u001b[0m\u001b[0;34m\u001b[0m\u001b[0m\n\u001b[0m\u001b[1;32m     24\u001b[0m         \u001b[0;31m# Choose better branch\u001b[0m\u001b[0;34m\u001b[0m\u001b[0;34m\u001b[0m\u001b[0;34m\u001b[0m\u001b[0m\n\u001b[1;32m     25\u001b[0m         \u001b[0;32mif\u001b[0m \u001b[0mwithVal\u001b[0m \u001b[0;34m>\u001b[0m \u001b[0mwithoutVal\u001b[0m\u001b[0;34m:\u001b[0m\u001b[0;34m\u001b[0m\u001b[0;34m\u001b[0m\u001b[0m\n",
      "\u001b[0;32m<ipython-input-61-040cedd0f870>\u001b[0m in \u001b[0;36mmaxVal\u001b[0;34m(toConsider, avail)\u001b[0m\n\u001b[1;32m     18\u001b[0m         \u001b[0;31m# Explore left branch\u001b[0m\u001b[0;34m\u001b[0m\u001b[0;34m\u001b[0m\u001b[0;34m\u001b[0m\u001b[0m\n\u001b[1;32m     19\u001b[0m         withVal, withToTake = maxVal(toConsider[1:],\n\u001b[0;32m---> 20\u001b[0;31m                                     avail - nextItem.getCost())\n\u001b[0m\u001b[1;32m     21\u001b[0m         \u001b[0mwithVal\u001b[0m \u001b[0;34m+=\u001b[0m \u001b[0mnextItem\u001b[0m\u001b[0;34m.\u001b[0m\u001b[0mgetValue\u001b[0m\u001b[0;34m(\u001b[0m\u001b[0;34m)\u001b[0m\u001b[0;34m\u001b[0m\u001b[0;34m\u001b[0m\u001b[0m\n\u001b[1;32m     22\u001b[0m         \u001b[0;31m# Explore right branch\u001b[0m\u001b[0;34m\u001b[0m\u001b[0;34m\u001b[0m\u001b[0;34m\u001b[0m\u001b[0m\n",
      "\u001b[0;31mKeyboardInterrupt\u001b[0m: "
     ]
    }
   ],
   "source": [
    "for numItems in (5,10,15,20,25,30,35,40,45,50,55,60):\n",
    "    items = buildLargeMenu(numItems, 90, 250)\n",
    "    testMaxVal(items, 750, False)"
   ]
  },
  {
   "cell_type": "markdown",
   "metadata": {},
   "source": [
    "Slow Inefficient Fibonacci"
   ]
  },
  {
   "cell_type": "code",
   "execution_count": 66,
   "metadata": {
    "ExecuteTime": {
     "end_time": "2019-04-16T19:11:12.448778Z",
     "start_time": "2019-04-16T19:11:12.445257Z"
    }
   },
   "outputs": [],
   "source": [
    "def fib(n):\n",
    "    if n == 0 or n == 1:\n",
    "        return 1\n",
    "    else:\n",
    "        return fib(n - 1) + fib(n - 2)"
   ]
  },
  {
   "cell_type": "code",
   "execution_count": 78,
   "metadata": {
    "ExecuteTime": {
     "end_time": "2019-04-16T19:40:33.903143Z",
     "start_time": "2019-04-16T19:40:33.356044Z"
    }
   },
   "outputs": [
    {
     "name": "stdout",
     "output_type": "stream",
     "text": [
      "fib(0) = 1\n",
      "fib(1) = 1\n",
      "fib(2) = 2\n",
      "fib(3) = 3\n",
      "fib(4) = 5\n",
      "fib(5) = 8\n",
      "fib(6) = 13\n",
      "fib(7) = 21\n",
      "fib(8) = 34\n",
      "fib(9) = 55\n",
      "fib(10) = 89\n",
      "fib(11) = 144\n",
      "fib(12) = 233\n",
      "fib(13) = 377\n",
      "fib(14) = 610\n",
      "fib(15) = 987\n",
      "fib(16) = 1597\n",
      "fib(17) = 2584\n",
      "fib(18) = 4181\n",
      "fib(19) = 6765\n",
      "fib(20) = 10946\n",
      "fib(21) = 17711\n",
      "fib(22) = 28657\n",
      "fib(23) = 46368\n",
      "fib(24) = 75025\n",
      "fib(25) = 121393\n",
      "fib(26) = 196418\n",
      "fib(27) = 317811\n",
      "fib(28) = 514229\n",
      "fib(29) = 832040\n"
     ]
    }
   ],
   "source": [
    "# %%timeit\n",
    "for i in range(30):\n",
    "    print('fib(' + str(i) + ') =', fib(i))"
   ]
  },
  {
   "cell_type": "markdown",
   "metadata": {},
   "source": [
    "Fast DP Fibonacci"
   ]
  },
  {
   "cell_type": "code",
   "execution_count": 69,
   "metadata": {
    "ExecuteTime": {
     "end_time": "2019-04-16T19:35:27.014784Z",
     "start_time": "2019-04-16T19:35:27.010157Z"
    }
   },
   "outputs": [],
   "source": [
    "def fastFib(n, memo={}):\n",
    "    if n == 0 or n == 1:\n",
    "        return 1\n",
    "    try:\n",
    "        return memo[n]\n",
    "    except KeyError:\n",
    "        result = fastFib(n-1, memo) +\\\n",
    "                 fastFib(n-2, memo)\n",
    "        memo[n] = result\n",
    "        return result"
   ]
  },
  {
   "cell_type": "code",
   "execution_count": 79,
   "metadata": {
    "ExecuteTime": {
     "end_time": "2019-04-16T19:40:37.266064Z",
     "start_time": "2019-04-16T19:40:37.254698Z"
    }
   },
   "outputs": [
    {
     "name": "stdout",
     "output_type": "stream",
     "text": [
      "fib(0) = 1\n",
      "fib(1) = 1\n",
      "fib(2) = 2\n",
      "fib(3) = 3\n",
      "fib(4) = 5\n",
      "fib(5) = 8\n",
      "fib(6) = 13\n",
      "fib(7) = 21\n",
      "fib(8) = 34\n",
      "fib(9) = 55\n",
      "fib(10) = 89\n",
      "fib(11) = 144\n",
      "fib(12) = 233\n",
      "fib(13) = 377\n",
      "fib(14) = 610\n",
      "fib(15) = 987\n",
      "fib(16) = 1597\n",
      "fib(17) = 2584\n",
      "fib(18) = 4181\n",
      "fib(19) = 6765\n",
      "fib(20) = 10946\n",
      "fib(21) = 17711\n",
      "fib(22) = 28657\n",
      "fib(23) = 46368\n",
      "fib(24) = 75025\n",
      "fib(25) = 121393\n",
      "fib(26) = 196418\n",
      "fib(27) = 317811\n",
      "fib(28) = 514229\n",
      "fib(29) = 832040\n"
     ]
    }
   ],
   "source": [
    "# %%timeit \n",
    "for i in range(30):\n",
    "    print('fib(' + str(i) + ') =', fastFib(i))\n"
   ]
  },
  {
   "cell_type": "markdown",
   "metadata": {},
   "source": [
    "---\n",
    "## Lec2: Graph-theoretic Models\n",
    "\n",
    "Reference: https://www.youtube.com/watch?v=V_TulH374hw&list=PLUl4u3cNGP619EG1wp0kT-7rDE_Az5TNd&index=3\n",
    "\n",
    "Lecture Slides: https://ocw.mit.edu/courses/electrical-engineering-and-computer-science/6-0002-introduction-to-computational-thinking-and-data-science-fall-2016/lecture-slides-and-files/MIT6_0002F16_lec3.pdf\n",
    "\n",
    "Nodes & Edges (Stitched together)\n",
    "\n",
    "#### Depth First v. Breadth First Search Algos\n",
    "\n",
    "Depth First -  always following next available edge \n",
    "\n",
    "Breadth First - look at paths according to length\n",
    "\n",
    "Weighted Shortest Distance"
   ]
  },
  {
   "cell_type": "code",
   "execution_count": 96,
   "metadata": {
    "ExecuteTime": {
     "end_time": "2019-04-17T14:44:13.824068Z",
     "start_time": "2019-04-17T14:44:13.820361Z"
    }
   },
   "outputs": [],
   "source": [
    "class Node(object):\n",
    "    def __init__(self, name):\n",
    "        self.name = name\n",
    "        \n",
    "    def getName(self):\n",
    "        return self.name\n",
    "    \n",
    "    def __str__(self):\n",
    "        return self.name"
   ]
  },
  {
   "cell_type": "code",
   "execution_count": 80,
   "metadata": {
    "ExecuteTime": {
     "end_time": "2019-04-17T14:00:36.447929Z",
     "start_time": "2019-04-17T14:00:36.426101Z"
    }
   },
   "outputs": [],
   "source": [
    "class Edge(object):\n",
    "    def __init__(self, src, dest):\n",
    "        self.src = src\n",
    "        self.dest = dest\n",
    "        \n",
    "    def getSource(self):\n",
    "        return self.src\n",
    "    \n",
    "    def getDestination(self):\n",
    "        return self.dest\n",
    "    \n",
    "    def __str__(self):\n",
    "        return self.src.getName() + '->'\\\n",
    "                + self.dest.getName()"
   ]
  },
  {
   "cell_type": "code",
   "execution_count": 90,
   "metadata": {
    "ExecuteTime": {
     "end_time": "2019-04-17T14:42:12.435748Z",
     "start_time": "2019-04-17T14:42:12.421739Z"
    }
   },
   "outputs": [],
   "source": [
    "class DiGraph(object):\n",
    "    \"\"\"\n",
    "    edges is a dict mapping each node to a list of its children\n",
    "    \"\"\"\n",
    "    def __init__(self):\n",
    "        self.edges = {}\n",
    "    \n",
    "    def addNode(self, node):\n",
    "        if node in self.edges:\n",
    "            raise ValueError('Duplicate node')\n",
    "        else:\n",
    "            self.edges[node] = []\n",
    "            \n",
    "    def addEdge(self, edge):\n",
    "        src = edge.getSource()\n",
    "        dest = edge.getDestination()\n",
    "        if not (src in self.edges and dest in self.edges):\n",
    "            raise ValueError('Node not in graph')\n",
    "        self.edges[src].append(dest)\n",
    "        \n",
    "    def childrenOf(self, node):\n",
    "        return self.edges[node]\n",
    "    \n",
    "    def hasNode(self, node):\n",
    "        return node in self.edges\n",
    "    \n",
    "    def getNode(self, name):\n",
    "        for n in self.edges:\n",
    "            if n.getName() == name:\n",
    "                return n\n",
    "        raise NameError(name)\n",
    "        \n",
    "    def __str__(self):\n",
    "        result = ''\n",
    "        for src in self.edges:\n",
    "            for dest in self.edges[src]:\n",
    "                result = result + src.getName() + '->'\\\n",
    "                        + dest.getName() + '\\n'\n",
    "        return result[:-1] # omit final newline"
   ]
  },
  {
   "cell_type": "code",
   "execution_count": 91,
   "metadata": {
    "ExecuteTime": {
     "end_time": "2019-04-17T14:42:12.805515Z",
     "start_time": "2019-04-17T14:42:12.801223Z"
    }
   },
   "outputs": [],
   "source": [
    "class Graph(DiGraph):\n",
    "    def addEdge(self, edge):\n",
    "        DiaGraph.addEdge(self, edge)\n",
    "        rev = Edge(edge.getDestination(), edge.getSource())\n",
    "        DiaGraph.addEdge(self, rev)"
   ]
  },
  {
   "cell_type": "code",
   "execution_count": 92,
   "metadata": {
    "ExecuteTime": {
     "end_time": "2019-04-17T14:42:13.294678Z",
     "start_time": "2019-04-17T14:42:13.285115Z"
    }
   },
   "outputs": [],
   "source": [
    "def buildCityGraph(graphType):\n",
    "    g = graphType()\n",
    "    for name in ('Boston', 'Providence', 'New York', 'Chicago',\n",
    "                'Denver', 'Phoenix', 'Los Angeles'):\n",
    "        g.addNode(Node(name))\n",
    "    g.addEdge(Edge(g.getNode('Boston'), g.getNode('Providence')))\n",
    "    g.addEdge(Edge(g.getNode('Boston'), g.getNode('New York')))\n",
    "    g.addEdge(Edge(g.getNode('Providence'), g.getNode('Boston')))\n",
    "    g.addEdge(Edge(g.getNode('Providence'), g.getNode('New York')))\n",
    "    g.addEdge(Edge(g.getNode('New York'), g.getNode('Chicago')))\n",
    "    g.addEdge(Edge(g.getNode('Chicago'), g.getNode('Denver')))\n",
    "    g.addEdge(Edge(g.getNode('Chicago'), g.getNode('Phoenix')))\n",
    "    g.addEdge(Edge(g.getNode('Denver'), g.getNode('Phoenix')))\n",
    "    g.addEdge(Edge(g.getNode('Denver'), g.getNode('New York')))\n",
    "    g.addEdge(Edge(g.getNode('Los Angeles'), g.getNode('Boston')))\n",
    "    return g\n"
   ]
  },
  {
   "cell_type": "code",
   "execution_count": 98,
   "metadata": {
    "ExecuteTime": {
     "end_time": "2019-04-17T14:49:09.775733Z",
     "start_time": "2019-04-17T14:49:09.771481Z"
    }
   },
   "outputs": [],
   "source": [
    "def printPath(path):\n",
    "    \"\"\"Assumes path is a list of nodes\"\"\"\n",
    "    result = ''\n",
    "    for i in range(len(path)):\n",
    "        result = result + str(path[i])\n",
    "        if i != len(path) - 1:\n",
    "            result = result + '->'\n",
    "    return result "
   ]
  },
  {
   "cell_type": "code",
   "execution_count": 99,
   "metadata": {
    "ExecuteTime": {
     "end_time": "2019-04-17T14:49:10.563515Z",
     "start_time": "2019-04-17T14:49:10.556797Z"
    }
   },
   "outputs": [],
   "source": [
    "def DFS(graph, start, end, path, shortest, toPrint=False):\n",
    "    path = path + [start]\n",
    "    if toPrint:\n",
    "        print('Current DFS path:', printPath(path))\n",
    "    if start == end:\n",
    "        return path\n",
    "    for node in graph.childrenOf(start):\n",
    "        if node not in path:\n",
    "            if shortest == None or len(path) < len(shortest):\n",
    "                newPath = DFS(graph, node, end, path, shortest, toPrint)\n",
    "                if newPath != None:\n",
    "                    shortest = newPath\n",
    "        elif toPrint:\n",
    "            print('Already visited', node)\n",
    "    return shortest"
   ]
  },
  {
   "cell_type": "code",
   "execution_count": 100,
   "metadata": {
    "ExecuteTime": {
     "end_time": "2019-04-17T14:49:10.879420Z",
     "start_time": "2019-04-17T14:49:10.875756Z"
    }
   },
   "outputs": [],
   "source": [
    "def shortestPath(graph, start, end, toPrint=False):\n",
    "    return DFS(graph, start, end, [], None, toPrint)"
   ]
  },
  {
   "cell_type": "code",
   "execution_count": 101,
   "metadata": {
    "ExecuteTime": {
     "end_time": "2019-04-17T14:49:11.422683Z",
     "start_time": "2019-04-17T14:49:11.413546Z"
    }
   },
   "outputs": [
    {
     "name": "stdout",
     "output_type": "stream",
     "text": [
      "Current DFS path: Boston\n",
      "Current DFS path: Boston->Providence\n",
      "Already visited Boston\n",
      "Current DFS path: Boston->Providence->New York\n",
      "Current DFS path: Boston->Providence->New York->Chicago\n",
      "Current DFS path: Boston->New York\n",
      "Current DFS path: Boston->New York->Chicago\n",
      "Shortest path from Boston to Chicago is Boston->New York->Chicago\n"
     ]
    }
   ],
   "source": [
    "def testSP(source, destination):\n",
    "    g = buildCityGraph(DiGraph)\n",
    "    sp = shortestPath(g, g.getNode(source), g.getNode(destination),\n",
    "                     toPrint=True)\n",
    "    if sp != None:\n",
    "        print('Shortest path from', source, 'to', destination, 'is', printPath(sp))\n",
    "    else:\n",
    "        print('There is no path from', source, 'to', destination)\n",
    "        \n",
    "testSP('Boston', 'Chicago')"
   ]
  },
  {
   "cell_type": "code",
   "execution_count": 105,
   "metadata": {
    "ExecuteTime": {
     "end_time": "2019-04-17T15:04:50.766031Z",
     "start_time": "2019-04-17T15:04:50.758956Z"
    }
   },
   "outputs": [],
   "source": [
    "printQueue = True\n",
    "\n",
    "def BFS(graph, start, end, toPrint = False):\n",
    "    \"\"\"Assumes graph is a Digraph; start and end are nodes\n",
    "       Returns a shortest path from start to end in graph\"\"\"\n",
    "    initPath = [start]\n",
    "    pathQueue = [initPath]\n",
    "    while len(pathQueue) != 0:\n",
    "        #Get and remove oldest element in pathQueue\n",
    "        if printQueue:\n",
    "            print('Queue:', len(pathQueue))\n",
    "            for p in pathQueue:\n",
    "                print(printPath(p))\n",
    "        tmpPath = pathQueue.pop(0)\n",
    "        if toPrint:\n",
    "            print('Current BFS path:', printPath(tmpPath))\n",
    "            print()\n",
    "        lastNode = tmpPath[-1]\n",
    "        if lastNode == end:\n",
    "            return tmpPath\n",
    "        for nextNode in graph.childrenOf(lastNode):\n",
    "            if nextNode not in tmpPath:\n",
    "                newPath = tmpPath + [nextNode]\n",
    "                pathQueue.append(newPath)\n",
    "    return None"
   ]
  },
  {
   "cell_type": "code",
   "execution_count": 106,
   "metadata": {
    "ExecuteTime": {
     "end_time": "2019-04-17T15:04:51.098533Z",
     "start_time": "2019-04-17T15:04:51.095209Z"
    }
   },
   "outputs": [],
   "source": [
    "def shortestPath(graph, start, end, toPrint = False):\n",
    "    \"\"\"Assumes graph is a Digraph; start and end are nodes\n",
    "       Returns a shortest path from start to end in graph\"\"\"\n",
    "    return BFS(graph, start, end, toPrint)"
   ]
  },
  {
   "cell_type": "code",
   "execution_count": 107,
   "metadata": {
    "ExecuteTime": {
     "end_time": "2019-04-17T15:04:51.431995Z",
     "start_time": "2019-04-17T15:04:51.420158Z"
    }
   },
   "outputs": [
    {
     "name": "stdout",
     "output_type": "stream",
     "text": [
      "Queue: 1\n",
      "Boston\n",
      "Current BFS path: Boston\n",
      "\n",
      "Queue: 2\n",
      "Boston->Providence\n",
      "Boston->New York\n",
      "Current BFS path: Boston->Providence\n",
      "\n",
      "Queue: 2\n",
      "Boston->New York\n",
      "Boston->Providence->New York\n",
      "Current BFS path: Boston->New York\n",
      "\n",
      "Queue: 2\n",
      "Boston->Providence->New York\n",
      "Boston->New York->Chicago\n",
      "Current BFS path: Boston->Providence->New York\n",
      "\n",
      "Queue: 2\n",
      "Boston->New York->Chicago\n",
      "Boston->Providence->New York->Chicago\n",
      "Current BFS path: Boston->New York->Chicago\n",
      "\n",
      "Queue: 3\n",
      "Boston->Providence->New York->Chicago\n",
      "Boston->New York->Chicago->Denver\n",
      "Boston->New York->Chicago->Phoenix\n",
      "Current BFS path: Boston->Providence->New York->Chicago\n",
      "\n",
      "Queue: 4\n",
      "Boston->New York->Chicago->Denver\n",
      "Boston->New York->Chicago->Phoenix\n",
      "Boston->Providence->New York->Chicago->Denver\n",
      "Boston->Providence->New York->Chicago->Phoenix\n",
      "Current BFS path: Boston->New York->Chicago->Denver\n",
      "\n",
      "Queue: 4\n",
      "Boston->New York->Chicago->Phoenix\n",
      "Boston->Providence->New York->Chicago->Denver\n",
      "Boston->Providence->New York->Chicago->Phoenix\n",
      "Boston->New York->Chicago->Denver->Phoenix\n",
      "Current BFS path: Boston->New York->Chicago->Phoenix\n",
      "\n",
      "Shortest path from Boston to Phoenix is Boston->New York->Chicago->Phoenix\n"
     ]
    }
   ],
   "source": [
    "testSP('Boston', 'Phoenix')"
   ]
  },
  {
   "cell_type": "markdown",
   "metadata": {},
   "source": [
    "---\n",
    "\n",
    "## Stochastic Thinking\n",
    "\n",
    "#### Important Take-aways\n",
    "\n",
    "1. There is no such thing as absolutely random (random number generators are pseudo-random)\n",
    "2. Takes a lot of simulations to get a realistic estimate\n",
    "3. Estimate is an \"approximation\" not the actual\n",
    "\n",
    "\n",
    "#### Simulation v. Optimization Models\n",
    "\n",
    "Simulation models are *descriptive*, approximation to reality, doesn't tell how to make something happen only tells you an approximation of what it expects to happen\n",
    "\n",
    "Optimization models are *prescriptive*"
   ]
  },
  {
   "cell_type": "markdown",
   "metadata": {},
   "source": [
    "#### Dice Roll Simulation"
   ]
  },
  {
   "cell_type": "code",
   "execution_count": 111,
   "metadata": {
    "ExecuteTime": {
     "end_time": "2019-04-17T15:33:35.395366Z",
     "start_time": "2019-04-17T15:33:35.390856Z"
    }
   },
   "outputs": [],
   "source": [
    "import random\n",
    "\n",
    "def rollDie():\n",
    "    return random.choice([1,2,3,4,5,6])\n",
    "\n",
    "def testRoll(n=10):\n",
    "    result = ''\n",
    "    for i in range(n):\n",
    "        result = result + \" \" + str(rollDie())\n",
    "    print(result)"
   ]
  },
  {
   "cell_type": "code",
   "execution_count": 112,
   "metadata": {
    "ExecuteTime": {
     "end_time": "2019-04-17T15:33:36.045205Z",
     "start_time": "2019-04-17T15:33:36.041848Z"
    }
   },
   "outputs": [
    {
     "name": "stdout",
     "output_type": "stream",
     "text": [
      " 3 6 2 2 4 1 6 4 4 3\n"
     ]
    }
   ],
   "source": [
    "testRoll()"
   ]
  },
  {
   "cell_type": "code",
   "execution_count": 115,
   "metadata": {
    "ExecuteTime": {
     "end_time": "2019-04-17T15:47:52.693224Z",
     "start_time": "2019-04-17T15:47:52.687530Z"
    }
   },
   "outputs": [],
   "source": [
    "def runSim(goal, numTrials, txt):\n",
    "    total = 0\n",
    "    for i in range(numTrials):\n",
    "        result = ''\n",
    "        for j in range(len(goal)):\n",
    "            result += str(rollDie())\n",
    "        if result == goal:\n",
    "            total += 1\n",
    "#     print(total)\n",
    "    print('Actual probability of', txt, '=', round(1/(6**len(goal)), 8))\n",
    "    estProbability = round(total/numTrials, 8)\n",
    "    print('Estimated Probability of', txt, '=', round(estProbability, 8))"
   ]
  },
  {
   "cell_type": "code",
   "execution_count": 118,
   "metadata": {
    "ExecuteTime": {
     "end_time": "2019-04-17T15:55:16.089037Z",
     "start_time": "2019-04-17T15:55:16.002134Z"
    }
   },
   "outputs": [
    {
     "name": "stdout",
     "output_type": "stream",
     "text": [
      "2\n",
      "Actual probability of 11111 = 0.0001286\n",
      "Estimated Probability of 11111 = 0.0002\n"
     ]
    }
   ],
   "source": [
    "random.seed(0)\n",
    "runSim('11111', 10000, '11111')"
   ]
  },
  {
   "cell_type": "markdown",
   "metadata": {},
   "source": [
    " #### Birthday Simulation"
   ]
  },
  {
   "cell_type": "code",
   "execution_count": 126,
   "metadata": {
    "ExecuteTime": {
     "end_time": "2019-04-17T16:33:11.378573Z",
     "start_time": "2019-04-17T16:33:11.375060Z"
    }
   },
   "outputs": [],
   "source": [
    "def sameDate(numPeople, numSame):\n",
    "    possibleDates = range(366)\n",
    "    birthdays = np.zeros(366)\n",
    "    for p in range(numPeople):\n",
    "        birthDate = random.choice(possibleDates)\n",
    "        birthdays[birthDate] += 1\n",
    "    return max(birthdays) >= numSame"
   ]
  },
  {
   "cell_type": "code",
   "execution_count": 127,
   "metadata": {
    "ExecuteTime": {
     "end_time": "2019-04-17T16:33:12.461366Z",
     "start_time": "2019-04-17T16:33:12.457765Z"
    }
   },
   "outputs": [],
   "source": [
    "def birthdayProb(numPeople, numSame, numTrials):\n",
    "    numHits = 0\n",
    "    for t in range(numTrials):\n",
    "        if sameDate(numPeople, numSame):\n",
    "            numHits += 1\n",
    "    return numHits/numTrials"
   ]
  },
  {
   "cell_type": "code",
   "execution_count": 128,
   "metadata": {
    "ExecuteTime": {
     "end_time": "2019-04-17T16:33:16.146904Z",
     "start_time": "2019-04-17T16:33:12.769424Z"
    }
   },
   "outputs": [
    {
     "name": "stdout",
     "output_type": "stream",
     "text": [
      "For 10 est. prob. of a shared birthday is 0.1184\n",
      "Actual prob for N = 100 = 0.1166454118039999\n",
      "For 20 est. prob. of a shared birthday is 0.4158\n",
      "Actual prob for N = 100 = 0.4105696370550831\n",
      "For 40 est. prob. of a shared birthday is 0.894\n",
      "Actual prob for N = 100 = 0.89054476188945\n",
      "For 100 est. prob. of a shared birthday is 1.0\n",
      "Actual prob for N = 100 = 0.9999996784357714\n"
     ]
    }
   ],
   "source": [
    "import math\n",
    "\n",
    "for numPeople in [10, 20, 40, 100]:\n",
    "    print('For', numPeople, 'est. prob. of a shared birthday is',\\\n",
    "         birthdayProb(numPeople, 2, 10000))\n",
    "    numerator = math.factorial(366)\n",
    "    denom = (366**numPeople)*math.factorial(366-numPeople)\n",
    "    print('Actual prob for N = 100 =', 1-numerator/denom)"
   ]
  },
  {
   "cell_type": "markdown",
   "metadata": {},
   "source": [
    "### Random Walks"
   ]
  },
  {
   "cell_type": "code",
   "execution_count": 1,
   "metadata": {
    "ExecuteTime": {
     "end_time": "2019-04-18T15:18:50.956620Z",
     "start_time": "2019-04-18T15:18:50.944964Z"
    }
   },
   "outputs": [],
   "source": [
    "class Location(object):\n",
    "    def __init__(self, x, y):\n",
    "        self.x = x\n",
    "        self.y = y\n",
    "        \n",
    "    def move(self, deltaX, deltaY):\n",
    "        return Location(self.x + deltaX,\n",
    "                       self.y + deltaY)\n",
    "    \n",
    "    def getX(self):\n",
    "        return self.x\n",
    "    \n",
    "    def getY(self):\n",
    "        return self.y\n",
    "    \n",
    "    def distFrom(self, other):\n",
    "        xDist = self.x - other.getX()\n",
    "        yDist = self.y - other.getY()\n",
    "        return (xDist**2 + yDist**2)**0.5\n",
    "    \n",
    "    def __str__(self):\n",
    "        return '<' + str(self.x) + ', ' +\\\n",
    "                str(self.y) + '>'"
   ]
  },
  {
   "cell_type": "code",
   "execution_count": 5,
   "metadata": {
    "ExecuteTime": {
     "end_time": "2019-04-18T15:26:11.030857Z",
     "start_time": "2019-04-18T15:26:11.026326Z"
    }
   },
   "outputs": [],
   "source": [
    "class Drunk(object):\n",
    "    def __init__(self, name=None):\n",
    "        self.name = name\n",
    "        \n",
    "    def __str__(self):\n",
    "        if self != None:\n",
    "            return self.name + '!'\n",
    "        else:\n",
    "            return 'Anonymous'\n",
    "    "
   ]
  },
  {
   "cell_type": "code",
   "execution_count": 7,
   "metadata": {
    "ExecuteTime": {
     "end_time": "2019-04-18T15:49:21.208106Z",
     "start_time": "2019-04-18T15:49:21.202761Z"
    }
   },
   "outputs": [],
   "source": [
    "import random\n",
    "\n",
    "class UsualDrunk(Drunk):\n",
    "    def takeStep(self):\n",
    "        stepChoices = [(0,1),(0,-1),(1,0),(-1,0)]\n",
    "        return random.choice(stepChoices)\n",
    "    \n",
    "class MasochistDrunk(Drunk):\n",
    "    def takeStep(self):\n",
    "        stepChoices = [(0.0, 1.1), (0.0, -0.9),\n",
    "                       (1.0, 0.0), (-1.0, 0.0)]\n",
    "        return random.choice(stepChoices)"
   ]
  },
  {
   "cell_type": "code",
   "execution_count": 13,
   "metadata": {
    "ExecuteTime": {
     "end_time": "2019-04-18T16:22:51.188599Z",
     "start_time": "2019-04-18T16:22:51.182002Z"
    }
   },
   "outputs": [],
   "source": [
    "class Field(object):\n",
    "    def __init__(self):\n",
    "        self.drunks = {}\n",
    "        \n",
    "    def addDrunk(self, drunk, loc):\n",
    "        if drunk in self.drunks:\n",
    "            raise ValueError('Duplicate drunk')\n",
    "        else:\n",
    "            self.drunks[drunk] = loc\n",
    "            \n",
    "    def moveDrunk(self, drunk):\n",
    "        if drunk not in self.drunks:\n",
    "            raise ValueError('Drunk not in field')\n",
    "        xDist, yDist = drunk.takeStep()\n",
    "        #use move method of Location to get new location\n",
    "        self.drunks[drunk] =\\\n",
    "            self.drunks[drunk].move(xDist, yDist)\n",
    "        \n",
    "    def getLoc(self, drunk):\n",
    "        if drunk not in self.drunks:\n",
    "            raise ValueError('Drunk not in field')\n",
    "        return self.drunks[drunk]"
   ]
  },
  {
   "cell_type": "code",
   "execution_count": 9,
   "metadata": {
    "ExecuteTime": {
     "end_time": "2019-04-18T15:56:19.690082Z",
     "start_time": "2019-04-18T15:56:19.686003Z"
    }
   },
   "outputs": [],
   "source": [
    "def moveDrunk(self, drunk):\n",
    "    if drunk not in self.drunks:\n",
    "        raise ValueError('Drunk not in field')\n",
    "    xDist, yDist = drunk.takeStep()\n",
    "    # use move method of location to get new location\n",
    "    self.drunks[drunk] = self.drunks[drunk].move(xDist, yDist)"
   ]
  },
  {
   "cell_type": "code",
   "execution_count": 10,
   "metadata": {
    "ExecuteTime": {
     "end_time": "2019-04-18T15:59:46.827877Z",
     "start_time": "2019-04-18T15:59:46.824078Z"
    }
   },
   "outputs": [],
   "source": [
    "def walk(f, d, numSteps):\n",
    "    \"\"\"\n",
    "    Assumes: f a Field, d a Drunk in f, & numSteps an int >= 0\n",
    "    Moves d numSteps times; returns the distance between the final\n",
    "    locaiton & the location at the start of the walk\n",
    "    \"\"\"\n",
    "    start = f.getLoc(d)\n",
    "    for s in range(numSteps):\n",
    "        f.moveDrunk(d)\n",
    "    return start.distFrom(f.getLoc(d))"
   ]
  },
  {
   "cell_type": "code",
   "execution_count": 15,
   "metadata": {
    "ExecuteTime": {
     "end_time": "2019-04-18T16:24:39.389718Z",
     "start_time": "2019-04-18T16:24:39.385072Z"
    }
   },
   "outputs": [],
   "source": [
    "def simWalks(numSteps, numTrials, dClass):\n",
    "    \"\"\"Assumes numSteps an int >= 0, numTrials an int > 0,\n",
    "         dClass a subclass of Drunk\n",
    "       Simulates numTrials walks of numSteps steps each.\n",
    "       Returns a list of the final distances for each trial\"\"\"\n",
    "    Homer = dClass('Homer')\n",
    "    origin = Location(0, 0)\n",
    "    distances = []\n",
    "    for t in range(numTrials):\n",
    "        f = Field()\n",
    "        f.addDrunk(Homer, origin)\n",
    "        distances.append(round(walk(f, Homer,\n",
    "                                    numSteps), 1))\n",
    "    return distances"
   ]
  },
  {
   "cell_type": "code",
   "execution_count": 17,
   "metadata": {
    "ExecuteTime": {
     "end_time": "2019-04-18T16:24:58.632780Z",
     "start_time": "2019-04-18T16:24:56.679411Z"
    }
   },
   "outputs": [
    {
     "name": "stdout",
     "output_type": "stream",
     "text": [
      "UsualDrunk random walk of 10 steps\n",
      " Mean = 2.863\n",
      " Max = 7.2 Min = 0.0\n",
      "UsualDrunk random walk of 100 steps\n",
      " Mean = 8.296\n",
      " Max = 21.6 Min = 1.4\n",
      "UsualDrunk random walk of 1000 steps\n",
      " Mean = 27.297\n",
      " Max = 66.3 Min = 4.2\n",
      "UsualDrunk random walk of 10000 steps\n",
      " Mean = 89.241\n",
      " Max = 226.5 Min = 10.0\n"
     ]
    }
   ],
   "source": [
    "def drunkTest(walkLengths, numTrials, dClass):\n",
    "    \"\"\"Assumes walkLengths a sequence of ints >= 0\n",
    "         numTrials an int > 0, dClass a subclass of Drunk\n",
    "       For each number of steps in walkLengths, runs simWalks with\n",
    "         numTrials walks and prints results\"\"\"\n",
    "    for numSteps in walkLengths:\n",
    "        distances = simWalks(numSteps, numTrials, dClass)\n",
    "        print(dClass.__name__, 'random walk of', numSteps, 'steps')\n",
    "        print(' Mean =', round(sum(distances)/len(distances), 4))\n",
    "        print(' Max =', max(distances), 'Min =', min(distances))\n",
    "        \n",
    "random.seed(0)\n",
    "drunkTest((10, 100, 1000, 10000), 100, UsualDrunk)\n",
    "def simAll(drunkKinds, walkLengths, numTrials):\n",
    "    for dClass in drunkKinds:\n",
    "        drunkTest(walkLengths, numTrials, dClass)"
   ]
  },
  {
   "cell_type": "markdown",
   "metadata": {},
   "source": [
    "### Monte Carlo Simulation\n",
    "\n",
    "**MC** a method of estimating the value of an unknown quantity using the principles of inferential statistics\n",
    "\n",
    "#### Inferential Statistics\n",
    "\n",
    "A Random Sample tends to exhibit the same properites as the population from which it is drawn\n",
    "\n",
    "- Population: a set of samples\n",
    "- Sample: a proper subset of the population"
   ]
  },
  {
   "cell_type": "code",
   "execution_count": null,
   "metadata": {},
   "outputs": [],
   "source": []
  }
 ],
 "metadata": {
  "hide_code_all_hidden": false,
  "kernelspec": {
   "display_name": "Python 3",
   "language": "python",
   "name": "python3"
  },
  "language_info": {
   "codemirror_mode": {
    "name": "ipython",
    "version": 3
   },
   "file_extension": ".py",
   "mimetype": "text/x-python",
   "name": "python",
   "nbconvert_exporter": "python",
   "pygments_lexer": "ipython3",
   "version": "3.7.2"
  }
 },
 "nbformat": 4,
 "nbformat_minor": 2
}
